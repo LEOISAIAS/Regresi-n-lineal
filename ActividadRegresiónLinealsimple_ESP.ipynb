{
  "nbformat": 4,
  "nbformat_minor": 0,
  "metadata": {
    "colab": {
      "provenance": [],
      "include_colab_link": true
    },
    "kernelspec": {
      "name": "python3",
      "display_name": "Python 3"
    },
    "language_info": {
      "name": "python"
    }
  },
  "cells": [
    {
      "cell_type": "markdown",
      "metadata": {
        "id": "view-in-github",
        "colab_type": "text"
      },
      "source": [
        "<a href=\"https://colab.research.google.com/github/LEOISAIAS/Regresi-n-lineal/blob/main/ActividadRegresi%C3%B3nLinealsimple_ESP.ipynb\" target=\"_parent\"><img src=\"https://colab.research.google.com/assets/colab-badge.svg\" alt=\"Open In Colab\"/></a>"
      ]
    },
    {
      "cell_type": "markdown",
      "source": [
        "# Actividad 6.1 \n",
        "\n",
        "## **Regresión Lineal Simple**\n",
        "\n",
        "# Leonardo Isaías Guevara Pioquinto\n",
        "\n",
        "# A01275327"
      ],
      "metadata": {
        "id": "wHysOADKzr3U"
      }
    },
    {
      "cell_type": "markdown",
      "source": [
        "# ESPAÑA"
      ],
      "metadata": {
        "id": "26U7K9om0s2C"
      }
    },
    {
      "cell_type": "code",
      "execution_count": null,
      "metadata": {
        "id": "GrstccILE1HC"
      },
      "outputs": [],
      "source": [
        "import pandas as pd\n",
        "import numpy as np\n",
        "import matplotlib.pyplot as plt\n",
        "import seaborn as sns"
      ]
    },
    {
      "cell_type": "code",
      "source": [
        "df= pd.read_excel(\"Datos_limpios_ESP.xlsx\")\n",
        "df"
      ],
      "metadata": {
        "id": "WPG-LR6YE8wA",
        "colab": {
          "base_uri": "https://localhost:8080/",
          "height": 956
        },
        "outputId": "947396a1-d91a-439a-aed2-5dbaa9b4f5a7"
      },
      "execution_count": null,
      "outputs": [
        {
          "output_type": "execute_result",
          "data": {
            "text/plain": [
              "      Unnamed: 0                  id  \\\n",
              "0              0               14551   \n",
              "1              1             1205757   \n",
              "2              2             1212820   \n",
              "3              3              751638   \n",
              "4              4               41342   \n",
              "...          ...                 ...   \n",
              "19651      19650  858387000000000000   \n",
              "19652      19651  858396000000000000   \n",
              "19653      19652  858411000000000000   \n",
              "19654      19653  858418000000000000   \n",
              "19655      19654  858424000000000000   \n",
              "\n",
              "                                           listing_url       scrape_id  \\\n",
              "0                   https://www.airbnb.com/rooms/14551  20230300000000   \n",
              "1                 https://www.airbnb.com/rooms/1205757  20230300000000   \n",
              "2                 https://www.airbnb.com/rooms/1212820  20230300000000   \n",
              "3                  https://www.airbnb.com/rooms/751638  20230300000000   \n",
              "4                   https://www.airbnb.com/rooms/41342  20230300000000   \n",
              "...                                                ...             ...   \n",
              "19651  https://www.airbnb.com/rooms/858386613168601750  20230300000000   \n",
              "19652  https://www.airbnb.com/rooms/858396134121337855  20230300000000   \n",
              "19653  https://www.airbnb.com/rooms/858410917126332945  20230300000000   \n",
              "19654  https://www.airbnb.com/rooms/858418062773719271  20230300000000   \n",
              "19655  https://www.airbnb.com/rooms/858424461046143986  20230300000000   \n",
              "\n",
              "              last_scraped           source  \\\n",
              "0               31/03/2023      city scrape   \n",
              "1               31/03/2023      city scrape   \n",
              "2      2023-01-04 00:00:00      city scrape   \n",
              "3               31/03/2023      city scrape   \n",
              "4      2023-01-04 00:00:00  previous scrape   \n",
              "...                    ...              ...   \n",
              "19651  2023-01-04 00:00:00      city scrape   \n",
              "19652  2023-01-04 00:00:00      city scrape   \n",
              "19653  2023-01-04 00:00:00      city scrape   \n",
              "19654  2023-01-04 00:00:00      city scrape   \n",
              "19655  2023-01-04 00:00:00      city scrape   \n",
              "\n",
              "                                           name  \\\n",
              "0      Cozy & Colorful by Nature (Private Room)   \n",
              "1       HabitaciÃƒÂ³n doble + baÃƒÂ±o y terraza   \n",
              "2           Apartment port de rei stunning wiew   \n",
              "3         Room Limon - Casa Pati de lÃ‚Â´Albera   \n",
              "4             Beachfront Tamariua (Costa Brava)   \n",
              "...                                         ...   \n",
              "19651      Casa La Chumbera, Begur, Costa Brava   \n",
              "19652                         Playa a 2 minutos   \n",
              "19653                   Apartamento cÃƒÂ©ntrico   \n",
              "19654    Apto a 5 min de la playa, Platja d'Aro   \n",
              "19655                 Apartamento frontal a mar   \n",
              "\n",
              "                                             description  \\\n",
              "0      Up in the hill of MontjuÃƒÂ¯c (a mountain over...   \n",
              "1      <b>The space</b><br />HabitaciÃƒÂ³n confortabl...   \n",
              "2      <b>The space</b><br />Apartments first line un...   \n",
              "3      <b>The space</b><br />Nice room with 2 individ...   \n",
              "4      A little paradise by the sea. Apartment 2/4 ad...   \n",
              "...                                                  ...   \n",
              "19651  Individual house located at the urbanization '...   \n",
              "19652  MagnÃƒÂ­fico piso para pasar vacaciones,dispon...   \n",
              "19653  EstÃƒÂ¡ compuesto de dos habitaciones, una de ...   \n",
              "19654  Cozy apartment for 4 people. Perfect to spend ...   \n",
              "19655  EstÃƒÂ¡ compuesto de tres habitaciones, dos ha...   \n",
              "\n",
              "                                   neighborhood_overview  \\\n",
              "0      MontjuÃƒÂ¯c is most likely the best neighborho...   \n",
              "1      Bonitas playas a 15 minutos en coche. Piscina ...   \n",
              "2                                                      0   \n",
              "3      Sant Climent is a tiny village, with a populat...   \n",
              "4      Apartment located outside the town on a small ...   \n",
              "...                                                  ...   \n",
              "19651                                                  0   \n",
              "19652                                                  0   \n",
              "19653                                                  0   \n",
              "19654                                                  0   \n",
              "19655                                                  0   \n",
              "\n",
              "                                             picture_url  ...  \\\n",
              "0      https://a0.muscache.com/pictures/16209908/f1fe...  ...   \n",
              "1      https://a0.muscache.com/pictures/02e0a61e-078e...  ...   \n",
              "2      https://a0.muscache.com/pictures/18245529/0886...  ...   \n",
              "3      https://a0.muscache.com/pictures/64276178/98d1...  ...   \n",
              "4      https://a0.muscache.com/pictures/70414801/59d4...  ...   \n",
              "...                                                  ...  ...   \n",
              "19651  https://a0.muscache.com/pictures/prohost-api/H...  ...   \n",
              "19652  https://a0.muscache.com/pictures/6351279f-294b...  ...   \n",
              "19653  https://a0.muscache.com/pictures/miso/Hosting-...  ...   \n",
              "19654  https://a0.muscache.com/pictures/prohost-api/H...  ...   \n",
              "19655  https://a0.muscache.com/pictures/miso/Hosting-...  ...   \n",
              "\n",
              "      review_scores_communication review_scores_location review_scores_value  \\\n",
              "0                            4.91                   4.63                4.74   \n",
              "1                            4.91                   4.69                4.80   \n",
              "2                            4.76                   4.74                4.32   \n",
              "3                            5.00                   4.63                4.50   \n",
              "4                            4.73                   4.91                4.36   \n",
              "...                           ...                    ...                 ...   \n",
              "19651                        0.00                   0.00                0.00   \n",
              "19652                        0.00                   0.00                0.00   \n",
              "19653                        0.00                   0.00                0.00   \n",
              "19654                        0.00                   0.00                0.00   \n",
              "19655                        0.00                   0.00                0.00   \n",
              "\n",
              "           license instant_bookable calculated_host_listings_count  \\\n",
              "0      HUTG-049542                f                            1.0   \n",
              "1                0                f                            1.0   \n",
              "2                0                f                            2.0   \n",
              "3         PG000794                t                            6.0   \n",
              "4      HUTG-003688                f                            1.0   \n",
              "...            ...              ...                            ...   \n",
              "19651  HUTG-001292                t                           34.0   \n",
              "19652   HUTG019727                t                            1.0   \n",
              "19653  HUTG-057830                f                            9.0   \n",
              "19654  HUTG-065236                t                           54.0   \n",
              "19655  HUTG-051787                f                            9.0   \n",
              "\n",
              "      calculated_host_listings_count_entire_homes  \\\n",
              "0                                             0.0   \n",
              "1                                             0.0   \n",
              "2                                             2.0   \n",
              "3                                             1.0   \n",
              "4                                             1.0   \n",
              "...                                           ...   \n",
              "19651                                        34.0   \n",
              "19652                                         1.0   \n",
              "19653                                         9.0   \n",
              "19654                                        54.0   \n",
              "19655                                         9.0   \n",
              "\n",
              "      calculated_host_listings_count_private_rooms  \\\n",
              "0                                              1.0   \n",
              "1                                              1.0   \n",
              "2                                              0.0   \n",
              "3                                              5.0   \n",
              "4                                              0.0   \n",
              "...                                            ...   \n",
              "19651                                          0.0   \n",
              "19652                                          0.0   \n",
              "19653                                          0.0   \n",
              "19654                                          0.0   \n",
              "19655                                          0.0   \n",
              "\n",
              "      calculated_host_listings_count_shared_rooms reviews_per_month  \n",
              "0                                             0.0              0.37  \n",
              "1                                             0.0              0.51  \n",
              "2                                             0.0              0.62  \n",
              "3                                             0.0              0.08  \n",
              "4                                             0.0              0.09  \n",
              "...                                           ...               ...  \n",
              "19651                                         0.0              0.00  \n",
              "19652                                         0.0              0.00  \n",
              "19653                                         0.0              0.00  \n",
              "19654                                         0.0              0.00  \n",
              "19655                                         0.0              0.00  \n",
              "\n",
              "[19656 rows x 73 columns]"
            ],
            "text/html": [
              "\n",
              "  <div id=\"df-9daafb37-79e4-42ad-8c7a-967b285e1797\">\n",
              "    <div class=\"colab-df-container\">\n",
              "      <div>\n",
              "<style scoped>\n",
              "    .dataframe tbody tr th:only-of-type {\n",
              "        vertical-align: middle;\n",
              "    }\n",
              "\n",
              "    .dataframe tbody tr th {\n",
              "        vertical-align: top;\n",
              "    }\n",
              "\n",
              "    .dataframe thead th {\n",
              "        text-align: right;\n",
              "    }\n",
              "</style>\n",
              "<table border=\"1\" class=\"dataframe\">\n",
              "  <thead>\n",
              "    <tr style=\"text-align: right;\">\n",
              "      <th></th>\n",
              "      <th>Unnamed: 0</th>\n",
              "      <th>id</th>\n",
              "      <th>listing_url</th>\n",
              "      <th>scrape_id</th>\n",
              "      <th>last_scraped</th>\n",
              "      <th>source</th>\n",
              "      <th>name</th>\n",
              "      <th>description</th>\n",
              "      <th>neighborhood_overview</th>\n",
              "      <th>picture_url</th>\n",
              "      <th>...</th>\n",
              "      <th>review_scores_communication</th>\n",
              "      <th>review_scores_location</th>\n",
              "      <th>review_scores_value</th>\n",
              "      <th>license</th>\n",
              "      <th>instant_bookable</th>\n",
              "      <th>calculated_host_listings_count</th>\n",
              "      <th>calculated_host_listings_count_entire_homes</th>\n",
              "      <th>calculated_host_listings_count_private_rooms</th>\n",
              "      <th>calculated_host_listings_count_shared_rooms</th>\n",
              "      <th>reviews_per_month</th>\n",
              "    </tr>\n",
              "  </thead>\n",
              "  <tbody>\n",
              "    <tr>\n",
              "      <th>0</th>\n",
              "      <td>0</td>\n",
              "      <td>14551</td>\n",
              "      <td>https://www.airbnb.com/rooms/14551</td>\n",
              "      <td>20230300000000</td>\n",
              "      <td>31/03/2023</td>\n",
              "      <td>city scrape</td>\n",
              "      <td>Cozy &amp; Colorful by Nature (Private Room)</td>\n",
              "      <td>Up in the hill of MontjuÃƒÂ¯c (a mountain over...</td>\n",
              "      <td>MontjuÃƒÂ¯c is most likely the best neighborho...</td>\n",
              "      <td>https://a0.muscache.com/pictures/16209908/f1fe...</td>\n",
              "      <td>...</td>\n",
              "      <td>4.91</td>\n",
              "      <td>4.63</td>\n",
              "      <td>4.74</td>\n",
              "      <td>HUTG-049542</td>\n",
              "      <td>f</td>\n",
              "      <td>1.0</td>\n",
              "      <td>0.0</td>\n",
              "      <td>1.0</td>\n",
              "      <td>0.0</td>\n",
              "      <td>0.37</td>\n",
              "    </tr>\n",
              "    <tr>\n",
              "      <th>1</th>\n",
              "      <td>1</td>\n",
              "      <td>1205757</td>\n",
              "      <td>https://www.airbnb.com/rooms/1205757</td>\n",
              "      <td>20230300000000</td>\n",
              "      <td>31/03/2023</td>\n",
              "      <td>city scrape</td>\n",
              "      <td>HabitaciÃƒÂ³n doble + baÃƒÂ±o y terraza</td>\n",
              "      <td>&lt;b&gt;The space&lt;/b&gt;&lt;br /&gt;HabitaciÃƒÂ³n confortabl...</td>\n",
              "      <td>Bonitas playas a 15 minutos en coche. Piscina ...</td>\n",
              "      <td>https://a0.muscache.com/pictures/02e0a61e-078e...</td>\n",
              "      <td>...</td>\n",
              "      <td>4.91</td>\n",
              "      <td>4.69</td>\n",
              "      <td>4.80</td>\n",
              "      <td>0</td>\n",
              "      <td>f</td>\n",
              "      <td>1.0</td>\n",
              "      <td>0.0</td>\n",
              "      <td>1.0</td>\n",
              "      <td>0.0</td>\n",
              "      <td>0.51</td>\n",
              "    </tr>\n",
              "    <tr>\n",
              "      <th>2</th>\n",
              "      <td>2</td>\n",
              "      <td>1212820</td>\n",
              "      <td>https://www.airbnb.com/rooms/1212820</td>\n",
              "      <td>20230300000000</td>\n",
              "      <td>2023-01-04 00:00:00</td>\n",
              "      <td>city scrape</td>\n",
              "      <td>Apartment port de rei stunning wiew</td>\n",
              "      <td>&lt;b&gt;The space&lt;/b&gt;&lt;br /&gt;Apartments first line un...</td>\n",
              "      <td>0</td>\n",
              "      <td>https://a0.muscache.com/pictures/18245529/0886...</td>\n",
              "      <td>...</td>\n",
              "      <td>4.76</td>\n",
              "      <td>4.74</td>\n",
              "      <td>4.32</td>\n",
              "      <td>0</td>\n",
              "      <td>f</td>\n",
              "      <td>2.0</td>\n",
              "      <td>2.0</td>\n",
              "      <td>0.0</td>\n",
              "      <td>0.0</td>\n",
              "      <td>0.62</td>\n",
              "    </tr>\n",
              "    <tr>\n",
              "      <th>3</th>\n",
              "      <td>3</td>\n",
              "      <td>751638</td>\n",
              "      <td>https://www.airbnb.com/rooms/751638</td>\n",
              "      <td>20230300000000</td>\n",
              "      <td>31/03/2023</td>\n",
              "      <td>city scrape</td>\n",
              "      <td>Room Limon - Casa Pati de lÃ‚Â´Albera</td>\n",
              "      <td>&lt;b&gt;The space&lt;/b&gt;&lt;br /&gt;Nice room with 2 individ...</td>\n",
              "      <td>Sant Climent is a tiny village, with a populat...</td>\n",
              "      <td>https://a0.muscache.com/pictures/64276178/98d1...</td>\n",
              "      <td>...</td>\n",
              "      <td>5.00</td>\n",
              "      <td>4.63</td>\n",
              "      <td>4.50</td>\n",
              "      <td>PG000794</td>\n",
              "      <td>t</td>\n",
              "      <td>6.0</td>\n",
              "      <td>1.0</td>\n",
              "      <td>5.0</td>\n",
              "      <td>0.0</td>\n",
              "      <td>0.08</td>\n",
              "    </tr>\n",
              "    <tr>\n",
              "      <th>4</th>\n",
              "      <td>4</td>\n",
              "      <td>41342</td>\n",
              "      <td>https://www.airbnb.com/rooms/41342</td>\n",
              "      <td>20230300000000</td>\n",
              "      <td>2023-01-04 00:00:00</td>\n",
              "      <td>previous scrape</td>\n",
              "      <td>Beachfront Tamariua (Costa Brava)</td>\n",
              "      <td>A little paradise by the sea. Apartment 2/4 ad...</td>\n",
              "      <td>Apartment located outside the town on a small ...</td>\n",
              "      <td>https://a0.muscache.com/pictures/70414801/59d4...</td>\n",
              "      <td>...</td>\n",
              "      <td>4.73</td>\n",
              "      <td>4.91</td>\n",
              "      <td>4.36</td>\n",
              "      <td>HUTG-003688</td>\n",
              "      <td>f</td>\n",
              "      <td>1.0</td>\n",
              "      <td>1.0</td>\n",
              "      <td>0.0</td>\n",
              "      <td>0.0</td>\n",
              "      <td>0.09</td>\n",
              "    </tr>\n",
              "    <tr>\n",
              "      <th>...</th>\n",
              "      <td>...</td>\n",
              "      <td>...</td>\n",
              "      <td>...</td>\n",
              "      <td>...</td>\n",
              "      <td>...</td>\n",
              "      <td>...</td>\n",
              "      <td>...</td>\n",
              "      <td>...</td>\n",
              "      <td>...</td>\n",
              "      <td>...</td>\n",
              "      <td>...</td>\n",
              "      <td>...</td>\n",
              "      <td>...</td>\n",
              "      <td>...</td>\n",
              "      <td>...</td>\n",
              "      <td>...</td>\n",
              "      <td>...</td>\n",
              "      <td>...</td>\n",
              "      <td>...</td>\n",
              "      <td>...</td>\n",
              "      <td>...</td>\n",
              "    </tr>\n",
              "    <tr>\n",
              "      <th>19651</th>\n",
              "      <td>19650</td>\n",
              "      <td>858387000000000000</td>\n",
              "      <td>https://www.airbnb.com/rooms/858386613168601750</td>\n",
              "      <td>20230300000000</td>\n",
              "      <td>2023-01-04 00:00:00</td>\n",
              "      <td>city scrape</td>\n",
              "      <td>Casa La Chumbera, Begur, Costa Brava</td>\n",
              "      <td>Individual house located at the urbanization '...</td>\n",
              "      <td>0</td>\n",
              "      <td>https://a0.muscache.com/pictures/prohost-api/H...</td>\n",
              "      <td>...</td>\n",
              "      <td>0.00</td>\n",
              "      <td>0.00</td>\n",
              "      <td>0.00</td>\n",
              "      <td>HUTG-001292</td>\n",
              "      <td>t</td>\n",
              "      <td>34.0</td>\n",
              "      <td>34.0</td>\n",
              "      <td>0.0</td>\n",
              "      <td>0.0</td>\n",
              "      <td>0.00</td>\n",
              "    </tr>\n",
              "    <tr>\n",
              "      <th>19652</th>\n",
              "      <td>19651</td>\n",
              "      <td>858396000000000000</td>\n",
              "      <td>https://www.airbnb.com/rooms/858396134121337855</td>\n",
              "      <td>20230300000000</td>\n",
              "      <td>2023-01-04 00:00:00</td>\n",
              "      <td>city scrape</td>\n",
              "      <td>Playa a 2 minutos</td>\n",
              "      <td>MagnÃƒÂ­fico piso para pasar vacaciones,dispon...</td>\n",
              "      <td>0</td>\n",
              "      <td>https://a0.muscache.com/pictures/6351279f-294b...</td>\n",
              "      <td>...</td>\n",
              "      <td>0.00</td>\n",
              "      <td>0.00</td>\n",
              "      <td>0.00</td>\n",
              "      <td>HUTG019727</td>\n",
              "      <td>t</td>\n",
              "      <td>1.0</td>\n",
              "      <td>1.0</td>\n",
              "      <td>0.0</td>\n",
              "      <td>0.0</td>\n",
              "      <td>0.00</td>\n",
              "    </tr>\n",
              "    <tr>\n",
              "      <th>19653</th>\n",
              "      <td>19652</td>\n",
              "      <td>858411000000000000</td>\n",
              "      <td>https://www.airbnb.com/rooms/858410917126332945</td>\n",
              "      <td>20230300000000</td>\n",
              "      <td>2023-01-04 00:00:00</td>\n",
              "      <td>city scrape</td>\n",
              "      <td>Apartamento cÃƒÂ©ntrico</td>\n",
              "      <td>EstÃƒÂ¡ compuesto de dos habitaciones, una de ...</td>\n",
              "      <td>0</td>\n",
              "      <td>https://a0.muscache.com/pictures/miso/Hosting-...</td>\n",
              "      <td>...</td>\n",
              "      <td>0.00</td>\n",
              "      <td>0.00</td>\n",
              "      <td>0.00</td>\n",
              "      <td>HUTG-057830</td>\n",
              "      <td>f</td>\n",
              "      <td>9.0</td>\n",
              "      <td>9.0</td>\n",
              "      <td>0.0</td>\n",
              "      <td>0.0</td>\n",
              "      <td>0.00</td>\n",
              "    </tr>\n",
              "    <tr>\n",
              "      <th>19654</th>\n",
              "      <td>19653</td>\n",
              "      <td>858418000000000000</td>\n",
              "      <td>https://www.airbnb.com/rooms/858418062773719271</td>\n",
              "      <td>20230300000000</td>\n",
              "      <td>2023-01-04 00:00:00</td>\n",
              "      <td>city scrape</td>\n",
              "      <td>Apto a 5 min de la playa, Platja d'Aro</td>\n",
              "      <td>Cozy apartment for 4 people. Perfect to spend ...</td>\n",
              "      <td>0</td>\n",
              "      <td>https://a0.muscache.com/pictures/prohost-api/H...</td>\n",
              "      <td>...</td>\n",
              "      <td>0.00</td>\n",
              "      <td>0.00</td>\n",
              "      <td>0.00</td>\n",
              "      <td>HUTG-065236</td>\n",
              "      <td>t</td>\n",
              "      <td>54.0</td>\n",
              "      <td>54.0</td>\n",
              "      <td>0.0</td>\n",
              "      <td>0.0</td>\n",
              "      <td>0.00</td>\n",
              "    </tr>\n",
              "    <tr>\n",
              "      <th>19655</th>\n",
              "      <td>19654</td>\n",
              "      <td>858424000000000000</td>\n",
              "      <td>https://www.airbnb.com/rooms/858424461046143986</td>\n",
              "      <td>20230300000000</td>\n",
              "      <td>2023-01-04 00:00:00</td>\n",
              "      <td>city scrape</td>\n",
              "      <td>Apartamento frontal a mar</td>\n",
              "      <td>EstÃƒÂ¡ compuesto de tres habitaciones, dos ha...</td>\n",
              "      <td>0</td>\n",
              "      <td>https://a0.muscache.com/pictures/miso/Hosting-...</td>\n",
              "      <td>...</td>\n",
              "      <td>0.00</td>\n",
              "      <td>0.00</td>\n",
              "      <td>0.00</td>\n",
              "      <td>HUTG-051787</td>\n",
              "      <td>f</td>\n",
              "      <td>9.0</td>\n",
              "      <td>9.0</td>\n",
              "      <td>0.0</td>\n",
              "      <td>0.0</td>\n",
              "      <td>0.00</td>\n",
              "    </tr>\n",
              "  </tbody>\n",
              "</table>\n",
              "<p>19656 rows × 73 columns</p>\n",
              "</div>\n",
              "      <button class=\"colab-df-convert\" onclick=\"convertToInteractive('df-9daafb37-79e4-42ad-8c7a-967b285e1797')\"\n",
              "              title=\"Convert this dataframe to an interactive table.\"\n",
              "              style=\"display:none;\">\n",
              "        \n",
              "  <svg xmlns=\"http://www.w3.org/2000/svg\" height=\"24px\"viewBox=\"0 0 24 24\"\n",
              "       width=\"24px\">\n",
              "    <path d=\"M0 0h24v24H0V0z\" fill=\"none\"/>\n",
              "    <path d=\"M18.56 5.44l.94 2.06.94-2.06 2.06-.94-2.06-.94-.94-2.06-.94 2.06-2.06.94zm-11 1L8.5 8.5l.94-2.06 2.06-.94-2.06-.94L8.5 2.5l-.94 2.06-2.06.94zm10 10l.94 2.06.94-2.06 2.06-.94-2.06-.94-.94-2.06-.94 2.06-2.06.94z\"/><path d=\"M17.41 7.96l-1.37-1.37c-.4-.4-.92-.59-1.43-.59-.52 0-1.04.2-1.43.59L10.3 9.45l-7.72 7.72c-.78.78-.78 2.05 0 2.83L4 21.41c.39.39.9.59 1.41.59.51 0 1.02-.2 1.41-.59l7.78-7.78 2.81-2.81c.8-.78.8-2.07 0-2.86zM5.41 20L4 18.59l7.72-7.72 1.47 1.35L5.41 20z\"/>\n",
              "  </svg>\n",
              "      </button>\n",
              "      \n",
              "  <style>\n",
              "    .colab-df-container {\n",
              "      display:flex;\n",
              "      flex-wrap:wrap;\n",
              "      gap: 12px;\n",
              "    }\n",
              "\n",
              "    .colab-df-convert {\n",
              "      background-color: #E8F0FE;\n",
              "      border: none;\n",
              "      border-radius: 50%;\n",
              "      cursor: pointer;\n",
              "      display: none;\n",
              "      fill: #1967D2;\n",
              "      height: 32px;\n",
              "      padding: 0 0 0 0;\n",
              "      width: 32px;\n",
              "    }\n",
              "\n",
              "    .colab-df-convert:hover {\n",
              "      background-color: #E2EBFA;\n",
              "      box-shadow: 0px 1px 2px rgba(60, 64, 67, 0.3), 0px 1px 3px 1px rgba(60, 64, 67, 0.15);\n",
              "      fill: #174EA6;\n",
              "    }\n",
              "\n",
              "    [theme=dark] .colab-df-convert {\n",
              "      background-color: #3B4455;\n",
              "      fill: #D2E3FC;\n",
              "    }\n",
              "\n",
              "    [theme=dark] .colab-df-convert:hover {\n",
              "      background-color: #434B5C;\n",
              "      box-shadow: 0px 1px 3px 1px rgba(0, 0, 0, 0.15);\n",
              "      filter: drop-shadow(0px 1px 2px rgba(0, 0, 0, 0.3));\n",
              "      fill: #FFFFFF;\n",
              "    }\n",
              "  </style>\n",
              "\n",
              "      <script>\n",
              "        const buttonEl =\n",
              "          document.querySelector('#df-9daafb37-79e4-42ad-8c7a-967b285e1797 button.colab-df-convert');\n",
              "        buttonEl.style.display =\n",
              "          google.colab.kernel.accessAllowed ? 'block' : 'none';\n",
              "\n",
              "        async function convertToInteractive(key) {\n",
              "          const element = document.querySelector('#df-9daafb37-79e4-42ad-8c7a-967b285e1797');\n",
              "          const dataTable =\n",
              "            await google.colab.kernel.invokeFunction('convertToInteractive',\n",
              "                                                     [key], {});\n",
              "          if (!dataTable) return;\n",
              "\n",
              "          const docLinkHtml = 'Like what you see? Visit the ' +\n",
              "            '<a target=\"_blank\" href=https://colab.research.google.com/notebooks/data_table.ipynb>data table notebook</a>'\n",
              "            + ' to learn more about interactive tables.';\n",
              "          element.innerHTML = '';\n",
              "          dataTable['output_type'] = 'display_data';\n",
              "          await google.colab.output.renderOutput(dataTable, element);\n",
              "          const docLink = document.createElement('div');\n",
              "          docLink.innerHTML = docLinkHtml;\n",
              "          element.appendChild(docLink);\n",
              "        }\n",
              "      </script>\n",
              "    </div>\n",
              "  </div>\n",
              "  "
            ]
          },
          "metadata": {},
          "execution_count": 19
        }
      ]
    },
    {
      "cell_type": "markdown",
      "source": [
        "# **host_acceptance_rate vs host_response_rate**"
      ],
      "metadata": {
        "id": "7n2mMQto-Pqw"
      }
    },
    {
      "cell_type": "markdown",
      "source": [
        "hotel room"
      ],
      "metadata": {
        "id": "VGFytrp5-R8N"
      }
    },
    {
      "cell_type": "code",
      "source": [
        "filtro1=df[df[\"room_type\"] == \"Hotel room\"]\n",
        "filtro1"
      ],
      "metadata": {
        "colab": {
          "base_uri": "https://localhost:8080/",
          "height": 1000
        },
        "id": "Rq8pco7rz1hb",
        "outputId": "e5b3cf5e-b8b6-481f-8e67-5af0f8ad4879"
      },
      "execution_count": null,
      "outputs": [
        {
          "output_type": "execute_result",
          "data": {
            "text/plain": [
              "      Unnamed: 0        id                            listing_url  \\\n",
              "1223        1223   7027939   https://www.airbnb.com/rooms/7027939   \n",
              "1391        1390   8787562   https://www.airbnb.com/rooms/8787562   \n",
              "1617        1616  11372300  https://www.airbnb.com/rooms/11372300   \n",
              "1830        1829  12614906  https://www.airbnb.com/rooms/12614906   \n",
              "2062        2061  13049755  https://www.airbnb.com/rooms/13049755   \n",
              "2064        2063  13049759  https://www.airbnb.com/rooms/13049759   \n",
              "2336        2335  14003102  https://www.airbnb.com/rooms/14003102   \n",
              "3423        3422  18205547  https://www.airbnb.com/rooms/18205547   \n",
              "3469        3468  17826903  https://www.airbnb.com/rooms/17826903   \n",
              "3838        3837  18588591  https://www.airbnb.com/rooms/18588591   \n",
              "4635        4634  20102231  https://www.airbnb.com/rooms/20102231   \n",
              "4808        4807  21102864  https://www.airbnb.com/rooms/21102864   \n",
              "4809        4808  21102976  https://www.airbnb.com/rooms/21102976   \n",
              "4810        4809  21103015  https://www.airbnb.com/rooms/21103015   \n",
              "5026        5025  21992360  https://www.airbnb.com/rooms/21992360   \n",
              "5378        5377  22711911  https://www.airbnb.com/rooms/22711911   \n",
              "5618        5617  23260879  https://www.airbnb.com/rooms/23260879   \n",
              "5719        5718  23523388  https://www.airbnb.com/rooms/23523388   \n",
              "5831        5830  24032271  https://www.airbnb.com/rooms/24032271   \n",
              "6459        6458  25905258  https://www.airbnb.com/rooms/25905258   \n",
              "6469        6468  25914412  https://www.airbnb.com/rooms/25914412   \n",
              "6471        6470  25914676  https://www.airbnb.com/rooms/25914676   \n",
              "7069        7068  28240905  https://www.airbnb.com/rooms/28240905   \n",
              "7076        7075  28243117  https://www.airbnb.com/rooms/28243117   \n",
              "7081        7080  28243561  https://www.airbnb.com/rooms/28243561   \n",
              "7787        7786  32831240  https://www.airbnb.com/rooms/32831240   \n",
              "7796        7795  32836315  https://www.airbnb.com/rooms/32836315   \n",
              "7811        7810  32851715  https://www.airbnb.com/rooms/32851715   \n",
              "7812        7811  32851840  https://www.airbnb.com/rooms/32851840   \n",
              "7813        7812  32852434  https://www.airbnb.com/rooms/32852434   \n",
              "7835        7834  32996499  https://www.airbnb.com/rooms/32996499   \n",
              "8509        8508  34880404  https://www.airbnb.com/rooms/34880404   \n",
              "8930        8929  35862684  https://www.airbnb.com/rooms/35862684   \n",
              "8937        8936  36564539  https://www.airbnb.com/rooms/36564539   \n",
              "8938        8937  36564985  https://www.airbnb.com/rooms/36564985   \n",
              "9026        9025  35978463  https://www.airbnb.com/rooms/35978463   \n",
              "9356        9355  38683961  https://www.airbnb.com/rooms/38683961   \n",
              "9384        9383  38172155  https://www.airbnb.com/rooms/38172155   \n",
              "9392        9391  38209218  https://www.airbnb.com/rooms/38209218   \n",
              "9395        9394  38683588  https://www.airbnb.com/rooms/38683588   \n",
              "9396        9395  38683616  https://www.airbnb.com/rooms/38683616   \n",
              "9397        9396  38209706  https://www.airbnb.com/rooms/38209706   \n",
              "9398        9397  38683622  https://www.airbnb.com/rooms/38683622   \n",
              "9399        9398  38683630  https://www.airbnb.com/rooms/38683630   \n",
              "9400        9399  38683635  https://www.airbnb.com/rooms/38683635   \n",
              "9405        9404  38683649  https://www.airbnb.com/rooms/38683649   \n",
              "9406        9405  38683893  https://www.airbnb.com/rooms/38683893   \n",
              "9407        9406  38683905  https://www.airbnb.com/rooms/38683905   \n",
              "9408        9407  38683955  https://www.airbnb.com/rooms/38683955   \n",
              "11432      11431  47015570  https://www.airbnb.com/rooms/47015570   \n",
              "\n",
              "            scrape_id         last_scraped           source  \\\n",
              "1223   20230300000000           31/03/2023      city scrape   \n",
              "1391   20230300000000           31/03/2023      city scrape   \n",
              "1617   20230300000000  2023-01-04 00:00:00      city scrape   \n",
              "1830   20230300000000  2023-01-04 00:00:00      city scrape   \n",
              "2062   20230300000000  2023-01-04 00:00:00      city scrape   \n",
              "2064   20230300000000  2023-01-04 00:00:00      city scrape   \n",
              "2336   20230300000000  2023-01-04 00:00:00      city scrape   \n",
              "3423   20230300000000  2023-01-04 00:00:00      city scrape   \n",
              "3469   20230300000000  2023-01-04 00:00:00      city scrape   \n",
              "3838   20230300000000  2023-01-04 00:00:00      city scrape   \n",
              "4635   20230300000000  2023-01-04 00:00:00      city scrape   \n",
              "4808   20230300000000           31/03/2023      city scrape   \n",
              "4809   20230300000000           31/03/2023      city scrape   \n",
              "4810   20230300000000           31/03/2023      city scrape   \n",
              "5026   20230300000000  2023-01-04 00:00:00  previous scrape   \n",
              "5378   20230300000000  2023-01-04 00:00:00  previous scrape   \n",
              "5618   20230300000000  2023-01-04 00:00:00      city scrape   \n",
              "5719   20230300000000  2023-01-04 00:00:00  previous scrape   \n",
              "5831   20230300000000  2023-01-04 00:00:00      city scrape   \n",
              "6459   20230300000000  2023-01-04 00:00:00      city scrape   \n",
              "6469   20230300000000  2023-01-04 00:00:00      city scrape   \n",
              "6471   20230300000000  2023-01-04 00:00:00      city scrape   \n",
              "7069   20230300000000           31/03/2023      city scrape   \n",
              "7076   20230300000000           31/03/2023      city scrape   \n",
              "7081   20230300000000           31/03/2023      city scrape   \n",
              "7787   20230300000000           31/03/2023      city scrape   \n",
              "7796   20230300000000  2023-01-04 00:00:00      city scrape   \n",
              "7811   20230300000000  2023-01-04 00:00:00      city scrape   \n",
              "7812   20230300000000           31/03/2023      city scrape   \n",
              "7813   20230300000000           31/03/2023      city scrape   \n",
              "7835   20230300000000  2023-01-04 00:00:00      city scrape   \n",
              "8509   20230300000000  2023-01-04 00:00:00      city scrape   \n",
              "8930   20230300000000  2023-01-04 00:00:00      city scrape   \n",
              "8937   20230300000000           31/03/2023      city scrape   \n",
              "8938   20230300000000           31/03/2023      city scrape   \n",
              "9026   20230300000000  2023-01-04 00:00:00      city scrape   \n",
              "9356   20230300000000           31/03/2023      city scrape   \n",
              "9384   20230300000000  2023-01-04 00:00:00      city scrape   \n",
              "9392   20230300000000  2023-01-04 00:00:00      city scrape   \n",
              "9395   20230300000000           31/03/2023      city scrape   \n",
              "9396   20230300000000           31/03/2023      city scrape   \n",
              "9397   20230300000000  2023-01-04 00:00:00      city scrape   \n",
              "9398   20230300000000           31/03/2023      city scrape   \n",
              "9399   20230300000000           31/03/2023      city scrape   \n",
              "9400   20230300000000  2023-01-04 00:00:00      city scrape   \n",
              "9405   20230300000000           31/03/2023      city scrape   \n",
              "9406   20230300000000           31/03/2023      city scrape   \n",
              "9407   20230300000000  2023-01-04 00:00:00      city scrape   \n",
              "9408   20230300000000  2023-01-04 00:00:00      city scrape   \n",
              "11432  20230300000000  2023-01-04 00:00:00  previous scrape   \n",
              "\n",
              "                                                    name  \\\n",
              "1223                   K-4 Apartment with views and pool   \n",
              "1391          Lujoso apartamento en primera linea de mar   \n",
              "1617              SR-28 Apartment near to Sa Riera beach   \n",
              "1830                                B-15 Apartment Begur   \n",
              "2062   B-5 Apartment nearby the center with views, Begur   \n",
              "2064    ST-4 Apartment with sea views and pool, Sa Tuna.   \n",
              "2336                              La chambre des secrets   \n",
              "3423        T-2 Apartment with community pool in Tamariu   \n",
              "3469      SR-32 Duplex with sea views in Sa Riera, Begur   \n",
              "3838       BL-1 Duplex apartment in the center with pool   \n",
              "4635                              THE BEST VIEW IN TOSSA   \n",
              "4808                 FARIGOLA: HabitaciÃƒÂ³n con Jacuzzi   \n",
              "4809              ESPÃƒÂGOL: HabitaciÃƒÂ³n con salÃƒÂ³n   \n",
              "4810                ROMANÃƒÂ: HabitaciÃƒÂ³n con terraza   \n",
              "5026                            Apartamento 2-4 personas   \n",
              "5378               1 sup. bedroom apartment (2-4 people)   \n",
              "5618              QUIET APARTMENT 5 minutes TO THE BEACH   \n",
              "5719                     Apartament 2 dormitoris 4-7 pax   \n",
              "5831                 NICE AND CENTRIC APARTMENT IN TOSSA   \n",
              "6459                Gerio-HabitaciÃƒÂ³n compartida Mixta   \n",
              "6469             Tarla-HabitaciÃƒÂ³n compartida femenina   \n",
              "6471             Banyeta- HabitaciÃƒÂ³n compartida mixta   \n",
              "7069            Suite en Mas Sant Marc Desayuno Incluido   \n",
              "7076   Suite Familiar en Mas Sant Marc Desayuno Incluido   \n",
              "7081        Bungalow en Mas Sant Marc Breakfast included   \n",
              "7787            Doble en Mas Sant Marc Desayuno Incluido   \n",
              "7796     Double room en Mas Sant Marc Accommodation Only   \n",
              "7811    Suite Familiar en Mas Sant Marc Solo Alojamiento   \n",
              "7812          Bungalow en Mas Sant Marc Solo Alojamiento   \n",
              "7813              Suite Mas Sant Marc accommodation only   \n",
              "7835                 PORT 27 (Atico Sea view apartment )   \n",
              "8509             Hotel Gran Ultonia, double or twin room   \n",
              "8930     B&B Double room w/ Bathroom 5' beach and castle   \n",
              "8937                 Salles Aeroport Girona, Double Room   \n",
              "8938                 Salles Aeroport Girona, Triple Room   \n",
              "9026           B&B Twin room, private bathroom, 5' beach   \n",
              "9356                      Suite Familiar en Cal Marrufes   \n",
              "9384   Hostal MediterrÃƒÂ¡neo - HabitaciÃƒÂ³n Doble E...   \n",
              "9392   Hostal MediterrÃƒÂ¡neo - HabitaciÃƒÂ³n Doble c...   \n",
              "9395                            Hab. doble- Cal Marrufes   \n",
              "9396                            Hab. Doble- Cal Marrufes   \n",
              "9397       Hostal MediterrÃƒÂ¡neo - HabitaciÃƒÂ³n Triple   \n",
              "9398                          Hab. Doble en Cal Marrufes   \n",
              "9399              Hab. doble 1 o 2 camas en Cal Marrufes   \n",
              "9400                 HabitaciÃƒÂ³n Doble en Cal Marrufes   \n",
              "9405                           Hab Doble en Cal Marrufes   \n",
              "9406                         Hab. triple en Cal Marrufes   \n",
              "9407                         Hab. Triple en Cal Marrufes   \n",
              "9408                               Suite en Cal Marrufez   \n",
              "11432                                  Hotel Mas del Sol   \n",
              "\n",
              "                                             description  \\\n",
              "1223   Apartment in a quiet area, with swimming pool<...   \n",
              "1391   Alquiler de un apartamento para 8 personas en ...   \n",
              "1617   This comfortable apartment is located in a qui...   \n",
              "1830   This apartment/duplex is located in the center...   \n",
              "2062   Comfortable duplex apartment with sea views lo...   \n",
              "2064   Composed of a comfortable living room with sem...   \n",
              "2336   La chambre est situÃƒÂ©e cÃƒÂ´tÃƒÂ© rue, elle ...   \n",
              "3423   The apartment has a living room with access to...   \n",
              "3469   On the upper floor there is the living room wi...   \n",
              "3838   Fantastic newly built duplex with lift, close ...   \n",
              "4635   Nice apartment with terrace, from where you wi...   \n",
              "4808   La habitaciÃƒÂ³n consta de una cama King Size,...   \n",
              "4809   La habitaciÃƒÂ³n consta de cama king size, con...   \n",
              "4810   La habitaciÃƒÂ³n consta de 2 camas individuale...   \n",
              "5026   Aparthotel & Village Golf Beach, rodeado de bo...   \n",
              "5378             <b>License number</b><br />HG-002154-49   \n",
              "5618   Apartment very central, at the same time locat...   \n",
              "5719   Aquest tipus d'apartament disposa de 2 dormito...   \n",
              "5831   Attractive apartment very centric with all kin...   \n",
              "6459   Es una tÃƒÂ­pica casa independiente en el trad...   \n",
              "6469   Es una tÃƒÂ­pica casa independiente en el trad...   \n",
              "6471   Es una tÃƒÂ­pica casa independiente en el trad...   \n",
              "7069   Suite room with a refined style to enjoy a war...   \n",
              "7076   Family Suite Room with a vintage chic style to...   \n",
              "7081   Independent Double Room equipped with a full k...   \n",
              "7787   Double room with private bathroom and breakfas...   \n",
              "7796   Double room with private bathroom. Decorated i...   \n",
              "7811   Family Suite Room with a vintage chic style to...   \n",
              "7812   Independent Double Room equipped with a full k...   \n",
              "7813   Suite room with a refined style to enjoy a war...   \n",
              "7835   Apartments PORT 27 are located in the center o...   \n",
              "8509                <b>License number</b><br />HG-002402   \n",
              "8930   Double room with private bathroom ,in charming...   \n",
              "8937   Your room charge will be paid prior to your ar...   \n",
              "8938   Your room charge will be paid prior to your ar...   \n",
              "9026   Twin room with 2 beds,private bathroom ,breakf...   \n",
              "9356   Suite con 1 ÃƒÂ³ 2 camas, decoraciÃƒÂ³n rÃƒÂºs...   \n",
              "9384   HabitaciÃƒÂ³n Doble EstÃƒÂ¡ndar (cama de matri...   \n",
              "9392   HabitaciÃƒÂ³n Doble Superior con balcÃƒÂ³n (ca...   \n",
              "9395   HabitaciÃƒÂ³n doble con 1 ÃƒÂ³ 2 camas, decora...   \n",
              "9396   HabitaciÃƒÂ³n doble con 1 ÃƒÂ³ 2 camas, decora...   \n",
              "9397   HabitaciÃƒÂ³n triple (dispone de tres camas) c...   \n",
              "9398   HabitaciÃƒÂ³n doble con 1 ÃƒÂ³ 2 camas, decora...   \n",
              "9399   HabitaciÃƒÂ³n doble con 1 ÃƒÂ³ 2 camas, decora...   \n",
              "9400   HabitaciÃƒÂ³n doble con 1 ÃƒÂ³ 2 camas, decora...   \n",
              "9405   HabitaciÃƒÂ³n doble con 1 ÃƒÂ³ 2 camas, decora...   \n",
              "9406   HabitaciÃƒÂ³n triple con 3 camas, decoraciÃƒÂ³...   \n",
              "9407   HabitaciÃƒÂ³n triple con 3 camas, decoraciÃƒÂ³...   \n",
              "9408   Suite con 1 ÃƒÂ³ 2 camas, decoraciÃƒÂ³n rÃƒÂºs...   \n",
              "11432                                                  0   \n",
              "\n",
              "                                   neighborhood_overview  \\\n",
              "1223   Originally a fishing village, Calella has beco...   \n",
              "1391   Cap sa Sal es un hotel de 5 estrellas reconver...   \n",
              "1617                                                   0   \n",
              "1830   Located in the heart of EmpordÃƒÂ , the town o...   \n",
              "2062                                                   0   \n",
              "2064   Located in the heart of EmpordÃƒÂ , the town o...   \n",
              "2336   Quartier trÃƒÂ¨s calme tout en ÃƒÂ©tants  situ...   \n",
              "3423   Tamariu is the smallest and wildest coastal to...   \n",
              "3469   Located in the heart of the EmpordÃƒÂ , the to...   \n",
              "3838   Originally a fishing village, Calella has beco...   \n",
              "4635   The apartment is located in a residential zone...   \n",
              "4808                                                   0   \n",
              "4809                                                   0   \n",
              "4810                                                   0   \n",
              "5026   En el mismo edicio hay un bar-restaurante abie...   \n",
              "5378                                                   0   \n",
              "5618   The apartment is located in the center of the ...   \n",
              "5719                                                   0   \n",
              "5831   The apartment is located in the center of the ...   \n",
              "6459                                                   0   \n",
              "6469                                                   0   \n",
              "6471                                                   0   \n",
              "7069   This establishment with an outdoor swimming po...   \n",
              "7076   This establishment with an outdoor swimming po...   \n",
              "7081   This establishment with an outdoor swimming po...   \n",
              "7787   This establishment with an outdoor swimming po...   \n",
              "7796   This establishment with an outdoor swimming po...   \n",
              "7811   This establishment with an outdoor swimming po...   \n",
              "7812   This establishment with an outdoor swimming po...   \n",
              "7813                                                   0   \n",
              "7835   The town of Empuriabrava is unique by its loca...   \n",
              "8509                                                   0   \n",
              "8930                                                   0   \n",
              "8937                                                   0   \n",
              "8938                                                   0   \n",
              "9026                                                   0   \n",
              "9356                                                   0   \n",
              "9384   Cerca del hostal podemos encontrar la \"Platja ...   \n",
              "9392   Cerca del hostal podemos encontrar la \"Platja ...   \n",
              "9395                                                   0   \n",
              "9396                                                   0   \n",
              "9397   Cerca del hostal podemos encontrar la \"Platja ...   \n",
              "9398                                                   0   \n",
              "9399                                                   0   \n",
              "9400                                                   0   \n",
              "9405                                                   0   \n",
              "9406                                                   0   \n",
              "9407                                                   0   \n",
              "9408                                                   0   \n",
              "11432                                                  0   \n",
              "\n",
              "                                             picture_url  ...  \\\n",
              "1223   https://a0.muscache.com/pictures/68a0d1b9-a0c0...  ...   \n",
              "1391   https://a0.muscache.com/pictures/686d1ae6-3c7e...  ...   \n",
              "1617   https://a0.muscache.com/pictures/430ede61-2dcc...  ...   \n",
              "1830   https://a0.muscache.com/pictures/1952be80-e31e...  ...   \n",
              "2062   https://a0.muscache.com/pictures/d7f58310-293d...  ...   \n",
              "2064   https://a0.muscache.com/pictures/a52c90d2-4b77...  ...   \n",
              "2336   https://a0.muscache.com/pictures/miso/Hosting-...  ...   \n",
              "3423   https://a0.muscache.com/pictures/f485f962-a0f9...  ...   \n",
              "3469   https://a0.muscache.com/pictures/9497c3ad-3d22...  ...   \n",
              "3838   https://a0.muscache.com/pictures/ed7ea755-3ac9...  ...   \n",
              "4635   https://a0.muscache.com/pictures/prohost-api/H...  ...   \n",
              "4808   https://a0.muscache.com/pictures/2595be71-beac...  ...   \n",
              "4809   https://a0.muscache.com/pictures/c8e641a1-80ef...  ...   \n",
              "4810   https://a0.muscache.com/pictures/1d7c2ef5-699d...  ...   \n",
              "5026   https://a0.muscache.com/pictures/d67c8761-f72e...  ...   \n",
              "5378   https://a0.muscache.com/pictures/18b7c8cc-a125...  ...   \n",
              "5618   https://a0.muscache.com/pictures/b8e1578d-ea9b...  ...   \n",
              "5719   https://a0.muscache.com/pictures/909f9858-c23b...  ...   \n",
              "5831   https://a0.muscache.com/pictures/prohost-api/H...  ...   \n",
              "6459   https://a0.muscache.com/pictures/7793aa52-7fe6...  ...   \n",
              "6469   https://a0.muscache.com/pictures/80c024dc-37d5...  ...   \n",
              "6471   https://a0.muscache.com/pictures/49493883-9e4d...  ...   \n",
              "7069   https://a0.muscache.com/pictures/27dac930-c5fc...  ...   \n",
              "7076   https://a0.muscache.com/pictures/a90c6f6b-b523...  ...   \n",
              "7081   https://a0.muscache.com/pictures/018694bd-f145...  ...   \n",
              "7787   https://a0.muscache.com/pictures/1c07613e-f0b5...  ...   \n",
              "7796   https://a0.muscache.com/pictures/miso/Hosting-...  ...   \n",
              "7811   https://a0.muscache.com/pictures/6d401832-1384...  ...   \n",
              "7812   https://a0.muscache.com/pictures/da3de89f-b859...  ...   \n",
              "7813   https://a0.muscache.com/pictures/69b32047-7b41...  ...   \n",
              "7835   https://a0.muscache.com/pictures/b82e36c8-8ac5...  ...   \n",
              "8509   https://a0.muscache.com/pictures/prohost-api/H...  ...   \n",
              "8930   https://a0.muscache.com/pictures/94ff615f-f29d...  ...   \n",
              "8937   https://a0.muscache.com/pictures/prohost-api/H...  ...   \n",
              "8938   https://a0.muscache.com/pictures/prohost-api/H...  ...   \n",
              "9026   https://a0.muscache.com/pictures/61406366-e07c...  ...   \n",
              "9356   https://a0.muscache.com/pictures/c4339ddc-ccdd...  ...   \n",
              "9384   https://a0.muscache.com/pictures/miso/Hosting-...  ...   \n",
              "9392   https://a0.muscache.com/pictures/81ad9be0-c192...  ...   \n",
              "9395   https://a0.muscache.com/pictures/05a070ab-57d6...  ...   \n",
              "9396   https://a0.muscache.com/pictures/34818c15-9e9c...  ...   \n",
              "9397   https://a0.muscache.com/pictures/miso/Hosting-...  ...   \n",
              "9398   https://a0.muscache.com/pictures/b7c36ab1-5fe6...  ...   \n",
              "9399   https://a0.muscache.com/pictures/f00dae35-9a24...  ...   \n",
              "9400   https://a0.muscache.com/pictures/8299dcfd-9a84...  ...   \n",
              "9405   https://a0.muscache.com/pictures/37eab78a-726b...  ...   \n",
              "9406   https://a0.muscache.com/pictures/b078c0c3-8e9a...  ...   \n",
              "9407   https://a0.muscache.com/pictures/18e59e1f-3efe...  ...   \n",
              "9408   https://a0.muscache.com/pictures/081f3ab0-9cd2...  ...   \n",
              "11432  https://a0.muscache.com/pictures/miso/Hosting-...  ...   \n",
              "\n",
              "      review_scores_communication review_scores_location review_scores_value  \\\n",
              "1223                         4.50                   4.08                4.00   \n",
              "1391                         4.86                   4.93                4.63   \n",
              "1617                         4.70                   4.70                4.30   \n",
              "1830                         4.93                   4.75                4.61   \n",
              "2062                         4.91                   4.91                4.45   \n",
              "2064                         4.67                   4.73                4.53   \n",
              "2336                         4.90                   4.76                4.80   \n",
              "3423                         5.00                   4.25                4.50   \n",
              "3469                         4.78                   4.70                4.09   \n",
              "3838                         5.00                   4.50                4.50   \n",
              "4635                         4.00                   4.00                3.67   \n",
              "4808                         5.00                   4.33                4.33   \n",
              "4809                         0.00                   0.00                0.00   \n",
              "4810                         0.00                   0.00                0.00   \n",
              "5026                         4.72                   4.28                4.13   \n",
              "5378                         5.00                   3.00                4.00   \n",
              "5618                         4.67                   5.00                4.67   \n",
              "5719                         4.80                   4.20                5.00   \n",
              "5831                         4.89                   4.78                4.33   \n",
              "6459                         4.66                   4.72                4.70   \n",
              "6469                         4.78                   4.84                4.74   \n",
              "6471                         4.69                   4.77                4.78   \n",
              "7069                         5.00                   5.00                4.67   \n",
              "7076                         0.00                   0.00                0.00   \n",
              "7081                         0.00                   0.00                0.00   \n",
              "7787                         5.00                   5.00                5.00   \n",
              "7796                         4.95                   4.90                4.79   \n",
              "7811                         5.00                   5.00                4.67   \n",
              "7812                         5.00                   5.00                5.00   \n",
              "7813                         4.75                   4.75                4.00   \n",
              "7835                         4.75                   4.89                4.59   \n",
              "8509                         5.00                   5.00                4.67   \n",
              "8930                         4.88                   4.88                4.36   \n",
              "8937                         4.28                   4.49                4.54   \n",
              "8938                         4.53                   4.33                4.47   \n",
              "9026                         4.65                   4.90                4.70   \n",
              "9356                         0.00                   0.00                0.00   \n",
              "9384                         4.95                   4.98                4.66   \n",
              "9392                         4.65                   4.90                4.60   \n",
              "9395                         0.00                   0.00                0.00   \n",
              "9396                         0.00                   0.00                0.00   \n",
              "9397                         5.00                   5.00                4.67   \n",
              "9398                         0.00                   0.00                0.00   \n",
              "9399                         0.00                   0.00                0.00   \n",
              "9400                         0.00                   0.00                0.00   \n",
              "9405                         0.00                   0.00                0.00   \n",
              "9406                         0.00                   0.00                0.00   \n",
              "9407                         0.00                   0.00                0.00   \n",
              "9408                         0.00                   0.00                0.00   \n",
              "11432                        4.75                   4.50                4.50   \n",
              "\n",
              "            license instant_bookable calculated_host_listings_count  \\\n",
              "1223    HUTG-008970                t                          110.0   \n",
              "1391    HUTG-015726                f                            1.0   \n",
              "1617    HUTG-001617                t                          110.0   \n",
              "1830    HUTG-014029                t                          110.0   \n",
              "2062    HUTG-001207                t                          110.0   \n",
              "2064    HUTG-010465                t                          110.0   \n",
              "2336    HUTG-029339                t                            5.0   \n",
              "3423    HUTG-035087                t                          110.0   \n",
              "3469    HUTG-009072                t                          110.0   \n",
              "3838    HUTG-022410                t                          110.0   \n",
              "4635    HUTG-029237                t                          109.0   \n",
              "4808      HG-002539                f                            8.0   \n",
              "4809      HG-002539                f                            8.0   \n",
              "4810      HG-002539                f                            8.0   \n",
              "5026   HG-002154-49                t                            6.0   \n",
              "5378   HG-002154-49                t                            6.0   \n",
              "5618    HUTG-031882                t                          109.0   \n",
              "5719              0                t                            6.0   \n",
              "5831    HUTG-022323                t                          109.0   \n",
              "6459         Exempt                t                            4.0   \n",
              "6469         Exempt                t                            4.0   \n",
              "6471         Exempt                t                            4.0   \n",
              "7069      PG-000045                t                           10.0   \n",
              "7076      PG-000045                t                           10.0   \n",
              "7081      PG-000045                t                           10.0   \n",
              "7787      PG-000045                t                           10.0   \n",
              "7796      PG-000045                t                           10.0   \n",
              "7811      PG-000045                t                           10.0   \n",
              "7812      PG-000045                t                           10.0   \n",
              "7813      PG-000045                t                           10.0   \n",
              "7835    HUTG-018814                t                           11.0   \n",
              "8509      HG-002402                t                            4.0   \n",
              "8930         Exempt                t                            4.0   \n",
              "8937      HG-001231                t                            3.0   \n",
              "8938      HG-001231                t                            3.0   \n",
              "9026         Exempt                t                            4.0   \n",
              "9356      PG-000129                t                           19.0   \n",
              "9384      HG-000986                t                            5.0   \n",
              "9392      HG-000986                t                            5.0   \n",
              "9395      PG-000129                t                           19.0   \n",
              "9396      PG-000129                t                           19.0   \n",
              "9397      HG-000986                t                            5.0   \n",
              "9398      PG-000129                t                           19.0   \n",
              "9399      PG-000129                t                           19.0   \n",
              "9400      PG-000129                t                           19.0   \n",
              "9405      PG-000129                t                           19.0   \n",
              "9406      PG-000129                t                           19.0   \n",
              "9407      PG-000129                t                           19.0   \n",
              "9408      PG-000129                t                           19.0   \n",
              "11432             0                f                            1.0   \n",
              "\n",
              "      calculated_host_listings_count_entire_homes  \\\n",
              "1223                                        102.0   \n",
              "1391                                          0.0   \n",
              "1617                                        102.0   \n",
              "1830                                        102.0   \n",
              "2062                                        102.0   \n",
              "2064                                        102.0   \n",
              "2336                                          1.0   \n",
              "3423                                        102.0   \n",
              "3469                                        102.0   \n",
              "3838                                        102.0   \n",
              "4635                                        106.0   \n",
              "4808                                          5.0   \n",
              "4809                                          5.0   \n",
              "4810                                          5.0   \n",
              "5026                                          2.0   \n",
              "5378                                          2.0   \n",
              "5618                                        106.0   \n",
              "5719                                          2.0   \n",
              "5831                                        106.0   \n",
              "6459                                          0.0   \n",
              "6469                                          0.0   \n",
              "6471                                          0.0   \n",
              "7069                                          2.0   \n",
              "7076                                          2.0   \n",
              "7081                                          2.0   \n",
              "7787                                          2.0   \n",
              "7796                                          2.0   \n",
              "7811                                          2.0   \n",
              "7812                                          2.0   \n",
              "7813                                          2.0   \n",
              "7835                                         10.0   \n",
              "8509                                          0.0   \n",
              "8930                                          2.0   \n",
              "8937                                          0.0   \n",
              "8938                                          0.0   \n",
              "9026                                          2.0   \n",
              "9356                                          5.0   \n",
              "9384                                          0.0   \n",
              "9392                                          0.0   \n",
              "9395                                          5.0   \n",
              "9396                                          5.0   \n",
              "9397                                          0.0   \n",
              "9398                                          5.0   \n",
              "9399                                          5.0   \n",
              "9400                                          5.0   \n",
              "9405                                          5.0   \n",
              "9406                                          5.0   \n",
              "9407                                          5.0   \n",
              "9408                                          5.0   \n",
              "11432                                         0.0   \n",
              "\n",
              "      calculated_host_listings_count_private_rooms  \\\n",
              "1223                                           0.0   \n",
              "1391                                           0.0   \n",
              "1617                                           0.0   \n",
              "1830                                           0.0   \n",
              "2062                                           0.0   \n",
              "2064                                           0.0   \n",
              "2336                                           3.0   \n",
              "3423                                           0.0   \n",
              "3469                                           0.0   \n",
              "3838                                           0.0   \n",
              "4635                                           0.0   \n",
              "4808                                           0.0   \n",
              "4809                                           0.0   \n",
              "4810                                           0.0   \n",
              "5026                                           1.0   \n",
              "5378                                           1.0   \n",
              "5618                                           0.0   \n",
              "5719                                           1.0   \n",
              "5831                                           0.0   \n",
              "6459                                           1.0   \n",
              "6469                                           1.0   \n",
              "6471                                           1.0   \n",
              "7069                                           0.0   \n",
              "7076                                           0.0   \n",
              "7081                                           0.0   \n",
              "7787                                           0.0   \n",
              "7796                                           0.0   \n",
              "7811                                           0.0   \n",
              "7812                                           0.0   \n",
              "7813                                           0.0   \n",
              "7835                                           0.0   \n",
              "8509                                           3.0   \n",
              "8930                                           0.0   \n",
              "8937                                           1.0   \n",
              "8938                                           1.0   \n",
              "9026                                           0.0   \n",
              "9356                                           4.0   \n",
              "9384                                           2.0   \n",
              "9392                                           2.0   \n",
              "9395                                           4.0   \n",
              "9396                                           4.0   \n",
              "9397                                           2.0   \n",
              "9398                                           4.0   \n",
              "9399                                           4.0   \n",
              "9400                                           4.0   \n",
              "9405                                           4.0   \n",
              "9406                                           4.0   \n",
              "9407                                           4.0   \n",
              "9408                                           4.0   \n",
              "11432                                          0.0   \n",
              "\n",
              "      calculated_host_listings_count_shared_rooms reviews_per_month  \n",
              "1223                                          0.0              0.13  \n",
              "1391                                          0.0              1.23  \n",
              "1617                                          0.0              0.12  \n",
              "1830                                          0.0              0.34  \n",
              "2062                                          0.0              0.13  \n",
              "2064                                          0.0              0.21  \n",
              "2336                                          0.0              1.40  \n",
              "3423                                          0.0              0.06  \n",
              "3469                                          0.0              0.33  \n",
              "3838                                          0.0              0.06  \n",
              "4635                                          0.0              0.06  \n",
              "4808                                          0.0              0.13  \n",
              "4809                                          0.0              0.00  \n",
              "4810                                          0.0              0.00  \n",
              "5026                                          0.0              0.53  \n",
              "5378                                          0.0              0.02  \n",
              "5618                                          0.0              0.05  \n",
              "5719                                          0.0              0.08  \n",
              "5831                                          0.0              0.16  \n",
              "6459                                          0.0              2.10  \n",
              "6469                                          0.0              1.24  \n",
              "6471                                          0.0              1.99  \n",
              "7069                                          0.0              0.12  \n",
              "7076                                          0.0              0.00  \n",
              "7081                                          0.0              0.00  \n",
              "7787                                          0.0              0.06  \n",
              "7796                                          0.0              0.86  \n",
              "7811                                          0.0              0.16  \n",
              "7812                                          0.0              0.10  \n",
              "7813                                          0.0              0.40  \n",
              "7835                                          0.0              1.30  \n",
              "8509                                          0.0              0.51  \n",
              "8930                                          0.0              0.73  \n",
              "8937                                          0.0              0.93  \n",
              "8938                                          0.0              1.38  \n",
              "9026                                          0.0              0.44  \n",
              "9356                                          0.0              0.00  \n",
              "9384                                          0.0              0.96  \n",
              "9392                                          0.0              1.21  \n",
              "9395                                          0.0              0.00  \n",
              "9396                                          0.0              0.00  \n",
              "9397                                          0.0              0.19  \n",
              "9398                                          0.0              0.00  \n",
              "9399                                          0.0              0.00  \n",
              "9400                                          0.0              0.00  \n",
              "9405                                          0.0              0.00  \n",
              "9406                                          0.0              0.00  \n",
              "9407                                          0.0              0.00  \n",
              "9408                                          0.0              0.00  \n",
              "11432                                         0.0              0.20  \n",
              "\n",
              "[50 rows x 73 columns]"
            ],
            "text/html": [
              "\n",
              "  <div id=\"df-7fb93b4b-6d80-489b-9d86-e56a7780d8e1\">\n",
              "    <div class=\"colab-df-container\">\n",
              "      <div>\n",
              "<style scoped>\n",
              "    .dataframe tbody tr th:only-of-type {\n",
              "        vertical-align: middle;\n",
              "    }\n",
              "\n",
              "    .dataframe tbody tr th {\n",
              "        vertical-align: top;\n",
              "    }\n",
              "\n",
              "    .dataframe thead th {\n",
              "        text-align: right;\n",
              "    }\n",
              "</style>\n",
              "<table border=\"1\" class=\"dataframe\">\n",
              "  <thead>\n",
              "    <tr style=\"text-align: right;\">\n",
              "      <th></th>\n",
              "      <th>Unnamed: 0</th>\n",
              "      <th>id</th>\n",
              "      <th>listing_url</th>\n",
              "      <th>scrape_id</th>\n",
              "      <th>last_scraped</th>\n",
              "      <th>source</th>\n",
              "      <th>name</th>\n",
              "      <th>description</th>\n",
              "      <th>neighborhood_overview</th>\n",
              "      <th>picture_url</th>\n",
              "      <th>...</th>\n",
              "      <th>review_scores_communication</th>\n",
              "      <th>review_scores_location</th>\n",
              "      <th>review_scores_value</th>\n",
              "      <th>license</th>\n",
              "      <th>instant_bookable</th>\n",
              "      <th>calculated_host_listings_count</th>\n",
              "      <th>calculated_host_listings_count_entire_homes</th>\n",
              "      <th>calculated_host_listings_count_private_rooms</th>\n",
              "      <th>calculated_host_listings_count_shared_rooms</th>\n",
              "      <th>reviews_per_month</th>\n",
              "    </tr>\n",
              "  </thead>\n",
              "  <tbody>\n",
              "    <tr>\n",
              "      <th>1223</th>\n",
              "      <td>1223</td>\n",
              "      <td>7027939</td>\n",
              "      <td>https://www.airbnb.com/rooms/7027939</td>\n",
              "      <td>20230300000000</td>\n",
              "      <td>31/03/2023</td>\n",
              "      <td>city scrape</td>\n",
              "      <td>K-4 Apartment with views and pool</td>\n",
              "      <td>Apartment in a quiet area, with swimming pool&lt;...</td>\n",
              "      <td>Originally a fishing village, Calella has beco...</td>\n",
              "      <td>https://a0.muscache.com/pictures/68a0d1b9-a0c0...</td>\n",
              "      <td>...</td>\n",
              "      <td>4.50</td>\n",
              "      <td>4.08</td>\n",
              "      <td>4.00</td>\n",
              "      <td>HUTG-008970</td>\n",
              "      <td>t</td>\n",
              "      <td>110.0</td>\n",
              "      <td>102.0</td>\n",
              "      <td>0.0</td>\n",
              "      <td>0.0</td>\n",
              "      <td>0.13</td>\n",
              "    </tr>\n",
              "    <tr>\n",
              "      <th>1391</th>\n",
              "      <td>1390</td>\n",
              "      <td>8787562</td>\n",
              "      <td>https://www.airbnb.com/rooms/8787562</td>\n",
              "      <td>20230300000000</td>\n",
              "      <td>31/03/2023</td>\n",
              "      <td>city scrape</td>\n",
              "      <td>Lujoso apartamento en primera linea de mar</td>\n",
              "      <td>Alquiler de un apartamento para 8 personas en ...</td>\n",
              "      <td>Cap sa Sal es un hotel de 5 estrellas reconver...</td>\n",
              "      <td>https://a0.muscache.com/pictures/686d1ae6-3c7e...</td>\n",
              "      <td>...</td>\n",
              "      <td>4.86</td>\n",
              "      <td>4.93</td>\n",
              "      <td>4.63</td>\n",
              "      <td>HUTG-015726</td>\n",
              "      <td>f</td>\n",
              "      <td>1.0</td>\n",
              "      <td>0.0</td>\n",
              "      <td>0.0</td>\n",
              "      <td>0.0</td>\n",
              "      <td>1.23</td>\n",
              "    </tr>\n",
              "    <tr>\n",
              "      <th>1617</th>\n",
              "      <td>1616</td>\n",
              "      <td>11372300</td>\n",
              "      <td>https://www.airbnb.com/rooms/11372300</td>\n",
              "      <td>20230300000000</td>\n",
              "      <td>2023-01-04 00:00:00</td>\n",
              "      <td>city scrape</td>\n",
              "      <td>SR-28 Apartment near to Sa Riera beach</td>\n",
              "      <td>This comfortable apartment is located in a qui...</td>\n",
              "      <td>0</td>\n",
              "      <td>https://a0.muscache.com/pictures/430ede61-2dcc...</td>\n",
              "      <td>...</td>\n",
              "      <td>4.70</td>\n",
              "      <td>4.70</td>\n",
              "      <td>4.30</td>\n",
              "      <td>HUTG-001617</td>\n",
              "      <td>t</td>\n",
              "      <td>110.0</td>\n",
              "      <td>102.0</td>\n",
              "      <td>0.0</td>\n",
              "      <td>0.0</td>\n",
              "      <td>0.12</td>\n",
              "    </tr>\n",
              "    <tr>\n",
              "      <th>1830</th>\n",
              "      <td>1829</td>\n",
              "      <td>12614906</td>\n",
              "      <td>https://www.airbnb.com/rooms/12614906</td>\n",
              "      <td>20230300000000</td>\n",
              "      <td>2023-01-04 00:00:00</td>\n",
              "      <td>city scrape</td>\n",
              "      <td>B-15 Apartment Begur</td>\n",
              "      <td>This apartment/duplex is located in the center...</td>\n",
              "      <td>Located in the heart of EmpordÃƒÂ , the town o...</td>\n",
              "      <td>https://a0.muscache.com/pictures/1952be80-e31e...</td>\n",
              "      <td>...</td>\n",
              "      <td>4.93</td>\n",
              "      <td>4.75</td>\n",
              "      <td>4.61</td>\n",
              "      <td>HUTG-014029</td>\n",
              "      <td>t</td>\n",
              "      <td>110.0</td>\n",
              "      <td>102.0</td>\n",
              "      <td>0.0</td>\n",
              "      <td>0.0</td>\n",
              "      <td>0.34</td>\n",
              "    </tr>\n",
              "    <tr>\n",
              "      <th>2062</th>\n",
              "      <td>2061</td>\n",
              "      <td>13049755</td>\n",
              "      <td>https://www.airbnb.com/rooms/13049755</td>\n",
              "      <td>20230300000000</td>\n",
              "      <td>2023-01-04 00:00:00</td>\n",
              "      <td>city scrape</td>\n",
              "      <td>B-5 Apartment nearby the center with views, Begur</td>\n",
              "      <td>Comfortable duplex apartment with sea views lo...</td>\n",
              "      <td>0</td>\n",
              "      <td>https://a0.muscache.com/pictures/d7f58310-293d...</td>\n",
              "      <td>...</td>\n",
              "      <td>4.91</td>\n",
              "      <td>4.91</td>\n",
              "      <td>4.45</td>\n",
              "      <td>HUTG-001207</td>\n",
              "      <td>t</td>\n",
              "      <td>110.0</td>\n",
              "      <td>102.0</td>\n",
              "      <td>0.0</td>\n",
              "      <td>0.0</td>\n",
              "      <td>0.13</td>\n",
              "    </tr>\n",
              "    <tr>\n",
              "      <th>2064</th>\n",
              "      <td>2063</td>\n",
              "      <td>13049759</td>\n",
              "      <td>https://www.airbnb.com/rooms/13049759</td>\n",
              "      <td>20230300000000</td>\n",
              "      <td>2023-01-04 00:00:00</td>\n",
              "      <td>city scrape</td>\n",
              "      <td>ST-4 Apartment with sea views and pool, Sa Tuna.</td>\n",
              "      <td>Composed of a comfortable living room with sem...</td>\n",
              "      <td>Located in the heart of EmpordÃƒÂ , the town o...</td>\n",
              "      <td>https://a0.muscache.com/pictures/a52c90d2-4b77...</td>\n",
              "      <td>...</td>\n",
              "      <td>4.67</td>\n",
              "      <td>4.73</td>\n",
              "      <td>4.53</td>\n",
              "      <td>HUTG-010465</td>\n",
              "      <td>t</td>\n",
              "      <td>110.0</td>\n",
              "      <td>102.0</td>\n",
              "      <td>0.0</td>\n",
              "      <td>0.0</td>\n",
              "      <td>0.21</td>\n",
              "    </tr>\n",
              "    <tr>\n",
              "      <th>2336</th>\n",
              "      <td>2335</td>\n",
              "      <td>14003102</td>\n",
              "      <td>https://www.airbnb.com/rooms/14003102</td>\n",
              "      <td>20230300000000</td>\n",
              "      <td>2023-01-04 00:00:00</td>\n",
              "      <td>city scrape</td>\n",
              "      <td>La chambre des secrets</td>\n",
              "      <td>La chambre est situÃƒÂ©e cÃƒÂ´tÃƒÂ© rue, elle ...</td>\n",
              "      <td>Quartier trÃƒÂ¨s calme tout en ÃƒÂ©tants  situ...</td>\n",
              "      <td>https://a0.muscache.com/pictures/miso/Hosting-...</td>\n",
              "      <td>...</td>\n",
              "      <td>4.90</td>\n",
              "      <td>4.76</td>\n",
              "      <td>4.80</td>\n",
              "      <td>HUTG-029339</td>\n",
              "      <td>t</td>\n",
              "      <td>5.0</td>\n",
              "      <td>1.0</td>\n",
              "      <td>3.0</td>\n",
              "      <td>0.0</td>\n",
              "      <td>1.40</td>\n",
              "    </tr>\n",
              "    <tr>\n",
              "      <th>3423</th>\n",
              "      <td>3422</td>\n",
              "      <td>18205547</td>\n",
              "      <td>https://www.airbnb.com/rooms/18205547</td>\n",
              "      <td>20230300000000</td>\n",
              "      <td>2023-01-04 00:00:00</td>\n",
              "      <td>city scrape</td>\n",
              "      <td>T-2 Apartment with community pool in Tamariu</td>\n",
              "      <td>The apartment has a living room with access to...</td>\n",
              "      <td>Tamariu is the smallest and wildest coastal to...</td>\n",
              "      <td>https://a0.muscache.com/pictures/f485f962-a0f9...</td>\n",
              "      <td>...</td>\n",
              "      <td>5.00</td>\n",
              "      <td>4.25</td>\n",
              "      <td>4.50</td>\n",
              "      <td>HUTG-035087</td>\n",
              "      <td>t</td>\n",
              "      <td>110.0</td>\n",
              "      <td>102.0</td>\n",
              "      <td>0.0</td>\n",
              "      <td>0.0</td>\n",
              "      <td>0.06</td>\n",
              "    </tr>\n",
              "    <tr>\n",
              "      <th>3469</th>\n",
              "      <td>3468</td>\n",
              "      <td>17826903</td>\n",
              "      <td>https://www.airbnb.com/rooms/17826903</td>\n",
              "      <td>20230300000000</td>\n",
              "      <td>2023-01-04 00:00:00</td>\n",
              "      <td>city scrape</td>\n",
              "      <td>SR-32 Duplex with sea views in Sa Riera, Begur</td>\n",
              "      <td>On the upper floor there is the living room wi...</td>\n",
              "      <td>Located in the heart of the EmpordÃƒÂ , the to...</td>\n",
              "      <td>https://a0.muscache.com/pictures/9497c3ad-3d22...</td>\n",
              "      <td>...</td>\n",
              "      <td>4.78</td>\n",
              "      <td>4.70</td>\n",
              "      <td>4.09</td>\n",
              "      <td>HUTG-009072</td>\n",
              "      <td>t</td>\n",
              "      <td>110.0</td>\n",
              "      <td>102.0</td>\n",
              "      <td>0.0</td>\n",
              "      <td>0.0</td>\n",
              "      <td>0.33</td>\n",
              "    </tr>\n",
              "    <tr>\n",
              "      <th>3838</th>\n",
              "      <td>3837</td>\n",
              "      <td>18588591</td>\n",
              "      <td>https://www.airbnb.com/rooms/18588591</td>\n",
              "      <td>20230300000000</td>\n",
              "      <td>2023-01-04 00:00:00</td>\n",
              "      <td>city scrape</td>\n",
              "      <td>BL-1 Duplex apartment in the center with pool</td>\n",
              "      <td>Fantastic newly built duplex with lift, close ...</td>\n",
              "      <td>Originally a fishing village, Calella has beco...</td>\n",
              "      <td>https://a0.muscache.com/pictures/ed7ea755-3ac9...</td>\n",
              "      <td>...</td>\n",
              "      <td>5.00</td>\n",
              "      <td>4.50</td>\n",
              "      <td>4.50</td>\n",
              "      <td>HUTG-022410</td>\n",
              "      <td>t</td>\n",
              "      <td>110.0</td>\n",
              "      <td>102.0</td>\n",
              "      <td>0.0</td>\n",
              "      <td>0.0</td>\n",
              "      <td>0.06</td>\n",
              "    </tr>\n",
              "    <tr>\n",
              "      <th>4635</th>\n",
              "      <td>4634</td>\n",
              "      <td>20102231</td>\n",
              "      <td>https://www.airbnb.com/rooms/20102231</td>\n",
              "      <td>20230300000000</td>\n",
              "      <td>2023-01-04 00:00:00</td>\n",
              "      <td>city scrape</td>\n",
              "      <td>THE BEST VIEW IN TOSSA</td>\n",
              "      <td>Nice apartment with terrace, from where you wi...</td>\n",
              "      <td>The apartment is located in a residential zone...</td>\n",
              "      <td>https://a0.muscache.com/pictures/prohost-api/H...</td>\n",
              "      <td>...</td>\n",
              "      <td>4.00</td>\n",
              "      <td>4.00</td>\n",
              "      <td>3.67</td>\n",
              "      <td>HUTG-029237</td>\n",
              "      <td>t</td>\n",
              "      <td>109.0</td>\n",
              "      <td>106.0</td>\n",
              "      <td>0.0</td>\n",
              "      <td>0.0</td>\n",
              "      <td>0.06</td>\n",
              "    </tr>\n",
              "    <tr>\n",
              "      <th>4808</th>\n",
              "      <td>4807</td>\n",
              "      <td>21102864</td>\n",
              "      <td>https://www.airbnb.com/rooms/21102864</td>\n",
              "      <td>20230300000000</td>\n",
              "      <td>31/03/2023</td>\n",
              "      <td>city scrape</td>\n",
              "      <td>FARIGOLA: HabitaciÃƒÂ³n con Jacuzzi</td>\n",
              "      <td>La habitaciÃƒÂ³n consta de una cama King Size,...</td>\n",
              "      <td>0</td>\n",
              "      <td>https://a0.muscache.com/pictures/2595be71-beac...</td>\n",
              "      <td>...</td>\n",
              "      <td>5.00</td>\n",
              "      <td>4.33</td>\n",
              "      <td>4.33</td>\n",
              "      <td>HG-002539</td>\n",
              "      <td>f</td>\n",
              "      <td>8.0</td>\n",
              "      <td>5.0</td>\n",
              "      <td>0.0</td>\n",
              "      <td>0.0</td>\n",
              "      <td>0.13</td>\n",
              "    </tr>\n",
              "    <tr>\n",
              "      <th>4809</th>\n",
              "      <td>4808</td>\n",
              "      <td>21102976</td>\n",
              "      <td>https://www.airbnb.com/rooms/21102976</td>\n",
              "      <td>20230300000000</td>\n",
              "      <td>31/03/2023</td>\n",
              "      <td>city scrape</td>\n",
              "      <td>ESPÃƒÂGOL: HabitaciÃƒÂ³n con salÃƒÂ³n</td>\n",
              "      <td>La habitaciÃƒÂ³n consta de cama king size, con...</td>\n",
              "      <td>0</td>\n",
              "      <td>https://a0.muscache.com/pictures/c8e641a1-80ef...</td>\n",
              "      <td>...</td>\n",
              "      <td>0.00</td>\n",
              "      <td>0.00</td>\n",
              "      <td>0.00</td>\n",
              "      <td>HG-002539</td>\n",
              "      <td>f</td>\n",
              "      <td>8.0</td>\n",
              "      <td>5.0</td>\n",
              "      <td>0.0</td>\n",
              "      <td>0.0</td>\n",
              "      <td>0.00</td>\n",
              "    </tr>\n",
              "    <tr>\n",
              "      <th>4810</th>\n",
              "      <td>4809</td>\n",
              "      <td>21103015</td>\n",
              "      <td>https://www.airbnb.com/rooms/21103015</td>\n",
              "      <td>20230300000000</td>\n",
              "      <td>31/03/2023</td>\n",
              "      <td>city scrape</td>\n",
              "      <td>ROMANÃƒÂ: HabitaciÃƒÂ³n con terraza</td>\n",
              "      <td>La habitaciÃƒÂ³n consta de 2 camas individuale...</td>\n",
              "      <td>0</td>\n",
              "      <td>https://a0.muscache.com/pictures/1d7c2ef5-699d...</td>\n",
              "      <td>...</td>\n",
              "      <td>0.00</td>\n",
              "      <td>0.00</td>\n",
              "      <td>0.00</td>\n",
              "      <td>HG-002539</td>\n",
              "      <td>f</td>\n",
              "      <td>8.0</td>\n",
              "      <td>5.0</td>\n",
              "      <td>0.0</td>\n",
              "      <td>0.0</td>\n",
              "      <td>0.00</td>\n",
              "    </tr>\n",
              "    <tr>\n",
              "      <th>5026</th>\n",
              "      <td>5025</td>\n",
              "      <td>21992360</td>\n",
              "      <td>https://www.airbnb.com/rooms/21992360</td>\n",
              "      <td>20230300000000</td>\n",
              "      <td>2023-01-04 00:00:00</td>\n",
              "      <td>previous scrape</td>\n",
              "      <td>Apartamento 2-4 personas</td>\n",
              "      <td>Aparthotel &amp; Village Golf Beach, rodeado de bo...</td>\n",
              "      <td>En el mismo edicio hay un bar-restaurante abie...</td>\n",
              "      <td>https://a0.muscache.com/pictures/d67c8761-f72e...</td>\n",
              "      <td>...</td>\n",
              "      <td>4.72</td>\n",
              "      <td>4.28</td>\n",
              "      <td>4.13</td>\n",
              "      <td>HG-002154-49</td>\n",
              "      <td>t</td>\n",
              "      <td>6.0</td>\n",
              "      <td>2.0</td>\n",
              "      <td>1.0</td>\n",
              "      <td>0.0</td>\n",
              "      <td>0.53</td>\n",
              "    </tr>\n",
              "    <tr>\n",
              "      <th>5378</th>\n",
              "      <td>5377</td>\n",
              "      <td>22711911</td>\n",
              "      <td>https://www.airbnb.com/rooms/22711911</td>\n",
              "      <td>20230300000000</td>\n",
              "      <td>2023-01-04 00:00:00</td>\n",
              "      <td>previous scrape</td>\n",
              "      <td>1 sup. bedroom apartment (2-4 people)</td>\n",
              "      <td>&lt;b&gt;License number&lt;/b&gt;&lt;br /&gt;HG-002154-49</td>\n",
              "      <td>0</td>\n",
              "      <td>https://a0.muscache.com/pictures/18b7c8cc-a125...</td>\n",
              "      <td>...</td>\n",
              "      <td>5.00</td>\n",
              "      <td>3.00</td>\n",
              "      <td>4.00</td>\n",
              "      <td>HG-002154-49</td>\n",
              "      <td>t</td>\n",
              "      <td>6.0</td>\n",
              "      <td>2.0</td>\n",
              "      <td>1.0</td>\n",
              "      <td>0.0</td>\n",
              "      <td>0.02</td>\n",
              "    </tr>\n",
              "    <tr>\n",
              "      <th>5618</th>\n",
              "      <td>5617</td>\n",
              "      <td>23260879</td>\n",
              "      <td>https://www.airbnb.com/rooms/23260879</td>\n",
              "      <td>20230300000000</td>\n",
              "      <td>2023-01-04 00:00:00</td>\n",
              "      <td>city scrape</td>\n",
              "      <td>QUIET APARTMENT 5 minutes TO THE BEACH</td>\n",
              "      <td>Apartment very central, at the same time locat...</td>\n",
              "      <td>The apartment is located in the center of the ...</td>\n",
              "      <td>https://a0.muscache.com/pictures/b8e1578d-ea9b...</td>\n",
              "      <td>...</td>\n",
              "      <td>4.67</td>\n",
              "      <td>5.00</td>\n",
              "      <td>4.67</td>\n",
              "      <td>HUTG-031882</td>\n",
              "      <td>t</td>\n",
              "      <td>109.0</td>\n",
              "      <td>106.0</td>\n",
              "      <td>0.0</td>\n",
              "      <td>0.0</td>\n",
              "      <td>0.05</td>\n",
              "    </tr>\n",
              "    <tr>\n",
              "      <th>5719</th>\n",
              "      <td>5718</td>\n",
              "      <td>23523388</td>\n",
              "      <td>https://www.airbnb.com/rooms/23523388</td>\n",
              "      <td>20230300000000</td>\n",
              "      <td>2023-01-04 00:00:00</td>\n",
              "      <td>previous scrape</td>\n",
              "      <td>Apartament 2 dormitoris 4-7 pax</td>\n",
              "      <td>Aquest tipus d'apartament disposa de 2 dormito...</td>\n",
              "      <td>0</td>\n",
              "      <td>https://a0.muscache.com/pictures/909f9858-c23b...</td>\n",
              "      <td>...</td>\n",
              "      <td>4.80</td>\n",
              "      <td>4.20</td>\n",
              "      <td>5.00</td>\n",
              "      <td>0</td>\n",
              "      <td>t</td>\n",
              "      <td>6.0</td>\n",
              "      <td>2.0</td>\n",
              "      <td>1.0</td>\n",
              "      <td>0.0</td>\n",
              "      <td>0.08</td>\n",
              "    </tr>\n",
              "    <tr>\n",
              "      <th>5831</th>\n",
              "      <td>5830</td>\n",
              "      <td>24032271</td>\n",
              "      <td>https://www.airbnb.com/rooms/24032271</td>\n",
              "      <td>20230300000000</td>\n",
              "      <td>2023-01-04 00:00:00</td>\n",
              "      <td>city scrape</td>\n",
              "      <td>NICE AND CENTRIC APARTMENT IN TOSSA</td>\n",
              "      <td>Attractive apartment very centric with all kin...</td>\n",
              "      <td>The apartment is located in the center of the ...</td>\n",
              "      <td>https://a0.muscache.com/pictures/prohost-api/H...</td>\n",
              "      <td>...</td>\n",
              "      <td>4.89</td>\n",
              "      <td>4.78</td>\n",
              "      <td>4.33</td>\n",
              "      <td>HUTG-022323</td>\n",
              "      <td>t</td>\n",
              "      <td>109.0</td>\n",
              "      <td>106.0</td>\n",
              "      <td>0.0</td>\n",
              "      <td>0.0</td>\n",
              "      <td>0.16</td>\n",
              "    </tr>\n",
              "    <tr>\n",
              "      <th>6459</th>\n",
              "      <td>6458</td>\n",
              "      <td>25905258</td>\n",
              "      <td>https://www.airbnb.com/rooms/25905258</td>\n",
              "      <td>20230300000000</td>\n",
              "      <td>2023-01-04 00:00:00</td>\n",
              "      <td>city scrape</td>\n",
              "      <td>Gerio-HabitaciÃƒÂ³n compartida Mixta</td>\n",
              "      <td>Es una tÃƒÂ­pica casa independiente en el trad...</td>\n",
              "      <td>0</td>\n",
              "      <td>https://a0.muscache.com/pictures/7793aa52-7fe6...</td>\n",
              "      <td>...</td>\n",
              "      <td>4.66</td>\n",
              "      <td>4.72</td>\n",
              "      <td>4.70</td>\n",
              "      <td>Exempt</td>\n",
              "      <td>t</td>\n",
              "      <td>4.0</td>\n",
              "      <td>0.0</td>\n",
              "      <td>1.0</td>\n",
              "      <td>0.0</td>\n",
              "      <td>2.10</td>\n",
              "    </tr>\n",
              "    <tr>\n",
              "      <th>6469</th>\n",
              "      <td>6468</td>\n",
              "      <td>25914412</td>\n",
              "      <td>https://www.airbnb.com/rooms/25914412</td>\n",
              "      <td>20230300000000</td>\n",
              "      <td>2023-01-04 00:00:00</td>\n",
              "      <td>city scrape</td>\n",
              "      <td>Tarla-HabitaciÃƒÂ³n compartida femenina</td>\n",
              "      <td>Es una tÃƒÂ­pica casa independiente en el trad...</td>\n",
              "      <td>0</td>\n",
              "      <td>https://a0.muscache.com/pictures/80c024dc-37d5...</td>\n",
              "      <td>...</td>\n",
              "      <td>4.78</td>\n",
              "      <td>4.84</td>\n",
              "      <td>4.74</td>\n",
              "      <td>Exempt</td>\n",
              "      <td>t</td>\n",
              "      <td>4.0</td>\n",
              "      <td>0.0</td>\n",
              "      <td>1.0</td>\n",
              "      <td>0.0</td>\n",
              "      <td>1.24</td>\n",
              "    </tr>\n",
              "    <tr>\n",
              "      <th>6471</th>\n",
              "      <td>6470</td>\n",
              "      <td>25914676</td>\n",
              "      <td>https://www.airbnb.com/rooms/25914676</td>\n",
              "      <td>20230300000000</td>\n",
              "      <td>2023-01-04 00:00:00</td>\n",
              "      <td>city scrape</td>\n",
              "      <td>Banyeta- HabitaciÃƒÂ³n compartida mixta</td>\n",
              "      <td>Es una tÃƒÂ­pica casa independiente en el trad...</td>\n",
              "      <td>0</td>\n",
              "      <td>https://a0.muscache.com/pictures/49493883-9e4d...</td>\n",
              "      <td>...</td>\n",
              "      <td>4.69</td>\n",
              "      <td>4.77</td>\n",
              "      <td>4.78</td>\n",
              "      <td>Exempt</td>\n",
              "      <td>t</td>\n",
              "      <td>4.0</td>\n",
              "      <td>0.0</td>\n",
              "      <td>1.0</td>\n",
              "      <td>0.0</td>\n",
              "      <td>1.99</td>\n",
              "    </tr>\n",
              "    <tr>\n",
              "      <th>7069</th>\n",
              "      <td>7068</td>\n",
              "      <td>28240905</td>\n",
              "      <td>https://www.airbnb.com/rooms/28240905</td>\n",
              "      <td>20230300000000</td>\n",
              "      <td>31/03/2023</td>\n",
              "      <td>city scrape</td>\n",
              "      <td>Suite en Mas Sant Marc Desayuno Incluido</td>\n",
              "      <td>Suite room with a refined style to enjoy a war...</td>\n",
              "      <td>This establishment with an outdoor swimming po...</td>\n",
              "      <td>https://a0.muscache.com/pictures/27dac930-c5fc...</td>\n",
              "      <td>...</td>\n",
              "      <td>5.00</td>\n",
              "      <td>5.00</td>\n",
              "      <td>4.67</td>\n",
              "      <td>PG-000045</td>\n",
              "      <td>t</td>\n",
              "      <td>10.0</td>\n",
              "      <td>2.0</td>\n",
              "      <td>0.0</td>\n",
              "      <td>0.0</td>\n",
              "      <td>0.12</td>\n",
              "    </tr>\n",
              "    <tr>\n",
              "      <th>7076</th>\n",
              "      <td>7075</td>\n",
              "      <td>28243117</td>\n",
              "      <td>https://www.airbnb.com/rooms/28243117</td>\n",
              "      <td>20230300000000</td>\n",
              "      <td>31/03/2023</td>\n",
              "      <td>city scrape</td>\n",
              "      <td>Suite Familiar en Mas Sant Marc Desayuno Incluido</td>\n",
              "      <td>Family Suite Room with a vintage chic style to...</td>\n",
              "      <td>This establishment with an outdoor swimming po...</td>\n",
              "      <td>https://a0.muscache.com/pictures/a90c6f6b-b523...</td>\n",
              "      <td>...</td>\n",
              "      <td>0.00</td>\n",
              "      <td>0.00</td>\n",
              "      <td>0.00</td>\n",
              "      <td>PG-000045</td>\n",
              "      <td>t</td>\n",
              "      <td>10.0</td>\n",
              "      <td>2.0</td>\n",
              "      <td>0.0</td>\n",
              "      <td>0.0</td>\n",
              "      <td>0.00</td>\n",
              "    </tr>\n",
              "    <tr>\n",
              "      <th>7081</th>\n",
              "      <td>7080</td>\n",
              "      <td>28243561</td>\n",
              "      <td>https://www.airbnb.com/rooms/28243561</td>\n",
              "      <td>20230300000000</td>\n",
              "      <td>31/03/2023</td>\n",
              "      <td>city scrape</td>\n",
              "      <td>Bungalow en Mas Sant Marc Breakfast included</td>\n",
              "      <td>Independent Double Room equipped with a full k...</td>\n",
              "      <td>This establishment with an outdoor swimming po...</td>\n",
              "      <td>https://a0.muscache.com/pictures/018694bd-f145...</td>\n",
              "      <td>...</td>\n",
              "      <td>0.00</td>\n",
              "      <td>0.00</td>\n",
              "      <td>0.00</td>\n",
              "      <td>PG-000045</td>\n",
              "      <td>t</td>\n",
              "      <td>10.0</td>\n",
              "      <td>2.0</td>\n",
              "      <td>0.0</td>\n",
              "      <td>0.0</td>\n",
              "      <td>0.00</td>\n",
              "    </tr>\n",
              "    <tr>\n",
              "      <th>7787</th>\n",
              "      <td>7786</td>\n",
              "      <td>32831240</td>\n",
              "      <td>https://www.airbnb.com/rooms/32831240</td>\n",
              "      <td>20230300000000</td>\n",
              "      <td>31/03/2023</td>\n",
              "      <td>city scrape</td>\n",
              "      <td>Doble en Mas Sant Marc Desayuno Incluido</td>\n",
              "      <td>Double room with private bathroom and breakfas...</td>\n",
              "      <td>This establishment with an outdoor swimming po...</td>\n",
              "      <td>https://a0.muscache.com/pictures/1c07613e-f0b5...</td>\n",
              "      <td>...</td>\n",
              "      <td>5.00</td>\n",
              "      <td>5.00</td>\n",
              "      <td>5.00</td>\n",
              "      <td>PG-000045</td>\n",
              "      <td>t</td>\n",
              "      <td>10.0</td>\n",
              "      <td>2.0</td>\n",
              "      <td>0.0</td>\n",
              "      <td>0.0</td>\n",
              "      <td>0.06</td>\n",
              "    </tr>\n",
              "    <tr>\n",
              "      <th>7796</th>\n",
              "      <td>7795</td>\n",
              "      <td>32836315</td>\n",
              "      <td>https://www.airbnb.com/rooms/32836315</td>\n",
              "      <td>20230300000000</td>\n",
              "      <td>2023-01-04 00:00:00</td>\n",
              "      <td>city scrape</td>\n",
              "      <td>Double room en Mas Sant Marc Accommodation Only</td>\n",
              "      <td>Double room with private bathroom. Decorated i...</td>\n",
              "      <td>This establishment with an outdoor swimming po...</td>\n",
              "      <td>https://a0.muscache.com/pictures/miso/Hosting-...</td>\n",
              "      <td>...</td>\n",
              "      <td>4.95</td>\n",
              "      <td>4.90</td>\n",
              "      <td>4.79</td>\n",
              "      <td>PG-000045</td>\n",
              "      <td>t</td>\n",
              "      <td>10.0</td>\n",
              "      <td>2.0</td>\n",
              "      <td>0.0</td>\n",
              "      <td>0.0</td>\n",
              "      <td>0.86</td>\n",
              "    </tr>\n",
              "    <tr>\n",
              "      <th>7811</th>\n",
              "      <td>7810</td>\n",
              "      <td>32851715</td>\n",
              "      <td>https://www.airbnb.com/rooms/32851715</td>\n",
              "      <td>20230300000000</td>\n",
              "      <td>2023-01-04 00:00:00</td>\n",
              "      <td>city scrape</td>\n",
              "      <td>Suite Familiar en Mas Sant Marc Solo Alojamiento</td>\n",
              "      <td>Family Suite Room with a vintage chic style to...</td>\n",
              "      <td>This establishment with an outdoor swimming po...</td>\n",
              "      <td>https://a0.muscache.com/pictures/6d401832-1384...</td>\n",
              "      <td>...</td>\n",
              "      <td>5.00</td>\n",
              "      <td>5.00</td>\n",
              "      <td>4.67</td>\n",
              "      <td>PG-000045</td>\n",
              "      <td>t</td>\n",
              "      <td>10.0</td>\n",
              "      <td>2.0</td>\n",
              "      <td>0.0</td>\n",
              "      <td>0.0</td>\n",
              "      <td>0.16</td>\n",
              "    </tr>\n",
              "    <tr>\n",
              "      <th>7812</th>\n",
              "      <td>7811</td>\n",
              "      <td>32851840</td>\n",
              "      <td>https://www.airbnb.com/rooms/32851840</td>\n",
              "      <td>20230300000000</td>\n",
              "      <td>31/03/2023</td>\n",
              "      <td>city scrape</td>\n",
              "      <td>Bungalow en Mas Sant Marc Solo Alojamiento</td>\n",
              "      <td>Independent Double Room equipped with a full k...</td>\n",
              "      <td>This establishment with an outdoor swimming po...</td>\n",
              "      <td>https://a0.muscache.com/pictures/da3de89f-b859...</td>\n",
              "      <td>...</td>\n",
              "      <td>5.00</td>\n",
              "      <td>5.00</td>\n",
              "      <td>5.00</td>\n",
              "      <td>PG-000045</td>\n",
              "      <td>t</td>\n",
              "      <td>10.0</td>\n",
              "      <td>2.0</td>\n",
              "      <td>0.0</td>\n",
              "      <td>0.0</td>\n",
              "      <td>0.10</td>\n",
              "    </tr>\n",
              "    <tr>\n",
              "      <th>7813</th>\n",
              "      <td>7812</td>\n",
              "      <td>32852434</td>\n",
              "      <td>https://www.airbnb.com/rooms/32852434</td>\n",
              "      <td>20230300000000</td>\n",
              "      <td>31/03/2023</td>\n",
              "      <td>city scrape</td>\n",
              "      <td>Suite Mas Sant Marc accommodation only</td>\n",
              "      <td>Suite room with a refined style to enjoy a war...</td>\n",
              "      <td>0</td>\n",
              "      <td>https://a0.muscache.com/pictures/69b32047-7b41...</td>\n",
              "      <td>...</td>\n",
              "      <td>4.75</td>\n",
              "      <td>4.75</td>\n",
              "      <td>4.00</td>\n",
              "      <td>PG-000045</td>\n",
              "      <td>t</td>\n",
              "      <td>10.0</td>\n",
              "      <td>2.0</td>\n",
              "      <td>0.0</td>\n",
              "      <td>0.0</td>\n",
              "      <td>0.40</td>\n",
              "    </tr>\n",
              "    <tr>\n",
              "      <th>7835</th>\n",
              "      <td>7834</td>\n",
              "      <td>32996499</td>\n",
              "      <td>https://www.airbnb.com/rooms/32996499</td>\n",
              "      <td>20230300000000</td>\n",
              "      <td>2023-01-04 00:00:00</td>\n",
              "      <td>city scrape</td>\n",
              "      <td>PORT 27 (Atico Sea view apartment )</td>\n",
              "      <td>Apartments PORT 27 are located in the center o...</td>\n",
              "      <td>The town of Empuriabrava is unique by its loca...</td>\n",
              "      <td>https://a0.muscache.com/pictures/b82e36c8-8ac5...</td>\n",
              "      <td>...</td>\n",
              "      <td>4.75</td>\n",
              "      <td>4.89</td>\n",
              "      <td>4.59</td>\n",
              "      <td>HUTG-018814</td>\n",
              "      <td>t</td>\n",
              "      <td>11.0</td>\n",
              "      <td>10.0</td>\n",
              "      <td>0.0</td>\n",
              "      <td>0.0</td>\n",
              "      <td>1.30</td>\n",
              "    </tr>\n",
              "    <tr>\n",
              "      <th>8509</th>\n",
              "      <td>8508</td>\n",
              "      <td>34880404</td>\n",
              "      <td>https://www.airbnb.com/rooms/34880404</td>\n",
              "      <td>20230300000000</td>\n",
              "      <td>2023-01-04 00:00:00</td>\n",
              "      <td>city scrape</td>\n",
              "      <td>Hotel Gran Ultonia, double or twin room</td>\n",
              "      <td>&lt;b&gt;License number&lt;/b&gt;&lt;br /&gt;HG-002402</td>\n",
              "      <td>0</td>\n",
              "      <td>https://a0.muscache.com/pictures/prohost-api/H...</td>\n",
              "      <td>...</td>\n",
              "      <td>5.00</td>\n",
              "      <td>5.00</td>\n",
              "      <td>4.67</td>\n",
              "      <td>HG-002402</td>\n",
              "      <td>t</td>\n",
              "      <td>4.0</td>\n",
              "      <td>0.0</td>\n",
              "      <td>3.0</td>\n",
              "      <td>0.0</td>\n",
              "      <td>0.51</td>\n",
              "    </tr>\n",
              "    <tr>\n",
              "      <th>8930</th>\n",
              "      <td>8929</td>\n",
              "      <td>35862684</td>\n",
              "      <td>https://www.airbnb.com/rooms/35862684</td>\n",
              "      <td>20230300000000</td>\n",
              "      <td>2023-01-04 00:00:00</td>\n",
              "      <td>city scrape</td>\n",
              "      <td>B&amp;B Double room w/ Bathroom 5' beach and castle</td>\n",
              "      <td>Double room with private bathroom ,in charming...</td>\n",
              "      <td>0</td>\n",
              "      <td>https://a0.muscache.com/pictures/94ff615f-f29d...</td>\n",
              "      <td>...</td>\n",
              "      <td>4.88</td>\n",
              "      <td>4.88</td>\n",
              "      <td>4.36</td>\n",
              "      <td>Exempt</td>\n",
              "      <td>t</td>\n",
              "      <td>4.0</td>\n",
              "      <td>2.0</td>\n",
              "      <td>0.0</td>\n",
              "      <td>0.0</td>\n",
              "      <td>0.73</td>\n",
              "    </tr>\n",
              "    <tr>\n",
              "      <th>8937</th>\n",
              "      <td>8936</td>\n",
              "      <td>36564539</td>\n",
              "      <td>https://www.airbnb.com/rooms/36564539</td>\n",
              "      <td>20230300000000</td>\n",
              "      <td>31/03/2023</td>\n",
              "      <td>city scrape</td>\n",
              "      <td>Salles Aeroport Girona, Double Room</td>\n",
              "      <td>Your room charge will be paid prior to your ar...</td>\n",
              "      <td>0</td>\n",
              "      <td>https://a0.muscache.com/pictures/prohost-api/H...</td>\n",
              "      <td>...</td>\n",
              "      <td>4.28</td>\n",
              "      <td>4.49</td>\n",
              "      <td>4.54</td>\n",
              "      <td>HG-001231</td>\n",
              "      <td>t</td>\n",
              "      <td>3.0</td>\n",
              "      <td>0.0</td>\n",
              "      <td>1.0</td>\n",
              "      <td>0.0</td>\n",
              "      <td>0.93</td>\n",
              "    </tr>\n",
              "    <tr>\n",
              "      <th>8938</th>\n",
              "      <td>8937</td>\n",
              "      <td>36564985</td>\n",
              "      <td>https://www.airbnb.com/rooms/36564985</td>\n",
              "      <td>20230300000000</td>\n",
              "      <td>31/03/2023</td>\n",
              "      <td>city scrape</td>\n",
              "      <td>Salles Aeroport Girona, Triple Room</td>\n",
              "      <td>Your room charge will be paid prior to your ar...</td>\n",
              "      <td>0</td>\n",
              "      <td>https://a0.muscache.com/pictures/prohost-api/H...</td>\n",
              "      <td>...</td>\n",
              "      <td>4.53</td>\n",
              "      <td>4.33</td>\n",
              "      <td>4.47</td>\n",
              "      <td>HG-001231</td>\n",
              "      <td>t</td>\n",
              "      <td>3.0</td>\n",
              "      <td>0.0</td>\n",
              "      <td>1.0</td>\n",
              "      <td>0.0</td>\n",
              "      <td>1.38</td>\n",
              "    </tr>\n",
              "    <tr>\n",
              "      <th>9026</th>\n",
              "      <td>9025</td>\n",
              "      <td>35978463</td>\n",
              "      <td>https://www.airbnb.com/rooms/35978463</td>\n",
              "      <td>20230300000000</td>\n",
              "      <td>2023-01-04 00:00:00</td>\n",
              "      <td>city scrape</td>\n",
              "      <td>B&amp;B Twin room, private bathroom, 5' beach</td>\n",
              "      <td>Twin room with 2 beds,private bathroom ,breakf...</td>\n",
              "      <td>0</td>\n",
              "      <td>https://a0.muscache.com/pictures/61406366-e07c...</td>\n",
              "      <td>...</td>\n",
              "      <td>4.65</td>\n",
              "      <td>4.90</td>\n",
              "      <td>4.70</td>\n",
              "      <td>Exempt</td>\n",
              "      <td>t</td>\n",
              "      <td>4.0</td>\n",
              "      <td>2.0</td>\n",
              "      <td>0.0</td>\n",
              "      <td>0.0</td>\n",
              "      <td>0.44</td>\n",
              "    </tr>\n",
              "    <tr>\n",
              "      <th>9356</th>\n",
              "      <td>9355</td>\n",
              "      <td>38683961</td>\n",
              "      <td>https://www.airbnb.com/rooms/38683961</td>\n",
              "      <td>20230300000000</td>\n",
              "      <td>31/03/2023</td>\n",
              "      <td>city scrape</td>\n",
              "      <td>Suite Familiar en Cal Marrufes</td>\n",
              "      <td>Suite con 1 ÃƒÂ³ 2 camas, decoraciÃƒÂ³n rÃƒÂºs...</td>\n",
              "      <td>0</td>\n",
              "      <td>https://a0.muscache.com/pictures/c4339ddc-ccdd...</td>\n",
              "      <td>...</td>\n",
              "      <td>0.00</td>\n",
              "      <td>0.00</td>\n",
              "      <td>0.00</td>\n",
              "      <td>PG-000129</td>\n",
              "      <td>t</td>\n",
              "      <td>19.0</td>\n",
              "      <td>5.0</td>\n",
              "      <td>4.0</td>\n",
              "      <td>0.0</td>\n",
              "      <td>0.00</td>\n",
              "    </tr>\n",
              "    <tr>\n",
              "      <th>9384</th>\n",
              "      <td>9383</td>\n",
              "      <td>38172155</td>\n",
              "      <td>https://www.airbnb.com/rooms/38172155</td>\n",
              "      <td>20230300000000</td>\n",
              "      <td>2023-01-04 00:00:00</td>\n",
              "      <td>city scrape</td>\n",
              "      <td>Hostal MediterrÃƒÂ¡neo - HabitaciÃƒÂ³n Doble E...</td>\n",
              "      <td>HabitaciÃƒÂ³n Doble EstÃƒÂ¡ndar (cama de matri...</td>\n",
              "      <td>Cerca del hostal podemos encontrar la \"Platja ...</td>\n",
              "      <td>https://a0.muscache.com/pictures/miso/Hosting-...</td>\n",
              "      <td>...</td>\n",
              "      <td>4.95</td>\n",
              "      <td>4.98</td>\n",
              "      <td>4.66</td>\n",
              "      <td>HG-000986</td>\n",
              "      <td>t</td>\n",
              "      <td>5.0</td>\n",
              "      <td>0.0</td>\n",
              "      <td>2.0</td>\n",
              "      <td>0.0</td>\n",
              "      <td>0.96</td>\n",
              "    </tr>\n",
              "    <tr>\n",
              "      <th>9392</th>\n",
              "      <td>9391</td>\n",
              "      <td>38209218</td>\n",
              "      <td>https://www.airbnb.com/rooms/38209218</td>\n",
              "      <td>20230300000000</td>\n",
              "      <td>2023-01-04 00:00:00</td>\n",
              "      <td>city scrape</td>\n",
              "      <td>Hostal MediterrÃƒÂ¡neo - HabitaciÃƒÂ³n Doble c...</td>\n",
              "      <td>HabitaciÃƒÂ³n Doble Superior con balcÃƒÂ³n (ca...</td>\n",
              "      <td>Cerca del hostal podemos encontrar la \"Platja ...</td>\n",
              "      <td>https://a0.muscache.com/pictures/81ad9be0-c192...</td>\n",
              "      <td>...</td>\n",
              "      <td>4.65</td>\n",
              "      <td>4.90</td>\n",
              "      <td>4.60</td>\n",
              "      <td>HG-000986</td>\n",
              "      <td>t</td>\n",
              "      <td>5.0</td>\n",
              "      <td>0.0</td>\n",
              "      <td>2.0</td>\n",
              "      <td>0.0</td>\n",
              "      <td>1.21</td>\n",
              "    </tr>\n",
              "    <tr>\n",
              "      <th>9395</th>\n",
              "      <td>9394</td>\n",
              "      <td>38683588</td>\n",
              "      <td>https://www.airbnb.com/rooms/38683588</td>\n",
              "      <td>20230300000000</td>\n",
              "      <td>31/03/2023</td>\n",
              "      <td>city scrape</td>\n",
              "      <td>Hab. doble- Cal Marrufes</td>\n",
              "      <td>HabitaciÃƒÂ³n doble con 1 ÃƒÂ³ 2 camas, decora...</td>\n",
              "      <td>0</td>\n",
              "      <td>https://a0.muscache.com/pictures/05a070ab-57d6...</td>\n",
              "      <td>...</td>\n",
              "      <td>0.00</td>\n",
              "      <td>0.00</td>\n",
              "      <td>0.00</td>\n",
              "      <td>PG-000129</td>\n",
              "      <td>t</td>\n",
              "      <td>19.0</td>\n",
              "      <td>5.0</td>\n",
              "      <td>4.0</td>\n",
              "      <td>0.0</td>\n",
              "      <td>0.00</td>\n",
              "    </tr>\n",
              "    <tr>\n",
              "      <th>9396</th>\n",
              "      <td>9395</td>\n",
              "      <td>38683616</td>\n",
              "      <td>https://www.airbnb.com/rooms/38683616</td>\n",
              "      <td>20230300000000</td>\n",
              "      <td>31/03/2023</td>\n",
              "      <td>city scrape</td>\n",
              "      <td>Hab. Doble- Cal Marrufes</td>\n",
              "      <td>HabitaciÃƒÂ³n doble con 1 ÃƒÂ³ 2 camas, decora...</td>\n",
              "      <td>0</td>\n",
              "      <td>https://a0.muscache.com/pictures/34818c15-9e9c...</td>\n",
              "      <td>...</td>\n",
              "      <td>0.00</td>\n",
              "      <td>0.00</td>\n",
              "      <td>0.00</td>\n",
              "      <td>PG-000129</td>\n",
              "      <td>t</td>\n",
              "      <td>19.0</td>\n",
              "      <td>5.0</td>\n",
              "      <td>4.0</td>\n",
              "      <td>0.0</td>\n",
              "      <td>0.00</td>\n",
              "    </tr>\n",
              "    <tr>\n",
              "      <th>9397</th>\n",
              "      <td>9396</td>\n",
              "      <td>38209706</td>\n",
              "      <td>https://www.airbnb.com/rooms/38209706</td>\n",
              "      <td>20230300000000</td>\n",
              "      <td>2023-01-04 00:00:00</td>\n",
              "      <td>city scrape</td>\n",
              "      <td>Hostal MediterrÃƒÂ¡neo - HabitaciÃƒÂ³n Triple</td>\n",
              "      <td>HabitaciÃƒÂ³n triple (dispone de tres camas) c...</td>\n",
              "      <td>Cerca del hostal podemos encontrar la \"Platja ...</td>\n",
              "      <td>https://a0.muscache.com/pictures/miso/Hosting-...</td>\n",
              "      <td>...</td>\n",
              "      <td>5.00</td>\n",
              "      <td>5.00</td>\n",
              "      <td>4.67</td>\n",
              "      <td>HG-000986</td>\n",
              "      <td>t</td>\n",
              "      <td>5.0</td>\n",
              "      <td>0.0</td>\n",
              "      <td>2.0</td>\n",
              "      <td>0.0</td>\n",
              "      <td>0.19</td>\n",
              "    </tr>\n",
              "    <tr>\n",
              "      <th>9398</th>\n",
              "      <td>9397</td>\n",
              "      <td>38683622</td>\n",
              "      <td>https://www.airbnb.com/rooms/38683622</td>\n",
              "      <td>20230300000000</td>\n",
              "      <td>31/03/2023</td>\n",
              "      <td>city scrape</td>\n",
              "      <td>Hab. Doble en Cal Marrufes</td>\n",
              "      <td>HabitaciÃƒÂ³n doble con 1 ÃƒÂ³ 2 camas, decora...</td>\n",
              "      <td>0</td>\n",
              "      <td>https://a0.muscache.com/pictures/b7c36ab1-5fe6...</td>\n",
              "      <td>...</td>\n",
              "      <td>0.00</td>\n",
              "      <td>0.00</td>\n",
              "      <td>0.00</td>\n",
              "      <td>PG-000129</td>\n",
              "      <td>t</td>\n",
              "      <td>19.0</td>\n",
              "      <td>5.0</td>\n",
              "      <td>4.0</td>\n",
              "      <td>0.0</td>\n",
              "      <td>0.00</td>\n",
              "    </tr>\n",
              "    <tr>\n",
              "      <th>9399</th>\n",
              "      <td>9398</td>\n",
              "      <td>38683630</td>\n",
              "      <td>https://www.airbnb.com/rooms/38683630</td>\n",
              "      <td>20230300000000</td>\n",
              "      <td>31/03/2023</td>\n",
              "      <td>city scrape</td>\n",
              "      <td>Hab. doble 1 o 2 camas en Cal Marrufes</td>\n",
              "      <td>HabitaciÃƒÂ³n doble con 1 ÃƒÂ³ 2 camas, decora...</td>\n",
              "      <td>0</td>\n",
              "      <td>https://a0.muscache.com/pictures/f00dae35-9a24...</td>\n",
              "      <td>...</td>\n",
              "      <td>0.00</td>\n",
              "      <td>0.00</td>\n",
              "      <td>0.00</td>\n",
              "      <td>PG-000129</td>\n",
              "      <td>t</td>\n",
              "      <td>19.0</td>\n",
              "      <td>5.0</td>\n",
              "      <td>4.0</td>\n",
              "      <td>0.0</td>\n",
              "      <td>0.00</td>\n",
              "    </tr>\n",
              "    <tr>\n",
              "      <th>9400</th>\n",
              "      <td>9399</td>\n",
              "      <td>38683635</td>\n",
              "      <td>https://www.airbnb.com/rooms/38683635</td>\n",
              "      <td>20230300000000</td>\n",
              "      <td>2023-01-04 00:00:00</td>\n",
              "      <td>city scrape</td>\n",
              "      <td>HabitaciÃƒÂ³n Doble en Cal Marrufes</td>\n",
              "      <td>HabitaciÃƒÂ³n doble con 1 ÃƒÂ³ 2 camas, decora...</td>\n",
              "      <td>0</td>\n",
              "      <td>https://a0.muscache.com/pictures/8299dcfd-9a84...</td>\n",
              "      <td>...</td>\n",
              "      <td>0.00</td>\n",
              "      <td>0.00</td>\n",
              "      <td>0.00</td>\n",
              "      <td>PG-000129</td>\n",
              "      <td>t</td>\n",
              "      <td>19.0</td>\n",
              "      <td>5.0</td>\n",
              "      <td>4.0</td>\n",
              "      <td>0.0</td>\n",
              "      <td>0.00</td>\n",
              "    </tr>\n",
              "    <tr>\n",
              "      <th>9405</th>\n",
              "      <td>9404</td>\n",
              "      <td>38683649</td>\n",
              "      <td>https://www.airbnb.com/rooms/38683649</td>\n",
              "      <td>20230300000000</td>\n",
              "      <td>31/03/2023</td>\n",
              "      <td>city scrape</td>\n",
              "      <td>Hab Doble en Cal Marrufes</td>\n",
              "      <td>HabitaciÃƒÂ³n doble con 1 ÃƒÂ³ 2 camas, decora...</td>\n",
              "      <td>0</td>\n",
              "      <td>https://a0.muscache.com/pictures/37eab78a-726b...</td>\n",
              "      <td>...</td>\n",
              "      <td>0.00</td>\n",
              "      <td>0.00</td>\n",
              "      <td>0.00</td>\n",
              "      <td>PG-000129</td>\n",
              "      <td>t</td>\n",
              "      <td>19.0</td>\n",
              "      <td>5.0</td>\n",
              "      <td>4.0</td>\n",
              "      <td>0.0</td>\n",
              "      <td>0.00</td>\n",
              "    </tr>\n",
              "    <tr>\n",
              "      <th>9406</th>\n",
              "      <td>9405</td>\n",
              "      <td>38683893</td>\n",
              "      <td>https://www.airbnb.com/rooms/38683893</td>\n",
              "      <td>20230300000000</td>\n",
              "      <td>31/03/2023</td>\n",
              "      <td>city scrape</td>\n",
              "      <td>Hab. triple en Cal Marrufes</td>\n",
              "      <td>HabitaciÃƒÂ³n triple con 3 camas, decoraciÃƒÂ³...</td>\n",
              "      <td>0</td>\n",
              "      <td>https://a0.muscache.com/pictures/b078c0c3-8e9a...</td>\n",
              "      <td>...</td>\n",
              "      <td>0.00</td>\n",
              "      <td>0.00</td>\n",
              "      <td>0.00</td>\n",
              "      <td>PG-000129</td>\n",
              "      <td>t</td>\n",
              "      <td>19.0</td>\n",
              "      <td>5.0</td>\n",
              "      <td>4.0</td>\n",
              "      <td>0.0</td>\n",
              "      <td>0.00</td>\n",
              "    </tr>\n",
              "    <tr>\n",
              "      <th>9407</th>\n",
              "      <td>9406</td>\n",
              "      <td>38683905</td>\n",
              "      <td>https://www.airbnb.com/rooms/38683905</td>\n",
              "      <td>20230300000000</td>\n",
              "      <td>2023-01-04 00:00:00</td>\n",
              "      <td>city scrape</td>\n",
              "      <td>Hab. Triple en Cal Marrufes</td>\n",
              "      <td>HabitaciÃƒÂ³n triple con 3 camas, decoraciÃƒÂ³...</td>\n",
              "      <td>0</td>\n",
              "      <td>https://a0.muscache.com/pictures/18e59e1f-3efe...</td>\n",
              "      <td>...</td>\n",
              "      <td>0.00</td>\n",
              "      <td>0.00</td>\n",
              "      <td>0.00</td>\n",
              "      <td>PG-000129</td>\n",
              "      <td>t</td>\n",
              "      <td>19.0</td>\n",
              "      <td>5.0</td>\n",
              "      <td>4.0</td>\n",
              "      <td>0.0</td>\n",
              "      <td>0.00</td>\n",
              "    </tr>\n",
              "    <tr>\n",
              "      <th>9408</th>\n",
              "      <td>9407</td>\n",
              "      <td>38683955</td>\n",
              "      <td>https://www.airbnb.com/rooms/38683955</td>\n",
              "      <td>20230300000000</td>\n",
              "      <td>2023-01-04 00:00:00</td>\n",
              "      <td>city scrape</td>\n",
              "      <td>Suite en Cal Marrufez</td>\n",
              "      <td>Suite con 1 ÃƒÂ³ 2 camas, decoraciÃƒÂ³n rÃƒÂºs...</td>\n",
              "      <td>0</td>\n",
              "      <td>https://a0.muscache.com/pictures/081f3ab0-9cd2...</td>\n",
              "      <td>...</td>\n",
              "      <td>0.00</td>\n",
              "      <td>0.00</td>\n",
              "      <td>0.00</td>\n",
              "      <td>PG-000129</td>\n",
              "      <td>t</td>\n",
              "      <td>19.0</td>\n",
              "      <td>5.0</td>\n",
              "      <td>4.0</td>\n",
              "      <td>0.0</td>\n",
              "      <td>0.00</td>\n",
              "    </tr>\n",
              "    <tr>\n",
              "      <th>11432</th>\n",
              "      <td>11431</td>\n",
              "      <td>47015570</td>\n",
              "      <td>https://www.airbnb.com/rooms/47015570</td>\n",
              "      <td>20230300000000</td>\n",
              "      <td>2023-01-04 00:00:00</td>\n",
              "      <td>previous scrape</td>\n",
              "      <td>Hotel Mas del Sol</td>\n",
              "      <td>0</td>\n",
              "      <td>0</td>\n",
              "      <td>https://a0.muscache.com/pictures/miso/Hosting-...</td>\n",
              "      <td>...</td>\n",
              "      <td>4.75</td>\n",
              "      <td>4.50</td>\n",
              "      <td>4.50</td>\n",
              "      <td>0</td>\n",
              "      <td>f</td>\n",
              "      <td>1.0</td>\n",
              "      <td>0.0</td>\n",
              "      <td>0.0</td>\n",
              "      <td>0.0</td>\n",
              "      <td>0.20</td>\n",
              "    </tr>\n",
              "  </tbody>\n",
              "</table>\n",
              "<p>50 rows × 73 columns</p>\n",
              "</div>\n",
              "      <button class=\"colab-df-convert\" onclick=\"convertToInteractive('df-7fb93b4b-6d80-489b-9d86-e56a7780d8e1')\"\n",
              "              title=\"Convert this dataframe to an interactive table.\"\n",
              "              style=\"display:none;\">\n",
              "        \n",
              "  <svg xmlns=\"http://www.w3.org/2000/svg\" height=\"24px\"viewBox=\"0 0 24 24\"\n",
              "       width=\"24px\">\n",
              "    <path d=\"M0 0h24v24H0V0z\" fill=\"none\"/>\n",
              "    <path d=\"M18.56 5.44l.94 2.06.94-2.06 2.06-.94-2.06-.94-.94-2.06-.94 2.06-2.06.94zm-11 1L8.5 8.5l.94-2.06 2.06-.94-2.06-.94L8.5 2.5l-.94 2.06-2.06.94zm10 10l.94 2.06.94-2.06 2.06-.94-2.06-.94-.94-2.06-.94 2.06-2.06.94z\"/><path d=\"M17.41 7.96l-1.37-1.37c-.4-.4-.92-.59-1.43-.59-.52 0-1.04.2-1.43.59L10.3 9.45l-7.72 7.72c-.78.78-.78 2.05 0 2.83L4 21.41c.39.39.9.59 1.41.59.51 0 1.02-.2 1.41-.59l7.78-7.78 2.81-2.81c.8-.78.8-2.07 0-2.86zM5.41 20L4 18.59l7.72-7.72 1.47 1.35L5.41 20z\"/>\n",
              "  </svg>\n",
              "      </button>\n",
              "      \n",
              "  <style>\n",
              "    .colab-df-container {\n",
              "      display:flex;\n",
              "      flex-wrap:wrap;\n",
              "      gap: 12px;\n",
              "    }\n",
              "\n",
              "    .colab-df-convert {\n",
              "      background-color: #E8F0FE;\n",
              "      border: none;\n",
              "      border-radius: 50%;\n",
              "      cursor: pointer;\n",
              "      display: none;\n",
              "      fill: #1967D2;\n",
              "      height: 32px;\n",
              "      padding: 0 0 0 0;\n",
              "      width: 32px;\n",
              "    }\n",
              "\n",
              "    .colab-df-convert:hover {\n",
              "      background-color: #E2EBFA;\n",
              "      box-shadow: 0px 1px 2px rgba(60, 64, 67, 0.3), 0px 1px 3px 1px rgba(60, 64, 67, 0.15);\n",
              "      fill: #174EA6;\n",
              "    }\n",
              "\n",
              "    [theme=dark] .colab-df-convert {\n",
              "      background-color: #3B4455;\n",
              "      fill: #D2E3FC;\n",
              "    }\n",
              "\n",
              "    [theme=dark] .colab-df-convert:hover {\n",
              "      background-color: #434B5C;\n",
              "      box-shadow: 0px 1px 3px 1px rgba(0, 0, 0, 0.15);\n",
              "      filter: drop-shadow(0px 1px 2px rgba(0, 0, 0, 0.3));\n",
              "      fill: #FFFFFF;\n",
              "    }\n",
              "  </style>\n",
              "\n",
              "      <script>\n",
              "        const buttonEl =\n",
              "          document.querySelector('#df-7fb93b4b-6d80-489b-9d86-e56a7780d8e1 button.colab-df-convert');\n",
              "        buttonEl.style.display =\n",
              "          google.colab.kernel.accessAllowed ? 'block' : 'none';\n",
              "\n",
              "        async function convertToInteractive(key) {\n",
              "          const element = document.querySelector('#df-7fb93b4b-6d80-489b-9d86-e56a7780d8e1');\n",
              "          const dataTable =\n",
              "            await google.colab.kernel.invokeFunction('convertToInteractive',\n",
              "                                                     [key], {});\n",
              "          if (!dataTable) return;\n",
              "\n",
              "          const docLinkHtml = 'Like what you see? Visit the ' +\n",
              "            '<a target=\"_blank\" href=https://colab.research.google.com/notebooks/data_table.ipynb>data table notebook</a>'\n",
              "            + ' to learn more about interactive tables.';\n",
              "          element.innerHTML = '';\n",
              "          dataTable['output_type'] = 'display_data';\n",
              "          await google.colab.output.renderOutput(dataTable, element);\n",
              "          const docLink = document.createElement('div');\n",
              "          docLink.innerHTML = docLinkHtml;\n",
              "          element.appendChild(docLink);\n",
              "        }\n",
              "      </script>\n",
              "    </div>\n",
              "  </div>\n",
              "  "
            ]
          },
          "metadata": {},
          "execution_count": 20
        }
      ]
    },
    {
      "cell_type": "code",
      "source": [
        "#Imprimimos el scatter plot entre la variable dependiente (host_acceptance_rate) e independiente (host_response_rate) \n",
        "#para observar el comportamiento en su dispersión \n",
        "from turtle import color\n",
        "\n",
        "\n",
        "sns.scatterplot(x='host_response_rate', y='host_acceptance_rate', color=\"blue\", data=filtro1)\n",
        "#sns.scatterplot(X='speeding', y='total', color=\"red\", data=df)"
      ],
      "metadata": {
        "id": "KddGiGsrFDda",
        "colab": {
          "base_uri": "https://localhost:8080/",
          "height": 467
        },
        "outputId": "877dd69c-8ccf-472c-cffe-2147e719cf1b"
      },
      "execution_count": null,
      "outputs": [
        {
          "output_type": "execute_result",
          "data": {
            "text/plain": [
              "<Axes: xlabel='host_response_rate', ylabel='host_acceptance_rate'>"
            ]
          },
          "metadata": {},
          "execution_count": 21
        },
        {
          "output_type": "display_data",
          "data": {
            "text/plain": [
              "<Figure size 640x480 with 1 Axes>"
            ],
            "image/png": "[encoded data removed]"
          },
          "metadata": {}
        }
      ]
    },
    {
      "cell_type": "code",
      "source": [
        "#Declaramos las variables dependientes e independientes para la regresión lineal\n",
        "Vars_Indep= filtro1[['host_response_rate']]\n",
        "Var_Dep= filtro1['host_acceptance_rate']"
      ],
      "metadata": {
        "id": "CQ6pK0K7Fxhz"
      },
      "execution_count": null,
      "outputs": []
    },
    {
      "cell_type": "code",
      "source": [
        "#Se define model como la función de regresión lineal\n",
        "from sklearn.linear_model import LinearRegression\n",
        "model= LinearRegression()"
      ],
      "metadata": {
        "id": "LcrEBgC7F0NG"
      },
      "execution_count": null,
      "outputs": []
    },
    {
      "cell_type": "code",
      "source": [
        "#Verificamos la función relacionada al modelo\n",
        "type(model)"
      ],
      "metadata": {
        "colab": {
          "base_uri": "https://localhost:8080/"
        },
        "id": "OnjcGhIRG87V",
        "outputId": "1db52396-4811-497a-ec87-bfaa8a4a45cc"
      },
      "execution_count": null,
      "outputs": [
        {
          "output_type": "execute_result",
          "data": {
            "text/plain": [
              "sklearn.linear_model._base.LinearRegression"
            ]
          },
          "metadata": {},
          "execution_count": 24
        }
      ]
    },
    {
      "cell_type": "code",
      "source": [
        "#Ajustamos el modelo con las variables antes declaradas\n",
        "model.fit(X=Vars_Indep, y=Var_Dep)"
      ],
      "metadata": {
        "id": "AbpkGkvOG--A",
        "colab": {
          "base_uri": "https://localhost:8080/",
          "height": 74
        },
        "outputId": "08141ce7-9e4c-49de-fbd0-98debcf782fb"
      },
      "execution_count": null,
      "outputs": [
        {
          "output_type": "execute_result",
          "data": {
            "text/plain": [
              "LinearRegression()"
            ],
            "text/html": [
              "<style>#sk-container-id-1 {color: black;background-color: white;}#sk-container-id-1 pre{padding: 0;}#sk-container-id-1 div.sk-toggleable {background-color: white;}#sk-container-id-1 label.sk-toggleable__label {cursor: pointer;display: block;width: 100%;margin-bottom: 0;padding: 0.3em;box-sizing: border-box;text-align: center;}#sk-container-id-1 label.sk-toggleable__label-arrow:before {content: \"▸\";float: left;margin-right: 0.25em;color: #696969;}#sk-container-id-1 label.sk-toggleable__label-arrow:hover:before {color: black;}#sk-container-id-1 div.sk-estimator:hover label.sk-toggleable__label-arrow:before {color: black;}#sk-container-id-1 div.sk-toggleable__content {max-height: 0;max-width: 0;overflow: hidden;text-align: left;background-color: #f0f8ff;}#sk-container-id-1 div.sk-toggleable__content pre {margin: 0.2em;color: black;border-radius: 0.25em;background-color: #f0f8ff;}#sk-container-id-1 input.sk-toggleable__control:checked~div.sk-toggleable__content {max-height: 200px;max-width: 100%;overflow: auto;}#sk-container-id-1 input.sk-toggleable__control:checked~label.sk-toggleable__label-arrow:before {content: \"▾\";}#sk-container-id-1 div.sk-estimator input.sk-toggleable__control:checked~label.sk-toggleable__label {background-color: #d4ebff;}#sk-container-id-1 div.sk-label input.sk-toggleable__control:checked~label.sk-toggleable__label {background-color: #d4ebff;}#sk-container-id-1 input.sk-hidden--visually {border: 0;clip: rect(1px 1px 1px 1px);clip: rect(1px, 1px, 1px, 1px);height: 1px;margin: -1px;overflow: hidden;padding: 0;position: absolute;width: 1px;}#sk-container-id-1 div.sk-estimator {font-family: monospace;background-color: #f0f8ff;border: 1px dotted black;border-radius: 0.25em;box-sizing: border-box;margin-bottom: 0.5em;}#sk-container-id-1 div.sk-estimator:hover {background-color: #d4ebff;}#sk-container-id-1 div.sk-parallel-item::after {content: \"\";width: 100%;border-bottom: 1px solid gray;flex-grow: 1;}#sk-container-id-1 div.sk-label:hover label.sk-toggleable__label {background-color: #d4ebff;}#sk-container-id-1 div.sk-serial::before {content: \"\";position: absolute;border-left: 1px solid gray;box-sizing: border-box;top: 0;bottom: 0;left: 50%;z-index: 0;}#sk-container-id-1 div.sk-serial {display: flex;flex-direction: column;align-items: center;background-color: white;padding-right: 0.2em;padding-left: 0.2em;position: relative;}#sk-container-id-1 div.sk-item {position: relative;z-index: 1;}#sk-container-id-1 div.sk-parallel {display: flex;align-items: stretch;justify-content: center;background-color: white;position: relative;}#sk-container-id-1 div.sk-item::before, #sk-container-id-1 div.sk-parallel-item::before {content: \"\";position: absolute;border-left: 1px solid gray;box-sizing: border-box;top: 0;bottom: 0;left: 50%;z-index: -1;}#sk-container-id-1 div.sk-parallel-item {display: flex;flex-direction: column;z-index: 1;position: relative;background-color: white;}#sk-container-id-1 div.sk-parallel-item:first-child::after {align-self: flex-end;width: 50%;}#sk-container-id-1 div.sk-parallel-item:last-child::after {align-self: flex-start;width: 50%;}#sk-container-id-1 div.sk-parallel-item:only-child::after {width: 0;}#sk-container-id-1 div.sk-dashed-wrapped {border: 1px dashed gray;margin: 0 0.4em 0.5em 0.4em;box-sizing: border-box;padding-bottom: 0.4em;background-color: white;}#sk-container-id-1 div.sk-label label {font-family: monospace;font-weight: bold;display: inline-block;line-height: 1.2em;}#sk-container-id-1 div.sk-label-container {text-align: center;}#sk-container-id-1 div.sk-container {/* jupyter's `normalize.less` sets `[hidden] { display: none; }` but bootstrap.min.css set `[hidden] { display: none !important; }` so we also need the `!important` here to be able to override the default hidden behavior on the sphinx rendered scikit-learn.org. See: https://github.com/scikit-learn/scikit-learn/issues/21755 */display: inline-block !important;position: relative;}#sk-container-id-1 div.sk-text-repr-fallback {display: none;}</style><div id=\"sk-container-id-1\" class=\"sk-top-container\"><div class=\"sk-text-repr-fallback\"><pre>LinearRegression()</pre><b>In a Jupyter environment, please rerun this cell to show the HTML representation or trust the notebook. <br />On GitHub, the HTML representation is unable to render, please try loading this page with nbviewer.org.</b></div><div class=\"sk-container\" hidden><div class=\"sk-item\"><div class=\"sk-estimator sk-toggleable\"><input class=\"sk-toggleable__control sk-hidden--visually\" id=\"sk-estimator-id-1\" type=\"checkbox\" checked><label for=\"sk-estimator-id-1\" class=\"sk-toggleable__label sk-toggleable__label-arrow\">LinearRegression</label><div class=\"sk-toggleable__content\"><pre>LinearRegression()</pre></div></div></div></div></div>"
            ]
          },
          "metadata": {},
          "execution_count": 25
        }
      ]
    },
    {
      "cell_type": "code",
      "source": [
        "#Verificamos los coeficientes obtenidos para el modelo ajustado\n",
        "model.__dict__"
      ],
      "metadata": {
        "colab": {
          "base_uri": "https://localhost:8080/"
        },
        "id": "IlFIDaxlHFqa",
        "outputId": "efe5584a-2944-40ed-f83d-15025f14ecdc"
      },
      "execution_count": null,
      "outputs": [
        {
          "output_type": "execute_result",
          "data": {
            "text/plain": [
              "{'fit_intercept': True,\n",
              " 'copy_X': True,\n",
              " 'n_jobs': None,\n",
              " 'positive': False,\n",
              " 'feature_names_in_': array(['host_response_rate'], dtype=object),\n",
              " 'n_features_in_': 1,\n",
              " 'coef_': array([0.99791475]),\n",
              " 'rank_': 1,\n",
              " 'singular_': array([2.77588941]),\n",
              " 'intercept_': 0.005231914297750051}"
            ]
          },
          "metadata": {},
          "execution_count": 26
        }
      ]
    },
    {
      "cell_type": "markdown",
      "source": [
        "**Modelo matemático: y= 0.99791475x + 0.005231914297750051**\n",
        "\n",
        "---\n",
        "\n",
        "\n"
      ],
      "metadata": {
        "id": "b1Z-ob3UKjTF"
      }
    },
    {
      "cell_type": "code",
      "source": [
        "#Evaluamos la eficiencia del modelo obtenido por medio del coeficiente R Determinación\n",
        "model.score(Vars_Indep,Var_Dep)"
      ],
      "metadata": {
        "colab": {
          "base_uri": "https://localhost:8080/"
        },
        "id": "4I8OaBFUHLmc",
        "outputId": "47b5020b-0c9d-409c-be20-bf3accd7800f"
      },
      "execution_count": null,
      "outputs": [
        {
          "output_type": "execute_result",
          "data": {
            "text/plain": [
              "0.9899733312470317"
            ]
          },
          "metadata": {},
          "execution_count": 27
        }
      ]
    },
    {
      "cell_type": "code",
      "source": [
        "#Predecimos los valores de total de accidentes a partir de la variable \"host_response_rate\"\n",
        "y_pred= model.predict(X=filtro1[['host_response_rate']])\n",
        "y_pred"
      ],
      "metadata": {
        "id": "v3NBdGwnIR06",
        "colab": {
          "base_uri": "https://localhost:8080/"
        },
        "outputId": "bb168481-e300-49d4-c5a3-0aa072ab7351"
      },
      "execution_count": null,
      "outputs": [
        {
          "output_type": "execute_result",
          "data": {
            "text/plain": [
              "array([0.91333434, 1.00314667, 0.91333434, 0.91333434, 0.91333434,\n",
              "       0.91333434, 1.00314667, 0.91333434, 0.91333434, 0.91333434,\n",
              "       0.98318837, 1.00314667, 1.00314667, 1.00314667, 1.00314667,\n",
              "       1.00314667, 0.98318837, 1.00314667, 0.98318837, 0.97320922,\n",
              "       0.97320922, 0.97320922, 1.00314667, 1.00314667, 1.00314667,\n",
              "       1.00314667, 1.00314667, 1.00314667, 1.00314667, 1.00314667,\n",
              "       1.00314667, 1.00314667, 1.00314667, 1.00314667, 1.00314667,\n",
              "       1.00314667, 0.00523191, 1.00314667, 1.00314667, 0.00523191,\n",
              "       0.00523191, 1.00314667, 0.00523191, 0.00523191, 0.00523191,\n",
              "       0.00523191, 0.00523191, 0.00523191, 0.00523191, 1.00314667])"
            ]
          },
          "metadata": {},
          "execution_count": 28
        }
      ]
    },
    {
      "cell_type": "code",
      "source": [
        "#Corroboramos cual es el coeficiente de Determinación de nuestro modelo\n",
        "coef_Deter=model.score(X=Vars_Indep, y=Var_Dep)\n",
        "coef_Deter"
      ],
      "metadata": {
        "id": "Fhv3CfiOIjoC",
        "colab": {
          "base_uri": "https://localhost:8080/"
        },
        "outputId": "3acfd9a2-adb3-4ece-da21-d0c682d44188"
      },
      "execution_count": null,
      "outputs": [
        {
          "output_type": "execute_result",
          "data": {
            "text/plain": [
              "0.9899733312470317"
            ]
          },
          "metadata": {},
          "execution_count": 29
        }
      ]
    },
    {
      "cell_type": "code",
      "source": [
        "#Corroboramos cual es el coeficiente de Correlación de nuestro modelo\n",
        "coef_Correl=np.sqrt(coef_Deter)\n",
        "coef_Correl"
      ],
      "metadata": {
        "id": "menvAyZZIl0D",
        "colab": {
          "base_uri": "https://localhost:8080/"
        },
        "outputId": "5317a268-bace-4077-bc75-e2197ac16f53"
      },
      "execution_count": null,
      "outputs": [
        {
          "output_type": "execute_result",
          "data": {
            "text/plain": [
              "0.9949740354637561"
            ]
          },
          "metadata": {},
          "execution_count": 30
        }
      ]
    },
    {
      "cell_type": "markdown",
      "source": [
        "Entire home/apt"
      ],
      "metadata": {
        "id": "RaNGiFm8_aKW"
      }
    },
    {
      "cell_type": "code",
      "source": [
        "filtro2=df[df[\"room_type\"] == \"Entire home/apt\"]\n",
        "filtro2"
      ],
      "metadata": {
        "id": "U3tl2cE6_eXH",
        "colab": {
          "base_uri": "https://localhost:8080/",
          "height": 973
        },
        "outputId": "de5a13ec-9155-4ec7-feca-00ffb36db8e1"
      },
      "execution_count": null,
      "outputs": [
        {
          "output_type": "execute_result",
          "data": {
            "text/plain": [
              "      Unnamed: 0                  id  \\\n",
              "2              2             1212820   \n",
              "4              4               41342   \n",
              "5              5              751997   \n",
              "6              6              752035   \n",
              "7              7             1215790   \n",
              "...          ...                 ...   \n",
              "19651      19650  858387000000000000   \n",
              "19652      19651  858396000000000000   \n",
              "19653      19652  858411000000000000   \n",
              "19654      19653  858418000000000000   \n",
              "19655      19654  858424000000000000   \n",
              "\n",
              "                                           listing_url       scrape_id  \\\n",
              "2                 https://www.airbnb.com/rooms/1212820  20230300000000   \n",
              "4                   https://www.airbnb.com/rooms/41342  20230300000000   \n",
              "5                  https://www.airbnb.com/rooms/751997  20230300000000   \n",
              "6                  https://www.airbnb.com/rooms/752035  20230300000000   \n",
              "7                 https://www.airbnb.com/rooms/1215790  20230300000000   \n",
              "...                                                ...             ...   \n",
              "19651  https://www.airbnb.com/rooms/858386613168601750  20230300000000   \n",
              "19652  https://www.airbnb.com/rooms/858396134121337855  20230300000000   \n",
              "19653  https://www.airbnb.com/rooms/858410917126332945  20230300000000   \n",
              "19654  https://www.airbnb.com/rooms/858418062773719271  20230300000000   \n",
              "19655  https://www.airbnb.com/rooms/858424461046143986  20230300000000   \n",
              "\n",
              "              last_scraped           source  \\\n",
              "2      2023-01-04 00:00:00      city scrape   \n",
              "4      2023-01-04 00:00:00  previous scrape   \n",
              "5      2023-01-04 00:00:00      city scrape   \n",
              "6               31/03/2023      city scrape   \n",
              "7      2023-01-04 00:00:00      city scrape   \n",
              "...                    ...              ...   \n",
              "19651  2023-01-04 00:00:00      city scrape   \n",
              "19652  2023-01-04 00:00:00      city scrape   \n",
              "19653  2023-01-04 00:00:00      city scrape   \n",
              "19654  2023-01-04 00:00:00      city scrape   \n",
              "19655  2023-01-04 00:00:00      city scrape   \n",
              "\n",
              "                                         name  \\\n",
              "2         Apartment port de rei stunning wiew   \n",
              "4           Beachfront Tamariua (Costa Brava)   \n",
              "5       CAN FELIP - ÃƒÂtico loft del s.XVIII   \n",
              "6           CAN TARONGETA - Soleado Apto. 1-1   \n",
              "7           100m FROM THE BEACH, with TERRACE   \n",
              "...                                       ...   \n",
              "19651    Casa La Chumbera, Begur, Costa Brava   \n",
              "19652                       Playa a 2 minutos   \n",
              "19653                 Apartamento cÃƒÂ©ntrico   \n",
              "19654  Apto a 5 min de la playa, Platja d'Aro   \n",
              "19655               Apartamento frontal a mar   \n",
              "\n",
              "                                             description  \\\n",
              "2      <b>The space</b><br />Apartments first line un...   \n",
              "4      A little paradise by the sea. Apartment 2/4 ad...   \n",
              "5      MagnÃƒÂ­fica casa de pueblo del siglo XVIII, u...   \n",
              "6      MagnÃƒÂ­fico Apartamento de 62mÃ‚Â² con 2 dorm...   \n",
              "7      Big apartment with terrace (7 people), next to...   \n",
              "...                                                  ...   \n",
              "19651  Individual house located at the urbanization '...   \n",
              "19652  MagnÃƒÂ­fico piso para pasar vacaciones,dispon...   \n",
              "19653  EstÃƒÂ¡ compuesto de dos habitaciones, una de ...   \n",
              "19654  Cozy apartment for 4 people. Perfect to spend ...   \n",
              "19655  EstÃƒÂ¡ compuesto de tres habitaciones, dos ha...   \n",
              "\n",
              "                                   neighborhood_overview  \\\n",
              "2                                                      0   \n",
              "4      Apartment located outside the town on a small ...   \n",
              "5      Palafrugell se remonta al siglo X. El nÃƒÂºcle...   \n",
              "6      Palafrugell se remonta al siglo X. El nÃƒÂºcle...   \n",
              "7                                                      0   \n",
              "...                                                  ...   \n",
              "19651                                                  0   \n",
              "19652                                                  0   \n",
              "19653                                                  0   \n",
              "19654                                                  0   \n",
              "19655                                                  0   \n",
              "\n",
              "                                             picture_url  ...  \\\n",
              "2      https://a0.muscache.com/pictures/18245529/0886...  ...   \n",
              "4      https://a0.muscache.com/pictures/70414801/59d4...  ...   \n",
              "5      https://a0.muscache.com/pictures/f50b37b3-1c4d...  ...   \n",
              "6      https://a0.muscache.com/pictures/303024e1-2deb...  ...   \n",
              "7      https://a0.muscache.com/pictures/ea54a005-62f2...  ...   \n",
              "...                                                  ...  ...   \n",
              "19651  https://a0.muscache.com/pictures/prohost-api/H...  ...   \n",
              "19652  https://a0.muscache.com/pictures/6351279f-294b...  ...   \n",
              "19653  https://a0.muscache.com/pictures/miso/Hosting-...  ...   \n",
              "19654  https://a0.muscache.com/pictures/prohost-api/H...  ...   \n",
              "19655  https://a0.muscache.com/pictures/miso/Hosting-...  ...   \n",
              "\n",
              "      review_scores_communication review_scores_location review_scores_value  \\\n",
              "2                            4.76                   4.74                4.32   \n",
              "4                            4.73                   4.91                4.36   \n",
              "5                            4.45                   4.79                4.59   \n",
              "6                            4.50                   4.50                4.36   \n",
              "7                            5.00                   4.56                4.11   \n",
              "...                           ...                    ...                 ...   \n",
              "19651                        0.00                   0.00                0.00   \n",
              "19652                        0.00                   0.00                0.00   \n",
              "19653                        0.00                   0.00                0.00   \n",
              "19654                        0.00                   0.00                0.00   \n",
              "19655                        0.00                   0.00                0.00   \n",
              "\n",
              "           license instant_bookable calculated_host_listings_count  \\\n",
              "2                0                f                            2.0   \n",
              "4      HUTG-003688                f                            1.0   \n",
              "5      HUTG-016218                t                           12.0   \n",
              "6      HUTG-008974                f                           12.0   \n",
              "7      HUTG-017955                f                            1.0   \n",
              "...            ...              ...                            ...   \n",
              "19651  HUTG-001292                t                           34.0   \n",
              "19652   HUTG019727                t                            1.0   \n",
              "19653  HUTG-057830                f                            9.0   \n",
              "19654  HUTG-065236                t                           54.0   \n",
              "19655  HUTG-051787                f                            9.0   \n",
              "\n",
              "      calculated_host_listings_count_entire_homes  \\\n",
              "2                                             2.0   \n",
              "4                                             1.0   \n",
              "5                                            12.0   \n",
              "6                                            12.0   \n",
              "7                                             1.0   \n",
              "...                                           ...   \n",
              "19651                                        34.0   \n",
              "19652                                         1.0   \n",
              "19653                                         9.0   \n",
              "19654                                        54.0   \n",
              "19655                                         9.0   \n",
              "\n",
              "      calculated_host_listings_count_private_rooms  \\\n",
              "2                                              0.0   \n",
              "4                                              0.0   \n",
              "5                                              0.0   \n",
              "6                                              0.0   \n",
              "7                                              0.0   \n",
              "...                                            ...   \n",
              "19651                                          0.0   \n",
              "19652                                          0.0   \n",
              "19653                                          0.0   \n",
              "19654                                          0.0   \n",
              "19655                                          0.0   \n",
              "\n",
              "      calculated_host_listings_count_shared_rooms reviews_per_month  \n",
              "2                                             0.0              0.62  \n",
              "4                                             0.0              0.09  \n",
              "5                                             0.0              0.34  \n",
              "6                                             0.0              0.13  \n",
              "7                                             0.0              0.08  \n",
              "...                                           ...               ...  \n",
              "19651                                         0.0              0.00  \n",
              "19652                                         0.0              0.00  \n",
              "19653                                         0.0              0.00  \n",
              "19654                                         0.0              0.00  \n",
              "19655                                         0.0              0.00  \n",
              "\n",
              "[18346 rows x 73 columns]"
            ],
            "text/html": [
              "\n",
              "  <div id=\"df-45bdc58e-d15a-4603-b76c-2bcf54c46417\">\n",
              "    <div class=\"colab-df-container\">\n",
              "      <div>\n",
              "<style scoped>\n",
              "    .dataframe tbody tr th:only-of-type {\n",
              "        vertical-align: middle;\n",
              "    }\n",
              "\n",
              "    .dataframe tbody tr th {\n",
              "        vertical-align: top;\n",
              "    }\n",
              "\n",
              "    .dataframe thead th {\n",
              "        text-align: right;\n",
              "    }\n",
              "</style>\n",
              "<table border=\"1\" class=\"dataframe\">\n",
              "  <thead>\n",
              "    <tr style=\"text-align: right;\">\n",
              "      <th></th>\n",
              "      <th>Unnamed: 0</th>\n",
              "      <th>id</th>\n",
              "      <th>listing_url</th>\n",
              "      <th>scrape_id</th>\n",
              "      <th>last_scraped</th>\n",
              "      <th>source</th>\n",
              "      <th>name</th>\n",
              "      <th>description</th>\n",
              "      <th>neighborhood_overview</th>\n",
              "      <th>picture_url</th>\n",
              "      <th>...</th>\n",
              "      <th>review_scores_communication</th>\n",
              "      <th>review_scores_location</th>\n",
              "      <th>review_scores_value</th>\n",
              "      <th>license</th>\n",
              "      <th>instant_bookable</th>\n",
              "      <th>calculated_host_listings_count</th>\n",
              "      <th>calculated_host_listings_count_entire_homes</th>\n",
              "      <th>calculated_host_listings_count_private_rooms</th>\n",
              "      <th>calculated_host_listings_count_shared_rooms</th>\n",
              "      <th>reviews_per_month</th>\n",
              "    </tr>\n",
              "  </thead>\n",
              "  <tbody>\n",
              "    <tr>\n",
              "      <th>2</th>\n",
              "      <td>2</td>\n",
              "      <td>1212820</td>\n",
              "      <td>https://www.airbnb.com/rooms/1212820</td>\n",
              "      <td>20230300000000</td>\n",
              "      <td>2023-01-04 00:00:00</td>\n",
              "      <td>city scrape</td>\n",
              "      <td>Apartment port de rei stunning wiew</td>\n",
              "      <td>&lt;b&gt;The space&lt;/b&gt;&lt;br /&gt;Apartments first line un...</td>\n",
              "      <td>0</td>\n",
              "      <td>https://a0.muscache.com/pictures/18245529/0886...</td>\n",
              "      <td>...</td>\n",
              "      <td>4.76</td>\n",
              "      <td>4.74</td>\n",
              "      <td>4.32</td>\n",
              "      <td>0</td>\n",
              "      <td>f</td>\n",
              "      <td>2.0</td>\n",
              "      <td>2.0</td>\n",
              "      <td>0.0</td>\n",
              "      <td>0.0</td>\n",
              "      <td>0.62</td>\n",
              "    </tr>\n",
              "    <tr>\n",
              "      <th>4</th>\n",
              "      <td>4</td>\n",
              "      <td>41342</td>\n",
              "      <td>https://www.airbnb.com/rooms/41342</td>\n",
              "      <td>20230300000000</td>\n",
              "      <td>2023-01-04 00:00:00</td>\n",
              "      <td>previous scrape</td>\n",
              "      <td>Beachfront Tamariua (Costa Brava)</td>\n",
              "      <td>A little paradise by the sea. Apartment 2/4 ad...</td>\n",
              "      <td>Apartment located outside the town on a small ...</td>\n",
              "      <td>https://a0.muscache.com/pictures/70414801/59d4...</td>\n",
              "      <td>...</td>\n",
              "      <td>4.73</td>\n",
              "      <td>4.91</td>\n",
              "      <td>4.36</td>\n",
              "      <td>HUTG-003688</td>\n",
              "      <td>f</td>\n",
              "      <td>1.0</td>\n",
              "      <td>1.0</td>\n",
              "      <td>0.0</td>\n",
              "      <td>0.0</td>\n",
              "      <td>0.09</td>\n",
              "    </tr>\n",
              "    <tr>\n",
              "      <th>5</th>\n",
              "      <td>5</td>\n",
              "      <td>751997</td>\n",
              "      <td>https://www.airbnb.com/rooms/751997</td>\n",
              "      <td>20230300000000</td>\n",
              "      <td>2023-01-04 00:00:00</td>\n",
              "      <td>city scrape</td>\n",
              "      <td>CAN FELIP - ÃƒÂtico loft del s.XVIII</td>\n",
              "      <td>MagnÃƒÂ­fica casa de pueblo del siglo XVIII, u...</td>\n",
              "      <td>Palafrugell se remonta al siglo X. El nÃƒÂºcle...</td>\n",
              "      <td>https://a0.muscache.com/pictures/f50b37b3-1c4d...</td>\n",
              "      <td>...</td>\n",
              "      <td>4.45</td>\n",
              "      <td>4.79</td>\n",
              "      <td>4.59</td>\n",
              "      <td>HUTG-016218</td>\n",
              "      <td>t</td>\n",
              "      <td>12.0</td>\n",
              "      <td>12.0</td>\n",
              "      <td>0.0</td>\n",
              "      <td>0.0</td>\n",
              "      <td>0.34</td>\n",
              "    </tr>\n",
              "    <tr>\n",
              "      <th>6</th>\n",
              "      <td>6</td>\n",
              "      <td>752035</td>\n",
              "      <td>https://www.airbnb.com/rooms/752035</td>\n",
              "      <td>20230300000000</td>\n",
              "      <td>31/03/2023</td>\n",
              "      <td>city scrape</td>\n",
              "      <td>CAN TARONGETA - Soleado Apto. 1-1</td>\n",
              "      <td>MagnÃƒÂ­fico Apartamento de 62mÃ‚Â² con 2 dorm...</td>\n",
              "      <td>Palafrugell se remonta al siglo X. El nÃƒÂºcle...</td>\n",
              "      <td>https://a0.muscache.com/pictures/303024e1-2deb...</td>\n",
              "      <td>...</td>\n",
              "      <td>4.50</td>\n",
              "      <td>4.50</td>\n",
              "      <td>4.36</td>\n",
              "      <td>HUTG-008974</td>\n",
              "      <td>f</td>\n",
              "      <td>12.0</td>\n",
              "      <td>12.0</td>\n",
              "      <td>0.0</td>\n",
              "      <td>0.0</td>\n",
              "      <td>0.13</td>\n",
              "    </tr>\n",
              "    <tr>\n",
              "      <th>7</th>\n",
              "      <td>7</td>\n",
              "      <td>1215790</td>\n",
              "      <td>https://www.airbnb.com/rooms/1215790</td>\n",
              "      <td>20230300000000</td>\n",
              "      <td>2023-01-04 00:00:00</td>\n",
              "      <td>city scrape</td>\n",
              "      <td>100m FROM THE BEACH, with TERRACE</td>\n",
              "      <td>Big apartment with terrace (7 people), next to...</td>\n",
              "      <td>0</td>\n",
              "      <td>https://a0.muscache.com/pictures/ea54a005-62f2...</td>\n",
              "      <td>...</td>\n",
              "      <td>5.00</td>\n",
              "      <td>4.56</td>\n",
              "      <td>4.11</td>\n",
              "      <td>HUTG-017955</td>\n",
              "      <td>f</td>\n",
              "      <td>1.0</td>\n",
              "      <td>1.0</td>\n",
              "      <td>0.0</td>\n",
              "      <td>0.0</td>\n",
              "      <td>0.08</td>\n",
              "    </tr>\n",
              "    <tr>\n",
              "      <th>...</th>\n",
              "      <td>...</td>\n",
              "      <td>...</td>\n",
              "      <td>...</td>\n",
              "      <td>...</td>\n",
              "      <td>...</td>\n",
              "      <td>...</td>\n",
              "      <td>...</td>\n",
              "      <td>...</td>\n",
              "      <td>...</td>\n",
              "      <td>...</td>\n",
              "      <td>...</td>\n",
              "      <td>...</td>\n",
              "      <td>...</td>\n",
              "      <td>...</td>\n",
              "      <td>...</td>\n",
              "      <td>...</td>\n",
              "      <td>...</td>\n",
              "      <td>...</td>\n",
              "      <td>...</td>\n",
              "      <td>...</td>\n",
              "      <td>...</td>\n",
              "    </tr>\n",
              "    <tr>\n",
              "      <th>19651</th>\n",
              "      <td>19650</td>\n",
              "      <td>858387000000000000</td>\n",
              "      <td>https://www.airbnb.com/rooms/858386613168601750</td>\n",
              "      <td>20230300000000</td>\n",
              "      <td>2023-01-04 00:00:00</td>\n",
              "      <td>city scrape</td>\n",
              "      <td>Casa La Chumbera, Begur, Costa Brava</td>\n",
              "      <td>Individual house located at the urbanization '...</td>\n",
              "      <td>0</td>\n",
              "      <td>https://a0.muscache.com/pictures/prohost-api/H...</td>\n",
              "      <td>...</td>\n",
              "      <td>0.00</td>\n",
              "      <td>0.00</td>\n",
              "      <td>0.00</td>\n",
              "      <td>HUTG-001292</td>\n",
              "      <td>t</td>\n",
              "      <td>34.0</td>\n",
              "      <td>34.0</td>\n",
              "      <td>0.0</td>\n",
              "      <td>0.0</td>\n",
              "      <td>0.00</td>\n",
              "    </tr>\n",
              "    <tr>\n",
              "      <th>19652</th>\n",
              "      <td>19651</td>\n",
              "      <td>858396000000000000</td>\n",
              "      <td>https://www.airbnb.com/rooms/858396134121337855</td>\n",
              "      <td>20230300000000</td>\n",
              "      <td>2023-01-04 00:00:00</td>\n",
              "      <td>city scrape</td>\n",
              "      <td>Playa a 2 minutos</td>\n",
              "      <td>MagnÃƒÂ­fico piso para pasar vacaciones,dispon...</td>\n",
              "      <td>0</td>\n",
              "      <td>https://a0.muscache.com/pictures/6351279f-294b...</td>\n",
              "      <td>...</td>\n",
              "      <td>0.00</td>\n",
              "      <td>0.00</td>\n",
              "      <td>0.00</td>\n",
              "      <td>HUTG019727</td>\n",
              "      <td>t</td>\n",
              "      <td>1.0</td>\n",
              "      <td>1.0</td>\n",
              "      <td>0.0</td>\n",
              "      <td>0.0</td>\n",
              "      <td>0.00</td>\n",
              "    </tr>\n",
              "    <tr>\n",
              "      <th>19653</th>\n",
              "      <td>19652</td>\n",
              "      <td>858411000000000000</td>\n",
              "      <td>https://www.airbnb.com/rooms/858410917126332945</td>\n",
              "      <td>20230300000000</td>\n",
              "      <td>2023-01-04 00:00:00</td>\n",
              "      <td>city scrape</td>\n",
              "      <td>Apartamento cÃƒÂ©ntrico</td>\n",
              "      <td>EstÃƒÂ¡ compuesto de dos habitaciones, una de ...</td>\n",
              "      <td>0</td>\n",
              "      <td>https://a0.muscache.com/pictures/miso/Hosting-...</td>\n",
              "      <td>...</td>\n",
              "      <td>0.00</td>\n",
              "      <td>0.00</td>\n",
              "      <td>0.00</td>\n",
              "      <td>HUTG-057830</td>\n",
              "      <td>f</td>\n",
              "      <td>9.0</td>\n",
              "      <td>9.0</td>\n",
              "      <td>0.0</td>\n",
              "      <td>0.0</td>\n",
              "      <td>0.00</td>\n",
              "    </tr>\n",
              "    <tr>\n",
              "      <th>19654</th>\n",
              "      <td>19653</td>\n",
              "      <td>858418000000000000</td>\n",
              "      <td>https://www.airbnb.com/rooms/858418062773719271</td>\n",
              "      <td>20230300000000</td>\n",
              "      <td>2023-01-04 00:00:00</td>\n",
              "      <td>city scrape</td>\n",
              "      <td>Apto a 5 min de la playa, Platja d'Aro</td>\n",
              "      <td>Cozy apartment for 4 people. Perfect to spend ...</td>\n",
              "      <td>0</td>\n",
              "      <td>https://a0.muscache.com/pictures/prohost-api/H...</td>\n",
              "      <td>...</td>\n",
              "      <td>0.00</td>\n",
              "      <td>0.00</td>\n",
              "      <td>0.00</td>\n",
              "      <td>HUTG-065236</td>\n",
              "      <td>t</td>\n",
              "      <td>54.0</td>\n",
              "      <td>54.0</td>\n",
              "      <td>0.0</td>\n",
              "      <td>0.0</td>\n",
              "      <td>0.00</td>\n",
              "    </tr>\n",
              "    <tr>\n",
              "      <th>19655</th>\n",
              "      <td>19654</td>\n",
              "      <td>858424000000000000</td>\n",
              "      <td>https://www.airbnb.com/rooms/858424461046143986</td>\n",
              "      <td>20230300000000</td>\n",
              "      <td>2023-01-04 00:00:00</td>\n",
              "      <td>city scrape</td>\n",
              "      <td>Apartamento frontal a mar</td>\n",
              "      <td>EstÃƒÂ¡ compuesto de tres habitaciones, dos ha...</td>\n",
              "      <td>0</td>\n",
              "      <td>https://a0.muscache.com/pictures/miso/Hosting-...</td>\n",
              "      <td>...</td>\n",
              "      <td>0.00</td>\n",
              "      <td>0.00</td>\n",
              "      <td>0.00</td>\n",
              "      <td>HUTG-051787</td>\n",
              "      <td>f</td>\n",
              "      <td>9.0</td>\n",
              "      <td>9.0</td>\n",
              "      <td>0.0</td>\n",
              "      <td>0.0</td>\n",
              "      <td>0.00</td>\n",
              "    </tr>\n",
              "  </tbody>\n",
              "</table>\n",
              "<p>18346 rows × 73 columns</p>\n",
              "</div>\n",
              "      <button class=\"colab-df-convert\" onclick=\"convertToInteractive('df-45bdc58e-d15a-4603-b76c-2bcf54c46417')\"\n",
              "              title=\"Convert this dataframe to an interactive table.\"\n",
              "              style=\"display:none;\">\n",
              "        \n",
              "  <svg xmlns=\"http://www.w3.org/2000/svg\" height=\"24px\"viewBox=\"0 0 24 24\"\n",
              "       width=\"24px\">\n",
              "    <path d=\"M0 0h24v24H0V0z\" fill=\"none\"/>\n",
              "    <path d=\"M18.56 5.44l.94 2.06.94-2.06 2.06-.94-2.06-.94-.94-2.06-.94 2.06-2.06.94zm-11 1L8.5 8.5l.94-2.06 2.06-.94-2.06-.94L8.5 2.5l-.94 2.06-2.06.94zm10 10l.94 2.06.94-2.06 2.06-.94-2.06-.94-.94-2.06-.94 2.06-2.06.94z\"/><path d=\"M17.41 7.96l-1.37-1.37c-.4-.4-.92-.59-1.43-.59-.52 0-1.04.2-1.43.59L10.3 9.45l-7.72 7.72c-.78.78-.78 2.05 0 2.83L4 21.41c.39.39.9.59 1.41.59.51 0 1.02-.2 1.41-.59l7.78-7.78 2.81-2.81c.8-.78.8-2.07 0-2.86zM5.41 20L4 18.59l7.72-7.72 1.47 1.35L5.41 20z\"/>\n",
              "  </svg>\n",
              "      </button>\n",
              "      \n",
              "  <style>\n",
              "    .colab-df-container {\n",
              "      display:flex;\n",
              "      flex-wrap:wrap;\n",
              "      gap: 12px;\n",
              "    }\n",
              "\n",
              "    .colab-df-convert {\n",
              "      background-color: #E8F0FE;\n",
              "      border: none;\n",
              "      border-radius: 50%;\n",
              "      cursor: pointer;\n",
              "      display: none;\n",
              "      fill: #1967D2;\n",
              "      height: 32px;\n",
              "      padding: 0 0 0 0;\n",
              "      width: 32px;\n",
              "    }\n",
              "\n",
              "    .colab-df-convert:hover {\n",
              "      background-color: #E2EBFA;\n",
              "      box-shadow: 0px 1px 2px rgba(60, 64, 67, 0.3), 0px 1px 3px 1px rgba(60, 64, 67, 0.15);\n",
              "      fill: #174EA6;\n",
              "    }\n",
              "\n",
              "    [theme=dark] .colab-df-convert {\n",
              "      background-color: #3B4455;\n",
              "      fill: #D2E3FC;\n",
              "    }\n",
              "\n",
              "    [theme=dark] .colab-df-convert:hover {\n",
              "      background-color: #434B5C;\n",
              "      box-shadow: 0px 1px 3px 1px rgba(0, 0, 0, 0.15);\n",
              "      filter: drop-shadow(0px 1px 2px rgba(0, 0, 0, 0.3));\n",
              "      fill: #FFFFFF;\n",
              "    }\n",
              "  </style>\n",
              "\n",
              "      <script>\n",
              "        const buttonEl =\n",
              "          document.querySelector('#df-45bdc58e-d15a-4603-b76c-2bcf54c46417 button.colab-df-convert');\n",
              "        buttonEl.style.display =\n",
              "          google.colab.kernel.accessAllowed ? 'block' : 'none';\n",
              "\n",
              "        async function convertToInteractive(key) {\n",
              "          const element = document.querySelector('#df-45bdc58e-d15a-4603-b76c-2bcf54c46417');\n",
              "          const dataTable =\n",
              "            await google.colab.kernel.invokeFunction('convertToInteractive',\n",
              "                                                     [key], {});\n",
              "          if (!dataTable) return;\n",
              "\n",
              "          const docLinkHtml = 'Like what you see? Visit the ' +\n",
              "            '<a target=\"_blank\" href=https://colab.research.google.com/notebooks/data_table.ipynb>data table notebook</a>'\n",
              "            + ' to learn more about interactive tables.';\n",
              "          element.innerHTML = '';\n",
              "          dataTable['output_type'] = 'display_data';\n",
              "          await google.colab.output.renderOutput(dataTable, element);\n",
              "          const docLink = document.createElement('div');\n",
              "          docLink.innerHTML = docLinkHtml;\n",
              "          element.appendChild(docLink);\n",
              "        }\n",
              "      </script>\n",
              "    </div>\n",
              "  </div>\n",
              "  "
            ]
          },
          "metadata": {},
          "execution_count": 31
        }
      ]
    },
    {
      "cell_type": "code",
      "source": [
        "#Imprimimos el scatter plot entre la variable dependiente (host_acceptance_rate) e independiente (host_response_rate) \n",
        "#para observar el comportamiento en su dispersión \n",
        "from turtle import color\n",
        "\n",
        "\n",
        "sns.scatterplot(x='host_response_rate', y='host_acceptance_rate', color=\"blue\", data=filtro2)\n",
        "#sns.scatterplot(X='speeding', y='total', color=\"red\", data=df)"
      ],
      "metadata": {
        "colab": {
          "base_uri": "https://localhost:8080/",
          "height": 467
        },
        "id": "STtl3w4EA7OE",
        "outputId": "1306217e-6257-4564-df2c-e39d00048c54"
      },
      "execution_count": null,
      "outputs": [
        {
          "output_type": "execute_result",
          "data": {
            "text/plain": [
              "<Axes: xlabel='host_response_rate', ylabel='host_acceptance_rate'>"
            ]
          },
          "metadata": {},
          "execution_count": 32
        },
        {
          "output_type": "display_data",
          "data": {
            "text/plain": [
              "<Figure size 640x480 with 1 Axes>"
            ],
            "image/png": "[encoded data removed]"
          },
          "metadata": {}
        }
      ]
    },
    {
      "cell_type": "code",
      "source": [
        "#Declaramos las variables dependientes e independientes para la regresión lineal\n",
        "Vars_Indep= filtro2[['host_response_rate']]\n",
        "Var_Dep= filtro2['host_acceptance_rate']"
      ],
      "metadata": {
        "id": "exIAMf4iA-ef"
      },
      "execution_count": null,
      "outputs": []
    },
    {
      "cell_type": "code",
      "source": [
        "#Se define model como la función de regresión lineal\n",
        "from sklearn.linear_model import LinearRegression\n",
        "model= LinearRegression()"
      ],
      "metadata": {
        "id": "fSvb4nzQA-al"
      },
      "execution_count": null,
      "outputs": []
    },
    {
      "cell_type": "code",
      "source": [
        "#Verificamos la función relacionada al modelo\n",
        "type(model)"
      ],
      "metadata": {
        "colab": {
          "base_uri": "https://localhost:8080/"
        },
        "id": "v004jsj6A-XP",
        "outputId": "1aaeaad1-9e2e-4025-f06f-5dd3f5a94f2c"
      },
      "execution_count": null,
      "outputs": [
        {
          "output_type": "execute_result",
          "data": {
            "text/plain": [
              "sklearn.linear_model._base.LinearRegression"
            ]
          },
          "metadata": {},
          "execution_count": 35
        }
      ]
    },
    {
      "cell_type": "code",
      "source": [
        "#Verificamos los coeficientes obtenidos para el modelo ajustado\n",
        "model.__dict__"
      ],
      "metadata": {
        "colab": {
          "base_uri": "https://localhost:8080/"
        },
        "id": "6gpRVw4_A-SU",
        "outputId": "9edaf56a-73ea-40bd-8d0f-690641f2a437"
      },
      "execution_count": null,
      "outputs": [
        {
          "output_type": "execute_result",
          "data": {
            "text/plain": [
              "{'fit_intercept': True, 'copy_X': True, 'n_jobs': None, 'positive': False}"
            ]
          },
          "metadata": {},
          "execution_count": 36
        }
      ]
    },
    {
      "cell_type": "markdown",
      "source": [
        "**Modelo matemático: y= 0.62852689x + 0.3277244893054201**"
      ],
      "metadata": {
        "id": "s4FhODgfBLkD"
      }
    },
    {
      "cell_type": "code",
      "source": [
        "#Ajustamos el modelo con las variables antes declaradas\n",
        "model.fit(X=Vars_Indep, y=Var_Dep)"
      ],
      "metadata": {
        "colab": {
          "base_uri": "https://localhost:8080/",
          "height": 74
        },
        "id": "jlLGn0r-DJoP",
        "outputId": "2ee3086d-ede9-4433-e813-7da95bd4a892"
      },
      "execution_count": null,
      "outputs": [
        {
          "output_type": "execute_result",
          "data": {
            "text/plain": [
              "LinearRegression()"
            ],
            "text/html": [
              "<style>#sk-container-id-2 {color: black;background-color: white;}#sk-container-id-2 pre{padding: 0;}#sk-container-id-2 div.sk-toggleable {background-color: white;}#sk-container-id-2 label.sk-toggleable__label {cursor: pointer;display: block;width: 100%;margin-bottom: 0;padding: 0.3em;box-sizing: border-box;text-align: center;}#sk-container-id-2 label.sk-toggleable__label-arrow:before {content: \"▸\";float: left;margin-right: 0.25em;color: #696969;}#sk-container-id-2 label.sk-toggleable__label-arrow:hover:before {color: black;}#sk-container-id-2 div.sk-estimator:hover label.sk-toggleable__label-arrow:before {color: black;}#sk-container-id-2 div.sk-toggleable__content {max-height: 0;max-width: 0;overflow: hidden;text-align: left;background-color: #f0f8ff;}#sk-container-id-2 div.sk-toggleable__content pre {margin: 0.2em;color: black;border-radius: 0.25em;background-color: #f0f8ff;}#sk-container-id-2 input.sk-toggleable__control:checked~div.sk-toggleable__content {max-height: 200px;max-width: 100%;overflow: auto;}#sk-container-id-2 input.sk-toggleable__control:checked~label.sk-toggleable__label-arrow:before {content: \"▾\";}#sk-container-id-2 div.sk-estimator input.sk-toggleable__control:checked~label.sk-toggleable__label {background-color: #d4ebff;}#sk-container-id-2 div.sk-label input.sk-toggleable__control:checked~label.sk-toggleable__label {background-color: #d4ebff;}#sk-container-id-2 input.sk-hidden--visually {border: 0;clip: rect(1px 1px 1px 1px);clip: rect(1px, 1px, 1px, 1px);height: 1px;margin: -1px;overflow: hidden;padding: 0;position: absolute;width: 1px;}#sk-container-id-2 div.sk-estimator {font-family: monospace;background-color: #f0f8ff;border: 1px dotted black;border-radius: 0.25em;box-sizing: border-box;margin-bottom: 0.5em;}#sk-container-id-2 div.sk-estimator:hover {background-color: #d4ebff;}#sk-container-id-2 div.sk-parallel-item::after {content: \"\";width: 100%;border-bottom: 1px solid gray;flex-grow: 1;}#sk-container-id-2 div.sk-label:hover label.sk-toggleable__label {background-color: #d4ebff;}#sk-container-id-2 div.sk-serial::before {content: \"\";position: absolute;border-left: 1px solid gray;box-sizing: border-box;top: 0;bottom: 0;left: 50%;z-index: 0;}#sk-container-id-2 div.sk-serial {display: flex;flex-direction: column;align-items: center;background-color: white;padding-right: 0.2em;padding-left: 0.2em;position: relative;}#sk-container-id-2 div.sk-item {position: relative;z-index: 1;}#sk-container-id-2 div.sk-parallel {display: flex;align-items: stretch;justify-content: center;background-color: white;position: relative;}#sk-container-id-2 div.sk-item::before, #sk-container-id-2 div.sk-parallel-item::before {content: \"\";position: absolute;border-left: 1px solid gray;box-sizing: border-box;top: 0;bottom: 0;left: 50%;z-index: -1;}#sk-container-id-2 div.sk-parallel-item {display: flex;flex-direction: column;z-index: 1;position: relative;background-color: white;}#sk-container-id-2 div.sk-parallel-item:first-child::after {align-self: flex-end;width: 50%;}#sk-container-id-2 div.sk-parallel-item:last-child::after {align-self: flex-start;width: 50%;}#sk-container-id-2 div.sk-parallel-item:only-child::after {width: 0;}#sk-container-id-2 div.sk-dashed-wrapped {border: 1px dashed gray;margin: 0 0.4em 0.5em 0.4em;box-sizing: border-box;padding-bottom: 0.4em;background-color: white;}#sk-container-id-2 div.sk-label label {font-family: monospace;font-weight: bold;display: inline-block;line-height: 1.2em;}#sk-container-id-2 div.sk-label-container {text-align: center;}#sk-container-id-2 div.sk-container {/* jupyter's `normalize.less` sets `[hidden] { display: none; }` but bootstrap.min.css set `[hidden] { display: none !important; }` so we also need the `!important` here to be able to override the default hidden behavior on the sphinx rendered scikit-learn.org. See: https://github.com/scikit-learn/scikit-learn/issues/21755 */display: inline-block !important;position: relative;}#sk-container-id-2 div.sk-text-repr-fallback {display: none;}</style><div id=\"sk-container-id-2\" class=\"sk-top-container\"><div class=\"sk-text-repr-fallback\"><pre>LinearRegression()</pre><b>In a Jupyter environment, please rerun this cell to show the HTML representation or trust the notebook. <br />On GitHub, the HTML representation is unable to render, please try loading this page with nbviewer.org.</b></div><div class=\"sk-container\" hidden><div class=\"sk-item\"><div class=\"sk-estimator sk-toggleable\"><input class=\"sk-toggleable__control sk-hidden--visually\" id=\"sk-estimator-id-2\" type=\"checkbox\" checked><label for=\"sk-estimator-id-2\" class=\"sk-toggleable__label sk-toggleable__label-arrow\">LinearRegression</label><div class=\"sk-toggleable__content\"><pre>LinearRegression()</pre></div></div></div></div></div>"
            ]
          },
          "metadata": {},
          "execution_count": 37
        }
      ]
    },
    {
      "cell_type": "code",
      "source": [
        "#Evaluamos la eficiencia del modelo obtenido por medio del coeficiente R Determinación\n",
        "model.score(Vars_Indep,Var_Dep)"
      ],
      "metadata": {
        "colab": {
          "base_uri": "https://localhost:8080/"
        },
        "id": "Q_6vHvWcA-LG",
        "outputId": "42ccbb23-3c15-4708-d03c-0d414c3a5b27"
      },
      "execution_count": null,
      "outputs": [
        {
          "output_type": "execute_result",
          "data": {
            "text/plain": [
              "0.29651842036516984"
            ]
          },
          "metadata": {},
          "execution_count": 38
        }
      ]
    },
    {
      "cell_type": "code",
      "source": [
        "#Predecimos los valores de total de accidentes a partir de la variable \"host_response_rate\"\n",
        "y_pred= model.predict(X=filtro2[['host_response_rate']])\n",
        "y_pred"
      ],
      "metadata": {
        "colab": {
          "base_uri": "https://localhost:8080/"
        },
        "id": "XKKfvfcKBPkZ",
        "outputId": "19185692-147f-4bca-d622-04906a9289bf"
      },
      "execution_count": null,
      "outputs": [
        {
          "output_type": "execute_result",
          "data": {
            "text/plain": [
              "array([0.91867297, 0.42595715, 0.91867297, ..., 0.63782496, 0.88418287,\n",
              "       0.63782496])"
            ]
          },
          "metadata": {},
          "execution_count": 39
        }
      ]
    },
    {
      "cell_type": "code",
      "source": [
        "#Corroboramos cual es el coeficiente de Determinación de nuestro modelo\n",
        "coef_Deter=model.score(X=Vars_Indep, y=Var_Dep)\n",
        "coef_Deter"
      ],
      "metadata": {
        "colab": {
          "base_uri": "https://localhost:8080/"
        },
        "id": "v0siUmbdBTow",
        "outputId": "8fd26327-e9a0-49bb-85e6-07c3a548a0d7"
      },
      "execution_count": null,
      "outputs": [
        {
          "output_type": "execute_result",
          "data": {
            "text/plain": [
              "0.29651842036516984"
            ]
          },
          "metadata": {},
          "execution_count": 40
        }
      ]
    },
    {
      "cell_type": "code",
      "source": [
        "#Corroboramos cual es el coeficiente de Correlación de nuestro modelo\n",
        "coef_Correl=np.sqrt(coef_Deter)\n",
        "coef_Correl"
      ],
      "metadata": {
        "colab": {
          "base_uri": "https://localhost:8080/"
        },
        "id": "onbnAddHBbob",
        "outputId": "9a81c9fd-6c3f-4ab2-f777-63718f5ed784"
      },
      "execution_count": null,
      "outputs": [
        {
          "output_type": "execute_result",
          "data": {
            "text/plain": [
              "0.5445350497122934"
            ]
          },
          "metadata": {},
          "execution_count": 41
        }
      ]
    },
    {
      "cell_type": "markdown",
      "source": [
        "# **host_acceptance_rate vs price**"
      ],
      "metadata": {
        "id": "xwuoVC2EDdAQ"
      }
    },
    {
      "cell_type": "markdown",
      "source": [
        "hotel room"
      ],
      "metadata": {
        "id": "pKcNfZGbDnCG"
      }
    },
    {
      "cell_type": "code",
      "source": [
        "#Imprimimos el scatter plot entre la variable dependiente (host_acceptance_rate) e independiente (price) \n",
        "#para observar el comportamiento en su dispersión \n",
        "from turtle import color\n",
        "\n",
        "\n",
        "sns.scatterplot(x='host_acceptance_rate', y='price', color=\"blue\", data=filtro1)\n",
        "#sns.scatterplot(X='speeding', y='total', color=\"red\", data=df)"
      ],
      "metadata": {
        "colab": {
          "base_uri": "https://localhost:8080/",
          "height": 467
        },
        "id": "r8xBK3aSDja2",
        "outputId": "b739ea5e-60ba-4b24-9458-278a1a3ebc8d"
      },
      "execution_count": null,
      "outputs": [
        {
          "output_type": "execute_result",
          "data": {
            "text/plain": [
              "<Axes: xlabel='host_acceptance_rate', ylabel='price'>"
            ]
          },
          "metadata": {},
          "execution_count": 42
        },
        {
          "output_type": "display_data",
          "data": {
            "text/plain": [
              "<Figure size 640x480 with 1 Axes>"
            ],
            "image/png": "[encoded data removed]"
          },
          "metadata": {}
        }
      ]
    },
    {
      "cell_type": "code",
      "source": [
        "#Declaramos las variables dependientes e independientes para la regresión lineal\n",
        "Vars_Indep= filtro1[['price']]\n",
        "Var_Dep= filtro1['host_acceptance_rate']"
      ],
      "metadata": {
        "id": "2RLy9MrKDciZ"
      },
      "execution_count": null,
      "outputs": []
    },
    {
      "cell_type": "code",
      "source": [
        "#Se define model como la función de regresión lineal\n",
        "from sklearn.linear_model import LinearRegression\n",
        "model= LinearRegression()"
      ],
      "metadata": {
        "id": "xTBqXoFMDqoY"
      },
      "execution_count": null,
      "outputs": []
    },
    {
      "cell_type": "code",
      "source": [
        "#Verificamos la función relacionada al modelo\n",
        "type(model)"
      ],
      "metadata": {
        "colab": {
          "base_uri": "https://localhost:8080/"
        },
        "id": "fTqg3PtfDqld",
        "outputId": "ccccc32a-985d-4b8e-e82f-65019622c07f"
      },
      "execution_count": null,
      "outputs": [
        {
          "output_type": "execute_result",
          "data": {
            "text/plain": [
              "sklearn.linear_model._base.LinearRegression"
            ]
          },
          "metadata": {},
          "execution_count": 45
        }
      ]
    },
    {
      "cell_type": "code",
      "source": [
        "#Ajustamos el modelo con las variables antes declaradas\n",
        "model.fit(X=Vars_Indep, y=Var_Dep)"
      ],
      "metadata": {
        "colab": {
          "base_uri": "https://localhost:8080/",
          "height": 74
        },
        "id": "jzs6ifg3Dqid",
        "outputId": "5ec9ad3f-5bc2-41c9-f62c-4f4983c6b7b3"
      },
      "execution_count": null,
      "outputs": [
        {
          "output_type": "execute_result",
          "data": {
            "text/plain": [
              "LinearRegression()"
            ],
            "text/html": [
              "<style>#sk-container-id-3 {color: black;background-color: white;}#sk-container-id-3 pre{padding: 0;}#sk-container-id-3 div.sk-toggleable {background-color: white;}#sk-container-id-3 label.sk-toggleable__label {cursor: pointer;display: block;width: 100%;margin-bottom: 0;padding: 0.3em;box-sizing: border-box;text-align: center;}#sk-container-id-3 label.sk-toggleable__label-arrow:before {content: \"▸\";float: left;margin-right: 0.25em;color: #696969;}#sk-container-id-3 label.sk-toggleable__label-arrow:hover:before {color: black;}#sk-container-id-3 div.sk-estimator:hover label.sk-toggleable__label-arrow:before {color: black;}#sk-container-id-3 div.sk-toggleable__content {max-height: 0;max-width: 0;overflow: hidden;text-align: left;background-color: #f0f8ff;}#sk-container-id-3 div.sk-toggleable__content pre {margin: 0.2em;color: black;border-radius: 0.25em;background-color: #f0f8ff;}#sk-container-id-3 input.sk-toggleable__control:checked~div.sk-toggleable__content {max-height: 200px;max-width: 100%;overflow: auto;}#sk-container-id-3 input.sk-toggleable__control:checked~label.sk-toggleable__label-arrow:before {content: \"▾\";}#sk-container-id-3 div.sk-estimator input.sk-toggleable__control:checked~label.sk-toggleable__label {background-color: #d4ebff;}#sk-container-id-3 div.sk-label input.sk-toggleable__control:checked~label.sk-toggleable__label {background-color: #d4ebff;}#sk-container-id-3 input.sk-hidden--visually {border: 0;clip: rect(1px 1px 1px 1px);clip: rect(1px, 1px, 1px, 1px);height: 1px;margin: -1px;overflow: hidden;padding: 0;position: absolute;width: 1px;}#sk-container-id-3 div.sk-estimator {font-family: monospace;background-color: #f0f8ff;border: 1px dotted black;border-radius: 0.25em;box-sizing: border-box;margin-bottom: 0.5em;}#sk-container-id-3 div.sk-estimator:hover {background-color: #d4ebff;}#sk-container-id-3 div.sk-parallel-item::after {content: \"\";width: 100%;border-bottom: 1px solid gray;flex-grow: 1;}#sk-container-id-3 div.sk-label:hover label.sk-toggleable__label {background-color: #d4ebff;}#sk-container-id-3 div.sk-serial::before {content: \"\";position: absolute;border-left: 1px solid gray;box-sizing: border-box;top: 0;bottom: 0;left: 50%;z-index: 0;}#sk-container-id-3 div.sk-serial {display: flex;flex-direction: column;align-items: center;background-color: white;padding-right: 0.2em;padding-left: 0.2em;position: relative;}#sk-container-id-3 div.sk-item {position: relative;z-index: 1;}#sk-container-id-3 div.sk-parallel {display: flex;align-items: stretch;justify-content: center;background-color: white;position: relative;}#sk-container-id-3 div.sk-item::before, #sk-container-id-3 div.sk-parallel-item::before {content: \"\";position: absolute;border-left: 1px solid gray;box-sizing: border-box;top: 0;bottom: 0;left: 50%;z-index: -1;}#sk-container-id-3 div.sk-parallel-item {display: flex;flex-direction: column;z-index: 1;position: relative;background-color: white;}#sk-container-id-3 div.sk-parallel-item:first-child::after {align-self: flex-end;width: 50%;}#sk-container-id-3 div.sk-parallel-item:last-child::after {align-self: flex-start;width: 50%;}#sk-container-id-3 div.sk-parallel-item:only-child::after {width: 0;}#sk-container-id-3 div.sk-dashed-wrapped {border: 1px dashed gray;margin: 0 0.4em 0.5em 0.4em;box-sizing: border-box;padding-bottom: 0.4em;background-color: white;}#sk-container-id-3 div.sk-label label {font-family: monospace;font-weight: bold;display: inline-block;line-height: 1.2em;}#sk-container-id-3 div.sk-label-container {text-align: center;}#sk-container-id-3 div.sk-container {/* jupyter's `normalize.less` sets `[hidden] { display: none; }` but bootstrap.min.css set `[hidden] { display: none !important; }` so we also need the `!important` here to be able to override the default hidden behavior on the sphinx rendered scikit-learn.org. See: https://github.com/scikit-learn/scikit-learn/issues/21755 */display: inline-block !important;position: relative;}#sk-container-id-3 div.sk-text-repr-fallback {display: none;}</style><div id=\"sk-container-id-3\" class=\"sk-top-container\"><div class=\"sk-text-repr-fallback\"><pre>LinearRegression()</pre><b>In a Jupyter environment, please rerun this cell to show the HTML representation or trust the notebook. <br />On GitHub, the HTML representation is unable to render, please try loading this page with nbviewer.org.</b></div><div class=\"sk-container\" hidden><div class=\"sk-item\"><div class=\"sk-estimator sk-toggleable\"><input class=\"sk-toggleable__control sk-hidden--visually\" id=\"sk-estimator-id-3\" type=\"checkbox\" checked><label for=\"sk-estimator-id-3\" class=\"sk-toggleable__label sk-toggleable__label-arrow\">LinearRegression</label><div class=\"sk-toggleable__content\"><pre>LinearRegression()</pre></div></div></div></div></div>"
            ]
          },
          "metadata": {},
          "execution_count": 49
        }
      ]
    },
    {
      "cell_type": "code",
      "source": [
        "#Verificamos los coeficientes obtenidos para el modelo ajustado\n",
        "model.__dict__"
      ],
      "metadata": {
        "colab": {
          "base_uri": "https://localhost:8080/"
        },
        "id": "kfkvbDvqDqfl",
        "outputId": "11d23dd7-2b07-4497-8f3f-4b98dbe22237"
      },
      "execution_count": null,
      "outputs": [
        {
          "output_type": "execute_result",
          "data": {
            "text/plain": [
              "{'fit_intercept': True,\n",
              " 'copy_X': True,\n",
              " 'n_jobs': None,\n",
              " 'positive': False,\n",
              " 'feature_names_in_': array(['price'], dtype=object),\n",
              " 'n_features_in_': 1,\n",
              " 'coef_': array([0.00095754]),\n",
              " 'rank_': 1,\n",
              " 'singular_': array([479.61442847]),\n",
              " 'intercept_': 0.6647844385514933}"
            ]
          },
          "metadata": {},
          "execution_count": 50
        }
      ]
    },
    {
      "cell_type": "markdown",
      "source": [
        "Modelo matemático y= 0.00095754]x + 0.6647844385514933"
      ],
      "metadata": {
        "id": "PMQiFH8iEVMU"
      }
    },
    {
      "cell_type": "code",
      "source": [
        "#Evaluamos la eficiencia del modelo obtenido por medio del coeficiente R Determinación\n",
        "model.score(Vars_Indep,Var_Dep)"
      ],
      "metadata": {
        "colab": {
          "base_uri": "https://localhost:8080/"
        },
        "id": "-WyS52k_Dqcb",
        "outputId": "8420af5a-a32d-4ed8-d8fb-7e83c6739635"
      },
      "execution_count": null,
      "outputs": [
        {
          "output_type": "execute_result",
          "data": {
            "text/plain": [
              "0.027209901335020548"
            ]
          },
          "metadata": {},
          "execution_count": 51
        }
      ]
    },
    {
      "cell_type": "code",
      "source": [
        "#Predecimos los valores de total de accidentes a partir de la variable \"host_acceptance_rate\"\n",
        "y_pred= model.predict(X=filtro1[['price']])\n",
        "y_pred"
      ],
      "metadata": {
        "id": "ecqCRf5LDqX1"
      },
      "execution_count": null,
      "outputs": []
    },
    {
      "cell_type": "code",
      "source": [
        "#Corroboramos cual es el coeficiente de Determinación de nuestro modelo\n",
        "coef_Deter=model.score(X=Vars_Indep, y=Var_Dep)\n",
        "coef_Deter"
      ],
      "metadata": {
        "colab": {
          "base_uri": "https://localhost:8080/"
        },
        "id": "4H1INAd5DqSO",
        "outputId": "0559d584-cb71-4521-fa59-a113f6f9e505"
      },
      "execution_count": null,
      "outputs": [
        {
          "output_type": "execute_result",
          "data": {
            "text/plain": [
              "0.027209901335020548"
            ]
          },
          "metadata": {},
          "execution_count": 53
        }
      ]
    },
    {
      "cell_type": "code",
      "source": [
        "#Corroboramos cual es el coeficiente de Correlación de nuestro modelo\n",
        "coef_Correl=np.sqrt(coef_Deter)\n",
        "coef_Correl"
      ],
      "metadata": {
        "colab": {
          "base_uri": "https://localhost:8080/"
        },
        "id": "Rr8SxUn4ETAc",
        "outputId": "60761169-bb3d-4b0d-98ed-01232548fbbb"
      },
      "execution_count": null,
      "outputs": [
        {
          "output_type": "execute_result",
          "data": {
            "text/plain": [
              "0.16495424012440707"
            ]
          },
          "metadata": {},
          "execution_count": 54
        }
      ]
    },
    {
      "cell_type": "markdown",
      "source": [
        "Entire home/apt"
      ],
      "metadata": {
        "id": "HfLcn0pAJ688"
      }
    },
    {
      "cell_type": "code",
      "source": [
        "#Imprimimos el scatter plot entre la variable dependiente (host_acceptance_rate) e independiente (price) \n",
        "#para observar el comportamiento en su dispersión \n",
        "from turtle import color\n",
        "\n",
        "\n",
        "sns.scatterplot(x='host_acceptance_rate', y='price', color=\"blue\", data=filtro2)\n",
        "#sns.scatterplot(X='speeding', y='total', color=\"red\", data=df)"
      ],
      "metadata": {
        "id": "V15V634RKEY_"
      },
      "execution_count": null,
      "outputs": []
    },
    {
      "cell_type": "code",
      "source": [
        "Vars_Indep= filtro2[['price']]\n",
        "Var_Dep= filtro2['host_acceptance_rate']"
      ],
      "metadata": {
        "id": "-7KA56r1KFRi"
      },
      "execution_count": null,
      "outputs": []
    },
    {
      "cell_type": "code",
      "source": [
        "#Se define model como la función de regresión lineal\n",
        "from sklearn.linear_model import LinearRegression\n",
        "model= LinearRegression()"
      ],
      "metadata": {
        "id": "osFMxyS6KFNe"
      },
      "execution_count": null,
      "outputs": []
    },
    {
      "cell_type": "code",
      "source": [
        "#Verificamos la función relacionada al modelo\n",
        "type(model)"
      ],
      "metadata": {
        "colab": {
          "base_uri": "https://localhost:8080/"
        },
        "id": "aLVpUKJxKFJe",
        "outputId": "28f16ea5-38e1-47f7-808b-7318d0214d01"
      },
      "execution_count": null,
      "outputs": [
        {
          "output_type": "execute_result",
          "data": {
            "text/plain": [
              "sklearn.linear_model._base.LinearRegression"
            ]
          },
          "metadata": {},
          "execution_count": 58
        }
      ]
    },
    {
      "cell_type": "code",
      "source": [
        "#Ajustamos el modelo con las variables antes declaradas\n",
        "model.fit(X=Vars_Indep, y=Var_Dep)"
      ],
      "metadata": {
        "colab": {
          "base_uri": "https://localhost:8080/",
          "height": 74
        },
        "id": "8Bg-vfrHKFFX",
        "outputId": "c55e44a6-82cc-409d-9db2-e1ca9891e067"
      },
      "execution_count": null,
      "outputs": [
        {
          "output_type": "execute_result",
          "data": {
            "text/plain": [
              "LinearRegression()"
            ],
            "text/html": [
              "<style>#sk-container-id-4 {color: black;background-color: white;}#sk-container-id-4 pre{padding: 0;}#sk-container-id-4 div.sk-toggleable {background-color: white;}#sk-container-id-4 label.sk-toggleable__label {cursor: pointer;display: block;width: 100%;margin-bottom: 0;padding: 0.3em;box-sizing: border-box;text-align: center;}#sk-container-id-4 label.sk-toggleable__label-arrow:before {content: \"▸\";float: left;margin-right: 0.25em;color: #696969;}#sk-container-id-4 label.sk-toggleable__label-arrow:hover:before {color: black;}#sk-container-id-4 div.sk-estimator:hover label.sk-toggleable__label-arrow:before {color: black;}#sk-container-id-4 div.sk-toggleable__content {max-height: 0;max-width: 0;overflow: hidden;text-align: left;background-color: #f0f8ff;}#sk-container-id-4 div.sk-toggleable__content pre {margin: 0.2em;color: black;border-radius: 0.25em;background-color: #f0f8ff;}#sk-container-id-4 input.sk-toggleable__control:checked~div.sk-toggleable__content {max-height: 200px;max-width: 100%;overflow: auto;}#sk-container-id-4 input.sk-toggleable__control:checked~label.sk-toggleable__label-arrow:before {content: \"▾\";}#sk-container-id-4 div.sk-estimator input.sk-toggleable__control:checked~label.sk-toggleable__label {background-color: #d4ebff;}#sk-container-id-4 div.sk-label input.sk-toggleable__control:checked~label.sk-toggleable__label {background-color: #d4ebff;}#sk-container-id-4 input.sk-hidden--visually {border: 0;clip: rect(1px 1px 1px 1px);clip: rect(1px, 1px, 1px, 1px);height: 1px;margin: -1px;overflow: hidden;padding: 0;position: absolute;width: 1px;}#sk-container-id-4 div.sk-estimator {font-family: monospace;background-color: #f0f8ff;border: 1px dotted black;border-radius: 0.25em;box-sizing: border-box;margin-bottom: 0.5em;}#sk-container-id-4 div.sk-estimator:hover {background-color: #d4ebff;}#sk-container-id-4 div.sk-parallel-item::after {content: \"\";width: 100%;border-bottom: 1px solid gray;flex-grow: 1;}#sk-container-id-4 div.sk-label:hover label.sk-toggleable__label {background-color: #d4ebff;}#sk-container-id-4 div.sk-serial::before {content: \"\";position: absolute;border-left: 1px solid gray;box-sizing: border-box;top: 0;bottom: 0;left: 50%;z-index: 0;}#sk-container-id-4 div.sk-serial {display: flex;flex-direction: column;align-items: center;background-color: white;padding-right: 0.2em;padding-left: 0.2em;position: relative;}#sk-container-id-4 div.sk-item {position: relative;z-index: 1;}#sk-container-id-4 div.sk-parallel {display: flex;align-items: stretch;justify-content: center;background-color: white;position: relative;}#sk-container-id-4 div.sk-item::before, #sk-container-id-4 div.sk-parallel-item::before {content: \"\";position: absolute;border-left: 1px solid gray;box-sizing: border-box;top: 0;bottom: 0;left: 50%;z-index: -1;}#sk-container-id-4 div.sk-parallel-item {display: flex;flex-direction: column;z-index: 1;position: relative;background-color: white;}#sk-container-id-4 div.sk-parallel-item:first-child::after {align-self: flex-end;width: 50%;}#sk-container-id-4 div.sk-parallel-item:last-child::after {align-self: flex-start;width: 50%;}#sk-container-id-4 div.sk-parallel-item:only-child::after {width: 0;}#sk-container-id-4 div.sk-dashed-wrapped {border: 1px dashed gray;margin: 0 0.4em 0.5em 0.4em;box-sizing: border-box;padding-bottom: 0.4em;background-color: white;}#sk-container-id-4 div.sk-label label {font-family: monospace;font-weight: bold;display: inline-block;line-height: 1.2em;}#sk-container-id-4 div.sk-label-container {text-align: center;}#sk-container-id-4 div.sk-container {/* jupyter's `normalize.less` sets `[hidden] { display: none; }` but bootstrap.min.css set `[hidden] { display: none !important; }` so we also need the `!important` here to be able to override the default hidden behavior on the sphinx rendered scikit-learn.org. See: https://github.com/scikit-learn/scikit-learn/issues/21755 */display: inline-block !important;position: relative;}#sk-container-id-4 div.sk-text-repr-fallback {display: none;}</style><div id=\"sk-container-id-4\" class=\"sk-top-container\"><div class=\"sk-text-repr-fallback\"><pre>LinearRegression()</pre><b>In a Jupyter environment, please rerun this cell to show the HTML representation or trust the notebook. <br />On GitHub, the HTML representation is unable to render, please try loading this page with nbviewer.org.</b></div><div class=\"sk-container\" hidden><div class=\"sk-item\"><div class=\"sk-estimator sk-toggleable\"><input class=\"sk-toggleable__control sk-hidden--visually\" id=\"sk-estimator-id-4\" type=\"checkbox\" checked><label for=\"sk-estimator-id-4\" class=\"sk-toggleable__label sk-toggleable__label-arrow\">LinearRegression</label><div class=\"sk-toggleable__content\"><pre>LinearRegression()</pre></div></div></div></div></div>"
            ]
          },
          "metadata": {},
          "execution_count": 59
        }
      ]
    },
    {
      "cell_type": "code",
      "source": [
        "#Verificamos los coeficientes obtenidos para el modelo ajustado\n",
        "model.__dict__"
      ],
      "metadata": {
        "colab": {
          "base_uri": "https://localhost:8080/"
        },
        "id": "2sYn67tWKFBe",
        "outputId": "201e354d-bf84-4ec6-b9dc-749c749357cd"
      },
      "execution_count": null,
      "outputs": [
        {
          "output_type": "execute_result",
          "data": {
            "text/plain": [
              "{'fit_intercept': True,\n",
              " 'copy_X': True,\n",
              " 'n_jobs': None,\n",
              " 'positive': False,\n",
              " 'feature_names_in_': array(['price'], dtype=object),\n",
              " 'n_features_in_': 1,\n",
              " 'coef_': array([-1.61594648e-05]),\n",
              " 'rank_': 1,\n",
              " 'singular_': array([73524.95597413]),\n",
              " 'intercept_': 0.8508830297137165}"
            ]
          },
          "metadata": {},
          "execution_count": 60
        }
      ]
    },
    {
      "cell_type": "markdown",
      "source": [
        "Modelo matemático y= -1.61594648e-05x + 0.8508830297137165\n",
        "\n",
        "\n"
      ],
      "metadata": {
        "id": "ZwUkkXVMKfWJ"
      }
    },
    {
      "cell_type": "code",
      "source": [
        "#Evaluamos la eficiencia del modelo obtenido por medio del coeficiente R Determinación\n",
        "model.score(Vars_Indep,Var_Dep)"
      ],
      "metadata": {
        "colab": {
          "base_uri": "https://localhost:8080/"
        },
        "id": "pqMps9oBKE9t",
        "outputId": "2d067155-88cb-467f-e6e9-3a79dacec1b4"
      },
      "execution_count": null,
      "outputs": [
        {
          "output_type": "execute_result",
          "data": {
            "text/plain": [
              "0.0009586396372240902"
            ]
          },
          "metadata": {},
          "execution_count": 61
        }
      ]
    },
    {
      "cell_type": "code",
      "source": [
        "#Predecimos los valores de total de accidentes a partir de la variable \"price\"\n",
        "y_pred= model.predict(X=filtro2[['price']])\n",
        "y_pred"
      ],
      "metadata": {
        "colab": {
          "base_uri": "https://localhost:8080/"
        },
        "id": "hJ4ecOdWKE5p",
        "outputId": "b5d080a5-9e31-4147-aeee-a57b6a3da33c"
      },
      "execution_count": null,
      "outputs": [
        {
          "output_type": "execute_result",
          "data": {
            "text/plain": [
              "array([0.84968723, 0.84894389, 0.84918629, ..., 0.84981651, 0.84913781,\n",
              "       0.84970339])"
            ]
          },
          "metadata": {},
          "execution_count": 62
        }
      ]
    },
    {
      "cell_type": "code",
      "source": [
        "#Corroboramos cual es el coeficiente de Determinación de nuestro modelo\n",
        "coef_Deter=model.score(X=Vars_Indep, y=Var_Dep)\n",
        "coef_Deter"
      ],
      "metadata": {
        "colab": {
          "base_uri": "https://localhost:8080/"
        },
        "id": "T1n0F3t3KE0s",
        "outputId": "76e8e272-acc8-41ed-f85f-bf9b6eb07486"
      },
      "execution_count": null,
      "outputs": [
        {
          "output_type": "execute_result",
          "data": {
            "text/plain": [
              "0.0009586396372240902"
            ]
          },
          "metadata": {},
          "execution_count": 63
        }
      ]
    },
    {
      "cell_type": "code",
      "source": [
        "#Corroboramos cual es el coeficiente de Correlación de nuestro modelo\n",
        "coef_Correl=np.sqrt(coef_Deter)\n",
        "coef_Correl"
      ],
      "metadata": {
        "colab": {
          "base_uri": "https://localhost:8080/"
        },
        "id": "SnT-Cn3qKlst",
        "outputId": "24159a5a-ff70-44ef-d1a3-cc5cc7fa6b33"
      },
      "execution_count": null,
      "outputs": [
        {
          "output_type": "execute_result",
          "data": {
            "text/plain": [
              "0.030961906227234947"
            ]
          },
          "metadata": {},
          "execution_count": 64
        }
      ]
    },
    {
      "cell_type": "markdown",
      "source": [
        "# **host_acceptance_rate vs number_of_reviews**"
      ],
      "metadata": {
        "id": "04l9O9DZFre8"
      }
    },
    {
      "cell_type": "markdown",
      "source": [
        "hotel room"
      ],
      "metadata": {
        "id": "Ede_a1iUK8b8"
      }
    },
    {
      "cell_type": "code",
      "source": [
        "#Imprimimos el scatter plot entre la variable dependiente (host_acceptance_rate) e independiente (number_of_reviews) \n",
        "#para observar el comportamiento en su dispersión \n",
        "from turtle import color\n",
        "\n",
        "\n",
        "sns.scatterplot(x='number_of_reviews', y='host_acceptance_rate', color=\"blue\", data=filtro1)\n"
      ],
      "metadata": {
        "colab": {
          "base_uri": "https://localhost:8080/",
          "height": 467
        },
        "id": "4LPYyCvzK8NO",
        "outputId": "a1bc5708-8ea9-46c2-f54f-7e4ae7e7a042"
      },
      "execution_count": null,
      "outputs": [
        {
          "output_type": "execute_result",
          "data": {
            "text/plain": [
              "<Axes: xlabel='number_of_reviews', ylabel='host_acceptance_rate'>"
            ]
          },
          "metadata": {},
          "execution_count": 65
        },
        {
          "output_type": "display_data",
          "data": {
            "text/plain": [
              "<Figure size 640x480 with 1 Axes>"
            ],
            "image/png": "[encoded data removed]"
          },
          "metadata": {}
        }
      ]
    },
    {
      "cell_type": "code",
      "source": [
        "Vars_Indep= filtro1[['number_of_reviews']]\n",
        "Var_Dep= filtro1['host_acceptance_rate']"
      ],
      "metadata": {
        "id": "25hLJCc-K8Go"
      },
      "execution_count": null,
      "outputs": []
    },
    {
      "cell_type": "code",
      "source": [
        "#Se define model como la función de regresión lineal\n",
        "from sklearn.linear_model import LinearRegression\n",
        "model= LinearRegression()"
      ],
      "metadata": {
        "id": "2XEeXZzIK8Ao"
      },
      "execution_count": null,
      "outputs": []
    },
    {
      "cell_type": "code",
      "source": [
        "#Verificamos la función relacionada al modelo\n",
        "type(model)"
      ],
      "metadata": {
        "colab": {
          "base_uri": "https://localhost:8080/"
        },
        "id": "TdXjXqt0K76S",
        "outputId": "03670214-2407-4cdb-ca0d-429416d65568"
      },
      "execution_count": null,
      "outputs": [
        {
          "output_type": "execute_result",
          "data": {
            "text/plain": [
              "sklearn.linear_model._base.LinearRegression"
            ]
          },
          "metadata": {},
          "execution_count": 68
        }
      ]
    },
    {
      "cell_type": "code",
      "source": [
        "#Ajustamos el modelo con las variables antes declaradas\n",
        "model.fit(X=Vars_Indep, y=Var_Dep)"
      ],
      "metadata": {
        "colab": {
          "base_uri": "https://localhost:8080/",
          "height": 74
        },
        "id": "rFOqAQDcK7zg",
        "outputId": "a9506c7e-056b-4e8b-97b4-0386fd636c38"
      },
      "execution_count": null,
      "outputs": [
        {
          "output_type": "execute_result",
          "data": {
            "text/plain": [
              "LinearRegression()"
            ],
            "text/html": [
              "<style>#sk-container-id-5 {color: black;background-color: white;}#sk-container-id-5 pre{padding: 0;}#sk-container-id-5 div.sk-toggleable {background-color: white;}#sk-container-id-5 label.sk-toggleable__label {cursor: pointer;display: block;width: 100%;margin-bottom: 0;padding: 0.3em;box-sizing: border-box;text-align: center;}#sk-container-id-5 label.sk-toggleable__label-arrow:before {content: \"▸\";float: left;margin-right: 0.25em;color: #696969;}#sk-container-id-5 label.sk-toggleable__label-arrow:hover:before {color: black;}#sk-container-id-5 div.sk-estimator:hover label.sk-toggleable__label-arrow:before {color: black;}#sk-container-id-5 div.sk-toggleable__content {max-height: 0;max-width: 0;overflow: hidden;text-align: left;background-color: #f0f8ff;}#sk-container-id-5 div.sk-toggleable__content pre {margin: 0.2em;color: black;border-radius: 0.25em;background-color: #f0f8ff;}#sk-container-id-5 input.sk-toggleable__control:checked~div.sk-toggleable__content {max-height: 200px;max-width: 100%;overflow: auto;}#sk-container-id-5 input.sk-toggleable__control:checked~label.sk-toggleable__label-arrow:before {content: \"▾\";}#sk-container-id-5 div.sk-estimator input.sk-toggleable__control:checked~label.sk-toggleable__label {background-color: #d4ebff;}#sk-container-id-5 div.sk-label input.sk-toggleable__control:checked~label.sk-toggleable__label {background-color: #d4ebff;}#sk-container-id-5 input.sk-hidden--visually {border: 0;clip: rect(1px 1px 1px 1px);clip: rect(1px, 1px, 1px, 1px);height: 1px;margin: -1px;overflow: hidden;padding: 0;position: absolute;width: 1px;}#sk-container-id-5 div.sk-estimator {font-family: monospace;background-color: #f0f8ff;border: 1px dotted black;border-radius: 0.25em;box-sizing: border-box;margin-bottom: 0.5em;}#sk-container-id-5 div.sk-estimator:hover {background-color: #d4ebff;}#sk-container-id-5 div.sk-parallel-item::after {content: \"\";width: 100%;border-bottom: 1px solid gray;flex-grow: 1;}#sk-container-id-5 div.sk-label:hover label.sk-toggleable__label {background-color: #d4ebff;}#sk-container-id-5 div.sk-serial::before {content: \"\";position: absolute;border-left: 1px solid gray;box-sizing: border-box;top: 0;bottom: 0;left: 50%;z-index: 0;}#sk-container-id-5 div.sk-serial {display: flex;flex-direction: column;align-items: center;background-color: white;padding-right: 0.2em;padding-left: 0.2em;position: relative;}#sk-container-id-5 div.sk-item {position: relative;z-index: 1;}#sk-container-id-5 div.sk-parallel {display: flex;align-items: stretch;justify-content: center;background-color: white;position: relative;}#sk-container-id-5 div.sk-item::before, #sk-container-id-5 div.sk-parallel-item::before {content: \"\";position: absolute;border-left: 1px solid gray;box-sizing: border-box;top: 0;bottom: 0;left: 50%;z-index: -1;}#sk-container-id-5 div.sk-parallel-item {display: flex;flex-direction: column;z-index: 1;position: relative;background-color: white;}#sk-container-id-5 div.sk-parallel-item:first-child::after {align-self: flex-end;width: 50%;}#sk-container-id-5 div.sk-parallel-item:last-child::after {align-self: flex-start;width: 50%;}#sk-container-id-5 div.sk-parallel-item:only-child::after {width: 0;}#sk-container-id-5 div.sk-dashed-wrapped {border: 1px dashed gray;margin: 0 0.4em 0.5em 0.4em;box-sizing: border-box;padding-bottom: 0.4em;background-color: white;}#sk-container-id-5 div.sk-label label {font-family: monospace;font-weight: bold;display: inline-block;line-height: 1.2em;}#sk-container-id-5 div.sk-label-container {text-align: center;}#sk-container-id-5 div.sk-container {/* jupyter's `normalize.less` sets `[hidden] { display: none; }` but bootstrap.min.css set `[hidden] { display: none !important; }` so we also need the `!important` here to be able to override the default hidden behavior on the sphinx rendered scikit-learn.org. See: https://github.com/scikit-learn/scikit-learn/issues/21755 */display: inline-block !important;position: relative;}#sk-container-id-5 div.sk-text-repr-fallback {display: none;}</style><div id=\"sk-container-id-5\" class=\"sk-top-container\"><div class=\"sk-text-repr-fallback\"><pre>LinearRegression()</pre><b>In a Jupyter environment, please rerun this cell to show the HTML representation or trust the notebook. <br />On GitHub, the HTML representation is unable to render, please try loading this page with nbviewer.org.</b></div><div class=\"sk-container\" hidden><div class=\"sk-item\"><div class=\"sk-estimator sk-toggleable\"><input class=\"sk-toggleable__control sk-hidden--visually\" id=\"sk-estimator-id-5\" type=\"checkbox\" checked><label for=\"sk-estimator-id-5\" class=\"sk-toggleable__label sk-toggleable__label-arrow\">LinearRegression</label><div class=\"sk-toggleable__content\"><pre>LinearRegression()</pre></div></div></div></div></div>"
            ]
          },
          "metadata": {},
          "execution_count": 69
        }
      ]
    },
    {
      "cell_type": "code",
      "source": [
        "#Verificamos los coeficientes obtenidos para el modelo ajustado\n",
        "model.__dict__"
      ],
      "metadata": {
        "colab": {
          "base_uri": "https://localhost:8080/"
        },
        "id": "-ttDmogfK7vX",
        "outputId": "cea07708-1503-4004-bc43-1d2b68b70b7a"
      },
      "execution_count": null,
      "outputs": [
        {
          "output_type": "execute_result",
          "data": {
            "text/plain": [
              "{'fit_intercept': True,\n",
              " 'copy_X': True,\n",
              " 'n_jobs': None,\n",
              " 'positive': False,\n",
              " 'feature_names_in_': array(['number_of_reviews'], dtype=object),\n",
              " 'n_features_in_': 1,\n",
              " 'coef_': array([0.00407298]),\n",
              " 'rank_': 1,\n",
              " 'singular_': array([222.8059694]),\n",
              " 'intercept_': 0.7059622581457421}"
            ]
          },
          "metadata": {},
          "execution_count": 70
        }
      ]
    },
    {
      "cell_type": "markdown",
      "source": [
        "Modelo matemático y= 0.00407298x + 0.7059622581457421"
      ],
      "metadata": {
        "id": "v2B_2K1uiNYc"
      }
    },
    {
      "cell_type": "code",
      "source": [
        "#Evaluamos la eficiencia del modelo obtenido por medio del coeficiente R Determinación\n",
        "model.score(Vars_Indep,Var_Dep)"
      ],
      "metadata": {
        "colab": {
          "base_uri": "https://localhost:8080/"
        },
        "id": "gsCwUOHoK7rf",
        "outputId": "0ddbedd1-ff2f-4faf-c36c-03d9692f8baf"
      },
      "execution_count": null,
      "outputs": [
        {
          "output_type": "execute_result",
          "data": {
            "text/plain": [
              "0.1062455813985832"
            ]
          },
          "metadata": {},
          "execution_count": 71
        }
      ]
    },
    {
      "cell_type": "code",
      "source": [
        "#Predecimos los valores de total de accidentes a partir de la variable \"number_of_reviews\"\n",
        "y_pred= model.predict(X=filtro1[['number_of_reviews']])\n",
        "y_pred"
      ],
      "metadata": {
        "colab": {
          "base_uri": "https://localhost:8080/"
        },
        "id": "idpeEwN6K7na",
        "outputId": "60fa9e04-d30e-47ae-bedb-c0caf60c1c87"
      },
      "execution_count": null,
      "outputs": [
        {
          "output_type": "execute_result",
          "data": {
            "text/plain": [
              "array([0.75483804, 1.10511448, 0.74669208, 0.82000575, 0.75076506,\n",
              "       0.76705699, 1.1662092 , 0.72225419, 0.79964084, 0.71410822,\n",
              "       0.72225419, 0.7181812 , 0.70596226, 0.70596226, 0.83629768,\n",
              "       0.71003524, 0.7181812 , 0.72632717, 0.74261909, 1.20286604,\n",
              "       0.9421952 , 1.17842815, 0.7181812 , 0.70596226, 0.70596226,\n",
              "       0.71003524, 0.86480855, 0.7181812 , 0.71003524, 0.72225419,\n",
              "       0.95441415, 0.73040015, 0.84037066, 0.86480855, 0.76705699,\n",
              "       0.78742189, 0.70596226, 0.87295451, 0.86888153, 0.70596226,\n",
              "       0.70596226, 0.73040015, 0.70596226, 0.70596226, 0.70596226,\n",
              "       0.70596226, 0.70596226, 0.70596226, 0.70596226, 0.72225419])"
            ]
          },
          "metadata": {},
          "execution_count": 72
        }
      ]
    },
    {
      "cell_type": "code",
      "source": [
        "#Corroboramos cual es el coeficiente de Determinación de nuestro modelo\n",
        "coef_Deter=model.score(X=Vars_Indep, y=Var_Dep)\n",
        "coef_Deter"
      ],
      "metadata": {
        "colab": {
          "base_uri": "https://localhost:8080/"
        },
        "id": "iMwyBBlfK7jS",
        "outputId": "8764ec59-5b7b-42bc-87c5-fdce6a5190e9"
      },
      "execution_count": null,
      "outputs": [
        {
          "output_type": "execute_result",
          "data": {
            "text/plain": [
              "0.1062455813985832"
            ]
          },
          "metadata": {},
          "execution_count": 73
        }
      ]
    },
    {
      "cell_type": "code",
      "source": [
        "#Corroboramos cual es el coeficiente de Correlación de nuestro modelo\n",
        "coef_Correl=np.sqrt(coef_Deter)\n",
        "coef_Correl"
      ],
      "metadata": {
        "colab": {
          "base_uri": "https://localhost:8080/"
        },
        "id": "ymZXpHl8K7e-",
        "outputId": "2712c7bf-6094-4b7e-8049-3176698dcf1a"
      },
      "execution_count": null,
      "outputs": [
        {
          "output_type": "execute_result",
          "data": {
            "text/plain": [
              "0.3259533423644912"
            ]
          },
          "metadata": {},
          "execution_count": 74
        }
      ]
    },
    {
      "cell_type": "markdown",
      "source": [
        "Entire home/apt"
      ],
      "metadata": {
        "id": "aIrlLMKdOoAZ"
      }
    },
    {
      "cell_type": "code",
      "source": [
        "#Imprimimos el scatter plot entre la variable dependiente (host_acceptance_rate) e independiente (number_of_reviews) \n",
        "#para observar el comportamiento en su dispersión \n",
        "from turtle import color\n",
        "\n",
        "\n",
        "sns.scatterplot(x='number_of_reviews', y='host_acceptance_rate', color=\"blue\", data=filtro2)\n"
      ],
      "metadata": {
        "colab": {
          "base_uri": "https://localhost:8080/",
          "height": 467
        },
        "id": "FOb89zSwOsJs",
        "outputId": "48c4da55-f3f5-477d-dd8a-4e9d44f159cf"
      },
      "execution_count": null,
      "outputs": [
        {
          "output_type": "execute_result",
          "data": {
            "text/plain": [
              "<Axes: xlabel='number_of_reviews', ylabel='host_acceptance_rate'>"
            ]
          },
          "metadata": {},
          "execution_count": 75
        },
        {
          "output_type": "display_data",
          "data": {
            "text/plain": [
              "<Figure size 640x480 with 1 Axes>"
            ],
            "image/png": "[encoded data removed]"
          },
          "metadata": {}
        }
      ]
    },
    {
      "cell_type": "code",
      "source": [
        "Vars_Indep= filtro2[['number_of_reviews']]\n",
        "Var_Dep= filtro2['host_acceptance_rate']"
      ],
      "metadata": {
        "id": "-pcMaMqaOxmb"
      },
      "execution_count": null,
      "outputs": []
    },
    {
      "cell_type": "code",
      "source": [
        "#Se define model como la función de regresión lineal\n",
        "from sklearn.linear_model import LinearRegression\n",
        "model= LinearRegression()"
      ],
      "metadata": {
        "id": "srIfs2O0OxUF"
      },
      "execution_count": null,
      "outputs": []
    },
    {
      "cell_type": "code",
      "source": [
        "#Verificamos la función relacionada al modelo\n",
        "type(model)"
      ],
      "metadata": {
        "colab": {
          "base_uri": "https://localhost:8080/"
        },
        "id": "A5ryOXF2OxIt",
        "outputId": "0fe009e6-0aee-4071-8f81-9702ef3410df"
      },
      "execution_count": null,
      "outputs": [
        {
          "output_type": "execute_result",
          "data": {
            "text/plain": [
              "sklearn.linear_model._base.LinearRegression"
            ]
          },
          "metadata": {},
          "execution_count": 78
        }
      ]
    },
    {
      "cell_type": "code",
      "source": [
        "#Ajustamos el modelo con las variables antes declaradas\n",
        "model.fit(X=Vars_Indep, y=Var_Dep)"
      ],
      "metadata": {
        "colab": {
          "base_uri": "https://localhost:8080/",
          "height": 74
        },
        "id": "gE6HLjk0Ow_c",
        "outputId": "1c446243-f42a-45a6-d813-88820a622216"
      },
      "execution_count": null,
      "outputs": [
        {
          "output_type": "execute_result",
          "data": {
            "text/plain": [
              "LinearRegression()"
            ],
            "text/html": [
              "<style>#sk-container-id-6 {color: black;background-color: white;}#sk-container-id-6 pre{padding: 0;}#sk-container-id-6 div.sk-toggleable {background-color: white;}#sk-container-id-6 label.sk-toggleable__label {cursor: pointer;display: block;width: 100%;margin-bottom: 0;padding: 0.3em;box-sizing: border-box;text-align: center;}#sk-container-id-6 label.sk-toggleable__label-arrow:before {content: \"▸\";float: left;margin-right: 0.25em;color: #696969;}#sk-container-id-6 label.sk-toggleable__label-arrow:hover:before {color: black;}#sk-container-id-6 div.sk-estimator:hover label.sk-toggleable__label-arrow:before {color: black;}#sk-container-id-6 div.sk-toggleable__content {max-height: 0;max-width: 0;overflow: hidden;text-align: left;background-color: #f0f8ff;}#sk-container-id-6 div.sk-toggleable__content pre {margin: 0.2em;color: black;border-radius: 0.25em;background-color: #f0f8ff;}#sk-container-id-6 input.sk-toggleable__control:checked~div.sk-toggleable__content {max-height: 200px;max-width: 100%;overflow: auto;}#sk-container-id-6 input.sk-toggleable__control:checked~label.sk-toggleable__label-arrow:before {content: \"▾\";}#sk-container-id-6 div.sk-estimator input.sk-toggleable__control:checked~label.sk-toggleable__label {background-color: #d4ebff;}#sk-container-id-6 div.sk-label input.sk-toggleable__control:checked~label.sk-toggleable__label {background-color: #d4ebff;}#sk-container-id-6 input.sk-hidden--visually {border: 0;clip: rect(1px 1px 1px 1px);clip: rect(1px, 1px, 1px, 1px);height: 1px;margin: -1px;overflow: hidden;padding: 0;position: absolute;width: 1px;}#sk-container-id-6 div.sk-estimator {font-family: monospace;background-color: #f0f8ff;border: 1px dotted black;border-radius: 0.25em;box-sizing: border-box;margin-bottom: 0.5em;}#sk-container-id-6 div.sk-estimator:hover {background-color: #d4ebff;}#sk-container-id-6 div.sk-parallel-item::after {content: \"\";width: 100%;border-bottom: 1px solid gray;flex-grow: 1;}#sk-container-id-6 div.sk-label:hover label.sk-toggleable__label {background-color: #d4ebff;}#sk-container-id-6 div.sk-serial::before {content: \"\";position: absolute;border-left: 1px solid gray;box-sizing: border-box;top: 0;bottom: 0;left: 50%;z-index: 0;}#sk-container-id-6 div.sk-serial {display: flex;flex-direction: column;align-items: center;background-color: white;padding-right: 0.2em;padding-left: 0.2em;position: relative;}#sk-container-id-6 div.sk-item {position: relative;z-index: 1;}#sk-container-id-6 div.sk-parallel {display: flex;align-items: stretch;justify-content: center;background-color: white;position: relative;}#sk-container-id-6 div.sk-item::before, #sk-container-id-6 div.sk-parallel-item::before {content: \"\";position: absolute;border-left: 1px solid gray;box-sizing: border-box;top: 0;bottom: 0;left: 50%;z-index: -1;}#sk-container-id-6 div.sk-parallel-item {display: flex;flex-direction: column;z-index: 1;position: relative;background-color: white;}#sk-container-id-6 div.sk-parallel-item:first-child::after {align-self: flex-end;width: 50%;}#sk-container-id-6 div.sk-parallel-item:last-child::after {align-self: flex-start;width: 50%;}#sk-container-id-6 div.sk-parallel-item:only-child::after {width: 0;}#sk-container-id-6 div.sk-dashed-wrapped {border: 1px dashed gray;margin: 0 0.4em 0.5em 0.4em;box-sizing: border-box;padding-bottom: 0.4em;background-color: white;}#sk-container-id-6 div.sk-label label {font-family: monospace;font-weight: bold;display: inline-block;line-height: 1.2em;}#sk-container-id-6 div.sk-label-container {text-align: center;}#sk-container-id-6 div.sk-container {/* jupyter's `normalize.less` sets `[hidden] { display: none; }` but bootstrap.min.css set `[hidden] { display: none !important; }` so we also need the `!important` here to be able to override the default hidden behavior on the sphinx rendered scikit-learn.org. See: https://github.com/scikit-learn/scikit-learn/issues/21755 */display: inline-block !important;position: relative;}#sk-container-id-6 div.sk-text-repr-fallback {display: none;}</style><div id=\"sk-container-id-6\" class=\"sk-top-container\"><div class=\"sk-text-repr-fallback\"><pre>LinearRegression()</pre><b>In a Jupyter environment, please rerun this cell to show the HTML representation or trust the notebook. <br />On GitHub, the HTML representation is unable to render, please try loading this page with nbviewer.org.</b></div><div class=\"sk-container\" hidden><div class=\"sk-item\"><div class=\"sk-estimator sk-toggleable\"><input class=\"sk-toggleable__control sk-hidden--visually\" id=\"sk-estimator-id-6\" type=\"checkbox\" checked><label for=\"sk-estimator-id-6\" class=\"sk-toggleable__label sk-toggleable__label-arrow\">LinearRegression</label><div class=\"sk-toggleable__content\"><pre>LinearRegression()</pre></div></div></div></div></div>"
            ]
          },
          "metadata": {},
          "execution_count": 79
        }
      ]
    },
    {
      "cell_type": "code",
      "source": [
        "#Verificamos los coeficientes obtenidos para el modelo ajustado\n",
        "model.__dict__"
      ],
      "metadata": {
        "colab": {
          "base_uri": "https://localhost:8080/"
        },
        "id": "XTPMEShCO9gY",
        "outputId": "6bf20a51-b5e6-4b77-a466-80eb6eeddfd3"
      },
      "execution_count": null,
      "outputs": [
        {
          "output_type": "execute_result",
          "data": {
            "text/plain": [
              "{'fit_intercept': True,\n",
              " 'copy_X': True,\n",
              " 'n_jobs': None,\n",
              " 'positive': False,\n",
              " 'feature_names_in_': array(['number_of_reviews'], dtype=object),\n",
              " 'n_features_in_': 1,\n",
              " 'coef_': array([0.00083557]),\n",
              " 'rank_': 1,\n",
              " 'singular_': array([4337.60604161]),\n",
              " 'intercept_': 0.8352551045079395}"
            ]
          },
          "metadata": {},
          "execution_count": 80
        }
      ]
    },
    {
      "cell_type": "markdown",
      "source": [
        "Modelo matemático y= 0.00083557x + 0.8352551045079395"
      ],
      "metadata": {
        "id": "cBL3w9hJPbgH"
      }
    },
    {
      "cell_type": "code",
      "source": [
        "#Evaluamos la eficiencia del modelo obtenido por medio del coeficiente R Determinación\n",
        "model.score(Vars_Indep,Var_Dep)"
      ],
      "metadata": {
        "colab": {
          "base_uri": "https://localhost:8080/"
        },
        "id": "srH19UlVOw2a",
        "outputId": "5b0565e2-06f5-4cd4-ff2b-7452504f9a77"
      },
      "execution_count": null,
      "outputs": [
        {
          "output_type": "execute_result",
          "data": {
            "text/plain": [
              "0.008920666143499512"
            ]
          },
          "metadata": {},
          "execution_count": 81
        }
      ]
    },
    {
      "cell_type": "code",
      "source": [
        "#Predecimos los valores de total de accidentes a partir de la variable \"number_of_reviews\"\n",
        "y_pred= model.predict(X=filtro2[['number_of_reviews']])\n",
        "y_pred"
      ],
      "metadata": {
        "colab": {
          "base_uri": "https://localhost:8080/"
        },
        "id": "3N0DTziQOwqy",
        "outputId": "d77f57f2-2195-4911-eb4a-9e9ec6c7c6f4"
      },
      "execution_count": null,
      "outputs": [
        {
          "output_type": "execute_result",
          "data": {
            "text/plain": [
              "array([0.89708725, 0.84444637, 0.85948662, ..., 0.8352551 , 0.8352551 ,\n",
              "       0.8352551 ])"
            ]
          },
          "metadata": {},
          "execution_count": 82
        }
      ]
    },
    {
      "cell_type": "code",
      "source": [
        "#Corroboramos cual es el coeficiente de Determinación de nuestro modelo\n",
        "coef_Deter=model.score(X=Vars_Indep, y=Var_Dep)\n",
        "coef_Deter"
      ],
      "metadata": {
        "colab": {
          "base_uri": "https://localhost:8080/"
        },
        "id": "dZBANs81PGRF",
        "outputId": "e24a18c1-5247-4ccc-b7c4-e4515958928b"
      },
      "execution_count": null,
      "outputs": [
        {
          "output_type": "execute_result",
          "data": {
            "text/plain": [
              "0.008920666143499512"
            ]
          },
          "metadata": {},
          "execution_count": 83
        }
      ]
    },
    {
      "cell_type": "code",
      "source": [
        "#Corroboramos cual es el coeficiente de Correlación de nuestro modelo\n",
        "coef_Correl=np.sqrt(coef_Deter)\n",
        "coef_Correl"
      ],
      "metadata": {
        "colab": {
          "base_uri": "https://localhost:8080/"
        },
        "id": "zHsyNR7FPMWV",
        "outputId": "ab368a2f-1cf5-454f-e230-09ff324dcbb9"
      },
      "execution_count": null,
      "outputs": [
        {
          "output_type": "execute_result",
          "data": {
            "text/plain": [
              "0.09444927815234752"
            ]
          },
          "metadata": {},
          "execution_count": 84
        }
      ]
    },
    {
      "cell_type": "markdown",
      "source": [
        "# **review_scores_location vs review_scores_cleanliness**"
      ],
      "metadata": {
        "id": "dDV3uRgSORuY"
      }
    },
    {
      "cell_type": "markdown",
      "source": [
        "hotel room "
      ],
      "metadata": {
        "id": "EKq_BEYzOZN-"
      }
    },
    {
      "cell_type": "code",
      "source": [
        "#Imprimimos el scatter plot entre la variable dependiente (review_scores_location) e independiente (review_scores_cleanliness) \n",
        "#para observar el comportamiento en su dispersión \n",
        "from turtle import color\n",
        "\n",
        "\n",
        "sns.scatterplot(x='review_scores_cleanliness', y='review_scores_location', color=\"blue\", data=filtro1)"
      ],
      "metadata": {
        "colab": {
          "base_uri": "https://localhost:8080/",
          "height": 467
        },
        "id": "V67hESI_OVfm",
        "outputId": "3c3c0aa2-e9d7-40af-828b-269193bd546b"
      },
      "execution_count": null,
      "outputs": [
        {
          "output_type": "execute_result",
          "data": {
            "text/plain": [
              "<Axes: xlabel='review_scores_cleanliness', ylabel='review_scores_location'>"
            ]
          },
          "metadata": {},
          "execution_count": 85
        },
        {
          "output_type": "display_data",
          "data": {
            "text/plain": [
              "<Figure size 640x480 with 1 Axes>"
            ],
            "image/png": "[encoded data removed]"
          },
          "metadata": {}
        }
      ]
    },
    {
      "cell_type": "code",
      "source": [
        "Vars_Indep= filtro1[['review_scores_cleanliness']]\n",
        "Var_Dep= filtro1['review_scores_location']"
      ],
      "metadata": {
        "id": "LHnrRFn0PmzC"
      },
      "execution_count": null,
      "outputs": []
    },
    {
      "cell_type": "code",
      "source": [
        "#Se define model como la función de regresión lineal\n",
        "from sklearn.linear_model import LinearRegression\n",
        "model= LinearRegression()"
      ],
      "metadata": {
        "id": "0QjlGbN6Pmod"
      },
      "execution_count": null,
      "outputs": []
    },
    {
      "cell_type": "code",
      "source": [
        "#Verificamos la función relacionada al modelo\n",
        "type(model)"
      ],
      "metadata": {
        "colab": {
          "base_uri": "https://localhost:8080/"
        },
        "id": "7rH1rAkKPmcx",
        "outputId": "e1ddc53c-b910-4e4f-b8a0-d90844e1658b"
      },
      "execution_count": null,
      "outputs": [
        {
          "output_type": "execute_result",
          "data": {
            "text/plain": [
              "sklearn.linear_model._base.LinearRegression"
            ]
          },
          "metadata": {},
          "execution_count": 88
        }
      ]
    },
    {
      "cell_type": "code",
      "source": [
        "#Ajustamos el modelo con las variables antes declaradas\n",
        "model.fit(X=Vars_Indep, y=Var_Dep)"
      ],
      "metadata": {
        "colab": {
          "base_uri": "https://localhost:8080/",
          "height": 74
        },
        "id": "_8RkJXiPPmSu",
        "outputId": "52fe1ee9-8971-44f6-8893-794f585a3f1b"
      },
      "execution_count": null,
      "outputs": [
        {
          "output_type": "execute_result",
          "data": {
            "text/plain": [
              "LinearRegression()"
            ],
            "text/html": [
              "<style>#sk-container-id-7 {color: black;background-color: white;}#sk-container-id-7 pre{padding: 0;}#sk-container-id-7 div.sk-toggleable {background-color: white;}#sk-container-id-7 label.sk-toggleable__label {cursor: pointer;display: block;width: 100%;margin-bottom: 0;padding: 0.3em;box-sizing: border-box;text-align: center;}#sk-container-id-7 label.sk-toggleable__label-arrow:before {content: \"▸\";float: left;margin-right: 0.25em;color: #696969;}#sk-container-id-7 label.sk-toggleable__label-arrow:hover:before {color: black;}#sk-container-id-7 div.sk-estimator:hover label.sk-toggleable__label-arrow:before {color: black;}#sk-container-id-7 div.sk-toggleable__content {max-height: 0;max-width: 0;overflow: hidden;text-align: left;background-color: #f0f8ff;}#sk-container-id-7 div.sk-toggleable__content pre {margin: 0.2em;color: black;border-radius: 0.25em;background-color: #f0f8ff;}#sk-container-id-7 input.sk-toggleable__control:checked~div.sk-toggleable__content {max-height: 200px;max-width: 100%;overflow: auto;}#sk-container-id-7 input.sk-toggleable__control:checked~label.sk-toggleable__label-arrow:before {content: \"▾\";}#sk-container-id-7 div.sk-estimator input.sk-toggleable__control:checked~label.sk-toggleable__label {background-color: #d4ebff;}#sk-container-id-7 div.sk-label input.sk-toggleable__control:checked~label.sk-toggleable__label {background-color: #d4ebff;}#sk-container-id-7 input.sk-hidden--visually {border: 0;clip: rect(1px 1px 1px 1px);clip: rect(1px, 1px, 1px, 1px);height: 1px;margin: -1px;overflow: hidden;padding: 0;position: absolute;width: 1px;}#sk-container-id-7 div.sk-estimator {font-family: monospace;background-color: #f0f8ff;border: 1px dotted black;border-radius: 0.25em;box-sizing: border-box;margin-bottom: 0.5em;}#sk-container-id-7 div.sk-estimator:hover {background-color: #d4ebff;}#sk-container-id-7 div.sk-parallel-item::after {content: \"\";width: 100%;border-bottom: 1px solid gray;flex-grow: 1;}#sk-container-id-7 div.sk-label:hover label.sk-toggleable__label {background-color: #d4ebff;}#sk-container-id-7 div.sk-serial::before {content: \"\";position: absolute;border-left: 1px solid gray;box-sizing: border-box;top: 0;bottom: 0;left: 50%;z-index: 0;}#sk-container-id-7 div.sk-serial {display: flex;flex-direction: column;align-items: center;background-color: white;padding-right: 0.2em;padding-left: 0.2em;position: relative;}#sk-container-id-7 div.sk-item {position: relative;z-index: 1;}#sk-container-id-7 div.sk-parallel {display: flex;align-items: stretch;justify-content: center;background-color: white;position: relative;}#sk-container-id-7 div.sk-item::before, #sk-container-id-7 div.sk-parallel-item::before {content: \"\";position: absolute;border-left: 1px solid gray;box-sizing: border-box;top: 0;bottom: 0;left: 50%;z-index: -1;}#sk-container-id-7 div.sk-parallel-item {display: flex;flex-direction: column;z-index: 1;position: relative;background-color: white;}#sk-container-id-7 div.sk-parallel-item:first-child::after {align-self: flex-end;width: 50%;}#sk-container-id-7 div.sk-parallel-item:last-child::after {align-self: flex-start;width: 50%;}#sk-container-id-7 div.sk-parallel-item:only-child::after {width: 0;}#sk-container-id-7 div.sk-dashed-wrapped {border: 1px dashed gray;margin: 0 0.4em 0.5em 0.4em;box-sizing: border-box;padding-bottom: 0.4em;background-color: white;}#sk-container-id-7 div.sk-label label {font-family: monospace;font-weight: bold;display: inline-block;line-height: 1.2em;}#sk-container-id-7 div.sk-label-container {text-align: center;}#sk-container-id-7 div.sk-container {/* jupyter's `normalize.less` sets `[hidden] { display: none; }` but bootstrap.min.css set `[hidden] { display: none !important; }` so we also need the `!important` here to be able to override the default hidden behavior on the sphinx rendered scikit-learn.org. See: https://github.com/scikit-learn/scikit-learn/issues/21755 */display: inline-block !important;position: relative;}#sk-container-id-7 div.sk-text-repr-fallback {display: none;}</style><div id=\"sk-container-id-7\" class=\"sk-top-container\"><div class=\"sk-text-repr-fallback\"><pre>LinearRegression()</pre><b>In a Jupyter environment, please rerun this cell to show the HTML representation or trust the notebook. <br />On GitHub, the HTML representation is unable to render, please try loading this page with nbviewer.org.</b></div><div class=\"sk-container\" hidden><div class=\"sk-item\"><div class=\"sk-estimator sk-toggleable\"><input class=\"sk-toggleable__control sk-hidden--visually\" id=\"sk-estimator-id-7\" type=\"checkbox\" checked><label for=\"sk-estimator-id-7\" class=\"sk-toggleable__label sk-toggleable__label-arrow\">LinearRegression</label><div class=\"sk-toggleable__content\"><pre>LinearRegression()</pre></div></div></div></div></div>"
            ]
          },
          "metadata": {},
          "execution_count": 89
        }
      ]
    },
    {
      "cell_type": "code",
      "source": [
        "#Verificamos los coeficientes obtenidos para el modelo ajustado\n",
        "model.__dict__"
      ],
      "metadata": {
        "colab": {
          "base_uri": "https://localhost:8080/"
        },
        "id": "S7rPSwPJPmH4",
        "outputId": "5060b59a-fb47-4b6a-9888-4111bae7676b"
      },
      "execution_count": null,
      "outputs": [
        {
          "output_type": "execute_result",
          "data": {
            "text/plain": [
              "{'fit_intercept': True,\n",
              " 'copy_X': True,\n",
              " 'n_jobs': None,\n",
              " 'positive': False,\n",
              " 'feature_names_in_': array(['review_scores_cleanliness'], dtype=object),\n",
              " 'n_features_in_': 1,\n",
              " 'coef_': array([0.98117775]),\n",
              " 'rank_': 1,\n",
              " 'singular_': array([15.01557884]),\n",
              " 'intercept_': 0.041366507423097776}"
            ]
          },
          "metadata": {},
          "execution_count": 90
        }
      ]
    },
    {
      "cell_type": "markdown",
      "source": [
        "Modelo matemático y= 0.71790653x + 1.41489079217234"
      ],
      "metadata": {
        "id": "XbQBS7I3QAK8"
      }
    },
    {
      "cell_type": "code",
      "source": [
        "#Evaluamos la eficiencia del modelo obtenido por medio del coeficiente R Determinación\n",
        "model.score(Vars_Indep,Var_Dep)"
      ],
      "metadata": {
        "colab": {
          "base_uri": "https://localhost:8080/"
        },
        "id": "eCcRWAlUPmAj",
        "outputId": "c6857f7f-3daf-4bb0-fabe-83c6b640071f"
      },
      "execution_count": null,
      "outputs": [
        {
          "output_type": "execute_result",
          "data": {
            "text/plain": [
              "0.9662795566982345"
            ]
          },
          "metadata": {},
          "execution_count": 91
        }
      ]
    },
    {
      "cell_type": "code",
      "source": [
        "#Predecimos los valores de total de accidentes a partir de la variable \"number_of_reviews\"\n",
        "y_pred= model.predict(X=filtro1[['review_scores_cleanliness']])\n",
        "y_pred"
      ],
      "metadata": {
        "colab": {
          "base_uri": "https://localhost:8080/"
        },
        "id": "0m6u5o4tPl4t",
        "outputId": "bb8e3646-444e-42a2-f64c-91d7dda2b694"
      },
      "execution_count": null,
      "outputs": [
        {
          "output_type": "execute_result",
          "data": {
            "text/plain": [
              "array([4.13287772, 4.54497237, 4.45666638, 4.49591349, 4.68233726,\n",
              "       4.28986616, 4.8393257 , 4.70196081, 4.22118372, 3.9660775 ,\n",
              "       3.72078306, 4.94725525, 0.04136651, 0.04136651, 4.39779571,\n",
              "       4.94725525, 4.62346659, 4.7510197 , 4.94725525, 4.6627137 ,\n",
              "       4.76083148, 4.72158437, 4.94725525, 0.04136651, 0.04136651,\n",
              "       4.94725525, 4.91781992, 4.94725525, 3.9660775 , 4.94725525,\n",
              "       4.72158437, 4.94725525, 4.74120792, 4.64309015, 4.7510197 ,\n",
              "       4.55478415, 0.04136651, 4.82951392, 4.84913748, 0.04136651,\n",
              "       0.04136651, 4.94725525, 0.04136651, 0.04136651, 0.04136651,\n",
              "       0.04136651, 0.04136651, 0.04136651, 0.04136651, 4.70196081])"
            ]
          },
          "metadata": {},
          "execution_count": 92
        }
      ]
    },
    {
      "cell_type": "code",
      "source": [
        "#Corroboramos cual es el coeficiente de Determinación de nuestro modelo\n",
        "coef_Deter=model.score(X=Vars_Indep, y=Var_Dep)\n",
        "coef_Deter"
      ],
      "metadata": {
        "colab": {
          "base_uri": "https://localhost:8080/"
        },
        "id": "HfOrx4fOPlxU",
        "outputId": "a2119d2b-eadf-4165-a766-677c4b962c02"
      },
      "execution_count": null,
      "outputs": [
        {
          "output_type": "execute_result",
          "data": {
            "text/plain": [
              "0.9662795566982345"
            ]
          },
          "metadata": {},
          "execution_count": 93
        }
      ]
    },
    {
      "cell_type": "code",
      "source": [
        "#Corroboramos cual es el coeficiente de Correlación de nuestro modelo\n",
        "coef_Correl=np.sqrt(coef_Deter)\n",
        "coef_Correl"
      ],
      "metadata": {
        "colab": {
          "base_uri": "https://localhost:8080/"
        },
        "id": "lJgDf8uHPlp4",
        "outputId": "2ee6917d-6c74-4ce4-bdf2-6723630776c1"
      },
      "execution_count": null,
      "outputs": [
        {
          "output_type": "execute_result",
          "data": {
            "text/plain": [
              "0.9829951966811611"
            ]
          },
          "metadata": {},
          "execution_count": 94
        }
      ]
    },
    {
      "cell_type": "markdown",
      "source": [
        "Entire home/apt"
      ],
      "metadata": {
        "id": "_Wv0TQ-7QIma"
      }
    },
    {
      "cell_type": "code",
      "source": [
        "#Imprimimos el scatter plot entre la variable dependiente (review_scores_location) e independiente (review_scores_cleanliness) \n",
        "#para observar el comportamiento en su dispersión \n",
        "from turtle import color\n",
        "\n",
        "\n",
        "sns.scatterplot(x='review_scores_cleanliness', y='review_scores_location', color=\"blue\", data=filtro2)"
      ],
      "metadata": {
        "colab": {
          "base_uri": "https://localhost:8080/",
          "height": 467
        },
        "id": "iIQBCXyFQNE6",
        "outputId": "1e5c71a0-c457-4cce-ef1d-870e847b37e8"
      },
      "execution_count": null,
      "outputs": [
        {
          "output_type": "execute_result",
          "data": {
            "text/plain": [
              "<Axes: xlabel='review_scores_cleanliness', ylabel='review_scores_location'>"
            ]
          },
          "metadata": {},
          "execution_count": 95
        },
        {
          "output_type": "display_data",
          "data": {
            "text/plain": [
              "<Figure size 640x480 with 1 Axes>"
            ],
            "image/png": "[encoded data removed]"
          },
          "metadata": {}
        }
      ]
    },
    {
      "cell_type": "code",
      "source": [
        "Vars_Indep= filtro2[['review_scores_cleanliness']]\n",
        "Var_Dep= filtro2['review_scores_location']"
      ],
      "metadata": {
        "id": "XLx3BsNJQOZd"
      },
      "execution_count": null,
      "outputs": []
    },
    {
      "cell_type": "code",
      "source": [
        "#Se define model como la función de regresión lineal\n",
        "from sklearn.linear_model import LinearRegression\n",
        "model= LinearRegression()"
      ],
      "metadata": {
        "id": "4PoUGYdsQOOQ"
      },
      "execution_count": null,
      "outputs": []
    },
    {
      "cell_type": "code",
      "source": [
        "#Verificamos la función relacionada al modelo\n",
        "type(model)"
      ],
      "metadata": {
        "colab": {
          "base_uri": "https://localhost:8080/"
        },
        "id": "SnoKQWQzQOJC",
        "outputId": "254338ab-08f6-4189-c0cf-ea48a8a853f1"
      },
      "execution_count": null,
      "outputs": [
        {
          "output_type": "execute_result",
          "data": {
            "text/plain": [
              "sklearn.linear_model._base.LinearRegression"
            ]
          },
          "metadata": {},
          "execution_count": 98
        }
      ]
    },
    {
      "cell_type": "code",
      "source": [
        "#Ajustamos el modelo con las variables antes declaradas\n",
        "model.fit(X=Vars_Indep, y=Var_Dep)"
      ],
      "metadata": {
        "colab": {
          "base_uri": "https://localhost:8080/",
          "height": 74
        },
        "id": "m4Y9jAfbQOD8",
        "outputId": "39bc775f-0e82-4901-d607-d847a700f77e"
      },
      "execution_count": null,
      "outputs": [
        {
          "output_type": "execute_result",
          "data": {
            "text/plain": [
              "LinearRegression()"
            ],
            "text/html": [
              "<style>#sk-container-id-8 {color: black;background-color: white;}#sk-container-id-8 pre{padding: 0;}#sk-container-id-8 div.sk-toggleable {background-color: white;}#sk-container-id-8 label.sk-toggleable__label {cursor: pointer;display: block;width: 100%;margin-bottom: 0;padding: 0.3em;box-sizing: border-box;text-align: center;}#sk-container-id-8 label.sk-toggleable__label-arrow:before {content: \"▸\";float: left;margin-right: 0.25em;color: #696969;}#sk-container-id-8 label.sk-toggleable__label-arrow:hover:before {color: black;}#sk-container-id-8 div.sk-estimator:hover label.sk-toggleable__label-arrow:before {color: black;}#sk-container-id-8 div.sk-toggleable__content {max-height: 0;max-width: 0;overflow: hidden;text-align: left;background-color: #f0f8ff;}#sk-container-id-8 div.sk-toggleable__content pre {margin: 0.2em;color: black;border-radius: 0.25em;background-color: #f0f8ff;}#sk-container-id-8 input.sk-toggleable__control:checked~div.sk-toggleable__content {max-height: 200px;max-width: 100%;overflow: auto;}#sk-container-id-8 input.sk-toggleable__control:checked~label.sk-toggleable__label-arrow:before {content: \"▾\";}#sk-container-id-8 div.sk-estimator input.sk-toggleable__control:checked~label.sk-toggleable__label {background-color: #d4ebff;}#sk-container-id-8 div.sk-label input.sk-toggleable__control:checked~label.sk-toggleable__label {background-color: #d4ebff;}#sk-container-id-8 input.sk-hidden--visually {border: 0;clip: rect(1px 1px 1px 1px);clip: rect(1px, 1px, 1px, 1px);height: 1px;margin: -1px;overflow: hidden;padding: 0;position: absolute;width: 1px;}#sk-container-id-8 div.sk-estimator {font-family: monospace;background-color: #f0f8ff;border: 1px dotted black;border-radius: 0.25em;box-sizing: border-box;margin-bottom: 0.5em;}#sk-container-id-8 div.sk-estimator:hover {background-color: #d4ebff;}#sk-container-id-8 div.sk-parallel-item::after {content: \"\";width: 100%;border-bottom: 1px solid gray;flex-grow: 1;}#sk-container-id-8 div.sk-label:hover label.sk-toggleable__label {background-color: #d4ebff;}#sk-container-id-8 div.sk-serial::before {content: \"\";position: absolute;border-left: 1px solid gray;box-sizing: border-box;top: 0;bottom: 0;left: 50%;z-index: 0;}#sk-container-id-8 div.sk-serial {display: flex;flex-direction: column;align-items: center;background-color: white;padding-right: 0.2em;padding-left: 0.2em;position: relative;}#sk-container-id-8 div.sk-item {position: relative;z-index: 1;}#sk-container-id-8 div.sk-parallel {display: flex;align-items: stretch;justify-content: center;background-color: white;position: relative;}#sk-container-id-8 div.sk-item::before, #sk-container-id-8 div.sk-parallel-item::before {content: \"\";position: absolute;border-left: 1px solid gray;box-sizing: border-box;top: 0;bottom: 0;left: 50%;z-index: -1;}#sk-container-id-8 div.sk-parallel-item {display: flex;flex-direction: column;z-index: 1;position: relative;background-color: white;}#sk-container-id-8 div.sk-parallel-item:first-child::after {align-self: flex-end;width: 50%;}#sk-container-id-8 div.sk-parallel-item:last-child::after {align-self: flex-start;width: 50%;}#sk-container-id-8 div.sk-parallel-item:only-child::after {width: 0;}#sk-container-id-8 div.sk-dashed-wrapped {border: 1px dashed gray;margin: 0 0.4em 0.5em 0.4em;box-sizing: border-box;padding-bottom: 0.4em;background-color: white;}#sk-container-id-8 div.sk-label label {font-family: monospace;font-weight: bold;display: inline-block;line-height: 1.2em;}#sk-container-id-8 div.sk-label-container {text-align: center;}#sk-container-id-8 div.sk-container {/* jupyter's `normalize.less` sets `[hidden] { display: none; }` but bootstrap.min.css set `[hidden] { display: none !important; }` so we also need the `!important` here to be able to override the default hidden behavior on the sphinx rendered scikit-learn.org. See: https://github.com/scikit-learn/scikit-learn/issues/21755 */display: inline-block !important;position: relative;}#sk-container-id-8 div.sk-text-repr-fallback {display: none;}</style><div id=\"sk-container-id-8\" class=\"sk-top-container\"><div class=\"sk-text-repr-fallback\"><pre>LinearRegression()</pre><b>In a Jupyter environment, please rerun this cell to show the HTML representation or trust the notebook. <br />On GitHub, the HTML representation is unable to render, please try loading this page with nbviewer.org.</b></div><div class=\"sk-container\" hidden><div class=\"sk-item\"><div class=\"sk-estimator sk-toggleable\"><input class=\"sk-toggleable__control sk-hidden--visually\" id=\"sk-estimator-id-8\" type=\"checkbox\" checked><label for=\"sk-estimator-id-8\" class=\"sk-toggleable__label sk-toggleable__label-arrow\">LinearRegression</label><div class=\"sk-toggleable__content\"><pre>LinearRegression()</pre></div></div></div></div></div>"
            ]
          },
          "metadata": {},
          "execution_count": 99
        }
      ]
    },
    {
      "cell_type": "code",
      "source": [
        "#Verificamos los coeficientes obtenidos para el modelo ajustado\n",
        "model.__dict__"
      ],
      "metadata": {
        "colab": {
          "base_uri": "https://localhost:8080/"
        },
        "id": "H8fbitGVQN-i",
        "outputId": "eaf75341-218e-4410-fc13-d9eeaa31b6ce"
      },
      "execution_count": null,
      "outputs": [
        {
          "output_type": "execute_result",
          "data": {
            "text/plain": [
              "{'fit_intercept': True,\n",
              " 'copy_X': True,\n",
              " 'n_jobs': None,\n",
              " 'positive': False,\n",
              " 'feature_names_in_': array(['review_scores_cleanliness'], dtype=object),\n",
              " 'n_features_in_': 1,\n",
              " 'coef_': array([0.9955828]),\n",
              " 'rank_': 1,\n",
              " 'singular_': array([279.32759063]),\n",
              " 'intercept_': 0.15144604961745767}"
            ]
          },
          "metadata": {},
          "execution_count": 100
        }
      ]
    },
    {
      "cell_type": "markdown",
      "source": [
        "Modelo matemático y= 0.9955828x + 0.15144604961745767"
      ],
      "metadata": {
        "id": "zLDyL4Y-S726"
      }
    },
    {
      "cell_type": "code",
      "source": [
        "#Evaluamos la eficiencia del modelo obtenido por medio del coeficiente R Determinación\n",
        "model.score(Vars_Indep,Var_Dep)"
      ],
      "metadata": {
        "colab": {
          "base_uri": "https://localhost:8080/"
        },
        "id": "37IyAiY3QN5P",
        "outputId": "46817c46-5454-4f27-e72a-98f8ad899f46"
      },
      "execution_count": null,
      "outputs": [
        {
          "output_type": "execute_result",
          "data": {
            "text/plain": [
              "0.9442438440398643"
            ]
          },
          "metadata": {},
          "execution_count": 101
        }
      ]
    },
    {
      "cell_type": "code",
      "source": [
        "#Predecimos los valores de total de accidentes a partir de la variable \"number_of_reviews\"\n",
        "y_pred= model.predict(X=filtro2[['review_scores_cleanliness']])\n",
        "y_pred"
      ],
      "metadata": {
        "colab": {
          "base_uri": "https://localhost:8080/"
        },
        "id": "bW2PmW4sQNzy",
        "outputId": "c1b4c084-0dd0-4475-93ad-120b21123727"
      },
      "execution_count": null,
      "outputs": [
        {
          "output_type": "execute_result",
          "data": {
            "text/plain": [
              "array([4.44240791, 4.95015514, 4.82072937, ..., 0.15144605, 0.15144605,\n",
              "       0.15144605])"
            ]
          },
          "metadata": {},
          "execution_count": 102
        }
      ]
    },
    {
      "cell_type": "code",
      "source": [
        "#Corroboramos cual es el coeficiente de Determinación de nuestro modelo\n",
        "coef_Deter=model.score(X=Vars_Indep, y=Var_Dep)\n",
        "coef_Deter"
      ],
      "metadata": {
        "colab": {
          "base_uri": "https://localhost:8080/"
        },
        "id": "_m2327zaQNta",
        "outputId": "d914c0b0-126d-4fd7-e874-eefc8acbc343"
      },
      "execution_count": null,
      "outputs": [
        {
          "output_type": "execute_result",
          "data": {
            "text/plain": [
              "0.9442438440398643"
            ]
          },
          "metadata": {},
          "execution_count": 103
        }
      ]
    },
    {
      "cell_type": "code",
      "source": [
        "#Corroboramos cual es el coeficiente de Correlación de nuestro modelo\n",
        "coef_Correl=np.sqrt(coef_Deter)\n",
        "coef_Correl"
      ],
      "metadata": {
        "colab": {
          "base_uri": "https://localhost:8080/"
        },
        "id": "SQ1mwIY2QNni",
        "outputId": "47b88ce9-7866-43d8-bfb3-881dc56f9909"
      },
      "execution_count": null,
      "outputs": [
        {
          "output_type": "execute_result",
          "data": {
            "text/plain": [
              "0.9717221022699156"
            ]
          },
          "metadata": {},
          "execution_count": 104
        }
      ]
    },
    {
      "cell_type": "markdown",
      "source": [
        "# **availability_365 vs number_of_reviews**"
      ],
      "metadata": {
        "id": "6_tWeoBzT8Bz"
      }
    },
    {
      "cell_type": "markdown",
      "source": [
        "hotel room"
      ],
      "metadata": {
        "id": "FkA3r3KHVJmK"
      }
    },
    {
      "cell_type": "code",
      "source": [
        "#Imprimimos el scatter plot entre la variable dependiente (availability_365) e independiente (number_of_reviews) \n",
        "#para observar el comportamiento en su dispersión \n",
        "from turtle import color\n",
        "\n",
        "\n",
        "sns.scatterplot(x='number_of_reviews', y='availability_365', color=\"blue\", data=filtro1)"
      ],
      "metadata": {
        "colab": {
          "base_uri": "https://localhost:8080/",
          "height": 467
        },
        "id": "zBzp_qmeT_y8",
        "outputId": "09a911f4-03d4-409a-b0c5-c64a4c1cdadc"
      },
      "execution_count": null,
      "outputs": [
        {
          "output_type": "execute_result",
          "data": {
            "text/plain": [
              "<Axes: xlabel='number_of_reviews', ylabel='availability_365'>"
            ]
          },
          "metadata": {},
          "execution_count": 105
        },
        {
          "output_type": "display_data",
          "data": {
            "text/plain": [
              "<Figure size 640x480 with 1 Axes>"
            ],
            "image/png": "[encoded data removed]"
          },
          "metadata": {}
        }
      ]
    },
    {
      "cell_type": "code",
      "source": [
        "Vars_Indep= filtro1[['number_of_reviews']]\n",
        "Var_Dep= filtro1['availability_365']"
      ],
      "metadata": {
        "id": "IxLmC_9oVUkC"
      },
      "execution_count": null,
      "outputs": []
    },
    {
      "cell_type": "code",
      "source": [
        "#Se define model como la función de regresión lineal\n",
        "from sklearn.linear_model import LinearRegression\n",
        "model= LinearRegression()"
      ],
      "metadata": {
        "id": "KxoLEGYjVUdQ"
      },
      "execution_count": null,
      "outputs": []
    },
    {
      "cell_type": "code",
      "source": [
        "#Verificamos la función relacionada al modelo\n",
        "type(model)"
      ],
      "metadata": {
        "colab": {
          "base_uri": "https://localhost:8080/"
        },
        "id": "1qJmlUWPVUWy",
        "outputId": "9d911a4a-2ba7-443a-b9b2-205971b88b93"
      },
      "execution_count": null,
      "outputs": [
        {
          "output_type": "execute_result",
          "data": {
            "text/plain": [
              "sklearn.linear_model._base.LinearRegression"
            ]
          },
          "metadata": {},
          "execution_count": 108
        }
      ]
    },
    {
      "cell_type": "code",
      "source": [
        "#Ajustamos el modelo con las variables antes declaradas\n",
        "model.fit(X=Vars_Indep, y=Var_Dep)"
      ],
      "metadata": {
        "colab": {
          "base_uri": "https://localhost:8080/",
          "height": 74
        },
        "id": "iKWLUu28VUQw",
        "outputId": "d9ffd588-4120-4cb6-bf49-71b688f3d862"
      },
      "execution_count": null,
      "outputs": [
        {
          "output_type": "execute_result",
          "data": {
            "text/plain": [
              "LinearRegression()"
            ],
            "text/html": [
              "<style>#sk-container-id-9 {color: black;background-color: white;}#sk-container-id-9 pre{padding: 0;}#sk-container-id-9 div.sk-toggleable {background-color: white;}#sk-container-id-9 label.sk-toggleable__label {cursor: pointer;display: block;width: 100%;margin-bottom: 0;padding: 0.3em;box-sizing: border-box;text-align: center;}#sk-container-id-9 label.sk-toggleable__label-arrow:before {content: \"▸\";float: left;margin-right: 0.25em;color: #696969;}#sk-container-id-9 label.sk-toggleable__label-arrow:hover:before {color: black;}#sk-container-id-9 div.sk-estimator:hover label.sk-toggleable__label-arrow:before {color: black;}#sk-container-id-9 div.sk-toggleable__content {max-height: 0;max-width: 0;overflow: hidden;text-align: left;background-color: #f0f8ff;}#sk-container-id-9 div.sk-toggleable__content pre {margin: 0.2em;color: black;border-radius: 0.25em;background-color: #f0f8ff;}#sk-container-id-9 input.sk-toggleable__control:checked~div.sk-toggleable__content {max-height: 200px;max-width: 100%;overflow: auto;}#sk-container-id-9 input.sk-toggleable__control:checked~label.sk-toggleable__label-arrow:before {content: \"▾\";}#sk-container-id-9 div.sk-estimator input.sk-toggleable__control:checked~label.sk-toggleable__label {background-color: #d4ebff;}#sk-container-id-9 div.sk-label input.sk-toggleable__control:checked~label.sk-toggleable__label {background-color: #d4ebff;}#sk-container-id-9 input.sk-hidden--visually {border: 0;clip: rect(1px 1px 1px 1px);clip: rect(1px, 1px, 1px, 1px);height: 1px;margin: -1px;overflow: hidden;padding: 0;position: absolute;width: 1px;}#sk-container-id-9 div.sk-estimator {font-family: monospace;background-color: #f0f8ff;border: 1px dotted black;border-radius: 0.25em;box-sizing: border-box;margin-bottom: 0.5em;}#sk-container-id-9 div.sk-estimator:hover {background-color: #d4ebff;}#sk-container-id-9 div.sk-parallel-item::after {content: \"\";width: 100%;border-bottom: 1px solid gray;flex-grow: 1;}#sk-container-id-9 div.sk-label:hover label.sk-toggleable__label {background-color: #d4ebff;}#sk-container-id-9 div.sk-serial::before {content: \"\";position: absolute;border-left: 1px solid gray;box-sizing: border-box;top: 0;bottom: 0;left: 50%;z-index: 0;}#sk-container-id-9 div.sk-serial {display: flex;flex-direction: column;align-items: center;background-color: white;padding-right: 0.2em;padding-left: 0.2em;position: relative;}#sk-container-id-9 div.sk-item {position: relative;z-index: 1;}#sk-container-id-9 div.sk-parallel {display: flex;align-items: stretch;justify-content: center;background-color: white;position: relative;}#sk-container-id-9 div.sk-item::before, #sk-container-id-9 div.sk-parallel-item::before {content: \"\";position: absolute;border-left: 1px solid gray;box-sizing: border-box;top: 0;bottom: 0;left: 50%;z-index: -1;}#sk-container-id-9 div.sk-parallel-item {display: flex;flex-direction: column;z-index: 1;position: relative;background-color: white;}#sk-container-id-9 div.sk-parallel-item:first-child::after {align-self: flex-end;width: 50%;}#sk-container-id-9 div.sk-parallel-item:last-child::after {align-self: flex-start;width: 50%;}#sk-container-id-9 div.sk-parallel-item:only-child::after {width: 0;}#sk-container-id-9 div.sk-dashed-wrapped {border: 1px dashed gray;margin: 0 0.4em 0.5em 0.4em;box-sizing: border-box;padding-bottom: 0.4em;background-color: white;}#sk-container-id-9 div.sk-label label {font-family: monospace;font-weight: bold;display: inline-block;line-height: 1.2em;}#sk-container-id-9 div.sk-label-container {text-align: center;}#sk-container-id-9 div.sk-container {/* jupyter's `normalize.less` sets `[hidden] { display: none; }` but bootstrap.min.css set `[hidden] { display: none !important; }` so we also need the `!important` here to be able to override the default hidden behavior on the sphinx rendered scikit-learn.org. See: https://github.com/scikit-learn/scikit-learn/issues/21755 */display: inline-block !important;position: relative;}#sk-container-id-9 div.sk-text-repr-fallback {display: none;}</style><div id=\"sk-container-id-9\" class=\"sk-top-container\"><div class=\"sk-text-repr-fallback\"><pre>LinearRegression()</pre><b>In a Jupyter environment, please rerun this cell to show the HTML representation or trust the notebook. <br />On GitHub, the HTML representation is unable to render, please try loading this page with nbviewer.org.</b></div><div class=\"sk-container\" hidden><div class=\"sk-item\"><div class=\"sk-estimator sk-toggleable\"><input class=\"sk-toggleable__control sk-hidden--visually\" id=\"sk-estimator-id-9\" type=\"checkbox\" checked><label for=\"sk-estimator-id-9\" class=\"sk-toggleable__label sk-toggleable__label-arrow\">LinearRegression</label><div class=\"sk-toggleable__content\"><pre>LinearRegression()</pre></div></div></div></div></div>"
            ]
          },
          "metadata": {},
          "execution_count": 109
        }
      ]
    },
    {
      "cell_type": "code",
      "source": [
        "#Verificamos los coeficientes obtenidos para el modelo ajustado\n",
        "model.__dict__"
      ],
      "metadata": {
        "colab": {
          "base_uri": "https://localhost:8080/"
        },
        "id": "NWs2H3cmVUKU",
        "outputId": "58e234e2-74f4-4f38-9b8c-9758984cf500"
      },
      "execution_count": null,
      "outputs": [
        {
          "output_type": "execute_result",
          "data": {
            "text/plain": [
              "{'fit_intercept': True,\n",
              " 'copy_X': True,\n",
              " 'n_jobs': None,\n",
              " 'positive': False,\n",
              " 'feature_names_in_': array(['number_of_reviews'], dtype=object),\n",
              " 'n_features_in_': 1,\n",
              " 'coef_': array([1.51135217]),\n",
              " 'rank_': 1,\n",
              " 'singular_': array([222.8059694]),\n",
              " 'intercept_': 112.2463622903762}"
            ]
          },
          "metadata": {},
          "execution_count": 110
        }
      ]
    },
    {
      "cell_type": "markdown",
      "source": [
        "Modelo matemático y= 1.51135217x + 112.2463622903762"
      ],
      "metadata": {
        "id": "OxsXxVrCV3jI"
      }
    },
    {
      "cell_type": "code",
      "source": [
        "#Evaluamos la eficiencia del modelo obtenido por medio del coeficiente R Determinación\n",
        "model.score(Vars_Indep,Var_Dep)"
      ],
      "metadata": {
        "colab": {
          "base_uri": "https://localhost:8080/"
        },
        "id": "_qEDtzMaVUEh",
        "outputId": "524dfc41-317c-4b9a-e6d5-6053fb638df4"
      },
      "execution_count": null,
      "outputs": [
        {
          "output_type": "execute_result",
          "data": {
            "text/plain": [
              "0.16685085579313585"
            ]
          },
          "metadata": {},
          "execution_count": 111
        }
      ]
    },
    {
      "cell_type": "code",
      "source": [
        "#Predecimos los valores de total de accidentes a partir de la variable \"number_of_reviews\"\n",
        "y_pred= model.predict(X=filtro1[['number_of_reviews']])\n",
        "y_pred"
      ],
      "metadata": {
        "colab": {
          "base_uri": "https://localhost:8080/"
        },
        "id": "tdeSmeK8VT9_",
        "outputId": "e2a5e9bc-4ad2-41fa-b35f-770b338753fd"
      },
      "execution_count": null,
      "outputs": [
        {
          "output_type": "execute_result",
          "data": {
            "text/plain": [
              "array([130.38258831, 260.35887475, 127.35988397, 154.56422299,\n",
              "       128.87123614, 134.91664481, 283.02915727, 118.29177096,\n",
              "       147.00746215, 115.26906663, 118.29177096, 116.78041879,\n",
              "       112.24636229, 112.24636229, 160.60963167, 113.75771446,\n",
              "       116.78041879, 119.80312313, 125.8485318 , 296.63132679,\n",
              "       199.90478803, 287.56321378, 116.78041879, 112.24636229,\n",
              "       112.24636229, 113.75771446, 171.18909684, 116.78041879,\n",
              "       113.75771446, 118.29177096, 204.43884454, 121.3144753 ,\n",
              "       162.12098383, 171.18909684, 134.91664481, 142.47340565,\n",
              "       112.24636229, 174.21180118, 172.70044901, 112.24636229,\n",
              "       112.24636229, 121.3144753 , 112.24636229, 112.24636229,\n",
              "       112.24636229, 112.24636229, 112.24636229, 112.24636229,\n",
              "       112.24636229, 118.29177096])"
            ]
          },
          "metadata": {},
          "execution_count": 112
        }
      ]
    },
    {
      "cell_type": "code",
      "source": [
        "#Corroboramos cual es el coeficiente de Determinación de nuestro modelo\n",
        "coef_Deter=model.score(X=Vars_Indep, y=Var_Dep)\n",
        "coef_Deter"
      ],
      "metadata": {
        "colab": {
          "base_uri": "https://localhost:8080/"
        },
        "id": "GhBX-l_WVxMB",
        "outputId": "14767858-fee9-4e13-e44a-23fca6c8aee3"
      },
      "execution_count": null,
      "outputs": [
        {
          "output_type": "execute_result",
          "data": {
            "text/plain": [
              "0.16685085579313585"
            ]
          },
          "metadata": {},
          "execution_count": 113
        }
      ]
    },
    {
      "cell_type": "code",
      "source": [
        "#Corroboramos cual es el coeficiente de Correlación de nuestro modelo\n",
        "coef_Correl=np.sqrt(coef_Deter)\n",
        "coef_Correl"
      ],
      "metadata": {
        "colab": {
          "base_uri": "https://localhost:8080/"
        },
        "id": "6I7eWS06VT4C",
        "outputId": "dc1777cc-df4f-47c1-bf16-18c3cfaa83c5"
      },
      "execution_count": null,
      "outputs": [
        {
          "output_type": "execute_result",
          "data": {
            "text/plain": [
              "0.4084738128609175"
            ]
          },
          "metadata": {},
          "execution_count": 114
        }
      ]
    },
    {
      "cell_type": "markdown",
      "source": [
        "Entire home/apt"
      ],
      "metadata": {
        "id": "wO3J1-KHV41T"
      }
    },
    {
      "cell_type": "code",
      "source": [
        "#Imprimimos el scatter plot entre la variable dependiente (availability_365) e independiente (number_of_reviews) \n",
        "#para observar el comportamiento en su dispersión \n",
        "from turtle import color\n",
        "\n",
        "\n",
        "sns.scatterplot(x='number_of_reviews', y='availability_365', color=\"blue\", data=filtro2)"
      ],
      "metadata": {
        "colab": {
          "base_uri": "https://localhost:8080/",
          "height": 467
        },
        "id": "YumJ_rWsVTv3",
        "outputId": "f657c4a1-b2d0-4666-efdb-d35bbaf37dfe"
      },
      "execution_count": null,
      "outputs": [
        {
          "output_type": "execute_result",
          "data": {
            "text/plain": [
              "<Axes: xlabel='number_of_reviews', ylabel='availability_365'>"
            ]
          },
          "metadata": {},
          "execution_count": 115
        },
        {
          "output_type": "display_data",
          "data": {
            "text/plain": [
              "<Figure size 640x480 with 1 Axes>"
            ],
            "image/png": "[encoded data removed]"
          },
          "metadata": {}
        }
      ]
    },
    {
      "cell_type": "code",
      "source": [
        "Vars_Indep= filtro2[['number_of_reviews']]\n",
        "Var_Dep= filtro2['availability_365']"
      ],
      "metadata": {
        "id": "_h5wtx-0XoYD"
      },
      "execution_count": null,
      "outputs": []
    },
    {
      "cell_type": "code",
      "source": [
        "#Se define model como la función de regresión lineal\n",
        "from sklearn.linear_model import LinearRegression\n",
        "model= LinearRegression()"
      ],
      "metadata": {
        "id": "HerwLtS3Xp3Z"
      },
      "execution_count": null,
      "outputs": []
    },
    {
      "cell_type": "code",
      "source": [
        "#Verificamos la función relacionada al modelo\n",
        "type(model)"
      ],
      "metadata": {
        "colab": {
          "base_uri": "https://localhost:8080/"
        },
        "id": "gEMlOqMqXpxM",
        "outputId": "f86a17b3-0ebd-420e-c0e9-324c67e90cb9"
      },
      "execution_count": null,
      "outputs": [
        {
          "output_type": "execute_result",
          "data": {
            "text/plain": [
              "sklearn.linear_model._base.LinearRegression"
            ]
          },
          "metadata": {},
          "execution_count": 118
        }
      ]
    },
    {
      "cell_type": "code",
      "source": [
        "#Ajustamos el modelo con las variables antes declaradas\n",
        "model.fit(X=Vars_Indep, y=Var_Dep)"
      ],
      "metadata": {
        "colab": {
          "base_uri": "https://localhost:8080/",
          "height": 74
        },
        "id": "jR8i2LmbXpq9",
        "outputId": "39cee24f-98d7-4db5-c1e6-ab1fddbd68a1"
      },
      "execution_count": null,
      "outputs": [
        {
          "output_type": "execute_result",
          "data": {
            "text/plain": [
              "LinearRegression()"
            ],
            "text/html": [
              "<style>#sk-container-id-10 {color: black;background-color: white;}#sk-container-id-10 pre{padding: 0;}#sk-container-id-10 div.sk-toggleable {background-color: white;}#sk-container-id-10 label.sk-toggleable__label {cursor: pointer;display: block;width: 100%;margin-bottom: 0;padding: 0.3em;box-sizing: border-box;text-align: center;}#sk-container-id-10 label.sk-toggleable__label-arrow:before {content: \"▸\";float: left;margin-right: 0.25em;color: #696969;}#sk-container-id-10 label.sk-toggleable__label-arrow:hover:before {color: black;}#sk-container-id-10 div.sk-estimator:hover label.sk-toggleable__label-arrow:before {color: black;}#sk-container-id-10 div.sk-toggleable__content {max-height: 0;max-width: 0;overflow: hidden;text-align: left;background-color: #f0f8ff;}#sk-container-id-10 div.sk-toggleable__content pre {margin: 0.2em;color: black;border-radius: 0.25em;background-color: #f0f8ff;}#sk-container-id-10 input.sk-toggleable__control:checked~div.sk-toggleable__content {max-height: 200px;max-width: 100%;overflow: auto;}#sk-container-id-10 input.sk-toggleable__control:checked~label.sk-toggleable__label-arrow:before {content: \"▾\";}#sk-container-id-10 div.sk-estimator input.sk-toggleable__control:checked~label.sk-toggleable__label {background-color: #d4ebff;}#sk-container-id-10 div.sk-label input.sk-toggleable__control:checked~label.sk-toggleable__label {background-color: #d4ebff;}#sk-container-id-10 input.sk-hidden--visually {border: 0;clip: rect(1px 1px 1px 1px);clip: rect(1px, 1px, 1px, 1px);height: 1px;margin: -1px;overflow: hidden;padding: 0;position: absolute;width: 1px;}#sk-container-id-10 div.sk-estimator {font-family: monospace;background-color: #f0f8ff;border: 1px dotted black;border-radius: 0.25em;box-sizing: border-box;margin-bottom: 0.5em;}#sk-container-id-10 div.sk-estimator:hover {background-color: #d4ebff;}#sk-container-id-10 div.sk-parallel-item::after {content: \"\";width: 100%;border-bottom: 1px solid gray;flex-grow: 1;}#sk-container-id-10 div.sk-label:hover label.sk-toggleable__label {background-color: #d4ebff;}#sk-container-id-10 div.sk-serial::before {content: \"\";position: absolute;border-left: 1px solid gray;box-sizing: border-box;top: 0;bottom: 0;left: 50%;z-index: 0;}#sk-container-id-10 div.sk-serial {display: flex;flex-direction: column;align-items: center;background-color: white;padding-right: 0.2em;padding-left: 0.2em;position: relative;}#sk-container-id-10 div.sk-item {position: relative;z-index: 1;}#sk-container-id-10 div.sk-parallel {display: flex;align-items: stretch;justify-content: center;background-color: white;position: relative;}#sk-container-id-10 div.sk-item::before, #sk-container-id-10 div.sk-parallel-item::before {content: \"\";position: absolute;border-left: 1px solid gray;box-sizing: border-box;top: 0;bottom: 0;left: 50%;z-index: -1;}#sk-container-id-10 div.sk-parallel-item {display: flex;flex-direction: column;z-index: 1;position: relative;background-color: white;}#sk-container-id-10 div.sk-parallel-item:first-child::after {align-self: flex-end;width: 50%;}#sk-container-id-10 div.sk-parallel-item:last-child::after {align-self: flex-start;width: 50%;}#sk-container-id-10 div.sk-parallel-item:only-child::after {width: 0;}#sk-container-id-10 div.sk-dashed-wrapped {border: 1px dashed gray;margin: 0 0.4em 0.5em 0.4em;box-sizing: border-box;padding-bottom: 0.4em;background-color: white;}#sk-container-id-10 div.sk-label label {font-family: monospace;font-weight: bold;display: inline-block;line-height: 1.2em;}#sk-container-id-10 div.sk-label-container {text-align: center;}#sk-container-id-10 div.sk-container {/* jupyter's `normalize.less` sets `[hidden] { display: none; }` but bootstrap.min.css set `[hidden] { display: none !important; }` so we also need the `!important` here to be able to override the default hidden behavior on the sphinx rendered scikit-learn.org. See: https://github.com/scikit-learn/scikit-learn/issues/21755 */display: inline-block !important;position: relative;}#sk-container-id-10 div.sk-text-repr-fallback {display: none;}</style><div id=\"sk-container-id-10\" class=\"sk-top-container\"><div class=\"sk-text-repr-fallback\"><pre>LinearRegression()</pre><b>In a Jupyter environment, please rerun this cell to show the HTML representation or trust the notebook. <br />On GitHub, the HTML representation is unable to render, please try loading this page with nbviewer.org.</b></div><div class=\"sk-container\" hidden><div class=\"sk-item\"><div class=\"sk-estimator sk-toggleable\"><input class=\"sk-toggleable__control sk-hidden--visually\" id=\"sk-estimator-id-10\" type=\"checkbox\" checked><label for=\"sk-estimator-id-10\" class=\"sk-toggleable__label sk-toggleable__label-arrow\">LinearRegression</label><div class=\"sk-toggleable__content\"><pre>LinearRegression()</pre></div></div></div></div></div>"
            ]
          },
          "metadata": {},
          "execution_count": 119
        }
      ]
    },
    {
      "cell_type": "code",
      "source": [
        "#Verificamos los coeficientes obtenidos para el modelo ajustado\n",
        "model.__dict__"
      ],
      "metadata": {
        "colab": {
          "base_uri": "https://localhost:8080/"
        },
        "id": "v6wbQx_eXpk5",
        "outputId": "de03c486-3ccd-4af0-ecbf-29a73edbd3de"
      },
      "execution_count": null,
      "outputs": [
        {
          "output_type": "execute_result",
          "data": {
            "text/plain": [
              "{'fit_intercept': True,\n",
              " 'copy_X': True,\n",
              " 'n_jobs': None,\n",
              " 'positive': False,\n",
              " 'feature_names_in_': array(['number_of_reviews'], dtype=object),\n",
              " 'n_features_in_': 1,\n",
              " 'coef_': array([0.20887229]),\n",
              " 'rank_': 1,\n",
              " 'singular_': array([4337.60604161]),\n",
              " 'intercept_': 187.45057892542386}"
            ]
          },
          "metadata": {},
          "execution_count": 120
        }
      ]
    },
    {
      "cell_type": "markdown",
      "source": [
        "Modelo matemático y= 0.20887229x + 187.45057892542386"
      ],
      "metadata": {
        "id": "xfNz2R_VX09M"
      }
    },
    {
      "cell_type": "code",
      "source": [
        "#Evaluamos la eficiencia del modelo obtenido por medio del coeficiente R Determinación\n",
        "model.score(Vars_Indep,Var_Dep)"
      ],
      "metadata": {
        "colab": {
          "base_uri": "https://localhost:8080/"
        },
        "id": "1iEPSZDxXpfs",
        "outputId": "f45e9ee4-d1b6-412c-a65a-58b891071269"
      },
      "execution_count": null,
      "outputs": [
        {
          "output_type": "execute_result",
          "data": {
            "text/plain": [
              "0.0035832117473947322"
            ]
          },
          "metadata": {},
          "execution_count": 121
        }
      ]
    },
    {
      "cell_type": "code",
      "source": [
        "#Predecimos los valores de total de accidentes a partir de la variable \"number_of_reviews\"\n",
        "y_pred= model.predict(X=filtro2[['number_of_reviews']])\n",
        "y_pred"
      ],
      "metadata": {
        "colab": {
          "base_uri": "https://localhost:8080/"
        },
        "id": "lJwaaWTJXpaA",
        "outputId": "3b931f9a-6fc1-40c5-b6cc-5c6f46cff9fd"
      },
      "execution_count": null,
      "outputs": [
        {
          "output_type": "execute_result",
          "data": {
            "text/plain": [
              "array([202.90712855, 189.74817414, 193.5078754 , ..., 187.45057893,\n",
              "       187.45057893, 187.45057893])"
            ]
          },
          "metadata": {},
          "execution_count": 122
        }
      ]
    },
    {
      "cell_type": "code",
      "source": [
        "#Corroboramos cual es el coeficiente de Determinación de nuestro modelo\n",
        "coef_Deter=model.score(X=Vars_Indep, y=Var_Dep)\n",
        "coef_Deter"
      ],
      "metadata": {
        "colab": {
          "base_uri": "https://localhost:8080/"
        },
        "id": "BvIprVZ7XpUB",
        "outputId": "d0c5a16f-afec-457f-8d6d-23a246c3f6d0"
      },
      "execution_count": null,
      "outputs": [
        {
          "output_type": "execute_result",
          "data": {
            "text/plain": [
              "0.0035832117473947322"
            ]
          },
          "metadata": {},
          "execution_count": 123
        }
      ]
    },
    {
      "cell_type": "code",
      "source": [
        "#Corroboramos cual es el coeficiente de Correlación de nuestro modelo\n",
        "coef_Correl=np.sqrt(coef_Deter)\n",
        "coef_Correl"
      ],
      "metadata": {
        "colab": {
          "base_uri": "https://localhost:8080/"
        },
        "id": "km3W43f-X8vj",
        "outputId": "f329339c-5a2a-4655-e56e-cbbee4cbefc8"
      },
      "execution_count": null,
      "outputs": [
        {
          "output_type": "execute_result",
          "data": {
            "text/plain": [
              "0.05985993440854018"
            ]
          },
          "metadata": {},
          "execution_count": 124
        }
      ]
    },
    {
      "cell_type": "markdown",
      "source": [
        "# **reviews_per_month vs review_scores_communication**"
      ],
      "metadata": {
        "id": "Mm1vgflBX_zw"
      }
    },
    {
      "cell_type": "markdown",
      "source": [
        "hotel room"
      ],
      "metadata": {
        "id": "zLctOnDKYELM"
      }
    },
    {
      "cell_type": "code",
      "source": [
        "#Imprimimos el scatter plot entre la variable dependiente (reviews_per_month) e independiente (review_scores_communication) \n",
        "#para observar el comportamiento en su dispersión \n",
        "from turtle import color\n",
        "\n",
        "\n",
        "sns.scatterplot(x='review_scores_cleanliness', y='reviews_per_month', color=\"blue\", data=filtro1)"
      ],
      "metadata": {
        "colab": {
          "base_uri": "https://localhost:8080/",
          "height": 467
        },
        "id": "AwgoIsTQYDqh",
        "outputId": "489ab25c-aa2d-4e49-e8a1-05133dd37ad1"
      },
      "execution_count": null,
      "outputs": [
        {
          "output_type": "execute_result",
          "data": {
            "text/plain": [
              "<Axes: xlabel='review_scores_cleanliness', ylabel='reviews_per_month'>"
            ]
          },
          "metadata": {},
          "execution_count": 125
        },
        {
          "output_type": "display_data",
          "data": {
            "text/plain": [
              "<Figure size 640x480 with 1 Axes>"
            ],
            "image/png": "[encoded data removed]"
          },
          "metadata": {}
        }
      ]
    },
    {
      "cell_type": "code",
      "source": [
        "Vars_Indep= filtro2[['review_scores_communication']]\n",
        "Var_Dep= filtro2['reviews_per_month']"
      ],
      "metadata": {
        "id": "V5KgGGowYF-M"
      },
      "execution_count": null,
      "outputs": []
    },
    {
      "cell_type": "code",
      "source": [
        "#Se define model como la función de regresión lineal\n",
        "from sklearn.linear_model import LinearRegression\n",
        "model= LinearRegression()"
      ],
      "metadata": {
        "id": "QJKR3_geYFzJ"
      },
      "execution_count": null,
      "outputs": []
    },
    {
      "cell_type": "code",
      "source": [
        "#Verificamos la función relacionada al modelo\n",
        "type(model)"
      ],
      "metadata": {
        "colab": {
          "base_uri": "https://localhost:8080/"
        },
        "id": "r6dRkgZ2YFoc",
        "outputId": "9b986043-61e9-40d3-aa4e-6e575c603fc9"
      },
      "execution_count": null,
      "outputs": [
        {
          "output_type": "execute_result",
          "data": {
            "text/plain": [
              "sklearn.linear_model._base.LinearRegression"
            ]
          },
          "metadata": {},
          "execution_count": 128
        }
      ]
    },
    {
      "cell_type": "code",
      "source": [
        "#Ajustamos el modelo con las variables antes declaradas\n",
        "model.fit(X=Vars_Indep, y=Var_Dep)"
      ],
      "metadata": {
        "colab": {
          "base_uri": "https://localhost:8080/",
          "height": 74
        },
        "id": "E0tRiE1SYFc7",
        "outputId": "906a60a4-d345-4bf6-fff3-eb5b4241109e"
      },
      "execution_count": null,
      "outputs": [
        {
          "output_type": "execute_result",
          "data": {
            "text/plain": [
              "LinearRegression()"
            ],
            "text/html": [
              "<style>#sk-container-id-11 {color: black;background-color: white;}#sk-container-id-11 pre{padding: 0;}#sk-container-id-11 div.sk-toggleable {background-color: white;}#sk-container-id-11 label.sk-toggleable__label {cursor: pointer;display: block;width: 100%;margin-bottom: 0;padding: 0.3em;box-sizing: border-box;text-align: center;}#sk-container-id-11 label.sk-toggleable__label-arrow:before {content: \"▸\";float: left;margin-right: 0.25em;color: #696969;}#sk-container-id-11 label.sk-toggleable__label-arrow:hover:before {color: black;}#sk-container-id-11 div.sk-estimator:hover label.sk-toggleable__label-arrow:before {color: black;}#sk-container-id-11 div.sk-toggleable__content {max-height: 0;max-width: 0;overflow: hidden;text-align: left;background-color: #f0f8ff;}#sk-container-id-11 div.sk-toggleable__content pre {margin: 0.2em;color: black;border-radius: 0.25em;background-color: #f0f8ff;}#sk-container-id-11 input.sk-toggleable__control:checked~div.sk-toggleable__content {max-height: 200px;max-width: 100%;overflow: auto;}#sk-container-id-11 input.sk-toggleable__control:checked~label.sk-toggleable__label-arrow:before {content: \"▾\";}#sk-container-id-11 div.sk-estimator input.sk-toggleable__control:checked~label.sk-toggleable__label {background-color: #d4ebff;}#sk-container-id-11 div.sk-label input.sk-toggleable__control:checked~label.sk-toggleable__label {background-color: #d4ebff;}#sk-container-id-11 input.sk-hidden--visually {border: 0;clip: rect(1px 1px 1px 1px);clip: rect(1px, 1px, 1px, 1px);height: 1px;margin: -1px;overflow: hidden;padding: 0;position: absolute;width: 1px;}#sk-container-id-11 div.sk-estimator {font-family: monospace;background-color: #f0f8ff;border: 1px dotted black;border-radius: 0.25em;box-sizing: border-box;margin-bottom: 0.5em;}#sk-container-id-11 div.sk-estimator:hover {background-color: #d4ebff;}#sk-container-id-11 div.sk-parallel-item::after {content: \"\";width: 100%;border-bottom: 1px solid gray;flex-grow: 1;}#sk-container-id-11 div.sk-label:hover label.sk-toggleable__label {background-color: #d4ebff;}#sk-container-id-11 div.sk-serial::before {content: \"\";position: absolute;border-left: 1px solid gray;box-sizing: border-box;top: 0;bottom: 0;left: 50%;z-index: 0;}#sk-container-id-11 div.sk-serial {display: flex;flex-direction: column;align-items: center;background-color: white;padding-right: 0.2em;padding-left: 0.2em;position: relative;}#sk-container-id-11 div.sk-item {position: relative;z-index: 1;}#sk-container-id-11 div.sk-parallel {display: flex;align-items: stretch;justify-content: center;background-color: white;position: relative;}#sk-container-id-11 div.sk-item::before, #sk-container-id-11 div.sk-parallel-item::before {content: \"\";position: absolute;border-left: 1px solid gray;box-sizing: border-box;top: 0;bottom: 0;left: 50%;z-index: -1;}#sk-container-id-11 div.sk-parallel-item {display: flex;flex-direction: column;z-index: 1;position: relative;background-color: white;}#sk-container-id-11 div.sk-parallel-item:first-child::after {align-self: flex-end;width: 50%;}#sk-container-id-11 div.sk-parallel-item:last-child::after {align-self: flex-start;width: 50%;}#sk-container-id-11 div.sk-parallel-item:only-child::after {width: 0;}#sk-container-id-11 div.sk-dashed-wrapped {border: 1px dashed gray;margin: 0 0.4em 0.5em 0.4em;box-sizing: border-box;padding-bottom: 0.4em;background-color: white;}#sk-container-id-11 div.sk-label label {font-family: monospace;font-weight: bold;display: inline-block;line-height: 1.2em;}#sk-container-id-11 div.sk-label-container {text-align: center;}#sk-container-id-11 div.sk-container {/* jupyter's `normalize.less` sets `[hidden] { display: none; }` but bootstrap.min.css set `[hidden] { display: none !important; }` so we also need the `!important` here to be able to override the default hidden behavior on the sphinx rendered scikit-learn.org. See: https://github.com/scikit-learn/scikit-learn/issues/21755 */display: inline-block !important;position: relative;}#sk-container-id-11 div.sk-text-repr-fallback {display: none;}</style><div id=\"sk-container-id-11\" class=\"sk-top-container\"><div class=\"sk-text-repr-fallback\"><pre>LinearRegression()</pre><b>In a Jupyter environment, please rerun this cell to show the HTML representation or trust the notebook. <br />On GitHub, the HTML representation is unable to render, please try loading this page with nbviewer.org.</b></div><div class=\"sk-container\" hidden><div class=\"sk-item\"><div class=\"sk-estimator sk-toggleable\"><input class=\"sk-toggleable__control sk-hidden--visually\" id=\"sk-estimator-id-11\" type=\"checkbox\" checked><label for=\"sk-estimator-id-11\" class=\"sk-toggleable__label sk-toggleable__label-arrow\">LinearRegression</label><div class=\"sk-toggleable__content\"><pre>LinearRegression()</pre></div></div></div></div></div>"
            ]
          },
          "metadata": {},
          "execution_count": 129
        }
      ]
    },
    {
      "cell_type": "code",
      "source": [
        "#Verificamos los coeficientes obtenidos para el modelo ajustado\n",
        "model.__dict__"
      ],
      "metadata": {
        "colab": {
          "base_uri": "https://localhost:8080/"
        },
        "id": "dWaUwFUCYFWr",
        "outputId": "91476827-3baa-48a9-e668-ddaa7527908f"
      },
      "execution_count": null,
      "outputs": [
        {
          "output_type": "execute_result",
          "data": {
            "text/plain": [
              "{'fit_intercept': True,\n",
              " 'copy_X': True,\n",
              " 'n_jobs': None,\n",
              " 'positive': False,\n",
              " 'feature_names_in_': array(['review_scores_communication'], dtype=object),\n",
              " 'n_features_in_': 1,\n",
              " 'coef_': array([0.11099847]),\n",
              " 'rank_': 1,\n",
              " 'singular_': array([287.44759107]),\n",
              " 'intercept_': -0.012586005728555283}"
            ]
          },
          "metadata": {},
          "execution_count": 130
        }
      ]
    },
    {
      "cell_type": "markdown",
      "source": [
        "Modelo matemático y= 0.11099847x + -0.012586005728555283"
      ],
      "metadata": {
        "id": "5gcyHpC5YikM"
      }
    },
    {
      "cell_type": "code",
      "source": [
        "#Evaluamos la eficiencia del modelo obtenido por medio del coeficiente R Determinación\n",
        "model.score(Vars_Indep,Var_Dep)"
      ],
      "metadata": {
        "colab": {
          "base_uri": "https://localhost:8080/"
        },
        "id": "XZ3wOCkrYFQu",
        "outputId": "9bf59390-35c4-4330-90f1-e6630ba8028e"
      },
      "execution_count": null,
      "outputs": [
        {
          "output_type": "execute_result",
          "data": {
            "text/plain": [
              "0.1279210058493132"
            ]
          },
          "metadata": {},
          "execution_count": 131
        }
      ]
    },
    {
      "cell_type": "code",
      "source": [
        "#Predecimos los valores de total de accidentes a partir de la variable \"review_scores_communication\"\n",
        "y_pred= model.predict(X=filtro1[['review_scores_communication']])\n",
        "y_pred"
      ],
      "metadata": {
        "colab": {
          "base_uri": "https://localhost:8080/"
        },
        "id": "X5O_IgZcYFKB",
        "outputId": "2c78b510-3428-43ba-ba05-c9c49af6146b"
      },
      "execution_count": null,
      "outputs": [
        {
          "output_type": "execute_result",
          "data": {
            "text/plain": [
              "array([ 0.4869071 ,  0.52686655,  0.50910679,  0.53463644,  0.53241647,\n",
              "        0.50577684,  0.53130649,  0.54240633,  0.51798667,  0.54240633,\n",
              "        0.43140787,  0.54240633, -0.01258601, -0.01258601,  0.51132676,\n",
              "        0.54240633,  0.50577684,  0.52020664,  0.5301965 ,  0.50466685,\n",
              "        0.51798667,  0.50799681,  0.54240633, -0.01258601, -0.01258601,\n",
              "        0.54240633,  0.53685641,  0.54240633,  0.54240633,  0.51465672,\n",
              "        0.51465672,  0.54240633,  0.52908652,  0.46248744,  0.49023705,\n",
              "        0.50355687, -0.01258601,  0.53685641,  0.50355687, -0.01258601,\n",
              "       -0.01258601,  0.54240633, -0.01258601, -0.01258601, -0.01258601,\n",
              "       -0.01258601, -0.01258601, -0.01258601, -0.01258601,  0.51465672])"
            ]
          },
          "metadata": {},
          "execution_count": 132
        }
      ]
    },
    {
      "cell_type": "code",
      "source": [
        "#Corroboramos cual es el coeficiente de Determinación de nuestro modelo\n",
        "coef_Deter=model.score(X=Vars_Indep, y=Var_Dep)\n",
        "coef_Deter"
      ],
      "metadata": {
        "colab": {
          "base_uri": "https://localhost:8080/"
        },
        "id": "9kJeYA54YFCm",
        "outputId": "153ba5a0-298a-486e-ac41-d175cb6bad05"
      },
      "execution_count": null,
      "outputs": [
        {
          "output_type": "execute_result",
          "data": {
            "text/plain": [
              "0.1279210058493132"
            ]
          },
          "metadata": {},
          "execution_count": 133
        }
      ]
    },
    {
      "cell_type": "code",
      "source": [
        "#Corroboramos cual es el coeficiente de Correlación de nuestro modelo\n",
        "coef_Correl=np.sqrt(coef_Deter)\n",
        "coef_Correl"
      ],
      "metadata": {
        "colab": {
          "base_uri": "https://localhost:8080/"
        },
        "id": "zd_l8vwuYE5C",
        "outputId": "2f56b7e8-9a2f-4a9e-ee08-3de6c382ba34"
      },
      "execution_count": null,
      "outputs": [
        {
          "output_type": "execute_result",
          "data": {
            "text/plain": [
              "0.35766046168022714"
            ]
          },
          "metadata": {},
          "execution_count": 134
        }
      ]
    },
    {
      "cell_type": "markdown",
      "source": [
        "Entire home/apt"
      ],
      "metadata": {
        "id": "Mr__jwtiYKtk"
      }
    },
    {
      "cell_type": "code",
      "source": [
        "#Imprimimos el scatter plot entre la variable dependiente (reviews_per_month) e independiente (review_scores_communication) \n",
        "#para observar el comportamiento en su dispersión \n",
        "from turtle import color\n",
        "\n",
        "\n",
        "sns.scatterplot(x='review_scores_cleanliness', y='reviews_per_month', color=\"blue\", data=filtro2)"
      ],
      "metadata": {
        "colab": {
          "base_uri": "https://localhost:8080/",
          "height": 467
        },
        "id": "a8cVdGUGYyJ3",
        "outputId": "49f4376c-7bd4-438b-9cdc-6d3b01a9a72f"
      },
      "execution_count": null,
      "outputs": [
        {
          "output_type": "execute_result",
          "data": {
            "text/plain": [
              "<Axes: xlabel='review_scores_cleanliness', ylabel='reviews_per_month'>"
            ]
          },
          "metadata": {},
          "execution_count": 135
        },
        {
          "output_type": "display_data",
          "data": {
            "text/plain": [
              "<Figure size 640x480 with 1 Axes>"
            ],
            "image/png": "[encoded data removed]"
          },
          "metadata": {}
        }
      ]
    },
    {
      "cell_type": "code",
      "source": [
        "Vars_Indep= filtro2[['review_scores_communication']]\n",
        "Var_Dep= filtro2['reviews_per_month']"
      ],
      "metadata": {
        "id": "vW3IQsaVYx-x"
      },
      "execution_count": null,
      "outputs": []
    },
    {
      "cell_type": "code",
      "source": [
        "#Se define model como la función de regresión lineal\n",
        "from sklearn.linear_model import LinearRegression\n",
        "model= LinearRegression()"
      ],
      "metadata": {
        "id": "WGvbwOuRYxzu"
      },
      "execution_count": null,
      "outputs": []
    },
    {
      "cell_type": "code",
      "source": [
        "#Verificamos la función relacionada al modelo\n",
        "type(model)"
      ],
      "metadata": {
        "colab": {
          "base_uri": "https://localhost:8080/"
        },
        "id": "s0yvfvHjYxny",
        "outputId": "b0a647a9-f3fb-47de-d66a-57a2c3e4a9df"
      },
      "execution_count": null,
      "outputs": [
        {
          "output_type": "execute_result",
          "data": {
            "text/plain": [
              "sklearn.linear_model._base.LinearRegression"
            ]
          },
          "metadata": {},
          "execution_count": 138
        }
      ]
    },
    {
      "cell_type": "code",
      "source": [
        "#Ajustamos el modelo con las variables antes declaradas\n",
        "model.fit(X=Vars_Indep, y=Var_Dep)"
      ],
      "metadata": {
        "colab": {
          "base_uri": "https://localhost:8080/",
          "height": 74
        },
        "id": "JVYvmLzcYxcq",
        "outputId": "0091de63-905a-4b95-a05d-63ce2ca30461"
      },
      "execution_count": null,
      "outputs": [
        {
          "output_type": "execute_result",
          "data": {
            "text/plain": [
              "LinearRegression()"
            ],
            "text/html": [
              "<style>#sk-container-id-12 {color: black;background-color: white;}#sk-container-id-12 pre{padding: 0;}#sk-container-id-12 div.sk-toggleable {background-color: white;}#sk-container-id-12 label.sk-toggleable__label {cursor: pointer;display: block;width: 100%;margin-bottom: 0;padding: 0.3em;box-sizing: border-box;text-align: center;}#sk-container-id-12 label.sk-toggleable__label-arrow:before {content: \"▸\";float: left;margin-right: 0.25em;color: #696969;}#sk-container-id-12 label.sk-toggleable__label-arrow:hover:before {color: black;}#sk-container-id-12 div.sk-estimator:hover label.sk-toggleable__label-arrow:before {color: black;}#sk-container-id-12 div.sk-toggleable__content {max-height: 0;max-width: 0;overflow: hidden;text-align: left;background-color: #f0f8ff;}#sk-container-id-12 div.sk-toggleable__content pre {margin: 0.2em;color: black;border-radius: 0.25em;background-color: #f0f8ff;}#sk-container-id-12 input.sk-toggleable__control:checked~div.sk-toggleable__content {max-height: 200px;max-width: 100%;overflow: auto;}#sk-container-id-12 input.sk-toggleable__control:checked~label.sk-toggleable__label-arrow:before {content: \"▾\";}#sk-container-id-12 div.sk-estimator input.sk-toggleable__control:checked~label.sk-toggleable__label {background-color: #d4ebff;}#sk-container-id-12 div.sk-label input.sk-toggleable__control:checked~label.sk-toggleable__label {background-color: #d4ebff;}#sk-container-id-12 input.sk-hidden--visually {border: 0;clip: rect(1px 1px 1px 1px);clip: rect(1px, 1px, 1px, 1px);height: 1px;margin: -1px;overflow: hidden;padding: 0;position: absolute;width: 1px;}#sk-container-id-12 div.sk-estimator {font-family: monospace;background-color: #f0f8ff;border: 1px dotted black;border-radius: 0.25em;box-sizing: border-box;margin-bottom: 0.5em;}#sk-container-id-12 div.sk-estimator:hover {background-color: #d4ebff;}#sk-container-id-12 div.sk-parallel-item::after {content: \"\";width: 100%;border-bottom: 1px solid gray;flex-grow: 1;}#sk-container-id-12 div.sk-label:hover label.sk-toggleable__label {background-color: #d4ebff;}#sk-container-id-12 div.sk-serial::before {content: \"\";position: absolute;border-left: 1px solid gray;box-sizing: border-box;top: 0;bottom: 0;left: 50%;z-index: 0;}#sk-container-id-12 div.sk-serial {display: flex;flex-direction: column;align-items: center;background-color: white;padding-right: 0.2em;padding-left: 0.2em;position: relative;}#sk-container-id-12 div.sk-item {position: relative;z-index: 1;}#sk-container-id-12 div.sk-parallel {display: flex;align-items: stretch;justify-content: center;background-color: white;position: relative;}#sk-container-id-12 div.sk-item::before, #sk-container-id-12 div.sk-parallel-item::before {content: \"\";position: absolute;border-left: 1px solid gray;box-sizing: border-box;top: 0;bottom: 0;left: 50%;z-index: -1;}#sk-container-id-12 div.sk-parallel-item {display: flex;flex-direction: column;z-index: 1;position: relative;background-color: white;}#sk-container-id-12 div.sk-parallel-item:first-child::after {align-self: flex-end;width: 50%;}#sk-container-id-12 div.sk-parallel-item:last-child::after {align-self: flex-start;width: 50%;}#sk-container-id-12 div.sk-parallel-item:only-child::after {width: 0;}#sk-container-id-12 div.sk-dashed-wrapped {border: 1px dashed gray;margin: 0 0.4em 0.5em 0.4em;box-sizing: border-box;padding-bottom: 0.4em;background-color: white;}#sk-container-id-12 div.sk-label label {font-family: monospace;font-weight: bold;display: inline-block;line-height: 1.2em;}#sk-container-id-12 div.sk-label-container {text-align: center;}#sk-container-id-12 div.sk-container {/* jupyter's `normalize.less` sets `[hidden] { display: none; }` but bootstrap.min.css set `[hidden] { display: none !important; }` so we also need the `!important` here to be able to override the default hidden behavior on the sphinx rendered scikit-learn.org. See: https://github.com/scikit-learn/scikit-learn/issues/21755 */display: inline-block !important;position: relative;}#sk-container-id-12 div.sk-text-repr-fallback {display: none;}</style><div id=\"sk-container-id-12\" class=\"sk-top-container\"><div class=\"sk-text-repr-fallback\"><pre>LinearRegression()</pre><b>In a Jupyter environment, please rerun this cell to show the HTML representation or trust the notebook. <br />On GitHub, the HTML representation is unable to render, please try loading this page with nbviewer.org.</b></div><div class=\"sk-container\" hidden><div class=\"sk-item\"><div class=\"sk-estimator sk-toggleable\"><input class=\"sk-toggleable__control sk-hidden--visually\" id=\"sk-estimator-id-12\" type=\"checkbox\" checked><label for=\"sk-estimator-id-12\" class=\"sk-toggleable__label sk-toggleable__label-arrow\">LinearRegression</label><div class=\"sk-toggleable__content\"><pre>LinearRegression()</pre></div></div></div></div></div>"
            ]
          },
          "metadata": {},
          "execution_count": 139
        }
      ]
    },
    {
      "cell_type": "code",
      "source": [
        "#Verificamos los coeficientes obtenidos para el modelo ajustado\n",
        "model.__dict__"
      ],
      "metadata": {
        "colab": {
          "base_uri": "https://localhost:8080/"
        },
        "id": "TGCHOzdAYxRk",
        "outputId": "8327b55b-0336-4d32-ef38-15343b8cd1ef"
      },
      "execution_count": null,
      "outputs": [
        {
          "output_type": "execute_result",
          "data": {
            "text/plain": [
              "{'fit_intercept': True,\n",
              " 'copy_X': True,\n",
              " 'n_jobs': None,\n",
              " 'positive': False,\n",
              " 'feature_names_in_': array(['review_scores_communication'], dtype=object),\n",
              " 'n_features_in_': 1,\n",
              " 'coef_': array([0.11099847]),\n",
              " 'rank_': 1,\n",
              " 'singular_': array([287.44759107]),\n",
              " 'intercept_': -0.012586005728555283}"
            ]
          },
          "metadata": {},
          "execution_count": 140
        }
      ]
    },
    {
      "cell_type": "markdown",
      "source": [
        "Modelo matemático y= 0.11099847x -0.012586005728555283"
      ],
      "metadata": {
        "id": "3TeBznGcb933"
      }
    },
    {
      "cell_type": "code",
      "source": [
        "#Evaluamos la eficiencia del modelo obtenido por medio del coeficiente R Determinación\n",
        "model.score(Vars_Indep,Var_Dep)"
      ],
      "metadata": {
        "colab": {
          "base_uri": "https://localhost:8080/"
        },
        "id": "sUuLe5xAYxGZ",
        "outputId": "aee845d8-7561-415c-835d-f3c32cd4943b"
      },
      "execution_count": null,
      "outputs": [
        {
          "output_type": "execute_result",
          "data": {
            "text/plain": [
              "0.1279210058493132"
            ]
          },
          "metadata": {},
          "execution_count": 141
        }
      ]
    },
    {
      "cell_type": "code",
      "source": [
        "#Predecimos los valores de total de accidentes a partir de la variable \"review_scores_communication\"\n",
        "y_pred= model.predict(X=filtro1[['review_scores_communication']])\n",
        "y_pred"
      ],
      "metadata": {
        "colab": {
          "base_uri": "https://localhost:8080/"
        },
        "id": "A_B6b0tnYw6z",
        "outputId": "189ac830-1a17-4e5f-af74-b1114fdd7c97"
      },
      "execution_count": null,
      "outputs": [
        {
          "output_type": "execute_result",
          "data": {
            "text/plain": [
              "array([ 0.4869071 ,  0.52686655,  0.50910679,  0.53463644,  0.53241647,\n",
              "        0.50577684,  0.53130649,  0.54240633,  0.51798667,  0.54240633,\n",
              "        0.43140787,  0.54240633, -0.01258601, -0.01258601,  0.51132676,\n",
              "        0.54240633,  0.50577684,  0.52020664,  0.5301965 ,  0.50466685,\n",
              "        0.51798667,  0.50799681,  0.54240633, -0.01258601, -0.01258601,\n",
              "        0.54240633,  0.53685641,  0.54240633,  0.54240633,  0.51465672,\n",
              "        0.51465672,  0.54240633,  0.52908652,  0.46248744,  0.49023705,\n",
              "        0.50355687, -0.01258601,  0.53685641,  0.50355687, -0.01258601,\n",
              "       -0.01258601,  0.54240633, -0.01258601, -0.01258601, -0.01258601,\n",
              "       -0.01258601, -0.01258601, -0.01258601, -0.01258601,  0.51465672])"
            ]
          },
          "metadata": {},
          "execution_count": 142
        }
      ]
    },
    {
      "cell_type": "code",
      "source": [
        "#Corroboramos cual es el coeficiente de Determinación de nuestro modelo\n",
        "coef_Deter=model.score(X=Vars_Indep, y=Var_Dep)\n",
        "coef_Deter"
      ],
      "metadata": {
        "colab": {
          "base_uri": "https://localhost:8080/"
        },
        "id": "l_Exi7s7Ywz5",
        "outputId": "7f9922d2-5ba4-4161-d686-c3cede0ea494"
      },
      "execution_count": null,
      "outputs": [
        {
          "output_type": "execute_result",
          "data": {
            "text/plain": [
              "0.1279210058493132"
            ]
          },
          "metadata": {},
          "execution_count": 143
        }
      ]
    },
    {
      "cell_type": "code",
      "source": [
        "#Corroboramos cual es el coeficiente de Correlación de nuestro modelo\n",
        "coef_Correl=np.sqrt(coef_Deter)\n",
        "coef_Correl"
      ],
      "metadata": {
        "colab": {
          "base_uri": "https://localhost:8080/"
        },
        "id": "Ees0Det_Ywtw",
        "outputId": "9be89a03-f9f0-4840-8418-e6102f5abc09"
      },
      "execution_count": null,
      "outputs": [
        {
          "output_type": "execute_result",
          "data": {
            "text/plain": [
              "0.35766046168022714"
            ]
          },
          "metadata": {},
          "execution_count": 144
        }
      ]
    }
  ]
}