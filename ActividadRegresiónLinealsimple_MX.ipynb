{
  "nbformat": 4,
  "nbformat_minor": 0,
  "metadata": {
    "colab": {
      "provenance": [],
      "include_colab_link": true
    },
    "kernelspec": {
      "name": "python3",
      "display_name": "Python 3"
    },
    "language_info": {
      "name": "python"
    }
  },
  "cells": [
    {
      "cell_type": "markdown",
      "metadata": {
        "id": "view-in-github",
        "colab_type": "text"
      },
      "source": [
        "<a href=\"https://colab.research.google.com/github/LEOISAIAS/Regresi-n-lineal/blob/main/ActividadRegresi%C3%B3nLinealsimple_MX.ipynb\" target=\"_parent\"><img src=\"https://colab.research.google.com/assets/colab-badge.svg\" alt=\"Open In Colab\"/></a>"
      ]
    },
    {
      "cell_type": "markdown",
      "source": [
        "# Actividad 6.1 \n",
        "\n",
        "## **Regresión Lineal Simple**\n",
        "\n",
        "# Leonardo Isaías Guevara Pioquinto\n",
        "\n",
        "# A01275327"
      ],
      "metadata": {
        "id": "wHysOADKzr3U"
      }
    },
    {
      "cell_type": "markdown",
      "source": [
        "# MÉXICO"
      ],
      "metadata": {
        "id": "26U7K9om0s2C"
      }
    },
    {
      "cell_type": "code",
      "execution_count": null,
      "metadata": {
        "id": "GrstccILE1HC"
      },
      "outputs": [],
      "source": [
        "import pandas as pd\n",
        "import numpy as np\n",
        "import matplotlib.pyplot as plt\n",
        "import seaborn as sns"
      ]
    },
    {
      "cell_type": "code",
      "source": [
        "df= pd.read_excel(\"DFmxlimpio.xlsx\")\n",
        "df"
      ],
      "metadata": {
        "id": "WPG-LR6YE8wA",
        "colab": {
          "base_uri": "https://localhost:8080/",
          "height": 780
        },
        "outputId": "0f21c292-8d60-4719-ca01-62a5fa4f19e9"
      },
      "execution_count": null,
      "outputs": [
        {
          "output_type": "execute_result",
          "data": {
            "text/plain": [
              "       Unnamed: 0                                      listing_url  \\\n",
              "0             0.0             https://www.airbnb.com/rooms/2056638   \n",
              "1             1.0             https://www.airbnb.com/rooms/2072354   \n",
              "2             2.0              https://www.airbnb.com/rooms/696037   \n",
              "3             3.0               https://www.airbnb.com/rooms/35797   \n",
              "4             4.0               https://www.airbnb.com/rooms/44616   \n",
              "...           ...                                              ...   \n",
              "24220     24219.0  https://www.airbnb.com/rooms/853923589855678923   \n",
              "24221     24220.0  https://www.airbnb.com/rooms/853966732274073000   \n",
              "24222     24221.0  https://www.airbnb.com/rooms/854225071295768399   \n",
              "24223     24222.0  https://www.airbnb.com/rooms/854247693069190865   \n",
              "24224     24223.0  https://www.airbnb.com/rooms/854260329845513725   \n",
              "\n",
              "            scrape_id         last_scraped       source  \\\n",
              "0      20230329041210  2023-03-30 00:00:00  city scrape   \n",
              "1      20230329041210  2023-03-30 00:00:00  city scrape   \n",
              "2      20230329041210  2023-03-29 00:00:00  city scrape   \n",
              "3      20230329041210  2023-03-29 00:00:00  city scrape   \n",
              "4      20230329041210  2023-03-30 00:00:00  city scrape   \n",
              "...               ...                  ...          ...   \n",
              "24220  20230329041210  2023-03-30 00:00:00  city scrape   \n",
              "24221  20230329041210  2023-03-29 00:00:00  city scrape   \n",
              "24222  20230329041210  2023-03-29 00:00:00  city scrape   \n",
              "24223  20230329041210  2023-03-30 00:00:00  city scrape   \n",
              "24224  20230329041210  2023-03-30 00:00:00  city scrape   \n",
              "\n",
              "                                                    name  \\\n",
              "0                    Amplio y luminoso loft en Coyoac√°n   \n",
              "1                     Coyoacan Historic Studio Apartment   \n",
              "2      3 Bedrooms, 2 blocks from Polanco - ALL RENOVA...   \n",
              "3                                            Villa Dante   \n",
              "4                                      CONDESA HAUS  B&B   \n",
              "...                                                  ...   \n",
              "24220                              Rinc√≥n Mexico lindo!   \n",
              "24221                     Departamento en zona diamante.   \n",
              "24222             Habitaci√≥n privada en magn√≠fica casa   \n",
              "24223                   Espacioso y luminoso loft - Roma   \n",
              "24224      Maravilloso departamento en Ciudad de M√©xico   \n",
              "\n",
              "                                             description  \\\n",
              "0      C√≥modo loft de dos pisos magn√≠ficamente ubic...   \n",
              "1      This studio flat is adjacent to the owner's ho...   \n",
              "2      Beautifully decorated 3 bedroom apartment, it ...   \n",
              "3      Dentro de Villa un estudio de arte con futon, ...   \n",
              "4      A new concept of hosting in mexico through a b...   \n",
              "...                                                  ...   \n",
              "24220  Este lugar tiene una ubicaci√≥n estrat√©gica: ...   \n",
              "24221  Ubicado en zona diamante, junto al aeropuerto,...   \n",
              "24222  Rel√°jate en este espacio muy tranquilo y eleg...   \n",
              "24223  What else does it come with?<br />- WIFI 100MB...   \n",
              "24224  Ven a descubrir este incre√≠ble departamento e...   \n",
              "\n",
              "                                   neighborhood_overview  \\\n",
              "0                                           Sin registro   \n",
              "1      Located in Coyoacan, in a quiet neighborhood w...   \n",
              "2      This area is called Nuevo Polanco, it has bein...   \n",
              "3      Centro comercial Santa Fe, parque interlomas y...   \n",
              "4                                           Sin registro   \n",
              "...                                                  ...   \n",
              "24220                                       Sin registro   \n",
              "24221                                       Sin registro   \n",
              "24222                                       Sin registro   \n",
              "24223                                       Sin registro   \n",
              "24224  Una zona muy bonita ya que varias de las atrac...   \n",
              "\n",
              "                                             picture_url    host_id  ...  \\\n",
              "0      https://a0.muscache.com/pictures/28353712/4379...   10531228  ...   \n",
              "1      https://a0.muscache.com/pictures/369f3371-593a...   16840050  ...   \n",
              "2      https://a0.muscache.com/pictures/10960397/67b2...    3531879  ...   \n",
              "3      https://a0.muscache.com/pictures/f395ab78-1185...     153786  ...   \n",
              "4      https://a0.muscache.com/pictures/251410/ec75fe...     196253  ...   \n",
              "...                                                  ...        ...  ...   \n",
              "24220  https://a0.muscache.com/pictures/miso/Hosting-...  488030249  ...   \n",
              "24221  https://a0.muscache.com/pictures/miso/Hosting-...  506816029  ...   \n",
              "24222  https://a0.muscache.com/pictures/db71951a-8696...  154670560  ...   \n",
              "24223  https://a0.muscache.com/pictures/miso/Hosting-...    7799414  ...   \n",
              "24224  https://a0.muscache.com/pictures/miso/Hosting-...  506864314  ...   \n",
              "\n",
              "      review_scores_communication review_scores_location review_scores_value  \\\n",
              "0                            4.95                   5.00                4.86   \n",
              "1                            5.00                   4.95                4.84   \n",
              "2                            4.92                   4.58                4.71   \n",
              "3                            4.80                   4.80                4.70   \n",
              "4                            4.78                   4.98                4.48   \n",
              "...                           ...                    ...                 ...   \n",
              "24220                        4.80                   4.80                4.70   \n",
              "24221                        4.80                   4.80                4.70   \n",
              "24222                        4.80                   4.80                4.70   \n",
              "24223                        4.80                   4.80                4.70   \n",
              "24224                        4.80                   4.80                4.70   \n",
              "\n",
              "            license instant_bookable calculated_host_listings_count  \\\n",
              "0      Sin registro                f                            3.0   \n",
              "1      Sin registro                f                            2.0   \n",
              "2      Sin registro                f                            3.0   \n",
              "3      Sin registro                f                            1.0   \n",
              "4      Sin registro                f                           12.0   \n",
              "...             ...              ...                            ...   \n",
              "24220  Sin registro                f                            2.0   \n",
              "24221  Sin registro                t                            1.0   \n",
              "24222  Sin registro                f                            1.0   \n",
              "24223  Sin registro                t                           13.0   \n",
              "24224  Sin registro                t                            2.0   \n",
              "\n",
              "       calculated_host_listings_count_entire_homes  \\\n",
              "0                                              3.0   \n",
              "1                                              2.0   \n",
              "2                                              3.0   \n",
              "3                                              1.0   \n",
              "4                                              3.0   \n",
              "...                                            ...   \n",
              "24220                                          2.0   \n",
              "24221                                          1.0   \n",
              "24222                                          0.0   \n",
              "24223                                         13.0   \n",
              "24224                                          2.0   \n",
              "\n",
              "       calculated_host_listings_count_private_rooms  \\\n",
              "0                                               0.0   \n",
              "1                                               0.0   \n",
              "2                                               0.0   \n",
              "3                                               0.0   \n",
              "4                                               2.0   \n",
              "...                                             ...   \n",
              "24220                                           0.0   \n",
              "24221                                           0.0   \n",
              "24222                                           1.0   \n",
              "24223                                           0.0   \n",
              "24224                                           0.0   \n",
              "\n",
              "      calculated_host_listings_count_shared_rooms reviews_per_month  \n",
              "0                                             0.0              0.19  \n",
              "1                                             0.0              0.54  \n",
              "2                                             0.0              0.31  \n",
              "3                                             0.0              1.70  \n",
              "4                                             0.0              0.46  \n",
              "...                                           ...               ...  \n",
              "24220                                         0.0              1.70  \n",
              "24221                                         0.0              1.70  \n",
              "24222                                         0.0              1.70  \n",
              "24223                                         0.0              1.70  \n",
              "24224                                         0.0              1.70  \n",
              "\n",
              "[24225 rows x 75 columns]"
            ],
            "text/html": [
              "\n",
              "  <div id=\"df-50096f4c-8f63-47d8-a7a1-a4e42f173a26\">\n",
              "    <div class=\"colab-df-container\">\n",
              "      <div>\n",
              "<style scoped>\n",
              "    .dataframe tbody tr th:only-of-type {\n",
              "        vertical-align: middle;\n",
              "    }\n",
              "\n",
              "    .dataframe tbody tr th {\n",
              "        vertical-align: top;\n",
              "    }\n",
              "\n",
              "    .dataframe thead th {\n",
              "        text-align: right;\n",
              "    }\n",
              "</style>\n",
              "<table border=\"1\" class=\"dataframe\">\n",
              "  <thead>\n",
              "    <tr style=\"text-align: right;\">\n",
              "      <th></th>\n",
              "      <th>Unnamed: 0</th>\n",
              "      <th>listing_url</th>\n",
              "      <th>scrape_id</th>\n",
              "      <th>last_scraped</th>\n",
              "      <th>source</th>\n",
              "      <th>name</th>\n",
              "      <th>description</th>\n",
              "      <th>neighborhood_overview</th>\n",
              "      <th>picture_url</th>\n",
              "      <th>host_id</th>\n",
              "      <th>...</th>\n",
              "      <th>review_scores_communication</th>\n",
              "      <th>review_scores_location</th>\n",
              "      <th>review_scores_value</th>\n",
              "      <th>license</th>\n",
              "      <th>instant_bookable</th>\n",
              "      <th>calculated_host_listings_count</th>\n",
              "      <th>calculated_host_listings_count_entire_homes</th>\n",
              "      <th>calculated_host_listings_count_private_rooms</th>\n",
              "      <th>calculated_host_listings_count_shared_rooms</th>\n",
              "      <th>reviews_per_month</th>\n",
              "    </tr>\n",
              "  </thead>\n",
              "  <tbody>\n",
              "    <tr>\n",
              "      <th>0</th>\n",
              "      <td>0.0</td>\n",
              "      <td>https://www.airbnb.com/rooms/2056638</td>\n",
              "      <td>20230329041210</td>\n",
              "      <td>2023-03-30 00:00:00</td>\n",
              "      <td>city scrape</td>\n",
              "      <td>Amplio y luminoso loft en Coyoac√°n</td>\n",
              "      <td>C√≥modo loft de dos pisos magn√≠ficamente ubic...</td>\n",
              "      <td>Sin registro</td>\n",
              "      <td>https://a0.muscache.com/pictures/28353712/4379...</td>\n",
              "      <td>10531228</td>\n",
              "      <td>...</td>\n",
              "      <td>4.95</td>\n",
              "      <td>5.00</td>\n",
              "      <td>4.86</td>\n",
              "      <td>Sin registro</td>\n",
              "      <td>f</td>\n",
              "      <td>3.0</td>\n",
              "      <td>3.0</td>\n",
              "      <td>0.0</td>\n",
              "      <td>0.0</td>\n",
              "      <td>0.19</td>\n",
              "    </tr>\n",
              "    <tr>\n",
              "      <th>1</th>\n",
              "      <td>1.0</td>\n",
              "      <td>https://www.airbnb.com/rooms/2072354</td>\n",
              "      <td>20230329041210</td>\n",
              "      <td>2023-03-30 00:00:00</td>\n",
              "      <td>city scrape</td>\n",
              "      <td>Coyoacan Historic Studio Apartment</td>\n",
              "      <td>This studio flat is adjacent to the owner's ho...</td>\n",
              "      <td>Located in Coyoacan, in a quiet neighborhood w...</td>\n",
              "      <td>https://a0.muscache.com/pictures/369f3371-593a...</td>\n",
              "      <td>16840050</td>\n",
              "      <td>...</td>\n",
              "      <td>5.00</td>\n",
              "      <td>4.95</td>\n",
              "      <td>4.84</td>\n",
              "      <td>Sin registro</td>\n",
              "      <td>f</td>\n",
              "      <td>2.0</td>\n",
              "      <td>2.0</td>\n",
              "      <td>0.0</td>\n",
              "      <td>0.0</td>\n",
              "      <td>0.54</td>\n",
              "    </tr>\n",
              "    <tr>\n",
              "      <th>2</th>\n",
              "      <td>2.0</td>\n",
              "      <td>https://www.airbnb.com/rooms/696037</td>\n",
              "      <td>20230329041210</td>\n",
              "      <td>2023-03-29 00:00:00</td>\n",
              "      <td>city scrape</td>\n",
              "      <td>3 Bedrooms, 2 blocks from Polanco - ALL RENOVA...</td>\n",
              "      <td>Beautifully decorated 3 bedroom apartment, it ...</td>\n",
              "      <td>This area is called Nuevo Polanco, it has bein...</td>\n",
              "      <td>https://a0.muscache.com/pictures/10960397/67b2...</td>\n",
              "      <td>3531879</td>\n",
              "      <td>...</td>\n",
              "      <td>4.92</td>\n",
              "      <td>4.58</td>\n",
              "      <td>4.71</td>\n",
              "      <td>Sin registro</td>\n",
              "      <td>f</td>\n",
              "      <td>3.0</td>\n",
              "      <td>3.0</td>\n",
              "      <td>0.0</td>\n",
              "      <td>0.0</td>\n",
              "      <td>0.31</td>\n",
              "    </tr>\n",
              "    <tr>\n",
              "      <th>3</th>\n",
              "      <td>3.0</td>\n",
              "      <td>https://www.airbnb.com/rooms/35797</td>\n",
              "      <td>20230329041210</td>\n",
              "      <td>2023-03-29 00:00:00</td>\n",
              "      <td>city scrape</td>\n",
              "      <td>Villa Dante</td>\n",
              "      <td>Dentro de Villa un estudio de arte con futon, ...</td>\n",
              "      <td>Centro comercial Santa Fe, parque interlomas y...</td>\n",
              "      <td>https://a0.muscache.com/pictures/f395ab78-1185...</td>\n",
              "      <td>153786</td>\n",
              "      <td>...</td>\n",
              "      <td>4.80</td>\n",
              "      <td>4.80</td>\n",
              "      <td>4.70</td>\n",
              "      <td>Sin registro</td>\n",
              "      <td>f</td>\n",
              "      <td>1.0</td>\n",
              "      <td>1.0</td>\n",
              "      <td>0.0</td>\n",
              "      <td>0.0</td>\n",
              "      <td>1.70</td>\n",
              "    </tr>\n",
              "    <tr>\n",
              "      <th>4</th>\n",
              "      <td>4.0</td>\n",
              "      <td>https://www.airbnb.com/rooms/44616</td>\n",
              "      <td>20230329041210</td>\n",
              "      <td>2023-03-30 00:00:00</td>\n",
              "      <td>city scrape</td>\n",
              "      <td>CONDESA HAUS  B&amp;B</td>\n",
              "      <td>A new concept of hosting in mexico through a b...</td>\n",
              "      <td>Sin registro</td>\n",
              "      <td>https://a0.muscache.com/pictures/251410/ec75fe...</td>\n",
              "      <td>196253</td>\n",
              "      <td>...</td>\n",
              "      <td>4.78</td>\n",
              "      <td>4.98</td>\n",
              "      <td>4.48</td>\n",
              "      <td>Sin registro</td>\n",
              "      <td>f</td>\n",
              "      <td>12.0</td>\n",
              "      <td>3.0</td>\n",
              "      <td>2.0</td>\n",
              "      <td>0.0</td>\n",
              "      <td>0.46</td>\n",
              "    </tr>\n",
              "    <tr>\n",
              "      <th>...</th>\n",
              "      <td>...</td>\n",
              "      <td>...</td>\n",
              "      <td>...</td>\n",
              "      <td>...</td>\n",
              "      <td>...</td>\n",
              "      <td>...</td>\n",
              "      <td>...</td>\n",
              "      <td>...</td>\n",
              "      <td>...</td>\n",
              "      <td>...</td>\n",
              "      <td>...</td>\n",
              "      <td>...</td>\n",
              "      <td>...</td>\n",
              "      <td>...</td>\n",
              "      <td>...</td>\n",
              "      <td>...</td>\n",
              "      <td>...</td>\n",
              "      <td>...</td>\n",
              "      <td>...</td>\n",
              "      <td>...</td>\n",
              "      <td>...</td>\n",
              "    </tr>\n",
              "    <tr>\n",
              "      <th>24220</th>\n",
              "      <td>24219.0</td>\n",
              "      <td>https://www.airbnb.com/rooms/853923589855678923</td>\n",
              "      <td>20230329041210</td>\n",
              "      <td>2023-03-30 00:00:00</td>\n",
              "      <td>city scrape</td>\n",
              "      <td>Rinc√≥n Mexico lindo!</td>\n",
              "      <td>Este lugar tiene una ubicaci√≥n estrat√©gica: ...</td>\n",
              "      <td>Sin registro</td>\n",
              "      <td>https://a0.muscache.com/pictures/miso/Hosting-...</td>\n",
              "      <td>488030249</td>\n",
              "      <td>...</td>\n",
              "      <td>4.80</td>\n",
              "      <td>4.80</td>\n",
              "      <td>4.70</td>\n",
              "      <td>Sin registro</td>\n",
              "      <td>f</td>\n",
              "      <td>2.0</td>\n",
              "      <td>2.0</td>\n",
              "      <td>0.0</td>\n",
              "      <td>0.0</td>\n",
              "      <td>1.70</td>\n",
              "    </tr>\n",
              "    <tr>\n",
              "      <th>24221</th>\n",
              "      <td>24220.0</td>\n",
              "      <td>https://www.airbnb.com/rooms/853966732274073000</td>\n",
              "      <td>20230329041210</td>\n",
              "      <td>2023-03-29 00:00:00</td>\n",
              "      <td>city scrape</td>\n",
              "      <td>Departamento en zona diamante.</td>\n",
              "      <td>Ubicado en zona diamante, junto al aeropuerto,...</td>\n",
              "      <td>Sin registro</td>\n",
              "      <td>https://a0.muscache.com/pictures/miso/Hosting-...</td>\n",
              "      <td>506816029</td>\n",
              "      <td>...</td>\n",
              "      <td>4.80</td>\n",
              "      <td>4.80</td>\n",
              "      <td>4.70</td>\n",
              "      <td>Sin registro</td>\n",
              "      <td>t</td>\n",
              "      <td>1.0</td>\n",
              "      <td>1.0</td>\n",
              "      <td>0.0</td>\n",
              "      <td>0.0</td>\n",
              "      <td>1.70</td>\n",
              "    </tr>\n",
              "    <tr>\n",
              "      <th>24222</th>\n",
              "      <td>24221.0</td>\n",
              "      <td>https://www.airbnb.com/rooms/854225071295768399</td>\n",
              "      <td>20230329041210</td>\n",
              "      <td>2023-03-29 00:00:00</td>\n",
              "      <td>city scrape</td>\n",
              "      <td>Habitaci√≥n privada en magn√≠fica casa</td>\n",
              "      <td>Rel√°jate en este espacio muy tranquilo y eleg...</td>\n",
              "      <td>Sin registro</td>\n",
              "      <td>https://a0.muscache.com/pictures/db71951a-8696...</td>\n",
              "      <td>154670560</td>\n",
              "      <td>...</td>\n",
              "      <td>4.80</td>\n",
              "      <td>4.80</td>\n",
              "      <td>4.70</td>\n",
              "      <td>Sin registro</td>\n",
              "      <td>f</td>\n",
              "      <td>1.0</td>\n",
              "      <td>0.0</td>\n",
              "      <td>1.0</td>\n",
              "      <td>0.0</td>\n",
              "      <td>1.70</td>\n",
              "    </tr>\n",
              "    <tr>\n",
              "      <th>24223</th>\n",
              "      <td>24222.0</td>\n",
              "      <td>https://www.airbnb.com/rooms/854247693069190865</td>\n",
              "      <td>20230329041210</td>\n",
              "      <td>2023-03-30 00:00:00</td>\n",
              "      <td>city scrape</td>\n",
              "      <td>Espacioso y luminoso loft - Roma</td>\n",
              "      <td>What else does it come with?&lt;br /&gt;- WIFI 100MB...</td>\n",
              "      <td>Sin registro</td>\n",
              "      <td>https://a0.muscache.com/pictures/miso/Hosting-...</td>\n",
              "      <td>7799414</td>\n",
              "      <td>...</td>\n",
              "      <td>4.80</td>\n",
              "      <td>4.80</td>\n",
              "      <td>4.70</td>\n",
              "      <td>Sin registro</td>\n",
              "      <td>t</td>\n",
              "      <td>13.0</td>\n",
              "      <td>13.0</td>\n",
              "      <td>0.0</td>\n",
              "      <td>0.0</td>\n",
              "      <td>1.70</td>\n",
              "    </tr>\n",
              "    <tr>\n",
              "      <th>24224</th>\n",
              "      <td>24223.0</td>\n",
              "      <td>https://www.airbnb.com/rooms/854260329845513725</td>\n",
              "      <td>20230329041210</td>\n",
              "      <td>2023-03-30 00:00:00</td>\n",
              "      <td>city scrape</td>\n",
              "      <td>Maravilloso departamento en Ciudad de M√©xico</td>\n",
              "      <td>Ven a descubrir este incre√≠ble departamento e...</td>\n",
              "      <td>Una zona muy bonita ya que varias de las atrac...</td>\n",
              "      <td>https://a0.muscache.com/pictures/miso/Hosting-...</td>\n",
              "      <td>506864314</td>\n",
              "      <td>...</td>\n",
              "      <td>4.80</td>\n",
              "      <td>4.80</td>\n",
              "      <td>4.70</td>\n",
              "      <td>Sin registro</td>\n",
              "      <td>t</td>\n",
              "      <td>2.0</td>\n",
              "      <td>2.0</td>\n",
              "      <td>0.0</td>\n",
              "      <td>0.0</td>\n",
              "      <td>1.70</td>\n",
              "    </tr>\n",
              "  </tbody>\n",
              "</table>\n",
              "<p>24225 rows × 75 columns</p>\n",
              "</div>\n",
              "      <button class=\"colab-df-convert\" onclick=\"convertToInteractive('df-50096f4c-8f63-47d8-a7a1-a4e42f173a26')\"\n",
              "              title=\"Convert this dataframe to an interactive table.\"\n",
              "              style=\"display:none;\">\n",
              "        \n",
              "  <svg xmlns=\"http://www.w3.org/2000/svg\" height=\"24px\"viewBox=\"0 0 24 24\"\n",
              "       width=\"24px\">\n",
              "    <path d=\"M0 0h24v24H0V0z\" fill=\"none\"/>\n",
              "    <path d=\"M18.56 5.44l.94 2.06.94-2.06 2.06-.94-2.06-.94-.94-2.06-.94 2.06-2.06.94zm-11 1L8.5 8.5l.94-2.06 2.06-.94-2.06-.94L8.5 2.5l-.94 2.06-2.06.94zm10 10l.94 2.06.94-2.06 2.06-.94-2.06-.94-.94-2.06-.94 2.06-2.06.94z\"/><path d=\"M17.41 7.96l-1.37-1.37c-.4-.4-.92-.59-1.43-.59-.52 0-1.04.2-1.43.59L10.3 9.45l-7.72 7.72c-.78.78-.78 2.05 0 2.83L4 21.41c.39.39.9.59 1.41.59.51 0 1.02-.2 1.41-.59l7.78-7.78 2.81-2.81c.8-.78.8-2.07 0-2.86zM5.41 20L4 18.59l7.72-7.72 1.47 1.35L5.41 20z\"/>\n",
              "  </svg>\n",
              "      </button>\n",
              "      \n",
              "  <style>\n",
              "    .colab-df-container {\n",
              "      display:flex;\n",
              "      flex-wrap:wrap;\n",
              "      gap: 12px;\n",
              "    }\n",
              "\n",
              "    .colab-df-convert {\n",
              "      background-color: #E8F0FE;\n",
              "      border: none;\n",
              "      border-radius: 50%;\n",
              "      cursor: pointer;\n",
              "      display: none;\n",
              "      fill: #1967D2;\n",
              "      height: 32px;\n",
              "      padding: 0 0 0 0;\n",
              "      width: 32px;\n",
              "    }\n",
              "\n",
              "    .colab-df-convert:hover {\n",
              "      background-color: #E2EBFA;\n",
              "      box-shadow: 0px 1px 2px rgba(60, 64, 67, 0.3), 0px 1px 3px 1px rgba(60, 64, 67, 0.15);\n",
              "      fill: #174EA6;\n",
              "    }\n",
              "\n",
              "    [theme=dark] .colab-df-convert {\n",
              "      background-color: #3B4455;\n",
              "      fill: #D2E3FC;\n",
              "    }\n",
              "\n",
              "    [theme=dark] .colab-df-convert:hover {\n",
              "      background-color: #434B5C;\n",
              "      box-shadow: 0px 1px 3px 1px rgba(0, 0, 0, 0.15);\n",
              "      filter: drop-shadow(0px 1px 2px rgba(0, 0, 0, 0.3));\n",
              "      fill: #FFFFFF;\n",
              "    }\n",
              "  </style>\n",
              "\n",
              "      <script>\n",
              "        const buttonEl =\n",
              "          document.querySelector('#df-50096f4c-8f63-47d8-a7a1-a4e42f173a26 button.colab-df-convert');\n",
              "        buttonEl.style.display =\n",
              "          google.colab.kernel.accessAllowed ? 'block' : 'none';\n",
              "\n",
              "        async function convertToInteractive(key) {\n",
              "          const element = document.querySelector('#df-50096f4c-8f63-47d8-a7a1-a4e42f173a26');\n",
              "          const dataTable =\n",
              "            await google.colab.kernel.invokeFunction('convertToInteractive',\n",
              "                                                     [key], {});\n",
              "          if (!dataTable) return;\n",
              "\n",
              "          const docLinkHtml = 'Like what you see? Visit the ' +\n",
              "            '<a target=\"_blank\" href=https://colab.research.google.com/notebooks/data_table.ipynb>data table notebook</a>'\n",
              "            + ' to learn more about interactive tables.';\n",
              "          element.innerHTML = '';\n",
              "          dataTable['output_type'] = 'display_data';\n",
              "          await google.colab.output.renderOutput(dataTable, element);\n",
              "          const docLink = document.createElement('div');\n",
              "          docLink.innerHTML = docLinkHtml;\n",
              "          element.appendChild(docLink);\n",
              "        }\n",
              "      </script>\n",
              "    </div>\n",
              "  </div>\n",
              "  "
            ]
          },
          "metadata": {},
          "execution_count": 3
        }
      ]
    },
    {
      "cell_type": "markdown",
      "source": [
        "# **host_acceptance_rate vs host_response_rate**"
      ],
      "metadata": {
        "id": "7n2mMQto-Pqw"
      }
    },
    {
      "cell_type": "markdown",
      "source": [
        "hotel room"
      ],
      "metadata": {
        "id": "VGFytrp5-R8N"
      }
    },
    {
      "cell_type": "code",
      "source": [
        "filtro1=df[df[\"room_type\"] == \"Hotel room\"]\n",
        "filtro1"
      ],
      "metadata": {
        "colab": {
          "base_uri": "https://localhost:8080/",
          "height": 864
        },
        "id": "Rq8pco7rz1hb",
        "outputId": "ee8072d0-5e8f-4984-c212-c0e408252c64"
      },
      "execution_count": null,
      "outputs": [
        {
          "output_type": "execute_result",
          "data": {
            "text/plain": [
              "       Unnamed: 0                            listing_url       scrape_id  \\\n",
              "14           14.0    https://www.airbnb.com/rooms/737328  20230329041210   \n",
              "53           53.0    https://www.airbnb.com/rooms/865012  20230329041210   \n",
              "55           55.0    https://www.airbnb.com/rooms/868843  20230329041210   \n",
              "62           62.0    https://www.airbnb.com/rooms/869063  20230329041210   \n",
              "66           66.0    https://www.airbnb.com/rooms/281134  20230329041210   \n",
              "...           ...                                    ...             ...   \n",
              "9496       9495.0  https://www.airbnb.com/rooms/43205383  20230329041210   \n",
              "9538       9537.0  https://www.airbnb.com/rooms/43247503  20230329041210   \n",
              "9540       9539.0  https://www.airbnb.com/rooms/43247525  20230329041210   \n",
              "9545       9544.0  https://www.airbnb.com/rooms/43247567  20230329041210   \n",
              "11363     11362.0  https://www.airbnb.com/rooms/47845863  20230329041210   \n",
              "\n",
              "              last_scraped           source  \\\n",
              "14     2023-03-29 00:00:00      city scrape   \n",
              "53     2023-03-29 00:00:00      city scrape   \n",
              "55     2023-03-30 00:00:00      city scrape   \n",
              "62     2023-03-30 00:00:00      city scrape   \n",
              "66     2023-03-30 00:00:00      city scrape   \n",
              "...                    ...              ...   \n",
              "9496   2023-03-30 00:00:00      city scrape   \n",
              "9538   2023-03-30 00:00:00      city scrape   \n",
              "9540   2023-03-30 00:00:00  previous scrape   \n",
              "9545   2023-03-30 00:00:00      city scrape   \n",
              "11363  2023-03-30 00:00:00      city scrape   \n",
              "\n",
              "                                                    name  \\\n",
              "14                     Business Suite BEIGE near Reforma   \n",
              "53                   Business Suite RED near Reforma Av.   \n",
              "55                    Business Suite PURPLE near Reforma   \n",
              "62                     Business Suite BLACK near Reforma   \n",
              "66                    COOL PENT HOUSE APARTMENT @CONDESA   \n",
              "...                                                  ...   \n",
              "9496                           Emporio Ciudad de M√©xico   \n",
              "9538                                  FlowSuites Polanco   \n",
              "9540   Krystal Grand Suites Insurgentes Ciudad De M√©...   \n",
              "9545                                           CHAYA B&B   \n",
              "11363         10 camas chicas terr ¬∑ Cama en Dormitorio   \n",
              "\n",
              "                                             description  \\\n",
              "14     <b>The space</b><br />On your business or leis...   \n",
              "53     <b>The space</b><br />Beautiful business suite...   \n",
              "55     <b>The space</b><br />Beautiful business suite...   \n",
              "62     Beautiful business suite facing our indoor pat...   \n",
              "66     Amazing Pent House apartment in the heart fo C...   \n",
              "...                                                  ...   \n",
              "9496                                        Sin registro   \n",
              "9538                                        Sin registro   \n",
              "9540                                        Sin registro   \n",
              "9545                                        Sin registro   \n",
              "11363  <b>The space</b><br />Un hostal que cuenta con...   \n",
              "\n",
              "                                   neighborhood_overview  \\\n",
              "14                                          Sin registro   \n",
              "53                                          Sin registro   \n",
              "55                                          Sin registro   \n",
              "62     We are located in the most developed area of M...   \n",
              "66                                          Sin registro   \n",
              "...                                                  ...   \n",
              "9496                                        Sin registro   \n",
              "9538                                        Sin registro   \n",
              "9540                                        Sin registro   \n",
              "9545                                        Sin registro   \n",
              "11363                                       Sin registro   \n",
              "\n",
              "                                             picture_url    host_id  ...  \\\n",
              "14     https://a0.muscache.com/pictures/10105792/ffaf...    3850198  ...   \n",
              "53     https://a0.muscache.com/pictures/12416374/df57...    3850198  ...   \n",
              "55     https://a0.muscache.com/pictures/12479457/a401...    3850198  ...   \n",
              "62     https://a0.muscache.com/pictures/12482950/80ec...    3850198  ...   \n",
              "66     https://a0.muscache.com/pictures/5754595/e5ec9...     196253  ...   \n",
              "...                                                  ...        ...  ...   \n",
              "9496   https://a0.muscache.com/pictures/6c22e4d1-2294...  336118145  ...   \n",
              "9538   https://a0.muscache.com/pictures/3a86f189-ea18...  318447028  ...   \n",
              "9540   https://a0.muscache.com/pictures/97db0266-3607...  318980910  ...   \n",
              "9545   https://a0.muscache.com/pictures/20760914-ba9e...  319050749  ...   \n",
              "11363  https://a0.muscache.com/pictures/a64a6138-bcd3...  244321663  ...   \n",
              "\n",
              "      review_scores_communication review_scores_location review_scores_value  \\\n",
              "14                            5.0                   4.83                4.78   \n",
              "53                            5.0                   4.97                4.97   \n",
              "55                            5.0                   5.00                4.90   \n",
              "62                            5.0                   4.95                4.95   \n",
              "66                            5.0                   5.00                4.86   \n",
              "...                           ...                    ...                 ...   \n",
              "9496                          5.0                   5.00                5.00   \n",
              "9538                          4.8                   4.80                4.70   \n",
              "9540                          4.8                   4.80                4.70   \n",
              "9545                          4.8                   4.80                4.70   \n",
              "11363                         4.8                   4.80                4.70   \n",
              "\n",
              "            license instant_bookable calculated_host_listings_count  \\\n",
              "14     Sin registro                t                           11.0   \n",
              "53     Sin registro                t                           11.0   \n",
              "55     Sin registro                t                           11.0   \n",
              "62     Sin registro                t                           11.0   \n",
              "66     Sin registro                t                           12.0   \n",
              "...             ...              ...                            ...   \n",
              "9496   Sin registro                f                            2.0   \n",
              "9538   Sin registro                f                            1.0   \n",
              "9540   Sin registro                f                            1.0   \n",
              "9545   Sin registro                f                            1.0   \n",
              "11363  Sin registro                t                           21.0   \n",
              "\n",
              "       calculated_host_listings_count_entire_homes  \\\n",
              "14                                             7.0   \n",
              "53                                             7.0   \n",
              "55                                             7.0   \n",
              "62                                             7.0   \n",
              "66                                             3.0   \n",
              "...                                            ...   \n",
              "9496                                           0.0   \n",
              "9538                                           0.0   \n",
              "9540                                           0.0   \n",
              "9545                                           0.0   \n",
              "11363                                          4.0   \n",
              "\n",
              "       calculated_host_listings_count_private_rooms  \\\n",
              "14                                              0.0   \n",
              "53                                              0.0   \n",
              "55                                              0.0   \n",
              "62                                              0.0   \n",
              "66                                              2.0   \n",
              "...                                             ...   \n",
              "9496                                            1.0   \n",
              "9538                                            0.0   \n",
              "9540                                            0.0   \n",
              "9545                                            0.0   \n",
              "11363                                           2.0   \n",
              "\n",
              "      calculated_host_listings_count_shared_rooms reviews_per_month  \n",
              "14                                            0.0              0.18  \n",
              "53                                            0.0              0.25  \n",
              "55                                            0.0              0.46  \n",
              "62                                            0.0              0.25  \n",
              "66                                            0.0              0.07  \n",
              "...                                           ...               ...  \n",
              "9496                                          0.0              0.12  \n",
              "9538                                          0.0              1.70  \n",
              "9540                                          0.0              1.70  \n",
              "9545                                          0.0              1.70  \n",
              "11363                                         4.0              1.70  \n",
              "\n",
              "[127 rows x 75 columns]"
            ],
            "text/html": [
              "\n",
              "  <div id=\"df-8b2adb4a-565d-46d3-8060-eabd3dece2bb\">\n",
              "    <div class=\"colab-df-container\">\n",
              "      <div>\n",
              "<style scoped>\n",
              "    .dataframe tbody tr th:only-of-type {\n",
              "        vertical-align: middle;\n",
              "    }\n",
              "\n",
              "    .dataframe tbody tr th {\n",
              "        vertical-align: top;\n",
              "    }\n",
              "\n",
              "    .dataframe thead th {\n",
              "        text-align: right;\n",
              "    }\n",
              "</style>\n",
              "<table border=\"1\" class=\"dataframe\">\n",
              "  <thead>\n",
              "    <tr style=\"text-align: right;\">\n",
              "      <th></th>\n",
              "      <th>Unnamed: 0</th>\n",
              "      <th>listing_url</th>\n",
              "      <th>scrape_id</th>\n",
              "      <th>last_scraped</th>\n",
              "      <th>source</th>\n",
              "      <th>name</th>\n",
              "      <th>description</th>\n",
              "      <th>neighborhood_overview</th>\n",
              "      <th>picture_url</th>\n",
              "      <th>host_id</th>\n",
              "      <th>...</th>\n",
              "      <th>review_scores_communication</th>\n",
              "      <th>review_scores_location</th>\n",
              "      <th>review_scores_value</th>\n",
              "      <th>license</th>\n",
              "      <th>instant_bookable</th>\n",
              "      <th>calculated_host_listings_count</th>\n",
              "      <th>calculated_host_listings_count_entire_homes</th>\n",
              "      <th>calculated_host_listings_count_private_rooms</th>\n",
              "      <th>calculated_host_listings_count_shared_rooms</th>\n",
              "      <th>reviews_per_month</th>\n",
              "    </tr>\n",
              "  </thead>\n",
              "  <tbody>\n",
              "    <tr>\n",
              "      <th>14</th>\n",
              "      <td>14.0</td>\n",
              "      <td>https://www.airbnb.com/rooms/737328</td>\n",
              "      <td>20230329041210</td>\n",
              "      <td>2023-03-29 00:00:00</td>\n",
              "      <td>city scrape</td>\n",
              "      <td>Business Suite BEIGE near Reforma</td>\n",
              "      <td>&lt;b&gt;The space&lt;/b&gt;&lt;br /&gt;On your business or leis...</td>\n",
              "      <td>Sin registro</td>\n",
              "      <td>https://a0.muscache.com/pictures/10105792/ffaf...</td>\n",
              "      <td>3850198</td>\n",
              "      <td>...</td>\n",
              "      <td>5.0</td>\n",
              "      <td>4.83</td>\n",
              "      <td>4.78</td>\n",
              "      <td>Sin registro</td>\n",
              "      <td>t</td>\n",
              "      <td>11.0</td>\n",
              "      <td>7.0</td>\n",
              "      <td>0.0</td>\n",
              "      <td>0.0</td>\n",
              "      <td>0.18</td>\n",
              "    </tr>\n",
              "    <tr>\n",
              "      <th>53</th>\n",
              "      <td>53.0</td>\n",
              "      <td>https://www.airbnb.com/rooms/865012</td>\n",
              "      <td>20230329041210</td>\n",
              "      <td>2023-03-29 00:00:00</td>\n",
              "      <td>city scrape</td>\n",
              "      <td>Business Suite RED near Reforma Av.</td>\n",
              "      <td>&lt;b&gt;The space&lt;/b&gt;&lt;br /&gt;Beautiful business suite...</td>\n",
              "      <td>Sin registro</td>\n",
              "      <td>https://a0.muscache.com/pictures/12416374/df57...</td>\n",
              "      <td>3850198</td>\n",
              "      <td>...</td>\n",
              "      <td>5.0</td>\n",
              "      <td>4.97</td>\n",
              "      <td>4.97</td>\n",
              "      <td>Sin registro</td>\n",
              "      <td>t</td>\n",
              "      <td>11.0</td>\n",
              "      <td>7.0</td>\n",
              "      <td>0.0</td>\n",
              "      <td>0.0</td>\n",
              "      <td>0.25</td>\n",
              "    </tr>\n",
              "    <tr>\n",
              "      <th>55</th>\n",
              "      <td>55.0</td>\n",
              "      <td>https://www.airbnb.com/rooms/868843</td>\n",
              "      <td>20230329041210</td>\n",
              "      <td>2023-03-30 00:00:00</td>\n",
              "      <td>city scrape</td>\n",
              "      <td>Business Suite PURPLE near Reforma</td>\n",
              "      <td>&lt;b&gt;The space&lt;/b&gt;&lt;br /&gt;Beautiful business suite...</td>\n",
              "      <td>Sin registro</td>\n",
              "      <td>https://a0.muscache.com/pictures/12479457/a401...</td>\n",
              "      <td>3850198</td>\n",
              "      <td>...</td>\n",
              "      <td>5.0</td>\n",
              "      <td>5.00</td>\n",
              "      <td>4.90</td>\n",
              "      <td>Sin registro</td>\n",
              "      <td>t</td>\n",
              "      <td>11.0</td>\n",
              "      <td>7.0</td>\n",
              "      <td>0.0</td>\n",
              "      <td>0.0</td>\n",
              "      <td>0.46</td>\n",
              "    </tr>\n",
              "    <tr>\n",
              "      <th>62</th>\n",
              "      <td>62.0</td>\n",
              "      <td>https://www.airbnb.com/rooms/869063</td>\n",
              "      <td>20230329041210</td>\n",
              "      <td>2023-03-30 00:00:00</td>\n",
              "      <td>city scrape</td>\n",
              "      <td>Business Suite BLACK near Reforma</td>\n",
              "      <td>Beautiful business suite facing our indoor pat...</td>\n",
              "      <td>We are located in the most developed area of M...</td>\n",
              "      <td>https://a0.muscache.com/pictures/12482950/80ec...</td>\n",
              "      <td>3850198</td>\n",
              "      <td>...</td>\n",
              "      <td>5.0</td>\n",
              "      <td>4.95</td>\n",
              "      <td>4.95</td>\n",
              "      <td>Sin registro</td>\n",
              "      <td>t</td>\n",
              "      <td>11.0</td>\n",
              "      <td>7.0</td>\n",
              "      <td>0.0</td>\n",
              "      <td>0.0</td>\n",
              "      <td>0.25</td>\n",
              "    </tr>\n",
              "    <tr>\n",
              "      <th>66</th>\n",
              "      <td>66.0</td>\n",
              "      <td>https://www.airbnb.com/rooms/281134</td>\n",
              "      <td>20230329041210</td>\n",
              "      <td>2023-03-30 00:00:00</td>\n",
              "      <td>city scrape</td>\n",
              "      <td>COOL PENT HOUSE APARTMENT @CONDESA</td>\n",
              "      <td>Amazing Pent House apartment in the heart fo C...</td>\n",
              "      <td>Sin registro</td>\n",
              "      <td>https://a0.muscache.com/pictures/5754595/e5ec9...</td>\n",
              "      <td>196253</td>\n",
              "      <td>...</td>\n",
              "      <td>5.0</td>\n",
              "      <td>5.00</td>\n",
              "      <td>4.86</td>\n",
              "      <td>Sin registro</td>\n",
              "      <td>t</td>\n",
              "      <td>12.0</td>\n",
              "      <td>3.0</td>\n",
              "      <td>2.0</td>\n",
              "      <td>0.0</td>\n",
              "      <td>0.07</td>\n",
              "    </tr>\n",
              "    <tr>\n",
              "      <th>...</th>\n",
              "      <td>...</td>\n",
              "      <td>...</td>\n",
              "      <td>...</td>\n",
              "      <td>...</td>\n",
              "      <td>...</td>\n",
              "      <td>...</td>\n",
              "      <td>...</td>\n",
              "      <td>...</td>\n",
              "      <td>...</td>\n",
              "      <td>...</td>\n",
              "      <td>...</td>\n",
              "      <td>...</td>\n",
              "      <td>...</td>\n",
              "      <td>...</td>\n",
              "      <td>...</td>\n",
              "      <td>...</td>\n",
              "      <td>...</td>\n",
              "      <td>...</td>\n",
              "      <td>...</td>\n",
              "      <td>...</td>\n",
              "      <td>...</td>\n",
              "    </tr>\n",
              "    <tr>\n",
              "      <th>9496</th>\n",
              "      <td>9495.0</td>\n",
              "      <td>https://www.airbnb.com/rooms/43205383</td>\n",
              "      <td>20230329041210</td>\n",
              "      <td>2023-03-30 00:00:00</td>\n",
              "      <td>city scrape</td>\n",
              "      <td>Emporio Ciudad de M√©xico</td>\n",
              "      <td>Sin registro</td>\n",
              "      <td>Sin registro</td>\n",
              "      <td>https://a0.muscache.com/pictures/6c22e4d1-2294...</td>\n",
              "      <td>336118145</td>\n",
              "      <td>...</td>\n",
              "      <td>5.0</td>\n",
              "      <td>5.00</td>\n",
              "      <td>5.00</td>\n",
              "      <td>Sin registro</td>\n",
              "      <td>f</td>\n",
              "      <td>2.0</td>\n",
              "      <td>0.0</td>\n",
              "      <td>1.0</td>\n",
              "      <td>0.0</td>\n",
              "      <td>0.12</td>\n",
              "    </tr>\n",
              "    <tr>\n",
              "      <th>9538</th>\n",
              "      <td>9537.0</td>\n",
              "      <td>https://www.airbnb.com/rooms/43247503</td>\n",
              "      <td>20230329041210</td>\n",
              "      <td>2023-03-30 00:00:00</td>\n",
              "      <td>city scrape</td>\n",
              "      <td>FlowSuites Polanco</td>\n",
              "      <td>Sin registro</td>\n",
              "      <td>Sin registro</td>\n",
              "      <td>https://a0.muscache.com/pictures/3a86f189-ea18...</td>\n",
              "      <td>318447028</td>\n",
              "      <td>...</td>\n",
              "      <td>4.8</td>\n",
              "      <td>4.80</td>\n",
              "      <td>4.70</td>\n",
              "      <td>Sin registro</td>\n",
              "      <td>f</td>\n",
              "      <td>1.0</td>\n",
              "      <td>0.0</td>\n",
              "      <td>0.0</td>\n",
              "      <td>0.0</td>\n",
              "      <td>1.70</td>\n",
              "    </tr>\n",
              "    <tr>\n",
              "      <th>9540</th>\n",
              "      <td>9539.0</td>\n",
              "      <td>https://www.airbnb.com/rooms/43247525</td>\n",
              "      <td>20230329041210</td>\n",
              "      <td>2023-03-30 00:00:00</td>\n",
              "      <td>previous scrape</td>\n",
              "      <td>Krystal Grand Suites Insurgentes Ciudad De M√©...</td>\n",
              "      <td>Sin registro</td>\n",
              "      <td>Sin registro</td>\n",
              "      <td>https://a0.muscache.com/pictures/97db0266-3607...</td>\n",
              "      <td>318980910</td>\n",
              "      <td>...</td>\n",
              "      <td>4.8</td>\n",
              "      <td>4.80</td>\n",
              "      <td>4.70</td>\n",
              "      <td>Sin registro</td>\n",
              "      <td>f</td>\n",
              "      <td>1.0</td>\n",
              "      <td>0.0</td>\n",
              "      <td>0.0</td>\n",
              "      <td>0.0</td>\n",
              "      <td>1.70</td>\n",
              "    </tr>\n",
              "    <tr>\n",
              "      <th>9545</th>\n",
              "      <td>9544.0</td>\n",
              "      <td>https://www.airbnb.com/rooms/43247567</td>\n",
              "      <td>20230329041210</td>\n",
              "      <td>2023-03-30 00:00:00</td>\n",
              "      <td>city scrape</td>\n",
              "      <td>CHAYA B&amp;B</td>\n",
              "      <td>Sin registro</td>\n",
              "      <td>Sin registro</td>\n",
              "      <td>https://a0.muscache.com/pictures/20760914-ba9e...</td>\n",
              "      <td>319050749</td>\n",
              "      <td>...</td>\n",
              "      <td>4.8</td>\n",
              "      <td>4.80</td>\n",
              "      <td>4.70</td>\n",
              "      <td>Sin registro</td>\n",
              "      <td>f</td>\n",
              "      <td>1.0</td>\n",
              "      <td>0.0</td>\n",
              "      <td>0.0</td>\n",
              "      <td>0.0</td>\n",
              "      <td>1.70</td>\n",
              "    </tr>\n",
              "    <tr>\n",
              "      <th>11363</th>\n",
              "      <td>11362.0</td>\n",
              "      <td>https://www.airbnb.com/rooms/47845863</td>\n",
              "      <td>20230329041210</td>\n",
              "      <td>2023-03-30 00:00:00</td>\n",
              "      <td>city scrape</td>\n",
              "      <td>10 camas chicas terr ¬∑ Cama en Dormitorio</td>\n",
              "      <td>&lt;b&gt;The space&lt;/b&gt;&lt;br /&gt;Un hostal que cuenta con...</td>\n",
              "      <td>Sin registro</td>\n",
              "      <td>https://a0.muscache.com/pictures/a64a6138-bcd3...</td>\n",
              "      <td>244321663</td>\n",
              "      <td>...</td>\n",
              "      <td>4.8</td>\n",
              "      <td>4.80</td>\n",
              "      <td>4.70</td>\n",
              "      <td>Sin registro</td>\n",
              "      <td>t</td>\n",
              "      <td>21.0</td>\n",
              "      <td>4.0</td>\n",
              "      <td>2.0</td>\n",
              "      <td>4.0</td>\n",
              "      <td>1.70</td>\n",
              "    </tr>\n",
              "  </tbody>\n",
              "</table>\n",
              "<p>127 rows × 75 columns</p>\n",
              "</div>\n",
              "      <button class=\"colab-df-convert\" onclick=\"convertToInteractive('df-8b2adb4a-565d-46d3-8060-eabd3dece2bb')\"\n",
              "              title=\"Convert this dataframe to an interactive table.\"\n",
              "              style=\"display:none;\">\n",
              "        \n",
              "  <svg xmlns=\"http://www.w3.org/2000/svg\" height=\"24px\"viewBox=\"0 0 24 24\"\n",
              "       width=\"24px\">\n",
              "    <path d=\"M0 0h24v24H0V0z\" fill=\"none\"/>\n",
              "    <path d=\"M18.56 5.44l.94 2.06.94-2.06 2.06-.94-2.06-.94-.94-2.06-.94 2.06-2.06.94zm-11 1L8.5 8.5l.94-2.06 2.06-.94-2.06-.94L8.5 2.5l-.94 2.06-2.06.94zm10 10l.94 2.06.94-2.06 2.06-.94-2.06-.94-.94-2.06-.94 2.06-2.06.94z\"/><path d=\"M17.41 7.96l-1.37-1.37c-.4-.4-.92-.59-1.43-.59-.52 0-1.04.2-1.43.59L10.3 9.45l-7.72 7.72c-.78.78-.78 2.05 0 2.83L4 21.41c.39.39.9.59 1.41.59.51 0 1.02-.2 1.41-.59l7.78-7.78 2.81-2.81c.8-.78.8-2.07 0-2.86zM5.41 20L4 18.59l7.72-7.72 1.47 1.35L5.41 20z\"/>\n",
              "  </svg>\n",
              "      </button>\n",
              "      \n",
              "  <style>\n",
              "    .colab-df-container {\n",
              "      display:flex;\n",
              "      flex-wrap:wrap;\n",
              "      gap: 12px;\n",
              "    }\n",
              "\n",
              "    .colab-df-convert {\n",
              "      background-color: #E8F0FE;\n",
              "      border: none;\n",
              "      border-radius: 50%;\n",
              "      cursor: pointer;\n",
              "      display: none;\n",
              "      fill: #1967D2;\n",
              "      height: 32px;\n",
              "      padding: 0 0 0 0;\n",
              "      width: 32px;\n",
              "    }\n",
              "\n",
              "    .colab-df-convert:hover {\n",
              "      background-color: #E2EBFA;\n",
              "      box-shadow: 0px 1px 2px rgba(60, 64, 67, 0.3), 0px 1px 3px 1px rgba(60, 64, 67, 0.15);\n",
              "      fill: #174EA6;\n",
              "    }\n",
              "\n",
              "    [theme=dark] .colab-df-convert {\n",
              "      background-color: #3B4455;\n",
              "      fill: #D2E3FC;\n",
              "    }\n",
              "\n",
              "    [theme=dark] .colab-df-convert:hover {\n",
              "      background-color: #434B5C;\n",
              "      box-shadow: 0px 1px 3px 1px rgba(0, 0, 0, 0.15);\n",
              "      filter: drop-shadow(0px 1px 2px rgba(0, 0, 0, 0.3));\n",
              "      fill: #FFFFFF;\n",
              "    }\n",
              "  </style>\n",
              "\n",
              "      <script>\n",
              "        const buttonEl =\n",
              "          document.querySelector('#df-8b2adb4a-565d-46d3-8060-eabd3dece2bb button.colab-df-convert');\n",
              "        buttonEl.style.display =\n",
              "          google.colab.kernel.accessAllowed ? 'block' : 'none';\n",
              "\n",
              "        async function convertToInteractive(key) {\n",
              "          const element = document.querySelector('#df-8b2adb4a-565d-46d3-8060-eabd3dece2bb');\n",
              "          const dataTable =\n",
              "            await google.colab.kernel.invokeFunction('convertToInteractive',\n",
              "                                                     [key], {});\n",
              "          if (!dataTable) return;\n",
              "\n",
              "          const docLinkHtml = 'Like what you see? Visit the ' +\n",
              "            '<a target=\"_blank\" href=https://colab.research.google.com/notebooks/data_table.ipynb>data table notebook</a>'\n",
              "            + ' to learn more about interactive tables.';\n",
              "          element.innerHTML = '';\n",
              "          dataTable['output_type'] = 'display_data';\n",
              "          await google.colab.output.renderOutput(dataTable, element);\n",
              "          const docLink = document.createElement('div');\n",
              "          docLink.innerHTML = docLinkHtml;\n",
              "          element.appendChild(docLink);\n",
              "        }\n",
              "      </script>\n",
              "    </div>\n",
              "  </div>\n",
              "  "
            ]
          },
          "metadata": {},
          "execution_count": 4
        }
      ]
    },
    {
      "cell_type": "code",
      "source": [
        "#Imprimimos el scatter plot entre la variable dependiente (host_acceptance_rate) e independiente (host_response_rate) \n",
        "#para observar el comportamiento en su dispersión \n",
        "from turtle import color\n",
        "\n",
        "\n",
        "sns.scatterplot(x='host_response_rate', y='host_acceptance_rate', color=\"blue\", data=filtro1)\n",
        "#sns.scatterplot(X='speeding', y='total', color=\"red\", data=df)"
      ],
      "metadata": {
        "id": "KddGiGsrFDda",
        "colab": {
          "base_uri": "https://localhost:8080/",
          "height": 464
        },
        "outputId": "f1782dec-5f39-4435-b118-e2436c459e86"
      },
      "execution_count": null,
      "outputs": [
        {
          "output_type": "execute_result",
          "data": {
            "text/plain": [
              "<Axes: xlabel='host_response_rate', ylabel='host_acceptance_rate'>"
            ]
          },
          "metadata": {},
          "execution_count": 5
        },
        {
          "output_type": "display_data",
          "data": {
            "text/plain": [
              "<Figure size 640x480 with 1 Axes>"
            ],
            "image/png": "[encoded data removed]"
          },
          "metadata": {}
        }
      ]
    },
    {
      "cell_type": "code",
      "source": [
        "#Declaramos las variables dependientes e independientes para la regresión lineal\n",
        "Vars_Indep= filtro1[['host_response_rate']]\n",
        "Var_Dep= filtro1['host_acceptance_rate']"
      ],
      "metadata": {
        "id": "CQ6pK0K7Fxhz"
      },
      "execution_count": null,
      "outputs": []
    },
    {
      "cell_type": "code",
      "source": [
        "#Se define model como la función de regresión lineal\n",
        "from sklearn.linear_model import LinearRegression\n",
        "model= LinearRegression()"
      ],
      "metadata": {
        "id": "LcrEBgC7F0NG"
      },
      "execution_count": null,
      "outputs": []
    },
    {
      "cell_type": "code",
      "source": [
        "#Verificamos la función relacionada al modelo\n",
        "type(model)"
      ],
      "metadata": {
        "colab": {
          "base_uri": "https://localhost:8080/"
        },
        "id": "OnjcGhIRG87V",
        "outputId": "7af688a2-9bd2-407d-a3e6-2c4e970696b5"
      },
      "execution_count": null,
      "outputs": [
        {
          "output_type": "execute_result",
          "data": {
            "text/plain": [
              "sklearn.linear_model._base.LinearRegression"
            ]
          },
          "metadata": {},
          "execution_count": 8
        }
      ]
    },
    {
      "cell_type": "code",
      "source": [
        "#Ajustamos el modelo con las variables antes declaradas\n",
        "model.fit(X=Vars_Indep, y=Var_Dep)"
      ],
      "metadata": {
        "id": "AbpkGkvOG--A",
        "colab": {
          "base_uri": "https://localhost:8080/",
          "height": 64
        },
        "outputId": "e9b15b7d-a9c8-462e-fdc0-7f36745b83d4"
      },
      "execution_count": null,
      "outputs": [
        {
          "output_type": "execute_result",
          "data": {
            "text/plain": [
              "LinearRegression()"
            ],
            "text/html": [
              "<style>#sk-container-id-1 {color: black;background-color: white;}#sk-container-id-1 pre{padding: 0;}#sk-container-id-1 div.sk-toggleable {background-color: white;}#sk-container-id-1 label.sk-toggleable__label {cursor: pointer;display: block;width: 100%;margin-bottom: 0;padding: 0.3em;box-sizing: border-box;text-align: center;}#sk-container-id-1 label.sk-toggleable__label-arrow:before {content: \"▸\";float: left;margin-right: 0.25em;color: #696969;}#sk-container-id-1 label.sk-toggleable__label-arrow:hover:before {color: black;}#sk-container-id-1 div.sk-estimator:hover label.sk-toggleable__label-arrow:before {color: black;}#sk-container-id-1 div.sk-toggleable__content {max-height: 0;max-width: 0;overflow: hidden;text-align: left;background-color: #f0f8ff;}#sk-container-id-1 div.sk-toggleable__content pre {margin: 0.2em;color: black;border-radius: 0.25em;background-color: #f0f8ff;}#sk-container-id-1 input.sk-toggleable__control:checked~div.sk-toggleable__content {max-height: 200px;max-width: 100%;overflow: auto;}#sk-container-id-1 input.sk-toggleable__control:checked~label.sk-toggleable__label-arrow:before {content: \"▾\";}#sk-container-id-1 div.sk-estimator input.sk-toggleable__control:checked~label.sk-toggleable__label {background-color: #d4ebff;}#sk-container-id-1 div.sk-label input.sk-toggleable__control:checked~label.sk-toggleable__label {background-color: #d4ebff;}#sk-container-id-1 input.sk-hidden--visually {border: 0;clip: rect(1px 1px 1px 1px);clip: rect(1px, 1px, 1px, 1px);height: 1px;margin: -1px;overflow: hidden;padding: 0;position: absolute;width: 1px;}#sk-container-id-1 div.sk-estimator {font-family: monospace;background-color: #f0f8ff;border: 1px dotted black;border-radius: 0.25em;box-sizing: border-box;margin-bottom: 0.5em;}#sk-container-id-1 div.sk-estimator:hover {background-color: #d4ebff;}#sk-container-id-1 div.sk-parallel-item::after {content: \"\";width: 100%;border-bottom: 1px solid gray;flex-grow: 1;}#sk-container-id-1 div.sk-label:hover label.sk-toggleable__label {background-color: #d4ebff;}#sk-container-id-1 div.sk-serial::before {content: \"\";position: absolute;border-left: 1px solid gray;box-sizing: border-box;top: 0;bottom: 0;left: 50%;z-index: 0;}#sk-container-id-1 div.sk-serial {display: flex;flex-direction: column;align-items: center;background-color: white;padding-right: 0.2em;padding-left: 0.2em;position: relative;}#sk-container-id-1 div.sk-item {position: relative;z-index: 1;}#sk-container-id-1 div.sk-parallel {display: flex;align-items: stretch;justify-content: center;background-color: white;position: relative;}#sk-container-id-1 div.sk-item::before, #sk-container-id-1 div.sk-parallel-item::before {content: \"\";position: absolute;border-left: 1px solid gray;box-sizing: border-box;top: 0;bottom: 0;left: 50%;z-index: -1;}#sk-container-id-1 div.sk-parallel-item {display: flex;flex-direction: column;z-index: 1;position: relative;background-color: white;}#sk-container-id-1 div.sk-parallel-item:first-child::after {align-self: flex-end;width: 50%;}#sk-container-id-1 div.sk-parallel-item:last-child::after {align-self: flex-start;width: 50%;}#sk-container-id-1 div.sk-parallel-item:only-child::after {width: 0;}#sk-container-id-1 div.sk-dashed-wrapped {border: 1px dashed gray;margin: 0 0.4em 0.5em 0.4em;box-sizing: border-box;padding-bottom: 0.4em;background-color: white;}#sk-container-id-1 div.sk-label label {font-family: monospace;font-weight: bold;display: inline-block;line-height: 1.2em;}#sk-container-id-1 div.sk-label-container {text-align: center;}#sk-container-id-1 div.sk-container {/* jupyter's `normalize.less` sets `[hidden] { display: none; }` but bootstrap.min.css set `[hidden] { display: none !important; }` so we also need the `!important` here to be able to override the default hidden behavior on the sphinx rendered scikit-learn.org. See: https://github.com/scikit-learn/scikit-learn/issues/21755 */display: inline-block !important;position: relative;}#sk-container-id-1 div.sk-text-repr-fallback {display: none;}</style><div id=\"sk-container-id-1\" class=\"sk-top-container\"><div class=\"sk-text-repr-fallback\"><pre>LinearRegression()</pre><b>In a Jupyter environment, please rerun this cell to show the HTML representation or trust the notebook. <br />On GitHub, the HTML representation is unable to render, please try loading this page with nbviewer.org.</b></div><div class=\"sk-container\" hidden><div class=\"sk-item\"><div class=\"sk-estimator sk-toggleable\"><input class=\"sk-toggleable__control sk-hidden--visually\" id=\"sk-estimator-id-1\" type=\"checkbox\" checked><label for=\"sk-estimator-id-1\" class=\"sk-toggleable__label sk-toggleable__label-arrow\">LinearRegression</label><div class=\"sk-toggleable__content\"><pre>LinearRegression()</pre></div></div></div></div></div>"
            ]
          },
          "metadata": {},
          "execution_count": 9
        }
      ]
    },
    {
      "cell_type": "code",
      "source": [
        "#Verificamos los coeficientes obtenidos para el modelo ajustado\n",
        "model.__dict__"
      ],
      "metadata": {
        "colab": {
          "base_uri": "https://localhost:8080/"
        },
        "id": "IlFIDaxlHFqa",
        "outputId": "79d6d359-352e-4bfc-a1b3-587989b15107"
      },
      "execution_count": null,
      "outputs": [
        {
          "output_type": "execute_result",
          "data": {
            "text/plain": [
              "{'fit_intercept': True,\n",
              " 'copy_X': True,\n",
              " 'n_jobs': None,\n",
              " 'positive': False,\n",
              " 'feature_names_in_': array(['host_response_rate'], dtype=object),\n",
              " 'n_features_in_': 1,\n",
              " 'coef_': array([0.67835143]),\n",
              " 'rank_': 1,\n",
              " 'singular_': array([3.090885]),\n",
              " 'intercept_': 0.26812711148753066}"
            ]
          },
          "metadata": {},
          "execution_count": 10
        }
      ]
    },
    {
      "cell_type": "markdown",
      "source": [
        "**Modelo matemático: y= 0.67835143x + 0.26812711148753066**\n",
        "\n",
        "---\n",
        "\n",
        "\n"
      ],
      "metadata": {
        "id": "b1Z-ob3UKjTF"
      }
    },
    {
      "cell_type": "code",
      "source": [
        "#Evaluamos la eficiencia del modelo obtenido por medio del coeficiente R Determinación\n",
        "model.score(Vars_Indep,Var_Dep)"
      ],
      "metadata": {
        "colab": {
          "base_uri": "https://localhost:8080/"
        },
        "id": "4I8OaBFUHLmc",
        "outputId": "40cffd46-4646-4e31-b72b-6b9f182b61b2"
      },
      "execution_count": null,
      "outputs": [
        {
          "output_type": "execute_result",
          "data": {
            "text/plain": [
              "0.581784017666669"
            ]
          },
          "metadata": {},
          "execution_count": 11
        }
      ]
    },
    {
      "cell_type": "code",
      "source": [
        "#Predecimos los valores de total de accidentes a partir de la variable \"host_response_rate\"\n",
        "y_pred= model.predict(X=filtro1[['host_response_rate']])\n",
        "y_pred"
      ],
      "metadata": {
        "id": "v3NBdGwnIR06",
        "colab": {
          "base_uri": "https://localhost:8080/"
        },
        "outputId": "5b204871-5748-4af8-f51e-a80a32d7e03e"
      },
      "execution_count": null,
      "outputs": [
        {
          "output_type": "execute_result",
          "data": {
            "text/plain": [
              "array([0.8786434 , 0.8786434 , 0.8786434 , 0.8786434 , 0.94647854,\n",
              "       0.94647854, 0.94647854, 0.94647854, 0.93969503, 0.91256097,\n",
              "       0.93291152, 0.91256097, 0.91256097, 0.94647854, 0.94647854,\n",
              "       0.94647854, 0.94647854, 0.94647854, 0.74975663, 0.88542692,\n",
              "       0.91256097, 0.26812711, 0.94647854, 0.26812711, 0.94647854,\n",
              "       0.94647854, 0.94647854, 0.94647854, 0.94647854, 0.94647854,\n",
              "       0.94647854, 0.94647854, 0.94647854, 0.94647854, 0.94647854,\n",
              "       0.94647854, 0.74975663, 0.94647854, 0.94647854, 0.93291152,\n",
              "       0.93291152, 0.93969503, 0.94647854, 0.94647854, 0.94647854,\n",
              "       0.94647854, 0.94647854, 0.94647854, 0.94647854, 0.94647854,\n",
              "       0.94647854, 0.94647854, 0.94647854, 0.94647854, 0.94647854,\n",
              "       0.94647854, 0.94647854, 0.94647854, 0.94647854, 0.94647854,\n",
              "       0.94647854, 0.94647854, 0.94647854, 0.94647854, 0.94647854,\n",
              "       0.94647854, 0.94647854, 0.94647854, 0.94647854, 0.94647854,\n",
              "       0.94647854, 0.94647854, 0.94647854, 0.94647854, 0.94647854,\n",
              "       0.26812711, 0.74975663, 0.94647854, 0.94647854, 0.94647854,\n",
              "       0.94647854, 0.94647854, 0.94647854, 0.26812711, 0.94647854,\n",
              "       0.94647854, 0.94647854, 0.94647854, 0.94647854, 0.94647854,\n",
              "       0.94647854, 0.94647854, 0.94647854, 0.94647854, 0.94647854,\n",
              "       0.94647854, 0.94647854, 0.94647854, 0.94647854, 0.94647854,\n",
              "       0.94647854, 0.94647854, 0.26812711, 0.67513797, 0.67513797,\n",
              "       0.94647854, 0.94647854, 0.94647854, 0.90577746, 0.94647854,\n",
              "       0.94647854, 0.67513797, 0.67513797, 0.26812711, 0.26812711,\n",
              "       0.90577746, 0.94647854, 0.94647854, 0.94647854, 0.94647854,\n",
              "       0.94647854, 0.94647854, 0.94647854, 0.26812711, 0.26812711,\n",
              "       0.26812711, 0.94647854])"
            ]
          },
          "metadata": {},
          "execution_count": 12
        }
      ]
    },
    {
      "cell_type": "code",
      "source": [
        "#Corroboramos cual es el coeficiente de Determinación de nuestro modelo\n",
        "coef_Deter=model.score(X=Vars_Indep, y=Var_Dep)\n",
        "coef_Deter"
      ],
      "metadata": {
        "id": "Fhv3CfiOIjoC",
        "colab": {
          "base_uri": "https://localhost:8080/"
        },
        "outputId": "0191bc5c-8757-40a2-91b3-8081d195632b"
      },
      "execution_count": null,
      "outputs": [
        {
          "output_type": "execute_result",
          "data": {
            "text/plain": [
              "0.581784017666669"
            ]
          },
          "metadata": {},
          "execution_count": 14
        }
      ]
    },
    {
      "cell_type": "code",
      "source": [
        "#Corroboramos cual es el coeficiente de Correlación de nuestro modelo\n",
        "coef_Correl=np.sqrt(coef_Deter)\n",
        "coef_Correl"
      ],
      "metadata": {
        "id": "menvAyZZIl0D",
        "colab": {
          "base_uri": "https://localhost:8080/"
        },
        "outputId": "3055e578-eb57-4d6d-b851-644d1358288c"
      },
      "execution_count": null,
      "outputs": [
        {
          "output_type": "execute_result",
          "data": {
            "text/plain": [
              "0.7627476762774626"
            ]
          },
          "metadata": {},
          "execution_count": 15
        }
      ]
    },
    {
      "cell_type": "markdown",
      "source": [
        "Entire home/apt"
      ],
      "metadata": {
        "id": "RaNGiFm8_aKW"
      }
    },
    {
      "cell_type": "code",
      "source": [
        "filtro2=df[df[\"room_type\"] == \"Entire home/apt\"]\n",
        "filtro2"
      ],
      "metadata": {
        "id": "U3tl2cE6_eXH",
        "colab": {
          "base_uri": "https://localhost:8080/",
          "height": 766
        },
        "outputId": "ee9662c2-f007-43f5-c4c3-b067ad9ec724"
      },
      "execution_count": null,
      "outputs": [
        {
          "output_type": "execute_result",
          "data": {
            "text/plain": [
              "       Unnamed: 0                                      listing_url  \\\n",
              "0             0.0             https://www.airbnb.com/rooms/2056638   \n",
              "1             1.0             https://www.airbnb.com/rooms/2072354   \n",
              "2             2.0              https://www.airbnb.com/rooms/696037   \n",
              "3             3.0               https://www.airbnb.com/rooms/35797   \n",
              "4             4.0               https://www.airbnb.com/rooms/44616   \n",
              "...           ...                                              ...   \n",
              "24218     24217.0  https://www.airbnb.com/rooms/853790308958785669   \n",
              "24220     24219.0  https://www.airbnb.com/rooms/853923589855678923   \n",
              "24221     24220.0  https://www.airbnb.com/rooms/853966732274073000   \n",
              "24223     24222.0  https://www.airbnb.com/rooms/854247693069190865   \n",
              "24224     24223.0  https://www.airbnb.com/rooms/854260329845513725   \n",
              "\n",
              "            scrape_id         last_scraped       source  \\\n",
              "0      20230329041210  2023-03-30 00:00:00  city scrape   \n",
              "1      20230329041210  2023-03-30 00:00:00  city scrape   \n",
              "2      20230329041210  2023-03-29 00:00:00  city scrape   \n",
              "3      20230329041210  2023-03-29 00:00:00  city scrape   \n",
              "4      20230329041210  2023-03-30 00:00:00  city scrape   \n",
              "...               ...                  ...          ...   \n",
              "24218  20230329041210  2023-03-29 00:00:00  city scrape   \n",
              "24220  20230329041210  2023-03-30 00:00:00  city scrape   \n",
              "24221  20230329041210  2023-03-29 00:00:00  city scrape   \n",
              "24223  20230329041210  2023-03-30 00:00:00  city scrape   \n",
              "24224  20230329041210  2023-03-30 00:00:00  city scrape   \n",
              "\n",
              "                                                    name  \\\n",
              "0                    Amplio y luminoso loft en Coyoac√°n   \n",
              "1                     Coyoacan Historic Studio Apartment   \n",
              "2      3 Bedrooms, 2 blocks from Polanco - ALL RENOVA...   \n",
              "3                                            Villa Dante   \n",
              "4                                      CONDESA HAUS  B&B   \n",
              "...                                                  ...   \n",
              "24218                                          Cozy Loft   \n",
              "24220                              Rinc√≥n Mexico lindo!   \n",
              "24221                     Departamento en zona diamante.   \n",
              "24223                   Espacioso y luminoso loft - Roma   \n",
              "24224      Maravilloso departamento en Ciudad de M√©xico   \n",
              "\n",
              "                                             description  \\\n",
              "0      C√≥modo loft de dos pisos magn√≠ficamente ubic...   \n",
              "1      This studio flat is adjacent to the owner's ho...   \n",
              "2      Beautifully decorated 3 bedroom apartment, it ...   \n",
              "3      Dentro de Villa un estudio de arte con futon, ...   \n",
              "4      A new concept of hosting in mexico through a b...   \n",
              "...                                                  ...   \n",
              "24218          Cossy loft en una ubicaci√≥n estrat√©gica   \n",
              "24220  Este lugar tiene una ubicaci√≥n estrat√©gica: ...   \n",
              "24221  Ubicado en zona diamante, junto al aeropuerto,...   \n",
              "24223  What else does it come with?<br />- WIFI 100MB...   \n",
              "24224  Ven a descubrir este incre√≠ble departamento e...   \n",
              "\n",
              "                                   neighborhood_overview  \\\n",
              "0                                           Sin registro   \n",
              "1      Located in Coyoacan, in a quiet neighborhood w...   \n",
              "2      This area is called Nuevo Polanco, it has bein...   \n",
              "3      Centro comercial Santa Fe, parque interlomas y...   \n",
              "4                                           Sin registro   \n",
              "...                                                  ...   \n",
              "24218                       En el coraz√≥n de la Condesa   \n",
              "24220                                       Sin registro   \n",
              "24221                                       Sin registro   \n",
              "24223                                       Sin registro   \n",
              "24224  Una zona muy bonita ya que varias de las atrac...   \n",
              "\n",
              "                                             picture_url    host_id  ...  \\\n",
              "0      https://a0.muscache.com/pictures/28353712/4379...   10531228  ...   \n",
              "1      https://a0.muscache.com/pictures/369f3371-593a...   16840050  ...   \n",
              "2      https://a0.muscache.com/pictures/10960397/67b2...    3531879  ...   \n",
              "3      https://a0.muscache.com/pictures/f395ab78-1185...     153786  ...   \n",
              "4      https://a0.muscache.com/pictures/251410/ec75fe...     196253  ...   \n",
              "...                                                  ...        ...  ...   \n",
              "24218  https://a0.muscache.com/pictures/miso/Hosting-...   29239005  ...   \n",
              "24220  https://a0.muscache.com/pictures/miso/Hosting-...  488030249  ...   \n",
              "24221  https://a0.muscache.com/pictures/miso/Hosting-...  506816029  ...   \n",
              "24223  https://a0.muscache.com/pictures/miso/Hosting-...    7799414  ...   \n",
              "24224  https://a0.muscache.com/pictures/miso/Hosting-...  506864314  ...   \n",
              "\n",
              "      review_scores_communication review_scores_location review_scores_value  \\\n",
              "0                            4.95                   5.00                4.86   \n",
              "1                            5.00                   4.95                4.84   \n",
              "2                            4.92                   4.58                4.71   \n",
              "3                            4.80                   4.80                4.70   \n",
              "4                            4.78                   4.98                4.48   \n",
              "...                           ...                    ...                 ...   \n",
              "24218                        4.80                   4.80                4.70   \n",
              "24220                        4.80                   4.80                4.70   \n",
              "24221                        4.80                   4.80                4.70   \n",
              "24223                        4.80                   4.80                4.70   \n",
              "24224                        4.80                   4.80                4.70   \n",
              "\n",
              "            license instant_bookable calculated_host_listings_count  \\\n",
              "0      Sin registro                f                            3.0   \n",
              "1      Sin registro                f                            2.0   \n",
              "2      Sin registro                f                            3.0   \n",
              "3      Sin registro                f                            1.0   \n",
              "4      Sin registro                f                           12.0   \n",
              "...             ...              ...                            ...   \n",
              "24218  Sin registro                t                            3.0   \n",
              "24220  Sin registro                f                            2.0   \n",
              "24221  Sin registro                t                            1.0   \n",
              "24223  Sin registro                t                           13.0   \n",
              "24224  Sin registro                t                            2.0   \n",
              "\n",
              "       calculated_host_listings_count_entire_homes  \\\n",
              "0                                              3.0   \n",
              "1                                              2.0   \n",
              "2                                              3.0   \n",
              "3                                              1.0   \n",
              "4                                              3.0   \n",
              "...                                            ...   \n",
              "24218                                          3.0   \n",
              "24220                                          2.0   \n",
              "24221                                          1.0   \n",
              "24223                                         13.0   \n",
              "24224                                          2.0   \n",
              "\n",
              "       calculated_host_listings_count_private_rooms  \\\n",
              "0                                               0.0   \n",
              "1                                               0.0   \n",
              "2                                               0.0   \n",
              "3                                               0.0   \n",
              "4                                               2.0   \n",
              "...                                             ...   \n",
              "24218                                           0.0   \n",
              "24220                                           0.0   \n",
              "24221                                           0.0   \n",
              "24223                                           0.0   \n",
              "24224                                           0.0   \n",
              "\n",
              "      calculated_host_listings_count_shared_rooms reviews_per_month  \n",
              "0                                             0.0              0.19  \n",
              "1                                             0.0              0.54  \n",
              "2                                             0.0              0.31  \n",
              "3                                             0.0              1.70  \n",
              "4                                             0.0              0.46  \n",
              "...                                           ...               ...  \n",
              "24218                                         0.0              1.70  \n",
              "24220                                         0.0              1.70  \n",
              "24221                                         0.0              1.70  \n",
              "24223                                         0.0              1.70  \n",
              "24224                                         0.0              1.70  \n",
              "\n",
              "[15601 rows x 75 columns]"
            ],
            "text/html": [
              "\n",
              "  <div id=\"df-fa7ee329-5900-4964-8c2a-ad7b1a8e991b\">\n",
              "    <div class=\"colab-df-container\">\n",
              "      <div>\n",
              "<style scoped>\n",
              "    .dataframe tbody tr th:only-of-type {\n",
              "        vertical-align: middle;\n",
              "    }\n",
              "\n",
              "    .dataframe tbody tr th {\n",
              "        vertical-align: top;\n",
              "    }\n",
              "\n",
              "    .dataframe thead th {\n",
              "        text-align: right;\n",
              "    }\n",
              "</style>\n",
              "<table border=\"1\" class=\"dataframe\">\n",
              "  <thead>\n",
              "    <tr style=\"text-align: right;\">\n",
              "      <th></th>\n",
              "      <th>Unnamed: 0</th>\n",
              "      <th>listing_url</th>\n",
              "      <th>scrape_id</th>\n",
              "      <th>last_scraped</th>\n",
              "      <th>source</th>\n",
              "      <th>name</th>\n",
              "      <th>description</th>\n",
              "      <th>neighborhood_overview</th>\n",
              "      <th>picture_url</th>\n",
              "      <th>host_id</th>\n",
              "      <th>...</th>\n",
              "      <th>review_scores_communication</th>\n",
              "      <th>review_scores_location</th>\n",
              "      <th>review_scores_value</th>\n",
              "      <th>license</th>\n",
              "      <th>instant_bookable</th>\n",
              "      <th>calculated_host_listings_count</th>\n",
              "      <th>calculated_host_listings_count_entire_homes</th>\n",
              "      <th>calculated_host_listings_count_private_rooms</th>\n",
              "      <th>calculated_host_listings_count_shared_rooms</th>\n",
              "      <th>reviews_per_month</th>\n",
              "    </tr>\n",
              "  </thead>\n",
              "  <tbody>\n",
              "    <tr>\n",
              "      <th>0</th>\n",
              "      <td>0.0</td>\n",
              "      <td>https://www.airbnb.com/rooms/2056638</td>\n",
              "      <td>20230329041210</td>\n",
              "      <td>2023-03-30 00:00:00</td>\n",
              "      <td>city scrape</td>\n",
              "      <td>Amplio y luminoso loft en Coyoac√°n</td>\n",
              "      <td>C√≥modo loft de dos pisos magn√≠ficamente ubic...</td>\n",
              "      <td>Sin registro</td>\n",
              "      <td>https://a0.muscache.com/pictures/28353712/4379...</td>\n",
              "      <td>10531228</td>\n",
              "      <td>...</td>\n",
              "      <td>4.95</td>\n",
              "      <td>5.00</td>\n",
              "      <td>4.86</td>\n",
              "      <td>Sin registro</td>\n",
              "      <td>f</td>\n",
              "      <td>3.0</td>\n",
              "      <td>3.0</td>\n",
              "      <td>0.0</td>\n",
              "      <td>0.0</td>\n",
              "      <td>0.19</td>\n",
              "    </tr>\n",
              "    <tr>\n",
              "      <th>1</th>\n",
              "      <td>1.0</td>\n",
              "      <td>https://www.airbnb.com/rooms/2072354</td>\n",
              "      <td>20230329041210</td>\n",
              "      <td>2023-03-30 00:00:00</td>\n",
              "      <td>city scrape</td>\n",
              "      <td>Coyoacan Historic Studio Apartment</td>\n",
              "      <td>This studio flat is adjacent to the owner's ho...</td>\n",
              "      <td>Located in Coyoacan, in a quiet neighborhood w...</td>\n",
              "      <td>https://a0.muscache.com/pictures/369f3371-593a...</td>\n",
              "      <td>16840050</td>\n",
              "      <td>...</td>\n",
              "      <td>5.00</td>\n",
              "      <td>4.95</td>\n",
              "      <td>4.84</td>\n",
              "      <td>Sin registro</td>\n",
              "      <td>f</td>\n",
              "      <td>2.0</td>\n",
              "      <td>2.0</td>\n",
              "      <td>0.0</td>\n",
              "      <td>0.0</td>\n",
              "      <td>0.54</td>\n",
              "    </tr>\n",
              "    <tr>\n",
              "      <th>2</th>\n",
              "      <td>2.0</td>\n",
              "      <td>https://www.airbnb.com/rooms/696037</td>\n",
              "      <td>20230329041210</td>\n",
              "      <td>2023-03-29 00:00:00</td>\n",
              "      <td>city scrape</td>\n",
              "      <td>3 Bedrooms, 2 blocks from Polanco - ALL RENOVA...</td>\n",
              "      <td>Beautifully decorated 3 bedroom apartment, it ...</td>\n",
              "      <td>This area is called Nuevo Polanco, it has bein...</td>\n",
              "      <td>https://a0.muscache.com/pictures/10960397/67b2...</td>\n",
              "      <td>3531879</td>\n",
              "      <td>...</td>\n",
              "      <td>4.92</td>\n",
              "      <td>4.58</td>\n",
              "      <td>4.71</td>\n",
              "      <td>Sin registro</td>\n",
              "      <td>f</td>\n",
              "      <td>3.0</td>\n",
              "      <td>3.0</td>\n",
              "      <td>0.0</td>\n",
              "      <td>0.0</td>\n",
              "      <td>0.31</td>\n",
              "    </tr>\n",
              "    <tr>\n",
              "      <th>3</th>\n",
              "      <td>3.0</td>\n",
              "      <td>https://www.airbnb.com/rooms/35797</td>\n",
              "      <td>20230329041210</td>\n",
              "      <td>2023-03-29 00:00:00</td>\n",
              "      <td>city scrape</td>\n",
              "      <td>Villa Dante</td>\n",
              "      <td>Dentro de Villa un estudio de arte con futon, ...</td>\n",
              "      <td>Centro comercial Santa Fe, parque interlomas y...</td>\n",
              "      <td>https://a0.muscache.com/pictures/f395ab78-1185...</td>\n",
              "      <td>153786</td>\n",
              "      <td>...</td>\n",
              "      <td>4.80</td>\n",
              "      <td>4.80</td>\n",
              "      <td>4.70</td>\n",
              "      <td>Sin registro</td>\n",
              "      <td>f</td>\n",
              "      <td>1.0</td>\n",
              "      <td>1.0</td>\n",
              "      <td>0.0</td>\n",
              "      <td>0.0</td>\n",
              "      <td>1.70</td>\n",
              "    </tr>\n",
              "    <tr>\n",
              "      <th>4</th>\n",
              "      <td>4.0</td>\n",
              "      <td>https://www.airbnb.com/rooms/44616</td>\n",
              "      <td>20230329041210</td>\n",
              "      <td>2023-03-30 00:00:00</td>\n",
              "      <td>city scrape</td>\n",
              "      <td>CONDESA HAUS  B&amp;B</td>\n",
              "      <td>A new concept of hosting in mexico through a b...</td>\n",
              "      <td>Sin registro</td>\n",
              "      <td>https://a0.muscache.com/pictures/251410/ec75fe...</td>\n",
              "      <td>196253</td>\n",
              "      <td>...</td>\n",
              "      <td>4.78</td>\n",
              "      <td>4.98</td>\n",
              "      <td>4.48</td>\n",
              "      <td>Sin registro</td>\n",
              "      <td>f</td>\n",
              "      <td>12.0</td>\n",
              "      <td>3.0</td>\n",
              "      <td>2.0</td>\n",
              "      <td>0.0</td>\n",
              "      <td>0.46</td>\n",
              "    </tr>\n",
              "    <tr>\n",
              "      <th>...</th>\n",
              "      <td>...</td>\n",
              "      <td>...</td>\n",
              "      <td>...</td>\n",
              "      <td>...</td>\n",
              "      <td>...</td>\n",
              "      <td>...</td>\n",
              "      <td>...</td>\n",
              "      <td>...</td>\n",
              "      <td>...</td>\n",
              "      <td>...</td>\n",
              "      <td>...</td>\n",
              "      <td>...</td>\n",
              "      <td>...</td>\n",
              "      <td>...</td>\n",
              "      <td>...</td>\n",
              "      <td>...</td>\n",
              "      <td>...</td>\n",
              "      <td>...</td>\n",
              "      <td>...</td>\n",
              "      <td>...</td>\n",
              "      <td>...</td>\n",
              "    </tr>\n",
              "    <tr>\n",
              "      <th>24218</th>\n",
              "      <td>24217.0</td>\n",
              "      <td>https://www.airbnb.com/rooms/853790308958785669</td>\n",
              "      <td>20230329041210</td>\n",
              "      <td>2023-03-29 00:00:00</td>\n",
              "      <td>city scrape</td>\n",
              "      <td>Cozy Loft</td>\n",
              "      <td>Cossy loft en una ubicaci√≥n estrat√©gica</td>\n",
              "      <td>En el coraz√≥n de la Condesa</td>\n",
              "      <td>https://a0.muscache.com/pictures/miso/Hosting-...</td>\n",
              "      <td>29239005</td>\n",
              "      <td>...</td>\n",
              "      <td>4.80</td>\n",
              "      <td>4.80</td>\n",
              "      <td>4.70</td>\n",
              "      <td>Sin registro</td>\n",
              "      <td>t</td>\n",
              "      <td>3.0</td>\n",
              "      <td>3.0</td>\n",
              "      <td>0.0</td>\n",
              "      <td>0.0</td>\n",
              "      <td>1.70</td>\n",
              "    </tr>\n",
              "    <tr>\n",
              "      <th>24220</th>\n",
              "      <td>24219.0</td>\n",
              "      <td>https://www.airbnb.com/rooms/853923589855678923</td>\n",
              "      <td>20230329041210</td>\n",
              "      <td>2023-03-30 00:00:00</td>\n",
              "      <td>city scrape</td>\n",
              "      <td>Rinc√≥n Mexico lindo!</td>\n",
              "      <td>Este lugar tiene una ubicaci√≥n estrat√©gica: ...</td>\n",
              "      <td>Sin registro</td>\n",
              "      <td>https://a0.muscache.com/pictures/miso/Hosting-...</td>\n",
              "      <td>488030249</td>\n",
              "      <td>...</td>\n",
              "      <td>4.80</td>\n",
              "      <td>4.80</td>\n",
              "      <td>4.70</td>\n",
              "      <td>Sin registro</td>\n",
              "      <td>f</td>\n",
              "      <td>2.0</td>\n",
              "      <td>2.0</td>\n",
              "      <td>0.0</td>\n",
              "      <td>0.0</td>\n",
              "      <td>1.70</td>\n",
              "    </tr>\n",
              "    <tr>\n",
              "      <th>24221</th>\n",
              "      <td>24220.0</td>\n",
              "      <td>https://www.airbnb.com/rooms/853966732274073000</td>\n",
              "      <td>20230329041210</td>\n",
              "      <td>2023-03-29 00:00:00</td>\n",
              "      <td>city scrape</td>\n",
              "      <td>Departamento en zona diamante.</td>\n",
              "      <td>Ubicado en zona diamante, junto al aeropuerto,...</td>\n",
              "      <td>Sin registro</td>\n",
              "      <td>https://a0.muscache.com/pictures/miso/Hosting-...</td>\n",
              "      <td>506816029</td>\n",
              "      <td>...</td>\n",
              "      <td>4.80</td>\n",
              "      <td>4.80</td>\n",
              "      <td>4.70</td>\n",
              "      <td>Sin registro</td>\n",
              "      <td>t</td>\n",
              "      <td>1.0</td>\n",
              "      <td>1.0</td>\n",
              "      <td>0.0</td>\n",
              "      <td>0.0</td>\n",
              "      <td>1.70</td>\n",
              "    </tr>\n",
              "    <tr>\n",
              "      <th>24223</th>\n",
              "      <td>24222.0</td>\n",
              "      <td>https://www.airbnb.com/rooms/854247693069190865</td>\n",
              "      <td>20230329041210</td>\n",
              "      <td>2023-03-30 00:00:00</td>\n",
              "      <td>city scrape</td>\n",
              "      <td>Espacioso y luminoso loft - Roma</td>\n",
              "      <td>What else does it come with?&lt;br /&gt;- WIFI 100MB...</td>\n",
              "      <td>Sin registro</td>\n",
              "      <td>https://a0.muscache.com/pictures/miso/Hosting-...</td>\n",
              "      <td>7799414</td>\n",
              "      <td>...</td>\n",
              "      <td>4.80</td>\n",
              "      <td>4.80</td>\n",
              "      <td>4.70</td>\n",
              "      <td>Sin registro</td>\n",
              "      <td>t</td>\n",
              "      <td>13.0</td>\n",
              "      <td>13.0</td>\n",
              "      <td>0.0</td>\n",
              "      <td>0.0</td>\n",
              "      <td>1.70</td>\n",
              "    </tr>\n",
              "    <tr>\n",
              "      <th>24224</th>\n",
              "      <td>24223.0</td>\n",
              "      <td>https://www.airbnb.com/rooms/854260329845513725</td>\n",
              "      <td>20230329041210</td>\n",
              "      <td>2023-03-30 00:00:00</td>\n",
              "      <td>city scrape</td>\n",
              "      <td>Maravilloso departamento en Ciudad de M√©xico</td>\n",
              "      <td>Ven a descubrir este incre√≠ble departamento e...</td>\n",
              "      <td>Una zona muy bonita ya que varias de las atrac...</td>\n",
              "      <td>https://a0.muscache.com/pictures/miso/Hosting-...</td>\n",
              "      <td>506864314</td>\n",
              "      <td>...</td>\n",
              "      <td>4.80</td>\n",
              "      <td>4.80</td>\n",
              "      <td>4.70</td>\n",
              "      <td>Sin registro</td>\n",
              "      <td>t</td>\n",
              "      <td>2.0</td>\n",
              "      <td>2.0</td>\n",
              "      <td>0.0</td>\n",
              "      <td>0.0</td>\n",
              "      <td>1.70</td>\n",
              "    </tr>\n",
              "  </tbody>\n",
              "</table>\n",
              "<p>15601 rows × 75 columns</p>\n",
              "</div>\n",
              "      <button class=\"colab-df-convert\" onclick=\"convertToInteractive('df-fa7ee329-5900-4964-8c2a-ad7b1a8e991b')\"\n",
              "              title=\"Convert this dataframe to an interactive table.\"\n",
              "              style=\"display:none;\">\n",
              "        \n",
              "  <svg xmlns=\"http://www.w3.org/2000/svg\" height=\"24px\"viewBox=\"0 0 24 24\"\n",
              "       width=\"24px\">\n",
              "    <path d=\"M0 0h24v24H0V0z\" fill=\"none\"/>\n",
              "    <path d=\"M18.56 5.44l.94 2.06.94-2.06 2.06-.94-2.06-.94-.94-2.06-.94 2.06-2.06.94zm-11 1L8.5 8.5l.94-2.06 2.06-.94-2.06-.94L8.5 2.5l-.94 2.06-2.06.94zm10 10l.94 2.06.94-2.06 2.06-.94-2.06-.94-.94-2.06-.94 2.06-2.06.94z\"/><path d=\"M17.41 7.96l-1.37-1.37c-.4-.4-.92-.59-1.43-.59-.52 0-1.04.2-1.43.59L10.3 9.45l-7.72 7.72c-.78.78-.78 2.05 0 2.83L4 21.41c.39.39.9.59 1.41.59.51 0 1.02-.2 1.41-.59l7.78-7.78 2.81-2.81c.8-.78.8-2.07 0-2.86zM5.41 20L4 18.59l7.72-7.72 1.47 1.35L5.41 20z\"/>\n",
              "  </svg>\n",
              "      </button>\n",
              "      \n",
              "  <style>\n",
              "    .colab-df-container {\n",
              "      display:flex;\n",
              "      flex-wrap:wrap;\n",
              "      gap: 12px;\n",
              "    }\n",
              "\n",
              "    .colab-df-convert {\n",
              "      background-color: #E8F0FE;\n",
              "      border: none;\n",
              "      border-radius: 50%;\n",
              "      cursor: pointer;\n",
              "      display: none;\n",
              "      fill: #1967D2;\n",
              "      height: 32px;\n",
              "      padding: 0 0 0 0;\n",
              "      width: 32px;\n",
              "    }\n",
              "\n",
              "    .colab-df-convert:hover {\n",
              "      background-color: #E2EBFA;\n",
              "      box-shadow: 0px 1px 2px rgba(60, 64, 67, 0.3), 0px 1px 3px 1px rgba(60, 64, 67, 0.15);\n",
              "      fill: #174EA6;\n",
              "    }\n",
              "\n",
              "    [theme=dark] .colab-df-convert {\n",
              "      background-color: #3B4455;\n",
              "      fill: #D2E3FC;\n",
              "    }\n",
              "\n",
              "    [theme=dark] .colab-df-convert:hover {\n",
              "      background-color: #434B5C;\n",
              "      box-shadow: 0px 1px 3px 1px rgba(0, 0, 0, 0.15);\n",
              "      filter: drop-shadow(0px 1px 2px rgba(0, 0, 0, 0.3));\n",
              "      fill: #FFFFFF;\n",
              "    }\n",
              "  </style>\n",
              "\n",
              "      <script>\n",
              "        const buttonEl =\n",
              "          document.querySelector('#df-fa7ee329-5900-4964-8c2a-ad7b1a8e991b button.colab-df-convert');\n",
              "        buttonEl.style.display =\n",
              "          google.colab.kernel.accessAllowed ? 'block' : 'none';\n",
              "\n",
              "        async function convertToInteractive(key) {\n",
              "          const element = document.querySelector('#df-fa7ee329-5900-4964-8c2a-ad7b1a8e991b');\n",
              "          const dataTable =\n",
              "            await google.colab.kernel.invokeFunction('convertToInteractive',\n",
              "                                                     [key], {});\n",
              "          if (!dataTable) return;\n",
              "\n",
              "          const docLinkHtml = 'Like what you see? Visit the ' +\n",
              "            '<a target=\"_blank\" href=https://colab.research.google.com/notebooks/data_table.ipynb>data table notebook</a>'\n",
              "            + ' to learn more about interactive tables.';\n",
              "          element.innerHTML = '';\n",
              "          dataTable['output_type'] = 'display_data';\n",
              "          await google.colab.output.renderOutput(dataTable, element);\n",
              "          const docLink = document.createElement('div');\n",
              "          docLink.innerHTML = docLinkHtml;\n",
              "          element.appendChild(docLink);\n",
              "        }\n",
              "      </script>\n",
              "    </div>\n",
              "  </div>\n",
              "  "
            ]
          },
          "metadata": {},
          "execution_count": 19
        }
      ]
    },
    {
      "cell_type": "code",
      "source": [
        "#Imprimimos el scatter plot entre la variable dependiente (host_acceptance_rate) e independiente (host_response_rate) \n",
        "#para observar el comportamiento en su dispersión \n",
        "from turtle import color\n",
        "\n",
        "\n",
        "sns.scatterplot(x='host_response_rate', y='host_acceptance_rate', color=\"blue\", data=filtro2)\n",
        "#sns.scatterplot(X='speeding', y='total', color=\"red\", data=df)"
      ],
      "metadata": {
        "colab": {
          "base_uri": "https://localhost:8080/",
          "height": 464
        },
        "id": "STtl3w4EA7OE",
        "outputId": "9f4d32df-fdab-4185-de28-c3e39ff96fe9"
      },
      "execution_count": null,
      "outputs": [
        {
          "output_type": "execute_result",
          "data": {
            "text/plain": [
              "<Axes: xlabel='host_response_rate', ylabel='host_acceptance_rate'>"
            ]
          },
          "metadata": {},
          "execution_count": 20
        },
        {
          "output_type": "display_data",
          "data": {
            "text/plain": [
              "<Figure size 640x480 with 1 Axes>"
            ],
            "image/png": "[encoded data removed]"
          },
          "metadata": {}
        }
      ]
    },
    {
      "cell_type": "code",
      "source": [
        "#Declaramos las variables dependientes e independientes para la regresión lineal\n",
        "Vars_Indep= filtro2[['host_response_rate']]\n",
        "Var_Dep= filtro2['host_acceptance_rate']"
      ],
      "metadata": {
        "id": "exIAMf4iA-ef"
      },
      "execution_count": null,
      "outputs": []
    },
    {
      "cell_type": "code",
      "source": [
        "#Se define model como la función de regresión lineal\n",
        "from sklearn.linear_model import LinearRegression\n",
        "model= LinearRegression()"
      ],
      "metadata": {
        "id": "fSvb4nzQA-al"
      },
      "execution_count": null,
      "outputs": []
    },
    {
      "cell_type": "code",
      "source": [
        "#Verificamos la función relacionada al modelo\n",
        "type(model)"
      ],
      "metadata": {
        "colab": {
          "base_uri": "https://localhost:8080/"
        },
        "id": "v004jsj6A-XP",
        "outputId": "8c4bbf60-5eed-48f4-b23c-d75960d31101"
      },
      "execution_count": null,
      "outputs": [
        {
          "output_type": "execute_result",
          "data": {
            "text/plain": [
              "sklearn.linear_model._base.LinearRegression"
            ]
          },
          "metadata": {},
          "execution_count": 35
        }
      ]
    },
    {
      "cell_type": "code",
      "source": [
        "#Verificamos los coeficientes obtenidos para el modelo ajustado\n",
        "model.__dict__"
      ],
      "metadata": {
        "colab": {
          "base_uri": "https://localhost:8080/"
        },
        "id": "6gpRVw4_A-SU",
        "outputId": "8eeb2863-0252-4dcd-a8fb-9351695fc9d8"
      },
      "execution_count": null,
      "outputs": [
        {
          "output_type": "execute_result",
          "data": {
            "text/plain": [
              "{'fit_intercept': True,\n",
              " 'copy_X': True,\n",
              " 'n_jobs': None,\n",
              " 'positive': False,\n",
              " 'feature_names_in_': array(['host_response_rate'], dtype=object),\n",
              " 'n_features_in_': 1,\n",
              " 'coef_': array([0.62852689]),\n",
              " 'rank_': 1,\n",
              " 'singular_': array([39.93493904]),\n",
              " 'intercept_': 0.3277244893054201}"
            ]
          },
          "metadata": {},
          "execution_count": 40
        }
      ]
    },
    {
      "cell_type": "markdown",
      "source": [
        "**Modelo matemático: y= 0.62852689x + 0.3277244893054201"
      ],
      "metadata": {
        "id": "s4FhODgfBLkD"
      }
    },
    {
      "cell_type": "code",
      "source": [
        "#Ajustamos el modelo con las variables antes declaradas\n",
        "model.fit(X=Vars_Indep, y=Var_Dep)"
      ],
      "metadata": {
        "colab": {
          "base_uri": "https://localhost:8080/",
          "height": 64
        },
        "id": "jlLGn0r-DJoP",
        "outputId": "a8ad766b-e22e-414a-fe71-8f487ffa0c1b"
      },
      "execution_count": null,
      "outputs": [
        {
          "output_type": "execute_result",
          "data": {
            "text/plain": [
              "LinearRegression()"
            ],
            "text/html": [
              "<style>#sk-container-id-2 {color: black;background-color: white;}#sk-container-id-2 pre{padding: 0;}#sk-container-id-2 div.sk-toggleable {background-color: white;}#sk-container-id-2 label.sk-toggleable__label {cursor: pointer;display: block;width: 100%;margin-bottom: 0;padding: 0.3em;box-sizing: border-box;text-align: center;}#sk-container-id-2 label.sk-toggleable__label-arrow:before {content: \"▸\";float: left;margin-right: 0.25em;color: #696969;}#sk-container-id-2 label.sk-toggleable__label-arrow:hover:before {color: black;}#sk-container-id-2 div.sk-estimator:hover label.sk-toggleable__label-arrow:before {color: black;}#sk-container-id-2 div.sk-toggleable__content {max-height: 0;max-width: 0;overflow: hidden;text-align: left;background-color: #f0f8ff;}#sk-container-id-2 div.sk-toggleable__content pre {margin: 0.2em;color: black;border-radius: 0.25em;background-color: #f0f8ff;}#sk-container-id-2 input.sk-toggleable__control:checked~div.sk-toggleable__content {max-height: 200px;max-width: 100%;overflow: auto;}#sk-container-id-2 input.sk-toggleable__control:checked~label.sk-toggleable__label-arrow:before {content: \"▾\";}#sk-container-id-2 div.sk-estimator input.sk-toggleable__control:checked~label.sk-toggleable__label {background-color: #d4ebff;}#sk-container-id-2 div.sk-label input.sk-toggleable__control:checked~label.sk-toggleable__label {background-color: #d4ebff;}#sk-container-id-2 input.sk-hidden--visually {border: 0;clip: rect(1px 1px 1px 1px);clip: rect(1px, 1px, 1px, 1px);height: 1px;margin: -1px;overflow: hidden;padding: 0;position: absolute;width: 1px;}#sk-container-id-2 div.sk-estimator {font-family: monospace;background-color: #f0f8ff;border: 1px dotted black;border-radius: 0.25em;box-sizing: border-box;margin-bottom: 0.5em;}#sk-container-id-2 div.sk-estimator:hover {background-color: #d4ebff;}#sk-container-id-2 div.sk-parallel-item::after {content: \"\";width: 100%;border-bottom: 1px solid gray;flex-grow: 1;}#sk-container-id-2 div.sk-label:hover label.sk-toggleable__label {background-color: #d4ebff;}#sk-container-id-2 div.sk-serial::before {content: \"\";position: absolute;border-left: 1px solid gray;box-sizing: border-box;top: 0;bottom: 0;left: 50%;z-index: 0;}#sk-container-id-2 div.sk-serial {display: flex;flex-direction: column;align-items: center;background-color: white;padding-right: 0.2em;padding-left: 0.2em;position: relative;}#sk-container-id-2 div.sk-item {position: relative;z-index: 1;}#sk-container-id-2 div.sk-parallel {display: flex;align-items: stretch;justify-content: center;background-color: white;position: relative;}#sk-container-id-2 div.sk-item::before, #sk-container-id-2 div.sk-parallel-item::before {content: \"\";position: absolute;border-left: 1px solid gray;box-sizing: border-box;top: 0;bottom: 0;left: 50%;z-index: -1;}#sk-container-id-2 div.sk-parallel-item {display: flex;flex-direction: column;z-index: 1;position: relative;background-color: white;}#sk-container-id-2 div.sk-parallel-item:first-child::after {align-self: flex-end;width: 50%;}#sk-container-id-2 div.sk-parallel-item:last-child::after {align-self: flex-start;width: 50%;}#sk-container-id-2 div.sk-parallel-item:only-child::after {width: 0;}#sk-container-id-2 div.sk-dashed-wrapped {border: 1px dashed gray;margin: 0 0.4em 0.5em 0.4em;box-sizing: border-box;padding-bottom: 0.4em;background-color: white;}#sk-container-id-2 div.sk-label label {font-family: monospace;font-weight: bold;display: inline-block;line-height: 1.2em;}#sk-container-id-2 div.sk-label-container {text-align: center;}#sk-container-id-2 div.sk-container {/* jupyter's `normalize.less` sets `[hidden] { display: none; }` but bootstrap.min.css set `[hidden] { display: none !important; }` so we also need the `!important` here to be able to override the default hidden behavior on the sphinx rendered scikit-learn.org. See: https://github.com/scikit-learn/scikit-learn/issues/21755 */display: inline-block !important;position: relative;}#sk-container-id-2 div.sk-text-repr-fallback {display: none;}</style><div id=\"sk-container-id-2\" class=\"sk-top-container\"><div class=\"sk-text-repr-fallback\"><pre>LinearRegression()</pre><b>In a Jupyter environment, please rerun this cell to show the HTML representation or trust the notebook. <br />On GitHub, the HTML representation is unable to render, please try loading this page with nbviewer.org.</b></div><div class=\"sk-container\" hidden><div class=\"sk-item\"><div class=\"sk-estimator sk-toggleable\"><input class=\"sk-toggleable__control sk-hidden--visually\" id=\"sk-estimator-id-2\" type=\"checkbox\" checked><label for=\"sk-estimator-id-2\" class=\"sk-toggleable__label sk-toggleable__label-arrow\">LinearRegression</label><div class=\"sk-toggleable__content\"><pre>LinearRegression()</pre></div></div></div></div></div>"
            ]
          },
          "metadata": {},
          "execution_count": 38
        }
      ]
    },
    {
      "cell_type": "code",
      "source": [
        "#Evaluamos la eficiencia del modelo obtenido por medio del coeficiente R Determinación\n",
        "model.score(Vars_Indep,Var_Dep)"
      ],
      "metadata": {
        "colab": {
          "base_uri": "https://localhost:8080/"
        },
        "id": "Q_6vHvWcA-LG",
        "outputId": "dc845723-166d-4a5e-9c86-5f8502247f3d"
      },
      "execution_count": null,
      "outputs": [
        {
          "output_type": "execute_result",
          "data": {
            "text/plain": [
              "0.4797559816175936"
            ]
          },
          "metadata": {},
          "execution_count": 39
        }
      ]
    },
    {
      "cell_type": "code",
      "source": [
        "#Predecimos los valores de total de accidentes a partir de la variable \"host_response_rate\"\n",
        "y_pred= model.predict(X=filtro2[['host_response_rate']])\n",
        "y_pred"
      ],
      "metadata": {
        "colab": {
          "base_uri": "https://localhost:8080/"
        },
        "id": "XKKfvfcKBPkZ",
        "outputId": "b49aa711-44dd-4895-9c88-3089444d2886"
      },
      "execution_count": null,
      "outputs": [
        {
          "output_type": "execute_result",
          "data": {
            "text/plain": [
              "array([0.95625138, 0.32772449, 0.95625138, ..., 0.32772449, 0.95625138,\n",
              "       0.32772449])"
            ]
          },
          "metadata": {},
          "execution_count": 41
        }
      ]
    },
    {
      "cell_type": "code",
      "source": [
        "#Corroboramos cual es el coeficiente de Determinación de nuestro modelo\n",
        "coef_Deter=model.score(X=Vars_Indep, y=Var_Dep)\n",
        "coef_Deter"
      ],
      "metadata": {
        "colab": {
          "base_uri": "https://localhost:8080/"
        },
        "id": "v0siUmbdBTow",
        "outputId": "91ead71e-e1e2-41c0-857b-eebe7057f9b9"
      },
      "execution_count": null,
      "outputs": [
        {
          "output_type": "execute_result",
          "data": {
            "text/plain": [
              "0.4797559816175936"
            ]
          },
          "metadata": {},
          "execution_count": 42
        }
      ]
    },
    {
      "cell_type": "code",
      "source": [
        "#Corroboramos cual es el coeficiente de Correlación de nuestro modelo\n",
        "coef_Correl=np.sqrt(coef_Deter)\n",
        "coef_Correl"
      ],
      "metadata": {
        "colab": {
          "base_uri": "https://localhost:8080/"
        },
        "id": "onbnAddHBbob",
        "outputId": "87dd07b4-dc28-4f4a-97ad-0a873a7d34ee"
      },
      "execution_count": null,
      "outputs": [
        {
          "output_type": "execute_result",
          "data": {
            "text/plain": [
              "0.6926441955416891"
            ]
          },
          "metadata": {},
          "execution_count": 43
        }
      ]
    },
    {
      "cell_type": "markdown",
      "source": [
        "# **host_acceptance_rate vs price**"
      ],
      "metadata": {
        "id": "xwuoVC2EDdAQ"
      }
    },
    {
      "cell_type": "markdown",
      "source": [
        "hotel room"
      ],
      "metadata": {
        "id": "pKcNfZGbDnCG"
      }
    },
    {
      "cell_type": "code",
      "source": [
        "#Imprimimos el scatter plot entre la variable dependiente (host_acceptance_rate) e independiente (price) \n",
        "#para observar el comportamiento en su dispersión \n",
        "from turtle import color\n",
        "\n",
        "\n",
        "sns.scatterplot(x='host_acceptance_rate', y='price', color=\"blue\", data=filtro1)\n",
        "#sns.scatterplot(X='speeding', y='total', color=\"red\", data=df)"
      ],
      "metadata": {
        "colab": {
          "base_uri": "https://localhost:8080/",
          "height": 464
        },
        "id": "r8xBK3aSDja2",
        "outputId": "1c1ab9ec-373b-422a-dd69-91f3008fcdbe"
      },
      "execution_count": null,
      "outputs": [
        {
          "output_type": "execute_result",
          "data": {
            "text/plain": [
              "<Axes: xlabel='host_acceptance_rate', ylabel='price'>"
            ]
          },
          "metadata": {},
          "execution_count": 87
        },
        {
          "output_type": "display_data",
          "data": {
            "text/plain": [
              "<Figure size 640x480 with 1 Axes>"
            ],
            "image/png": "[encoded data removed]"
          },
          "metadata": {}
        }
      ]
    },
    {
      "cell_type": "code",
      "source": [
        "#Declaramos las variables dependientes e independientes para la regresión lineal\n",
        "Vars_Indep= filtro1[['price']]\n",
        "Var_Dep= filtro1['host_acceptance_rate']"
      ],
      "metadata": {
        "id": "2RLy9MrKDciZ"
      },
      "execution_count": null,
      "outputs": []
    },
    {
      "cell_type": "code",
      "source": [
        "#Se define model como la función de regresión lineal\n",
        "from sklearn.linear_model import LinearRegression\n",
        "model= LinearRegression()"
      ],
      "metadata": {
        "id": "xTBqXoFMDqoY"
      },
      "execution_count": null,
      "outputs": []
    },
    {
      "cell_type": "code",
      "source": [
        "#Verificamos la función relacionada al modelo\n",
        "type(model)"
      ],
      "metadata": {
        "colab": {
          "base_uri": "https://localhost:8080/"
        },
        "id": "fTqg3PtfDqld",
        "outputId": "5f3ae877-ad26-44c8-f4ce-71c88cf45915"
      },
      "execution_count": null,
      "outputs": [
        {
          "output_type": "execute_result",
          "data": {
            "text/plain": [
              "sklearn.linear_model._base.LinearRegression"
            ]
          },
          "metadata": {},
          "execution_count": 90
        }
      ]
    },
    {
      "cell_type": "code",
      "source": [
        "#Ajustamos el modelo con las variables antes declaradas\n",
        "model.fit(X=Vars_Indep, y=Var_Dep)"
      ],
      "metadata": {
        "colab": {
          "base_uri": "https://localhost:8080/",
          "height": 64
        },
        "id": "jzs6ifg3Dqid",
        "outputId": "6973230a-5dd0-4c6f-bc9f-bee01a22ced5"
      },
      "execution_count": null,
      "outputs": [
        {
          "output_type": "execute_result",
          "data": {
            "text/plain": [
              "LinearRegression()"
            ],
            "text/html": [
              "<style>#sk-container-id-7 {color: black;background-color: white;}#sk-container-id-7 pre{padding: 0;}#sk-container-id-7 div.sk-toggleable {background-color: white;}#sk-container-id-7 label.sk-toggleable__label {cursor: pointer;display: block;width: 100%;margin-bottom: 0;padding: 0.3em;box-sizing: border-box;text-align: center;}#sk-container-id-7 label.sk-toggleable__label-arrow:before {content: \"▸\";float: left;margin-right: 0.25em;color: #696969;}#sk-container-id-7 label.sk-toggleable__label-arrow:hover:before {color: black;}#sk-container-id-7 div.sk-estimator:hover label.sk-toggleable__label-arrow:before {color: black;}#sk-container-id-7 div.sk-toggleable__content {max-height: 0;max-width: 0;overflow: hidden;text-align: left;background-color: #f0f8ff;}#sk-container-id-7 div.sk-toggleable__content pre {margin: 0.2em;color: black;border-radius: 0.25em;background-color: #f0f8ff;}#sk-container-id-7 input.sk-toggleable__control:checked~div.sk-toggleable__content {max-height: 200px;max-width: 100%;overflow: auto;}#sk-container-id-7 input.sk-toggleable__control:checked~label.sk-toggleable__label-arrow:before {content: \"▾\";}#sk-container-id-7 div.sk-estimator input.sk-toggleable__control:checked~label.sk-toggleable__label {background-color: #d4ebff;}#sk-container-id-7 div.sk-label input.sk-toggleable__control:checked~label.sk-toggleable__label {background-color: #d4ebff;}#sk-container-id-7 input.sk-hidden--visually {border: 0;clip: rect(1px 1px 1px 1px);clip: rect(1px, 1px, 1px, 1px);height: 1px;margin: -1px;overflow: hidden;padding: 0;position: absolute;width: 1px;}#sk-container-id-7 div.sk-estimator {font-family: monospace;background-color: #f0f8ff;border: 1px dotted black;border-radius: 0.25em;box-sizing: border-box;margin-bottom: 0.5em;}#sk-container-id-7 div.sk-estimator:hover {background-color: #d4ebff;}#sk-container-id-7 div.sk-parallel-item::after {content: \"\";width: 100%;border-bottom: 1px solid gray;flex-grow: 1;}#sk-container-id-7 div.sk-label:hover label.sk-toggleable__label {background-color: #d4ebff;}#sk-container-id-7 div.sk-serial::before {content: \"\";position: absolute;border-left: 1px solid gray;box-sizing: border-box;top: 0;bottom: 0;left: 50%;z-index: 0;}#sk-container-id-7 div.sk-serial {display: flex;flex-direction: column;align-items: center;background-color: white;padding-right: 0.2em;padding-left: 0.2em;position: relative;}#sk-container-id-7 div.sk-item {position: relative;z-index: 1;}#sk-container-id-7 div.sk-parallel {display: flex;align-items: stretch;justify-content: center;background-color: white;position: relative;}#sk-container-id-7 div.sk-item::before, #sk-container-id-7 div.sk-parallel-item::before {content: \"\";position: absolute;border-left: 1px solid gray;box-sizing: border-box;top: 0;bottom: 0;left: 50%;z-index: -1;}#sk-container-id-7 div.sk-parallel-item {display: flex;flex-direction: column;z-index: 1;position: relative;background-color: white;}#sk-container-id-7 div.sk-parallel-item:first-child::after {align-self: flex-end;width: 50%;}#sk-container-id-7 div.sk-parallel-item:last-child::after {align-self: flex-start;width: 50%;}#sk-container-id-7 div.sk-parallel-item:only-child::after {width: 0;}#sk-container-id-7 div.sk-dashed-wrapped {border: 1px dashed gray;margin: 0 0.4em 0.5em 0.4em;box-sizing: border-box;padding-bottom: 0.4em;background-color: white;}#sk-container-id-7 div.sk-label label {font-family: monospace;font-weight: bold;display: inline-block;line-height: 1.2em;}#sk-container-id-7 div.sk-label-container {text-align: center;}#sk-container-id-7 div.sk-container {/* jupyter's `normalize.less` sets `[hidden] { display: none; }` but bootstrap.min.css set `[hidden] { display: none !important; }` so we also need the `!important` here to be able to override the default hidden behavior on the sphinx rendered scikit-learn.org. See: https://github.com/scikit-learn/scikit-learn/issues/21755 */display: inline-block !important;position: relative;}#sk-container-id-7 div.sk-text-repr-fallback {display: none;}</style><div id=\"sk-container-id-7\" class=\"sk-top-container\"><div class=\"sk-text-repr-fallback\"><pre>LinearRegression()</pre><b>In a Jupyter environment, please rerun this cell to show the HTML representation or trust the notebook. <br />On GitHub, the HTML representation is unable to render, please try loading this page with nbviewer.org.</b></div><div class=\"sk-container\" hidden><div class=\"sk-item\"><div class=\"sk-estimator sk-toggleable\"><input class=\"sk-toggleable__control sk-hidden--visually\" id=\"sk-estimator-id-7\" type=\"checkbox\" checked><label for=\"sk-estimator-id-7\" class=\"sk-toggleable__label sk-toggleable__label-arrow\">LinearRegression</label><div class=\"sk-toggleable__content\"><pre>LinearRegression()</pre></div></div></div></div></div>"
            ]
          },
          "metadata": {},
          "execution_count": 91
        }
      ]
    },
    {
      "cell_type": "code",
      "source": [
        "#Verificamos los coeficientes obtenidos para el modelo ajustado\n",
        "model.__dict__"
      ],
      "metadata": {
        "colab": {
          "base_uri": "https://localhost:8080/"
        },
        "id": "kfkvbDvqDqfl",
        "outputId": "b5959e08-7ce8-43d0-8932-f1e5cd76c4b9"
      },
      "execution_count": null,
      "outputs": [
        {
          "output_type": "execute_result",
          "data": {
            "text/plain": [
              "{'fit_intercept': True,\n",
              " 'copy_X': True,\n",
              " 'n_jobs': None,\n",
              " 'positive': False,\n",
              " 'feature_names_in_': array(['price'], dtype=object),\n",
              " 'n_features_in_': 1,\n",
              " 'coef_': array([-1.47290562e-05]),\n",
              " 'rank_': 1,\n",
              " 'singular_': array([65531.08068275]),\n",
              " 'intercept_': 0.9112905846283037}"
            ]
          },
          "metadata": {},
          "execution_count": 92
        }
      ]
    },
    {
      "cell_type": "markdown",
      "source": [
        "Modelo matemático y= -1.47290562e-05x + 0.9112905846283037"
      ],
      "metadata": {
        "id": "PMQiFH8iEVMU"
      }
    },
    {
      "cell_type": "code",
      "source": [
        "#Evaluamos la eficiencia del modelo obtenido por medio del coeficiente R Determinación\n",
        "model.score(Vars_Indep,Var_Dep)"
      ],
      "metadata": {
        "colab": {
          "base_uri": "https://localhost:8080/"
        },
        "id": "-WyS52k_Dqcb",
        "outputId": "d5d3e48a-d509-47d0-931c-19dc41dc9b4f"
      },
      "execution_count": null,
      "outputs": [
        {
          "output_type": "execute_result",
          "data": {
            "text/plain": [
              "0.12329092094701422"
            ]
          },
          "metadata": {},
          "execution_count": 93
        }
      ]
    },
    {
      "cell_type": "code",
      "source": [
        "#Predecimos los valores de total de accidentes a partir de la variable \"host_acceptance_rate\"\n",
        "y_pred= model.predict(X=filtro1[['price']])\n",
        "y_pred"
      ],
      "metadata": {
        "colab": {
          "base_uri": "https://localhost:8080/"
        },
        "id": "ecqCRf5LDqX1",
        "outputId": "96a43f4d-b6e3-437b-a5e4-b4f146e43f32"
      },
      "execution_count": null,
      "outputs": [
        {
          "output_type": "execute_result",
          "data": {
            "text/plain": [
              "array([ 0.89647315,  0.89647315,  0.8979166 ,  0.8979166 ,  0.86471731,\n",
              "        0.86993139,  0.86857632,  0.88477828,  0.8979166 ,  0.76986219,\n",
              "        0.89722434,  0.76215889,  0.78429666,  0.87741376,  0.87594085,\n",
              "        0.87594085,  0.84390515,  0.90460359,  0.8818472 ,  0.90025852,\n",
              "        0.75753397, -0.02459364,  0.889197  ,  0.76400002,  0.88994818,\n",
              "        0.88197976,  0.88197976,  0.88197976,  0.88197976,  0.88197976,\n",
              "        0.88035957,  0.90024379,  0.89846158,  0.90006704,  0.89656153,\n",
              "        0.89975773,  0.8818472 ,  0.88330538,  0.88330538,  0.89408705,\n",
              "        0.85536436,  0.88937375,  0.90525167,  0.90466251,  0.89782823,\n",
              "        0.9017167 ,  0.89782823,  0.89361572,  0.90118645,  0.89813754,\n",
              "        0.9017167 ,  0.89813754,  0.89813754,  0.90260044,  0.89897709,\n",
              "        0.89813754,  0.89502971,  0.88192085,  0.89376301,  0.8697841 ,\n",
              "        0.87109499,  0.90640054,  0.90679822,  0.9079029 ,  0.90700443,\n",
              "        0.90700443,  0.90700443,  0.90640054,  0.89818172,  0.90610596,\n",
              "        0.89361572,  0.89832902,  0.89965463,  0.80432818,  0.89729798,\n",
              "        0.87249425,  0.89510335,  0.89737163,  0.84776417,  0.84776417,\n",
              "        0.83421343,  0.84776417,  0.86423125,  0.90613541,  0.85981253,\n",
              "        0.87594085,  0.87888666,  0.87888666,  0.87888666,  0.87888666,\n",
              "        0.87741376,  0.89670882,  0.88309917,  0.89831429,  0.90640054,\n",
              "        0.87879829,  0.87620597,  0.87620597,  0.87620597,  0.90557571,\n",
              "        0.90640054,  0.86884144,  0.89803443,  0.89280562,  0.8913769 ,\n",
              "        0.87458578,  0.86773677,  0.86773677,  0.90576719,  0.87458578,\n",
              "        0.87458578,  0.88984508,  0.89214281,  0.89997867,  0.88558838,\n",
              "        0.90576719,  0.79310464,  0.89986084,  0.89986084,  0.89916857,\n",
              "        0.8676042 ,  0.87215548,  0.91129058,  0.91129058,  0.91129058,\n",
              "        0.91129058,  0.87580829])"
            ]
          },
          "metadata": {},
          "execution_count": 94
        }
      ]
    },
    {
      "cell_type": "code",
      "source": [
        "#Corroboramos cual es el coeficiente de Determinación de nuestro modelo\n",
        "coef_Deter=model.score(X=Vars_Indep, y=Var_Dep)\n",
        "coef_Deter"
      ],
      "metadata": {
        "colab": {
          "base_uri": "https://localhost:8080/"
        },
        "id": "4H1INAd5DqSO",
        "outputId": "8f75d633-bc91-4580-8fce-57a5e40265e4"
      },
      "execution_count": null,
      "outputs": [
        {
          "output_type": "execute_result",
          "data": {
            "text/plain": [
              "0.12329092094701422"
            ]
          },
          "metadata": {},
          "execution_count": 95
        }
      ]
    },
    {
      "cell_type": "code",
      "source": [
        "#Corroboramos cual es el coeficiente de Correlación de nuestro modelo\n",
        "coef_Correl=np.sqrt(coef_Deter)\n",
        "coef_Correl"
      ],
      "metadata": {
        "colab": {
          "base_uri": "https://localhost:8080/"
        },
        "id": "Rr8SxUn4ETAc",
        "outputId": "caebdf62-5ae0-4d88-bd7c-146632435392"
      },
      "execution_count": null,
      "outputs": [
        {
          "output_type": "execute_result",
          "data": {
            "text/plain": [
              "0.351128069152858"
            ]
          },
          "metadata": {},
          "execution_count": 96
        }
      ]
    },
    {
      "cell_type": "markdown",
      "source": [
        "Entire home/apt"
      ],
      "metadata": {
        "id": "HfLcn0pAJ688"
      }
    },
    {
      "cell_type": "code",
      "source": [
        "#Imprimimos el scatter plot entre la variable dependiente (host_acceptance_rate) e independiente (price) \n",
        "#para observar el comportamiento en su dispersión \n",
        "from turtle import color\n",
        "\n",
        "\n",
        "sns.scatterplot(x='host_acceptance_rate', y='price', color=\"blue\", data=filtro2)\n",
        "#sns.scatterplot(X='speeding', y='total', color=\"red\", data=df)"
      ],
      "metadata": {
        "colab": {
          "base_uri": "https://localhost:8080/",
          "height": 464
        },
        "id": "V15V634RKEY_",
        "outputId": "f09819d0-1eaa-4de1-abc9-23ae88dea50a"
      },
      "execution_count": null,
      "outputs": [
        {
          "output_type": "execute_result",
          "data": {
            "text/plain": [
              "<Axes: xlabel='host_acceptance_rate', ylabel='price'>"
            ]
          },
          "metadata": {},
          "execution_count": 76
        },
        {
          "output_type": "display_data",
          "data": {
            "text/plain": [
              "<Figure size 640x480 with 1 Axes>"
            ],
            "image/png": "[encoded data removed]"
          },
          "metadata": {}
        }
      ]
    },
    {
      "cell_type": "code",
      "source": [
        "Vars_Indep= filtro2[['price']]\n",
        "Var_Dep= filtro2['host_acceptance_rate']"
      ],
      "metadata": {
        "id": "-7KA56r1KFRi"
      },
      "execution_count": null,
      "outputs": []
    },
    {
      "cell_type": "code",
      "source": [
        "#Se define model como la función de regresión lineal\n",
        "from sklearn.linear_model import LinearRegression\n",
        "model= LinearRegression()"
      ],
      "metadata": {
        "id": "osFMxyS6KFNe"
      },
      "execution_count": null,
      "outputs": []
    },
    {
      "cell_type": "code",
      "source": [
        "#Verificamos la función relacionada al modelo\n",
        "type(model)"
      ],
      "metadata": {
        "colab": {
          "base_uri": "https://localhost:8080/"
        },
        "id": "aLVpUKJxKFJe",
        "outputId": "c5d190d6-9b0e-4a75-f973-69885403cdc9"
      },
      "execution_count": null,
      "outputs": [
        {
          "output_type": "execute_result",
          "data": {
            "text/plain": [
              "sklearn.linear_model._base.LinearRegression"
            ]
          },
          "metadata": {},
          "execution_count": 79
        }
      ]
    },
    {
      "cell_type": "code",
      "source": [
        "#Ajustamos el modelo con las variables antes declaradas\n",
        "model.fit(X=Vars_Indep, y=Var_Dep)"
      ],
      "metadata": {
        "colab": {
          "base_uri": "https://localhost:8080/",
          "height": 64
        },
        "id": "8Bg-vfrHKFFX",
        "outputId": "454ca269-b5bc-40ab-d062-aa423eda2bcc"
      },
      "execution_count": null,
      "outputs": [
        {
          "output_type": "execute_result",
          "data": {
            "text/plain": [
              "LinearRegression()"
            ],
            "text/html": [
              "<style>#sk-container-id-6 {color: black;background-color: white;}#sk-container-id-6 pre{padding: 0;}#sk-container-id-6 div.sk-toggleable {background-color: white;}#sk-container-id-6 label.sk-toggleable__label {cursor: pointer;display: block;width: 100%;margin-bottom: 0;padding: 0.3em;box-sizing: border-box;text-align: center;}#sk-container-id-6 label.sk-toggleable__label-arrow:before {content: \"▸\";float: left;margin-right: 0.25em;color: #696969;}#sk-container-id-6 label.sk-toggleable__label-arrow:hover:before {color: black;}#sk-container-id-6 div.sk-estimator:hover label.sk-toggleable__label-arrow:before {color: black;}#sk-container-id-6 div.sk-toggleable__content {max-height: 0;max-width: 0;overflow: hidden;text-align: left;background-color: #f0f8ff;}#sk-container-id-6 div.sk-toggleable__content pre {margin: 0.2em;color: black;border-radius: 0.25em;background-color: #f0f8ff;}#sk-container-id-6 input.sk-toggleable__control:checked~div.sk-toggleable__content {max-height: 200px;max-width: 100%;overflow: auto;}#sk-container-id-6 input.sk-toggleable__control:checked~label.sk-toggleable__label-arrow:before {content: \"▾\";}#sk-container-id-6 div.sk-estimator input.sk-toggleable__control:checked~label.sk-toggleable__label {background-color: #d4ebff;}#sk-container-id-6 div.sk-label input.sk-toggleable__control:checked~label.sk-toggleable__label {background-color: #d4ebff;}#sk-container-id-6 input.sk-hidden--visually {border: 0;clip: rect(1px 1px 1px 1px);clip: rect(1px, 1px, 1px, 1px);height: 1px;margin: -1px;overflow: hidden;padding: 0;position: absolute;width: 1px;}#sk-container-id-6 div.sk-estimator {font-family: monospace;background-color: #f0f8ff;border: 1px dotted black;border-radius: 0.25em;box-sizing: border-box;margin-bottom: 0.5em;}#sk-container-id-6 div.sk-estimator:hover {background-color: #d4ebff;}#sk-container-id-6 div.sk-parallel-item::after {content: \"\";width: 100%;border-bottom: 1px solid gray;flex-grow: 1;}#sk-container-id-6 div.sk-label:hover label.sk-toggleable__label {background-color: #d4ebff;}#sk-container-id-6 div.sk-serial::before {content: \"\";position: absolute;border-left: 1px solid gray;box-sizing: border-box;top: 0;bottom: 0;left: 50%;z-index: 0;}#sk-container-id-6 div.sk-serial {display: flex;flex-direction: column;align-items: center;background-color: white;padding-right: 0.2em;padding-left: 0.2em;position: relative;}#sk-container-id-6 div.sk-item {position: relative;z-index: 1;}#sk-container-id-6 div.sk-parallel {display: flex;align-items: stretch;justify-content: center;background-color: white;position: relative;}#sk-container-id-6 div.sk-item::before, #sk-container-id-6 div.sk-parallel-item::before {content: \"\";position: absolute;border-left: 1px solid gray;box-sizing: border-box;top: 0;bottom: 0;left: 50%;z-index: -1;}#sk-container-id-6 div.sk-parallel-item {display: flex;flex-direction: column;z-index: 1;position: relative;background-color: white;}#sk-container-id-6 div.sk-parallel-item:first-child::after {align-self: flex-end;width: 50%;}#sk-container-id-6 div.sk-parallel-item:last-child::after {align-self: flex-start;width: 50%;}#sk-container-id-6 div.sk-parallel-item:only-child::after {width: 0;}#sk-container-id-6 div.sk-dashed-wrapped {border: 1px dashed gray;margin: 0 0.4em 0.5em 0.4em;box-sizing: border-box;padding-bottom: 0.4em;background-color: white;}#sk-container-id-6 div.sk-label label {font-family: monospace;font-weight: bold;display: inline-block;line-height: 1.2em;}#sk-container-id-6 div.sk-label-container {text-align: center;}#sk-container-id-6 div.sk-container {/* jupyter's `normalize.less` sets `[hidden] { display: none; }` but bootstrap.min.css set `[hidden] { display: none !important; }` so we also need the `!important` here to be able to override the default hidden behavior on the sphinx rendered scikit-learn.org. See: https://github.com/scikit-learn/scikit-learn/issues/21755 */display: inline-block !important;position: relative;}#sk-container-id-6 div.sk-text-repr-fallback {display: none;}</style><div id=\"sk-container-id-6\" class=\"sk-top-container\"><div class=\"sk-text-repr-fallback\"><pre>LinearRegression()</pre><b>In a Jupyter environment, please rerun this cell to show the HTML representation or trust the notebook. <br />On GitHub, the HTML representation is unable to render, please try loading this page with nbviewer.org.</b></div><div class=\"sk-container\" hidden><div class=\"sk-item\"><div class=\"sk-estimator sk-toggleable\"><input class=\"sk-toggleable__control sk-hidden--visually\" id=\"sk-estimator-id-6\" type=\"checkbox\" checked><label for=\"sk-estimator-id-6\" class=\"sk-toggleable__label sk-toggleable__label-arrow\">LinearRegression</label><div class=\"sk-toggleable__content\"><pre>LinearRegression()</pre></div></div></div></div></div>"
            ]
          },
          "metadata": {},
          "execution_count": 80
        }
      ]
    },
    {
      "cell_type": "code",
      "source": [
        "#Verificamos los coeficientes obtenidos para el modelo ajustado\n",
        "model.__dict__"
      ],
      "metadata": {
        "colab": {
          "base_uri": "https://localhost:8080/"
        },
        "id": "2sYn67tWKFBe",
        "outputId": "7295f28d-67f8-4488-ebf8-5913fff26d6d"
      },
      "execution_count": null,
      "outputs": [
        {
          "output_type": "execute_result",
          "data": {
            "text/plain": [
              "{'fit_intercept': True,\n",
              " 'copy_X': True,\n",
              " 'n_jobs': None,\n",
              " 'positive': False,\n",
              " 'feature_names_in_': array(['price'], dtype=object),\n",
              " 'n_features_in_': 1,\n",
              " 'coef_': array([-4.66947697e-07]),\n",
              " 'rank_': 1,\n",
              " 'singular_': array([1828454.48919382]),\n",
              " 'intercept_': 0.8743659535692}"
            ]
          },
          "metadata": {},
          "execution_count": 81
        }
      ]
    },
    {
      "cell_type": "markdown",
      "source": [
        "Modelo matemático y= -4.66947697e-07x + 0.8743659535692\n",
        "\n",
        "\n"
      ],
      "metadata": {
        "id": "ZwUkkXVMKfWJ"
      }
    },
    {
      "cell_type": "code",
      "source": [
        "#Evaluamos la eficiencia del modelo obtenido por medio del coeficiente R Determinación\n",
        "model.score(Vars_Indep,Var_Dep)"
      ],
      "metadata": {
        "colab": {
          "base_uri": "https://localhost:8080/"
        },
        "id": "pqMps9oBKE9t",
        "outputId": "ce90d9f4-f2aa-4fe6-9f81-ea1bac83a03a"
      },
      "execution_count": null,
      "outputs": [
        {
          "output_type": "execute_result",
          "data": {
            "text/plain": [
              "0.0005551002247745629"
            ]
          },
          "metadata": {},
          "execution_count": 82
        }
      ]
    },
    {
      "cell_type": "code",
      "source": [
        "#Predecimos los valores de total de accidentes a partir de la variable \"price\"\n",
        "y_pred= model.predict(X=filtro2[['price']])\n",
        "y_pred"
      ],
      "metadata": {
        "colab": {
          "base_uri": "https://localhost:8080/"
        },
        "id": "hJ4ecOdWKE5p",
        "outputId": "41e7e5e4-af85-4f63-e28c-3844ccd285cb"
      },
      "execution_count": null,
      "outputs": [
        {
          "output_type": "execute_result",
          "data": {
            "text/plain": [
              "array([0.87369635, 0.87397839, 0.87368001, ..., 0.87365619, 0.87380562,\n",
              "       0.8735628 ])"
            ]
          },
          "metadata": {},
          "execution_count": 84
        }
      ]
    },
    {
      "cell_type": "code",
      "source": [
        "#Corroboramos cual es el coeficiente de Determinación de nuestro modelo\n",
        "coef_Deter=model.score(X=Vars_Indep, y=Var_Dep)\n",
        "coef_Deter"
      ],
      "metadata": {
        "colab": {
          "base_uri": "https://localhost:8080/"
        },
        "id": "T1n0F3t3KE0s",
        "outputId": "08709df2-9138-4f33-90eb-b19caea318e3"
      },
      "execution_count": null,
      "outputs": [
        {
          "output_type": "execute_result",
          "data": {
            "text/plain": [
              "0.0005551002247745629"
            ]
          },
          "metadata": {},
          "execution_count": 85
        }
      ]
    },
    {
      "cell_type": "code",
      "source": [
        "#Corroboramos cual es el coeficiente de Correlación de nuestro modelo\n",
        "coef_Correl=np.sqrt(coef_Deter)\n",
        "coef_Correl"
      ],
      "metadata": {
        "colab": {
          "base_uri": "https://localhost:8080/"
        },
        "id": "SnT-Cn3qKlst",
        "outputId": "2bee4c07-d1e2-4432-cf79-ef8b71a29609"
      },
      "execution_count": null,
      "outputs": [
        {
          "output_type": "execute_result",
          "data": {
            "text/plain": [
              "0.02356056503512942"
            ]
          },
          "metadata": {},
          "execution_count": 86
        }
      ]
    },
    {
      "cell_type": "markdown",
      "source": [
        "# **host_acceptance_rate vs number_of_reviews**"
      ],
      "metadata": {
        "id": "04l9O9DZFre8"
      }
    },
    {
      "cell_type": "markdown",
      "source": [
        "hotel room"
      ],
      "metadata": {
        "id": "Ede_a1iUK8b8"
      }
    },
    {
      "cell_type": "code",
      "source": [
        "#Imprimimos el scatter plot entre la variable dependiente (host_acceptance_rate) e independiente (number_of_reviews) \n",
        "#para observar el comportamiento en su dispersión \n",
        "from turtle import color\n",
        "\n",
        "\n",
        "sns.scatterplot(x='number_of_reviews', y='host_acceptance_rate', color=\"blue\", data=filtro1)\n"
      ],
      "metadata": {
        "colab": {
          "base_uri": "https://localhost:8080/",
          "height": 464
        },
        "id": "4LPYyCvzK8NO",
        "outputId": "bab3dc7f-49ee-49e6-9124-e22b3fe67880"
      },
      "execution_count": null,
      "outputs": [
        {
          "output_type": "execute_result",
          "data": {
            "text/plain": [
              "<Axes: xlabel='number_of_reviews', ylabel='host_acceptance_rate'>"
            ]
          },
          "metadata": {},
          "execution_count": 66
        },
        {
          "output_type": "display_data",
          "data": {
            "text/plain": [
              "<Figure size 640x480 with 1 Axes>"
            ],
            "image/png": "[encoded data removed]"
          },
          "metadata": {}
        }
      ]
    },
    {
      "cell_type": "code",
      "source": [
        "Vars_Indep= filtro1[['number_of_reviews']]\n",
        "Var_Dep= filtro1['host_acceptance_rate']"
      ],
      "metadata": {
        "id": "25hLJCc-K8Go"
      },
      "execution_count": null,
      "outputs": []
    },
    {
      "cell_type": "code",
      "source": [
        "#Se define model como la función de regresión lineal\n",
        "from sklearn.linear_model import LinearRegression\n",
        "model= LinearRegression()"
      ],
      "metadata": {
        "id": "2XEeXZzIK8Ao"
      },
      "execution_count": null,
      "outputs": []
    },
    {
      "cell_type": "code",
      "source": [
        "#Verificamos la función relacionada al modelo\n",
        "type(model)"
      ],
      "metadata": {
        "colab": {
          "base_uri": "https://localhost:8080/"
        },
        "id": "TdXjXqt0K76S",
        "outputId": "d0f3943a-3a24-497e-a661-cffa43bb3bee"
      },
      "execution_count": null,
      "outputs": [
        {
          "output_type": "execute_result",
          "data": {
            "text/plain": [
              "sklearn.linear_model._base.LinearRegression"
            ]
          },
          "metadata": {},
          "execution_count": 69
        }
      ]
    },
    {
      "cell_type": "code",
      "source": [
        "#Ajustamos el modelo con las variables antes declaradas\n",
        "model.fit(X=Vars_Indep, y=Var_Dep)"
      ],
      "metadata": {
        "colab": {
          "base_uri": "https://localhost:8080/",
          "height": 64
        },
        "id": "rFOqAQDcK7zg",
        "outputId": "30e27a58-573d-4271-b271-f1e08efce42e"
      },
      "execution_count": null,
      "outputs": [
        {
          "output_type": "execute_result",
          "data": {
            "text/plain": [
              "LinearRegression()"
            ],
            "text/html": [
              "<style>#sk-container-id-5 {color: black;background-color: white;}#sk-container-id-5 pre{padding: 0;}#sk-container-id-5 div.sk-toggleable {background-color: white;}#sk-container-id-5 label.sk-toggleable__label {cursor: pointer;display: block;width: 100%;margin-bottom: 0;padding: 0.3em;box-sizing: border-box;text-align: center;}#sk-container-id-5 label.sk-toggleable__label-arrow:before {content: \"▸\";float: left;margin-right: 0.25em;color: #696969;}#sk-container-id-5 label.sk-toggleable__label-arrow:hover:before {color: black;}#sk-container-id-5 div.sk-estimator:hover label.sk-toggleable__label-arrow:before {color: black;}#sk-container-id-5 div.sk-toggleable__content {max-height: 0;max-width: 0;overflow: hidden;text-align: left;background-color: #f0f8ff;}#sk-container-id-5 div.sk-toggleable__content pre {margin: 0.2em;color: black;border-radius: 0.25em;background-color: #f0f8ff;}#sk-container-id-5 input.sk-toggleable__control:checked~div.sk-toggleable__content {max-height: 200px;max-width: 100%;overflow: auto;}#sk-container-id-5 input.sk-toggleable__control:checked~label.sk-toggleable__label-arrow:before {content: \"▾\";}#sk-container-id-5 div.sk-estimator input.sk-toggleable__control:checked~label.sk-toggleable__label {background-color: #d4ebff;}#sk-container-id-5 div.sk-label input.sk-toggleable__control:checked~label.sk-toggleable__label {background-color: #d4ebff;}#sk-container-id-5 input.sk-hidden--visually {border: 0;clip: rect(1px 1px 1px 1px);clip: rect(1px, 1px, 1px, 1px);height: 1px;margin: -1px;overflow: hidden;padding: 0;position: absolute;width: 1px;}#sk-container-id-5 div.sk-estimator {font-family: monospace;background-color: #f0f8ff;border: 1px dotted black;border-radius: 0.25em;box-sizing: border-box;margin-bottom: 0.5em;}#sk-container-id-5 div.sk-estimator:hover {background-color: #d4ebff;}#sk-container-id-5 div.sk-parallel-item::after {content: \"\";width: 100%;border-bottom: 1px solid gray;flex-grow: 1;}#sk-container-id-5 div.sk-label:hover label.sk-toggleable__label {background-color: #d4ebff;}#sk-container-id-5 div.sk-serial::before {content: \"\";position: absolute;border-left: 1px solid gray;box-sizing: border-box;top: 0;bottom: 0;left: 50%;z-index: 0;}#sk-container-id-5 div.sk-serial {display: flex;flex-direction: column;align-items: center;background-color: white;padding-right: 0.2em;padding-left: 0.2em;position: relative;}#sk-container-id-5 div.sk-item {position: relative;z-index: 1;}#sk-container-id-5 div.sk-parallel {display: flex;align-items: stretch;justify-content: center;background-color: white;position: relative;}#sk-container-id-5 div.sk-item::before, #sk-container-id-5 div.sk-parallel-item::before {content: \"\";position: absolute;border-left: 1px solid gray;box-sizing: border-box;top: 0;bottom: 0;left: 50%;z-index: -1;}#sk-container-id-5 div.sk-parallel-item {display: flex;flex-direction: column;z-index: 1;position: relative;background-color: white;}#sk-container-id-5 div.sk-parallel-item:first-child::after {align-self: flex-end;width: 50%;}#sk-container-id-5 div.sk-parallel-item:last-child::after {align-self: flex-start;width: 50%;}#sk-container-id-5 div.sk-parallel-item:only-child::after {width: 0;}#sk-container-id-5 div.sk-dashed-wrapped {border: 1px dashed gray;margin: 0 0.4em 0.5em 0.4em;box-sizing: border-box;padding-bottom: 0.4em;background-color: white;}#sk-container-id-5 div.sk-label label {font-family: monospace;font-weight: bold;display: inline-block;line-height: 1.2em;}#sk-container-id-5 div.sk-label-container {text-align: center;}#sk-container-id-5 div.sk-container {/* jupyter's `normalize.less` sets `[hidden] { display: none; }` but bootstrap.min.css set `[hidden] { display: none !important; }` so we also need the `!important` here to be able to override the default hidden behavior on the sphinx rendered scikit-learn.org. See: https://github.com/scikit-learn/scikit-learn/issues/21755 */display: inline-block !important;position: relative;}#sk-container-id-5 div.sk-text-repr-fallback {display: none;}</style><div id=\"sk-container-id-5\" class=\"sk-top-container\"><div class=\"sk-text-repr-fallback\"><pre>LinearRegression()</pre><b>In a Jupyter environment, please rerun this cell to show the HTML representation or trust the notebook. <br />On GitHub, the HTML representation is unable to render, please try loading this page with nbviewer.org.</b></div><div class=\"sk-container\" hidden><div class=\"sk-item\"><div class=\"sk-estimator sk-toggleable\"><input class=\"sk-toggleable__control sk-hidden--visually\" id=\"sk-estimator-id-5\" type=\"checkbox\" checked><label for=\"sk-estimator-id-5\" class=\"sk-toggleable__label sk-toggleable__label-arrow\">LinearRegression</label><div class=\"sk-toggleable__content\"><pre>LinearRegression()</pre></div></div></div></div></div>"
            ]
          },
          "metadata": {},
          "execution_count": 70
        }
      ]
    },
    {
      "cell_type": "code",
      "source": [
        "#Verificamos los coeficientes obtenidos para el modelo ajustado\n",
        "model.__dict__"
      ],
      "metadata": {
        "colab": {
          "base_uri": "https://localhost:8080/"
        },
        "id": "-ttDmogfK7vX",
        "outputId": "5f9c4efd-051e-4e4a-889b-2c9c5fc3cdee"
      },
      "execution_count": null,
      "outputs": [
        {
          "output_type": "execute_result",
          "data": {
            "text/plain": [
              "{'fit_intercept': True,\n",
              " 'copy_X': True,\n",
              " 'n_jobs': None,\n",
              " 'positive': False,\n",
              " 'feature_names_in_': array(['number_of_reviews'], dtype=object),\n",
              " 'n_features_in_': 1,\n",
              " 'coef_': array([0.00132107]),\n",
              " 'rank_': 1,\n",
              " 'singular_': array([447.19940417]),\n",
              " 'intercept_': 0.8466371558698922}"
            ]
          },
          "metadata": {},
          "execution_count": 71
        }
      ]
    },
    {
      "cell_type": "markdown",
      "source": [
        "Modelo matemático y= 0.00132107x + 0.8466371558698922"
      ],
      "metadata": {
        "id": "v2B_2K1uiNYc"
      }
    },
    {
      "cell_type": "code",
      "source": [
        "#Evaluamos la eficiencia del modelo obtenido por medio del coeficiente R Determinación\n",
        "model.score(Vars_Indep,Var_Dep)"
      ],
      "metadata": {
        "colab": {
          "base_uri": "https://localhost:8080/"
        },
        "id": "gsCwUOHoK7rf",
        "outputId": "9ba976d1-b699-4280-abee-bc56bc9ee2ca"
      },
      "execution_count": null,
      "outputs": [
        {
          "output_type": "execute_result",
          "data": {
            "text/plain": [
              "0.04618901087177962"
            ]
          },
          "metadata": {},
          "execution_count": 72
        }
      ]
    },
    {
      "cell_type": "code",
      "source": [
        "#Predecimos los valores de total de accidentes a partir de la variable \"number_of_reviews\"\n",
        "y_pred= model.predict(X=filtro1[['number_of_reviews']])\n",
        "y_pred"
      ],
      "metadata": {
        "colab": {
          "base_uri": "https://localhost:8080/"
        },
        "id": "idpeEwN6K7na",
        "outputId": "c59d692f-d07c-49d2-f1d6-9f154fa073a5"
      },
      "execution_count": null,
      "outputs": [
        {
          "output_type": "execute_result",
          "data": {
            "text/plain": [
              "array([0.87702169, 0.88759023, 0.91136943, 0.87570063, 0.85588462,\n",
              "       0.84795822, 0.87966383, 0.9047641 , 0.85192142, 0.85588462,\n",
              "       0.89551663, 0.84663716, 0.84927929, 0.85720569, 0.85060036,\n",
              "       0.84795822, 0.90212197, 0.98402811, 0.87702169, 0.88362703,\n",
              "       0.84663716, 0.86116889, 1.02630226, 0.84795822, 0.96421211,\n",
              "       0.85852676, 0.86381103, 0.86248996, 0.86777423, 0.86513209,\n",
              "       0.84795822, 0.86381103, 1.07121853, 1.18747242, 0.9047641 ,\n",
              "       0.9047641 , 0.85192142, 0.84663716, 0.84663716, 0.85984782,\n",
              "       0.85984782, 1.03290759, 1.03951292, 0.89419556, 0.85324249,\n",
              "       0.84795822, 0.85720569, 0.85456356, 0.85588462, 0.85192142,\n",
              "       0.85060036, 0.85984782, 0.84795822, 0.84927929, 0.85060036,\n",
              "       0.86645316, 1.04347613, 0.85060036, 0.84795822, 0.85588462,\n",
              "       0.87966383, 0.85588462, 0.93514864, 0.8928745 , 0.87570063,\n",
              "       0.93779077, 0.92986437, 0.90740623, 0.84927929, 0.97874385,\n",
              "       0.84663716, 0.84795822, 0.85324249, 0.84663716, 0.86513209,\n",
              "       0.84795822, 0.84663716, 0.85456356, 0.87305849, 0.87173743,\n",
              "       0.89947983, 0.84927929, 0.88626916, 0.84663716, 0.89947983,\n",
              "       0.85192142, 0.84663716, 0.84663716, 0.84663716, 0.84663716,\n",
              "       0.84663716, 0.84663716, 0.87305849, 0.85192142, 0.85060036,\n",
              "       0.84795822, 0.84663716, 0.84795822, 0.84795822, 0.85984782,\n",
              "       0.84927929, 0.84663716, 0.84927929, 0.84663716, 0.84663716,\n",
              "       0.84663716, 0.84795822, 0.84795822, 0.92193797, 0.84795822,\n",
              "       0.84795822, 0.84795822, 0.84795822, 0.84795822, 0.84663716,\n",
              "       0.94307504, 0.90212197, 0.84663716, 0.85192142, 0.85060036,\n",
              "       0.84927929, 0.87437956, 0.85060036, 0.84663716, 0.84663716,\n",
              "       0.84663716, 0.84663716])"
            ]
          },
          "metadata": {},
          "execution_count": 73
        }
      ]
    },
    {
      "cell_type": "code",
      "source": [
        "#Corroboramos cual es el coeficiente de Determinación de nuestro modelo\n",
        "coef_Deter=model.score(X=Vars_Indep, y=Var_Dep)\n",
        "coef_Deter"
      ],
      "metadata": {
        "colab": {
          "base_uri": "https://localhost:8080/"
        },
        "id": "iMwyBBlfK7jS",
        "outputId": "dc345a6b-5782-4dcf-a731-355114a902d4"
      },
      "execution_count": null,
      "outputs": [
        {
          "output_type": "execute_result",
          "data": {
            "text/plain": [
              "0.04618901087177962"
            ]
          },
          "metadata": {},
          "execution_count": 74
        }
      ]
    },
    {
      "cell_type": "code",
      "source": [
        "#Corroboramos cual es el coeficiente de Correlación de nuestro modelo\n",
        "coef_Correl=np.sqrt(coef_Deter)\n",
        "coef_Correl"
      ],
      "metadata": {
        "colab": {
          "base_uri": "https://localhost:8080/"
        },
        "id": "ymZXpHl8K7e-",
        "outputId": "c1d75811-5dda-4291-a14b-be6034d88122"
      },
      "execution_count": null,
      "outputs": [
        {
          "output_type": "execute_result",
          "data": {
            "text/plain": [
              "0.2149162880560234"
            ]
          },
          "metadata": {},
          "execution_count": 75
        }
      ]
    },
    {
      "cell_type": "markdown",
      "source": [
        "Entire home/apt"
      ],
      "metadata": {
        "id": "aIrlLMKdOoAZ"
      }
    },
    {
      "cell_type": "code",
      "source": [
        "#Imprimimos el scatter plot entre la variable dependiente (host_acceptance_rate) e independiente (number_of_reviews) \n",
        "#para observar el comportamiento en su dispersión \n",
        "from turtle import color\n",
        "\n",
        "\n",
        "sns.scatterplot(x='number_of_reviews', y='host_acceptance_rate', color=\"blue\", data=filtro2)\n"
      ],
      "metadata": {
        "colab": {
          "base_uri": "https://localhost:8080/",
          "height": 464
        },
        "id": "FOb89zSwOsJs",
        "outputId": "cfed5b96-6321-4ed0-e1ee-4eb6250abf28"
      },
      "execution_count": null,
      "outputs": [
        {
          "output_type": "execute_result",
          "data": {
            "text/plain": [
              "<Axes: xlabel='number_of_reviews', ylabel='host_acceptance_rate'>"
            ]
          },
          "metadata": {},
          "execution_count": 97
        },
        {
          "output_type": "display_data",
          "data": {
            "text/plain": [
              "<Figure size 640x480 with 1 Axes>"
            ],
            "image/png": "[encoded data removed]"
          },
          "metadata": {}
        }
      ]
    },
    {
      "cell_type": "code",
      "source": [
        "Vars_Indep= filtro2[['number_of_reviews']]\n",
        "Var_Dep= filtro2['host_acceptance_rate']"
      ],
      "metadata": {
        "id": "-pcMaMqaOxmb"
      },
      "execution_count": null,
      "outputs": []
    },
    {
      "cell_type": "code",
      "source": [
        "#Se define model como la función de regresión lineal\n",
        "from sklearn.linear_model import LinearRegression\n",
        "model= LinearRegression()"
      ],
      "metadata": {
        "id": "srIfs2O0OxUF"
      },
      "execution_count": null,
      "outputs": []
    },
    {
      "cell_type": "code",
      "source": [
        "#Verificamos la función relacionada al modelo\n",
        "type(model)"
      ],
      "metadata": {
        "colab": {
          "base_uri": "https://localhost:8080/"
        },
        "id": "A5ryOXF2OxIt",
        "outputId": "a7874f23-dbee-47a1-e51f-1f7b4e47a58e"
      },
      "execution_count": null,
      "outputs": [
        {
          "output_type": "execute_result",
          "data": {
            "text/plain": [
              "sklearn.linear_model._base.LinearRegression"
            ]
          },
          "metadata": {},
          "execution_count": 100
        }
      ]
    },
    {
      "cell_type": "code",
      "source": [
        "#Ajustamos el modelo con las variables antes declaradas\n",
        "model.fit(X=Vars_Indep, y=Var_Dep)"
      ],
      "metadata": {
        "colab": {
          "base_uri": "https://localhost:8080/",
          "height": 64
        },
        "id": "gE6HLjk0Ow_c",
        "outputId": "030864e9-fc59-4582-8019-442492abaaab"
      },
      "execution_count": null,
      "outputs": [
        {
          "output_type": "execute_result",
          "data": {
            "text/plain": [
              "LinearRegression()"
            ],
            "text/html": [
              "<style>#sk-container-id-8 {color: black;background-color: white;}#sk-container-id-8 pre{padding: 0;}#sk-container-id-8 div.sk-toggleable {background-color: white;}#sk-container-id-8 label.sk-toggleable__label {cursor: pointer;display: block;width: 100%;margin-bottom: 0;padding: 0.3em;box-sizing: border-box;text-align: center;}#sk-container-id-8 label.sk-toggleable__label-arrow:before {content: \"▸\";float: left;margin-right: 0.25em;color: #696969;}#sk-container-id-8 label.sk-toggleable__label-arrow:hover:before {color: black;}#sk-container-id-8 div.sk-estimator:hover label.sk-toggleable__label-arrow:before {color: black;}#sk-container-id-8 div.sk-toggleable__content {max-height: 0;max-width: 0;overflow: hidden;text-align: left;background-color: #f0f8ff;}#sk-container-id-8 div.sk-toggleable__content pre {margin: 0.2em;color: black;border-radius: 0.25em;background-color: #f0f8ff;}#sk-container-id-8 input.sk-toggleable__control:checked~div.sk-toggleable__content {max-height: 200px;max-width: 100%;overflow: auto;}#sk-container-id-8 input.sk-toggleable__control:checked~label.sk-toggleable__label-arrow:before {content: \"▾\";}#sk-container-id-8 div.sk-estimator input.sk-toggleable__control:checked~label.sk-toggleable__label {background-color: #d4ebff;}#sk-container-id-8 div.sk-label input.sk-toggleable__control:checked~label.sk-toggleable__label {background-color: #d4ebff;}#sk-container-id-8 input.sk-hidden--visually {border: 0;clip: rect(1px 1px 1px 1px);clip: rect(1px, 1px, 1px, 1px);height: 1px;margin: -1px;overflow: hidden;padding: 0;position: absolute;width: 1px;}#sk-container-id-8 div.sk-estimator {font-family: monospace;background-color: #f0f8ff;border: 1px dotted black;border-radius: 0.25em;box-sizing: border-box;margin-bottom: 0.5em;}#sk-container-id-8 div.sk-estimator:hover {background-color: #d4ebff;}#sk-container-id-8 div.sk-parallel-item::after {content: \"\";width: 100%;border-bottom: 1px solid gray;flex-grow: 1;}#sk-container-id-8 div.sk-label:hover label.sk-toggleable__label {background-color: #d4ebff;}#sk-container-id-8 div.sk-serial::before {content: \"\";position: absolute;border-left: 1px solid gray;box-sizing: border-box;top: 0;bottom: 0;left: 50%;z-index: 0;}#sk-container-id-8 div.sk-serial {display: flex;flex-direction: column;align-items: center;background-color: white;padding-right: 0.2em;padding-left: 0.2em;position: relative;}#sk-container-id-8 div.sk-item {position: relative;z-index: 1;}#sk-container-id-8 div.sk-parallel {display: flex;align-items: stretch;justify-content: center;background-color: white;position: relative;}#sk-container-id-8 div.sk-item::before, #sk-container-id-8 div.sk-parallel-item::before {content: \"\";position: absolute;border-left: 1px solid gray;box-sizing: border-box;top: 0;bottom: 0;left: 50%;z-index: -1;}#sk-container-id-8 div.sk-parallel-item {display: flex;flex-direction: column;z-index: 1;position: relative;background-color: white;}#sk-container-id-8 div.sk-parallel-item:first-child::after {align-self: flex-end;width: 50%;}#sk-container-id-8 div.sk-parallel-item:last-child::after {align-self: flex-start;width: 50%;}#sk-container-id-8 div.sk-parallel-item:only-child::after {width: 0;}#sk-container-id-8 div.sk-dashed-wrapped {border: 1px dashed gray;margin: 0 0.4em 0.5em 0.4em;box-sizing: border-box;padding-bottom: 0.4em;background-color: white;}#sk-container-id-8 div.sk-label label {font-family: monospace;font-weight: bold;display: inline-block;line-height: 1.2em;}#sk-container-id-8 div.sk-label-container {text-align: center;}#sk-container-id-8 div.sk-container {/* jupyter's `normalize.less` sets `[hidden] { display: none; }` but bootstrap.min.css set `[hidden] { display: none !important; }` so we also need the `!important` here to be able to override the default hidden behavior on the sphinx rendered scikit-learn.org. See: https://github.com/scikit-learn/scikit-learn/issues/21755 */display: inline-block !important;position: relative;}#sk-container-id-8 div.sk-text-repr-fallback {display: none;}</style><div id=\"sk-container-id-8\" class=\"sk-top-container\"><div class=\"sk-text-repr-fallback\"><pre>LinearRegression()</pre><b>In a Jupyter environment, please rerun this cell to show the HTML representation or trust the notebook. <br />On GitHub, the HTML representation is unable to render, please try loading this page with nbviewer.org.</b></div><div class=\"sk-container\" hidden><div class=\"sk-item\"><div class=\"sk-estimator sk-toggleable\"><input class=\"sk-toggleable__control sk-hidden--visually\" id=\"sk-estimator-id-8\" type=\"checkbox\" checked><label for=\"sk-estimator-id-8\" class=\"sk-toggleable__label sk-toggleable__label-arrow\">LinearRegression</label><div class=\"sk-toggleable__content\"><pre>LinearRegression()</pre></div></div></div></div></div>"
            ]
          },
          "metadata": {},
          "execution_count": 101
        }
      ]
    },
    {
      "cell_type": "code",
      "source": [
        "#Verificamos los coeficientes obtenidos para el modelo ajustado\n",
        "model.__dict__"
      ],
      "metadata": {
        "colab": {
          "base_uri": "https://localhost:8080/"
        },
        "id": "XTPMEShCO9gY",
        "outputId": "929b0598-8780-4706-fd76-9b068a7502e4"
      },
      "execution_count": null,
      "outputs": [
        {
          "output_type": "execute_result",
          "data": {
            "text/plain": [
              "{'fit_intercept': True,\n",
              " 'copy_X': True,\n",
              " 'n_jobs': None,\n",
              " 'positive': False,\n",
              " 'feature_names_in_': array(['number_of_reviews'], dtype=object),\n",
              " 'n_features_in_': 1,\n",
              " 'coef_': array([0.00057995]),\n",
              " 'rank_': 1,\n",
              " 'singular_': array([8215.01838162]),\n",
              " 'intercept_': 0.8485155168835032}"
            ]
          },
          "metadata": {},
          "execution_count": 102
        }
      ]
    },
    {
      "cell_type": "markdown",
      "source": [
        "Modelo matemático y= 0.00057995x + 0.8485155168835032"
      ],
      "metadata": {
        "id": "cBL3w9hJPbgH"
      }
    },
    {
      "cell_type": "code",
      "source": [
        "#Evaluamos la eficiencia del modelo obtenido por medio del coeficiente R Determinación\n",
        "model.score(Vars_Indep,Var_Dep)"
      ],
      "metadata": {
        "colab": {
          "base_uri": "https://localhost:8080/"
        },
        "id": "srH19UlVOw2a",
        "outputId": "503c4f35-9cf9-4711-ebbc-dd8da660f073"
      },
      "execution_count": null,
      "outputs": [
        {
          "output_type": "execute_result",
          "data": {
            "text/plain": [
              "0.017284601653650422"
            ]
          },
          "metadata": {},
          "execution_count": 103
        }
      ]
    },
    {
      "cell_type": "code",
      "source": [
        "#Predecimos los valores de total de accidentes a partir de la variable \"number_of_reviews\"\n",
        "y_pred= model.predict(X=filtro2[['number_of_reviews']])\n",
        "y_pred"
      ],
      "metadata": {
        "colab": {
          "base_uri": "https://localhost:8080/"
        },
        "id": "3N0DTziQOwqy",
        "outputId": "bf9308a3-fbd5-4829-9cb6-efe59001ddb1"
      },
      "execution_count": null,
      "outputs": [
        {
          "output_type": "execute_result",
          "data": {
            "text/plain": [
              "array([0.86069439, 0.88389225, 0.87113343, ..., 0.84851552, 0.84851552,\n",
              "       0.84851552])"
            ]
          },
          "metadata": {},
          "execution_count": 104
        }
      ]
    },
    {
      "cell_type": "code",
      "source": [
        "#Corroboramos cual es el coeficiente de Determinación de nuestro modelo\n",
        "coef_Deter=model.score(X=Vars_Indep, y=Var_Dep)\n",
        "coef_Deter"
      ],
      "metadata": {
        "colab": {
          "base_uri": "https://localhost:8080/"
        },
        "id": "dZBANs81PGRF",
        "outputId": "f552bc24-4e65-434b-8723-1a077522d132"
      },
      "execution_count": null,
      "outputs": [
        {
          "output_type": "execute_result",
          "data": {
            "text/plain": [
              "0.017284601653650422"
            ]
          },
          "metadata": {},
          "execution_count": 105
        }
      ]
    },
    {
      "cell_type": "code",
      "source": [
        "#Corroboramos cual es el coeficiente de Correlación de nuestro modelo\n",
        "coef_Correl=np.sqrt(coef_Deter)\n",
        "coef_Correl"
      ],
      "metadata": {
        "colab": {
          "base_uri": "https://localhost:8080/"
        },
        "id": "zHsyNR7FPMWV",
        "outputId": "482f4f2c-1237-4cd1-98e0-cd3fe4dd485a"
      },
      "execution_count": null,
      "outputs": [
        {
          "output_type": "execute_result",
          "data": {
            "text/plain": [
              "0.1314709156188182"
            ]
          },
          "metadata": {},
          "execution_count": 106
        }
      ]
    },
    {
      "cell_type": "markdown",
      "source": [
        "# **review_scores_location vs review_scores_cleanliness**"
      ],
      "metadata": {
        "id": "dDV3uRgSORuY"
      }
    },
    {
      "cell_type": "markdown",
      "source": [
        "hotel room "
      ],
      "metadata": {
        "id": "EKq_BEYzOZN-"
      }
    },
    {
      "cell_type": "code",
      "source": [
        "#Imprimimos el scatter plot entre la variable dependiente (review_scores_location) e independiente (review_scores_cleanliness) \n",
        "#para observar el comportamiento en su dispersión \n",
        "from turtle import color\n",
        "\n",
        "\n",
        "sns.scatterplot(x='review_scores_cleanliness', y='review_scores_location', color=\"blue\", data=filtro1)"
      ],
      "metadata": {
        "colab": {
          "base_uri": "https://localhost:8080/",
          "height": 464
        },
        "id": "V67hESI_OVfm",
        "outputId": "1a3bef8d-a79e-4ef1-e195-64ef4b774968"
      },
      "execution_count": null,
      "outputs": [
        {
          "output_type": "execute_result",
          "data": {
            "text/plain": [
              "<Axes: xlabel='review_scores_cleanliness', ylabel='review_scores_location'>"
            ]
          },
          "metadata": {},
          "execution_count": 111
        },
        {
          "output_type": "display_data",
          "data": {
            "text/plain": [
              "<Figure size 640x480 with 1 Axes>"
            ],
            "image/png": "[encoded data removed]"
          },
          "metadata": {}
        }
      ]
    },
    {
      "cell_type": "code",
      "source": [
        "Vars_Indep= filtro1[['review_scores_cleanliness']]\n",
        "Var_Dep= filtro1['review_scores_location']"
      ],
      "metadata": {
        "id": "LHnrRFn0PmzC"
      },
      "execution_count": null,
      "outputs": []
    },
    {
      "cell_type": "code",
      "source": [
        "#Se define model como la función de regresión lineal\n",
        "from sklearn.linear_model import LinearRegression\n",
        "model= LinearRegression()"
      ],
      "metadata": {
        "id": "0QjlGbN6Pmod"
      },
      "execution_count": null,
      "outputs": []
    },
    {
      "cell_type": "code",
      "source": [
        "#Verificamos la función relacionada al modelo\n",
        "type(model)"
      ],
      "metadata": {
        "colab": {
          "base_uri": "https://localhost:8080/"
        },
        "id": "7rH1rAkKPmcx",
        "outputId": "451b1fc1-cfd3-4c31-d332-24072d3b4942"
      },
      "execution_count": null,
      "outputs": [
        {
          "output_type": "execute_result",
          "data": {
            "text/plain": [
              "sklearn.linear_model._base.LinearRegression"
            ]
          },
          "metadata": {},
          "execution_count": 114
        }
      ]
    },
    {
      "cell_type": "code",
      "source": [
        "#Ajustamos el modelo con las variables antes declaradas\n",
        "model.fit(X=Vars_Indep, y=Var_Dep)"
      ],
      "metadata": {
        "colab": {
          "base_uri": "https://localhost:8080/",
          "height": 64
        },
        "id": "_8RkJXiPPmSu",
        "outputId": "92f067f6-19b4-47a9-f040-ae4b4f82afe5"
      },
      "execution_count": null,
      "outputs": [
        {
          "output_type": "execute_result",
          "data": {
            "text/plain": [
              "LinearRegression()"
            ],
            "text/html": [
              "<style>#sk-container-id-9 {color: black;background-color: white;}#sk-container-id-9 pre{padding: 0;}#sk-container-id-9 div.sk-toggleable {background-color: white;}#sk-container-id-9 label.sk-toggleable__label {cursor: pointer;display: block;width: 100%;margin-bottom: 0;padding: 0.3em;box-sizing: border-box;text-align: center;}#sk-container-id-9 label.sk-toggleable__label-arrow:before {content: \"▸\";float: left;margin-right: 0.25em;color: #696969;}#sk-container-id-9 label.sk-toggleable__label-arrow:hover:before {color: black;}#sk-container-id-9 div.sk-estimator:hover label.sk-toggleable__label-arrow:before {color: black;}#sk-container-id-9 div.sk-toggleable__content {max-height: 0;max-width: 0;overflow: hidden;text-align: left;background-color: #f0f8ff;}#sk-container-id-9 div.sk-toggleable__content pre {margin: 0.2em;color: black;border-radius: 0.25em;background-color: #f0f8ff;}#sk-container-id-9 input.sk-toggleable__control:checked~div.sk-toggleable__content {max-height: 200px;max-width: 100%;overflow: auto;}#sk-container-id-9 input.sk-toggleable__control:checked~label.sk-toggleable__label-arrow:before {content: \"▾\";}#sk-container-id-9 div.sk-estimator input.sk-toggleable__control:checked~label.sk-toggleable__label {background-color: #d4ebff;}#sk-container-id-9 div.sk-label input.sk-toggleable__control:checked~label.sk-toggleable__label {background-color: #d4ebff;}#sk-container-id-9 input.sk-hidden--visually {border: 0;clip: rect(1px 1px 1px 1px);clip: rect(1px, 1px, 1px, 1px);height: 1px;margin: -1px;overflow: hidden;padding: 0;position: absolute;width: 1px;}#sk-container-id-9 div.sk-estimator {font-family: monospace;background-color: #f0f8ff;border: 1px dotted black;border-radius: 0.25em;box-sizing: border-box;margin-bottom: 0.5em;}#sk-container-id-9 div.sk-estimator:hover {background-color: #d4ebff;}#sk-container-id-9 div.sk-parallel-item::after {content: \"\";width: 100%;border-bottom: 1px solid gray;flex-grow: 1;}#sk-container-id-9 div.sk-label:hover label.sk-toggleable__label {background-color: #d4ebff;}#sk-container-id-9 div.sk-serial::before {content: \"\";position: absolute;border-left: 1px solid gray;box-sizing: border-box;top: 0;bottom: 0;left: 50%;z-index: 0;}#sk-container-id-9 div.sk-serial {display: flex;flex-direction: column;align-items: center;background-color: white;padding-right: 0.2em;padding-left: 0.2em;position: relative;}#sk-container-id-9 div.sk-item {position: relative;z-index: 1;}#sk-container-id-9 div.sk-parallel {display: flex;align-items: stretch;justify-content: center;background-color: white;position: relative;}#sk-container-id-9 div.sk-item::before, #sk-container-id-9 div.sk-parallel-item::before {content: \"\";position: absolute;border-left: 1px solid gray;box-sizing: border-box;top: 0;bottom: 0;left: 50%;z-index: -1;}#sk-container-id-9 div.sk-parallel-item {display: flex;flex-direction: column;z-index: 1;position: relative;background-color: white;}#sk-container-id-9 div.sk-parallel-item:first-child::after {align-self: flex-end;width: 50%;}#sk-container-id-9 div.sk-parallel-item:last-child::after {align-self: flex-start;width: 50%;}#sk-container-id-9 div.sk-parallel-item:only-child::after {width: 0;}#sk-container-id-9 div.sk-dashed-wrapped {border: 1px dashed gray;margin: 0 0.4em 0.5em 0.4em;box-sizing: border-box;padding-bottom: 0.4em;background-color: white;}#sk-container-id-9 div.sk-label label {font-family: monospace;font-weight: bold;display: inline-block;line-height: 1.2em;}#sk-container-id-9 div.sk-label-container {text-align: center;}#sk-container-id-9 div.sk-container {/* jupyter's `normalize.less` sets `[hidden] { display: none; }` but bootstrap.min.css set `[hidden] { display: none !important; }` so we also need the `!important` here to be able to override the default hidden behavior on the sphinx rendered scikit-learn.org. See: https://github.com/scikit-learn/scikit-learn/issues/21755 */display: inline-block !important;position: relative;}#sk-container-id-9 div.sk-text-repr-fallback {display: none;}</style><div id=\"sk-container-id-9\" class=\"sk-top-container\"><div class=\"sk-text-repr-fallback\"><pre>LinearRegression()</pre><b>In a Jupyter environment, please rerun this cell to show the HTML representation or trust the notebook. <br />On GitHub, the HTML representation is unable to render, please try loading this page with nbviewer.org.</b></div><div class=\"sk-container\" hidden><div class=\"sk-item\"><div class=\"sk-estimator sk-toggleable\"><input class=\"sk-toggleable__control sk-hidden--visually\" id=\"sk-estimator-id-9\" type=\"checkbox\" checked><label for=\"sk-estimator-id-9\" class=\"sk-toggleable__label sk-toggleable__label-arrow\">LinearRegression</label><div class=\"sk-toggleable__content\"><pre>LinearRegression()</pre></div></div></div></div></div>"
            ]
          },
          "metadata": {},
          "execution_count": 115
        }
      ]
    },
    {
      "cell_type": "code",
      "source": [
        "#Verificamos los coeficientes obtenidos para el modelo ajustado\n",
        "model.__dict__"
      ],
      "metadata": {
        "colab": {
          "base_uri": "https://localhost:8080/"
        },
        "id": "S7rPSwPJPmH4",
        "outputId": "ce13f7be-f1ff-4b91-8806-656811ccfa89"
      },
      "execution_count": null,
      "outputs": [
        {
          "output_type": "execute_result",
          "data": {
            "text/plain": [
              "{'fit_intercept': True,\n",
              " 'copy_X': True,\n",
              " 'n_jobs': None,\n",
              " 'positive': False,\n",
              " 'feature_names_in_': array(['review_scores_cleanliness'], dtype=object),\n",
              " 'n_features_in_': 1,\n",
              " 'coef_': array([0.71790653]),\n",
              " 'rank_': 1,\n",
              " 'singular_': array([3.18227943]),\n",
              " 'intercept_': 1.41489079217234}"
            ]
          },
          "metadata": {},
          "execution_count": 116
        }
      ]
    },
    {
      "cell_type": "markdown",
      "source": [
        "Modelo matemático y= 0.71790653x + 1.41489079217234"
      ],
      "metadata": {
        "id": "XbQBS7I3QAK8"
      }
    },
    {
      "cell_type": "code",
      "source": [
        "#Evaluamos la eficiencia del modelo obtenido por medio del coeficiente R Determinación\n",
        "model.score(Vars_Indep,Var_Dep)"
      ],
      "metadata": {
        "colab": {
          "base_uri": "https://localhost:8080/"
        },
        "id": "eCcRWAlUPmAj",
        "outputId": "0b390f92-513d-4688-eefb-c08f5bf7da58"
      },
      "execution_count": null,
      "outputs": [
        {
          "output_type": "execute_result",
          "data": {
            "text/plain": [
              "0.5019476993591685"
            ]
          },
          "metadata": {},
          "execution_count": 117
        }
      ]
    },
    {
      "cell_type": "code",
      "source": [
        "#Predecimos los valores de total de accidentes a partir de la variable \"number_of_reviews\"\n",
        "y_pred= model.predict(X=filtro1[['review_scores_cleanliness']])\n",
        "y_pred"
      ],
      "metadata": {
        "colab": {
          "base_uri": "https://localhost:8080/"
        },
        "id": "0m6u5o4tPl4t",
        "outputId": "7e8b1533-4b39-4925-c76b-a1f9fdc78b13"
      },
      "execution_count": null,
      "outputs": [
        {
          "output_type": "execute_result",
          "data": {
            "text/plain": [
              "array([4.88237931, 4.96134903, 4.9469909 , 4.96852809, 5.00442342,\n",
              "       5.00442342, 5.00442342, 4.96852809, 5.00442342, 4.18600998,\n",
              "       4.9469909 , 4.78905146, 5.00442342, 5.00442342, 5.00442342,\n",
              "       5.00442342, 4.93263277, 4.93981183, 4.78905146, 4.82494679,\n",
              "       4.78905146, 4.93981183, 4.85366305, 5.00442342, 4.83212585,\n",
              "       4.9254537 , 5.00442342, 4.70290268, 4.7818724 , 4.85366305,\n",
              "       5.00442342, 4.7818724 , 4.86802118, 4.93263277, 4.86084212,\n",
              "       4.88955838, 3.92756363, 4.78905146, 4.78905146, 5.00442342,\n",
              "       4.86084212, 4.99006529, 4.91827464, 4.68854455, 4.71726081,\n",
              "       4.2865169 , 4.55932137, 4.76751427, 4.5952167 , 4.2865169 ,\n",
              "       4.04960774, 4.78905146, 5.00442342, 5.00442342, 5.00442342,\n",
              "       4.52342605, 4.93981183, 5.00442342, 5.00442342, 5.00442342,\n",
              "       5.00442342, 4.49470979, 4.53060511, 4.35112848, 4.4516354 ,\n",
              "       4.54496324, 4.60239577, 4.76751427, 5.00442342, 4.5952167 ,\n",
              "       4.78905146, 5.00442342, 5.00442342, 4.78905146, 4.74597707,\n",
              "       4.78905146, 4.78905146, 4.88237931, 5.00442342, 4.96852809,\n",
              "       4.95416996, 5.00442342, 4.93263277, 4.78905146, 5.00442342,\n",
              "       4.64547016, 4.78905146, 4.78905146, 4.78905146, 4.78905146,\n",
              "       4.78905146, 4.78905146, 4.89673744, 4.64547016, 4.76751427,\n",
              "       5.00442342, 4.78905146, 5.00442342, 5.00442342, 4.71726081,\n",
              "       5.00442342, 4.78905146, 5.00442342, 4.78905146, 4.78905146,\n",
              "       4.78905146, 5.00442342, 5.00442342, 4.75315614, 5.00442342,\n",
              "       5.00442342, 5.00442342, 5.00442342, 5.00442342, 4.78905146,\n",
              "       4.65982829, 4.55932137, 4.78905146, 5.00442342, 4.76751427,\n",
              "       5.00442342, 5.00442342, 5.00442342, 4.78905146, 4.78905146,\n",
              "       4.78905146, 4.78905146])"
            ]
          },
          "metadata": {},
          "execution_count": 118
        }
      ]
    },
    {
      "cell_type": "code",
      "source": [
        "#Corroboramos cual es el coeficiente de Determinación de nuestro modelo\n",
        "coef_Deter=model.score(X=Vars_Indep, y=Var_Dep)\n",
        "coef_Deter"
      ],
      "metadata": {
        "colab": {
          "base_uri": "https://localhost:8080/"
        },
        "id": "HfOrx4fOPlxU",
        "outputId": "a09f12d2-edd9-4967-e117-cc478f95a944"
      },
      "execution_count": null,
      "outputs": [
        {
          "output_type": "execute_result",
          "data": {
            "text/plain": [
              "0.5019476993591685"
            ]
          },
          "metadata": {},
          "execution_count": 119
        }
      ]
    },
    {
      "cell_type": "code",
      "source": [
        "#Corroboramos cual es el coeficiente de Correlación de nuestro modelo\n",
        "coef_Correl=np.sqrt(coef_Deter)\n",
        "coef_Correl"
      ],
      "metadata": {
        "colab": {
          "base_uri": "https://localhost:8080/"
        },
        "id": "lJgDf8uHPlp4",
        "outputId": "a77e40c6-301f-4b45-d153-63a7c567803a"
      },
      "execution_count": null,
      "outputs": [
        {
          "output_type": "execute_result",
          "data": {
            "text/plain": [
              "0.7084826740006903"
            ]
          },
          "metadata": {},
          "execution_count": 120
        }
      ]
    },
    {
      "cell_type": "markdown",
      "source": [
        "Entire home/apt"
      ],
      "metadata": {
        "id": "_Wv0TQ-7QIma"
      }
    },
    {
      "cell_type": "code",
      "source": [
        "#Imprimimos el scatter plot entre la variable dependiente (review_scores_location) e independiente (review_scores_cleanliness) \n",
        "#para observar el comportamiento en su dispersión \n",
        "from turtle import color\n",
        "\n",
        "\n",
        "sns.scatterplot(x='review_scores_cleanliness', y='review_scores_location', color=\"blue\", data=filtro2)"
      ],
      "metadata": {
        "colab": {
          "base_uri": "https://localhost:8080/",
          "height": 464
        },
        "id": "iIQBCXyFQNE6",
        "outputId": "27372f04-3b30-4ccc-c0e0-cd9f8b27e6d1"
      },
      "execution_count": null,
      "outputs": [
        {
          "output_type": "execute_result",
          "data": {
            "text/plain": [
              "<Axes: xlabel='review_scores_cleanliness', ylabel='review_scores_location'>"
            ]
          },
          "metadata": {},
          "execution_count": 121
        },
        {
          "output_type": "display_data",
          "data": {
            "text/plain": [
              "<Figure size 640x480 with 1 Axes>"
            ],
            "image/png": "[encoded data removed]"
          },
          "metadata": {}
        }
      ]
    },
    {
      "cell_type": "code",
      "source": [
        "Vars_Indep= filtro2[['review_scores_cleanliness']]\n",
        "Var_Dep= filtro2['review_scores_location']"
      ],
      "metadata": {
        "id": "XLx3BsNJQOZd"
      },
      "execution_count": null,
      "outputs": []
    },
    {
      "cell_type": "code",
      "source": [
        "#Se define model como la función de regresión lineal\n",
        "from sklearn.linear_model import LinearRegression\n",
        "model= LinearRegression()"
      ],
      "metadata": {
        "id": "4PoUGYdsQOOQ"
      },
      "execution_count": null,
      "outputs": []
    },
    {
      "cell_type": "code",
      "source": [
        "#Verificamos la función relacionada al modelo\n",
        "type(model)"
      ],
      "metadata": {
        "colab": {
          "base_uri": "https://localhost:8080/"
        },
        "id": "SnoKQWQzQOJC",
        "outputId": "10ef5d8b-4565-4e28-de06-ebafbe72fb01"
      },
      "execution_count": null,
      "outputs": [
        {
          "output_type": "execute_result",
          "data": {
            "text/plain": [
              "sklearn.linear_model._base.LinearRegression"
            ]
          },
          "metadata": {},
          "execution_count": 124
        }
      ]
    },
    {
      "cell_type": "code",
      "source": [
        "#Ajustamos el modelo con las variables antes declaradas\n",
        "model.fit(X=Vars_Indep, y=Var_Dep)"
      ],
      "metadata": {
        "colab": {
          "base_uri": "https://localhost:8080/",
          "height": 64
        },
        "id": "m4Y9jAfbQOD8",
        "outputId": "ff1b286a-f246-4e81-9544-1bdb085f7cb4"
      },
      "execution_count": null,
      "outputs": [
        {
          "output_type": "execute_result",
          "data": {
            "text/plain": [
              "LinearRegression()"
            ],
            "text/html": [
              "<style>#sk-container-id-10 {color: black;background-color: white;}#sk-container-id-10 pre{padding: 0;}#sk-container-id-10 div.sk-toggleable {background-color: white;}#sk-container-id-10 label.sk-toggleable__label {cursor: pointer;display: block;width: 100%;margin-bottom: 0;padding: 0.3em;box-sizing: border-box;text-align: center;}#sk-container-id-10 label.sk-toggleable__label-arrow:before {content: \"▸\";float: left;margin-right: 0.25em;color: #696969;}#sk-container-id-10 label.sk-toggleable__label-arrow:hover:before {color: black;}#sk-container-id-10 div.sk-estimator:hover label.sk-toggleable__label-arrow:before {color: black;}#sk-container-id-10 div.sk-toggleable__content {max-height: 0;max-width: 0;overflow: hidden;text-align: left;background-color: #f0f8ff;}#sk-container-id-10 div.sk-toggleable__content pre {margin: 0.2em;color: black;border-radius: 0.25em;background-color: #f0f8ff;}#sk-container-id-10 input.sk-toggleable__control:checked~div.sk-toggleable__content {max-height: 200px;max-width: 100%;overflow: auto;}#sk-container-id-10 input.sk-toggleable__control:checked~label.sk-toggleable__label-arrow:before {content: \"▾\";}#sk-container-id-10 div.sk-estimator input.sk-toggleable__control:checked~label.sk-toggleable__label {background-color: #d4ebff;}#sk-container-id-10 div.sk-label input.sk-toggleable__control:checked~label.sk-toggleable__label {background-color: #d4ebff;}#sk-container-id-10 input.sk-hidden--visually {border: 0;clip: rect(1px 1px 1px 1px);clip: rect(1px, 1px, 1px, 1px);height: 1px;margin: -1px;overflow: hidden;padding: 0;position: absolute;width: 1px;}#sk-container-id-10 div.sk-estimator {font-family: monospace;background-color: #f0f8ff;border: 1px dotted black;border-radius: 0.25em;box-sizing: border-box;margin-bottom: 0.5em;}#sk-container-id-10 div.sk-estimator:hover {background-color: #d4ebff;}#sk-container-id-10 div.sk-parallel-item::after {content: \"\";width: 100%;border-bottom: 1px solid gray;flex-grow: 1;}#sk-container-id-10 div.sk-label:hover label.sk-toggleable__label {background-color: #d4ebff;}#sk-container-id-10 div.sk-serial::before {content: \"\";position: absolute;border-left: 1px solid gray;box-sizing: border-box;top: 0;bottom: 0;left: 50%;z-index: 0;}#sk-container-id-10 div.sk-serial {display: flex;flex-direction: column;align-items: center;background-color: white;padding-right: 0.2em;padding-left: 0.2em;position: relative;}#sk-container-id-10 div.sk-item {position: relative;z-index: 1;}#sk-container-id-10 div.sk-parallel {display: flex;align-items: stretch;justify-content: center;background-color: white;position: relative;}#sk-container-id-10 div.sk-item::before, #sk-container-id-10 div.sk-parallel-item::before {content: \"\";position: absolute;border-left: 1px solid gray;box-sizing: border-box;top: 0;bottom: 0;left: 50%;z-index: -1;}#sk-container-id-10 div.sk-parallel-item {display: flex;flex-direction: column;z-index: 1;position: relative;background-color: white;}#sk-container-id-10 div.sk-parallel-item:first-child::after {align-self: flex-end;width: 50%;}#sk-container-id-10 div.sk-parallel-item:last-child::after {align-self: flex-start;width: 50%;}#sk-container-id-10 div.sk-parallel-item:only-child::after {width: 0;}#sk-container-id-10 div.sk-dashed-wrapped {border: 1px dashed gray;margin: 0 0.4em 0.5em 0.4em;box-sizing: border-box;padding-bottom: 0.4em;background-color: white;}#sk-container-id-10 div.sk-label label {font-family: monospace;font-weight: bold;display: inline-block;line-height: 1.2em;}#sk-container-id-10 div.sk-label-container {text-align: center;}#sk-container-id-10 div.sk-container {/* jupyter's `normalize.less` sets `[hidden] { display: none; }` but bootstrap.min.css set `[hidden] { display: none !important; }` so we also need the `!important` here to be able to override the default hidden behavior on the sphinx rendered scikit-learn.org. See: https://github.com/scikit-learn/scikit-learn/issues/21755 */display: inline-block !important;position: relative;}#sk-container-id-10 div.sk-text-repr-fallback {display: none;}</style><div id=\"sk-container-id-10\" class=\"sk-top-container\"><div class=\"sk-text-repr-fallback\"><pre>LinearRegression()</pre><b>In a Jupyter environment, please rerun this cell to show the HTML representation or trust the notebook. <br />On GitHub, the HTML representation is unable to render, please try loading this page with nbviewer.org.</b></div><div class=\"sk-container\" hidden><div class=\"sk-item\"><div class=\"sk-estimator sk-toggleable\"><input class=\"sk-toggleable__control sk-hidden--visually\" id=\"sk-estimator-id-10\" type=\"checkbox\" checked><label for=\"sk-estimator-id-10\" class=\"sk-toggleable__label sk-toggleable__label-arrow\">LinearRegression</label><div class=\"sk-toggleable__content\"><pre>LinearRegression()</pre></div></div></div></div></div>"
            ]
          },
          "metadata": {},
          "execution_count": 125
        }
      ]
    },
    {
      "cell_type": "code",
      "source": [
        "#Verificamos los coeficientes obtenidos para el modelo ajustado\n",
        "model.__dict__"
      ],
      "metadata": {
        "colab": {
          "base_uri": "https://localhost:8080/"
        },
        "id": "H8fbitGVQN-i",
        "outputId": "ed80ff81-27bd-4c07-b3d6-030b974777ea"
      },
      "execution_count": null,
      "outputs": [
        {
          "output_type": "execute_result",
          "data": {
            "text/plain": [
              "{'fit_intercept': True,\n",
              " 'copy_X': True,\n",
              " 'n_jobs': None,\n",
              " 'positive': False,\n",
              " 'feature_names_in_': array(['review_scores_cleanliness'], dtype=object),\n",
              " 'n_features_in_': 1,\n",
              " 'coef_': array([0.43967956]),\n",
              " 'rank_': 1,\n",
              " 'singular_': array([44.59006943]),\n",
              " 'intercept_': 2.749463839514829}"
            ]
          },
          "metadata": {},
          "execution_count": 126
        }
      ]
    },
    {
      "cell_type": "markdown",
      "source": [
        "Modelo matemático y= 0.43967956x + 2.749463839514829"
      ],
      "metadata": {
        "id": "zLDyL4Y-S726"
      }
    },
    {
      "cell_type": "code",
      "source": [
        "#Evaluamos la eficiencia del modelo obtenido por medio del coeficiente R Determinación\n",
        "model.score(Vars_Indep,Var_Dep)"
      ],
      "metadata": {
        "colab": {
          "base_uri": "https://localhost:8080/"
        },
        "id": "37IyAiY3QN5P",
        "outputId": "0267fc43-183f-4dd0-91e2-63842590a080"
      },
      "execution_count": null,
      "outputs": [
        {
          "output_type": "execute_result",
          "data": {
            "text/plain": [
              "0.3114627519253965"
            ]
          },
          "metadata": {},
          "execution_count": 127
        }
      ]
    },
    {
      "cell_type": "code",
      "source": [
        "#Predecimos los valores de total de accidentes a partir de la variable \"number_of_reviews\"\n",
        "y_pred= model.predict(X=filtro2[['review_scores_cleanliness']])\n",
        "y_pred"
      ],
      "metadata": {
        "colab": {
          "base_uri": "https://localhost:8080/"
        },
        "id": "bW2PmW4sQNzy",
        "outputId": "62b79e89-9a60-40c7-a5cf-2a152eaa9ffe"
      },
      "execution_count": null,
      "outputs": [
        {
          "output_type": "execute_result",
          "data": {
            "text/plain": [
              "array([4.92587768, 4.89510011, 4.82035459, ..., 4.81595779, 4.81595779,\n",
              "       4.81595779])"
            ]
          },
          "metadata": {},
          "execution_count": 129
        }
      ]
    },
    {
      "cell_type": "code",
      "source": [
        "#Corroboramos cual es el coeficiente de Determinación de nuestro modelo\n",
        "coef_Deter=model.score(X=Vars_Indep, y=Var_Dep)\n",
        "coef_Deter"
      ],
      "metadata": {
        "colab": {
          "base_uri": "https://localhost:8080/"
        },
        "id": "_m2327zaQNta",
        "outputId": "473a44db-b85a-42ef-bb3b-c515dcb80903"
      },
      "execution_count": null,
      "outputs": [
        {
          "output_type": "execute_result",
          "data": {
            "text/plain": [
              "0.3114627519253965"
            ]
          },
          "metadata": {},
          "execution_count": 130
        }
      ]
    },
    {
      "cell_type": "code",
      "source": [
        "#Corroboramos cual es el coeficiente de Correlación de nuestro modelo\n",
        "coef_Correl=np.sqrt(coef_Deter)\n",
        "coef_Correl"
      ],
      "metadata": {
        "colab": {
          "base_uri": "https://localhost:8080/"
        },
        "id": "SQ1mwIY2QNni",
        "outputId": "a66b7781-1ec2-4587-c3d6-b6e096c37e97"
      },
      "execution_count": null,
      "outputs": [
        {
          "output_type": "execute_result",
          "data": {
            "text/plain": [
              "0.5580884803733155"
            ]
          },
          "metadata": {},
          "execution_count": 131
        }
      ]
    },
    {
      "cell_type": "markdown",
      "source": [
        "# **availability_365 vs number_of_reviews**"
      ],
      "metadata": {
        "id": "6_tWeoBzT8Bz"
      }
    },
    {
      "cell_type": "markdown",
      "source": [
        "hotel room"
      ],
      "metadata": {
        "id": "FkA3r3KHVJmK"
      }
    },
    {
      "cell_type": "code",
      "source": [
        "#Imprimimos el scatter plot entre la variable dependiente (availability_365) e independiente (number_of_reviews) \n",
        "#para observar el comportamiento en su dispersión \n",
        "from turtle import color\n",
        "\n",
        "\n",
        "sns.scatterplot(x='number_of_reviews', y='availability_365', color=\"blue\", data=filtro1)"
      ],
      "metadata": {
        "colab": {
          "base_uri": "https://localhost:8080/",
          "height": 464
        },
        "id": "zBzp_qmeT_y8",
        "outputId": "305f9735-a07a-429f-b457-7492cf0b5703"
      },
      "execution_count": null,
      "outputs": [
        {
          "output_type": "execute_result",
          "data": {
            "text/plain": [
              "<Axes: xlabel='number_of_reviews', ylabel='availability_365'>"
            ]
          },
          "metadata": {},
          "execution_count": 132
        },
        {
          "output_type": "display_data",
          "data": {
            "text/plain": [
              "<Figure size 640x480 with 1 Axes>"
            ],
            "image/png": "[encoded data removed]"
          },
          "metadata": {}
        }
      ]
    },
    {
      "cell_type": "code",
      "source": [
        "Vars_Indep= filtro1[['number_of_reviews']]\n",
        "Var_Dep= filtro1['availability_365']"
      ],
      "metadata": {
        "id": "IxLmC_9oVUkC"
      },
      "execution_count": null,
      "outputs": []
    },
    {
      "cell_type": "code",
      "source": [
        "#Se define model como la función de regresión lineal\n",
        "from sklearn.linear_model import LinearRegression\n",
        "model= LinearRegression()"
      ],
      "metadata": {
        "id": "KxoLEGYjVUdQ"
      },
      "execution_count": null,
      "outputs": []
    },
    {
      "cell_type": "code",
      "source": [
        "#Verificamos la función relacionada al modelo\n",
        "type(model)"
      ],
      "metadata": {
        "colab": {
          "base_uri": "https://localhost:8080/"
        },
        "id": "1qJmlUWPVUWy",
        "outputId": "7d906b1c-37ea-4eac-ad3a-699e8a241b7e"
      },
      "execution_count": null,
      "outputs": [
        {
          "output_type": "execute_result",
          "data": {
            "text/plain": [
              "sklearn.linear_model._base.LinearRegression"
            ]
          },
          "metadata": {},
          "execution_count": 135
        }
      ]
    },
    {
      "cell_type": "code",
      "source": [
        "#Ajustamos el modelo con las variables antes declaradas\n",
        "model.fit(X=Vars_Indep, y=Var_Dep)"
      ],
      "metadata": {
        "colab": {
          "base_uri": "https://localhost:8080/",
          "height": 64
        },
        "id": "iKWLUu28VUQw",
        "outputId": "fb45416f-9ef5-48e5-87bd-162c8efb451d"
      },
      "execution_count": null,
      "outputs": [
        {
          "output_type": "execute_result",
          "data": {
            "text/plain": [
              "LinearRegression()"
            ],
            "text/html": [
              "<style>#sk-container-id-11 {color: black;background-color: white;}#sk-container-id-11 pre{padding: 0;}#sk-container-id-11 div.sk-toggleable {background-color: white;}#sk-container-id-11 label.sk-toggleable__label {cursor: pointer;display: block;width: 100%;margin-bottom: 0;padding: 0.3em;box-sizing: border-box;text-align: center;}#sk-container-id-11 label.sk-toggleable__label-arrow:before {content: \"▸\";float: left;margin-right: 0.25em;color: #696969;}#sk-container-id-11 label.sk-toggleable__label-arrow:hover:before {color: black;}#sk-container-id-11 div.sk-estimator:hover label.sk-toggleable__label-arrow:before {color: black;}#sk-container-id-11 div.sk-toggleable__content {max-height: 0;max-width: 0;overflow: hidden;text-align: left;background-color: #f0f8ff;}#sk-container-id-11 div.sk-toggleable__content pre {margin: 0.2em;color: black;border-radius: 0.25em;background-color: #f0f8ff;}#sk-container-id-11 input.sk-toggleable__control:checked~div.sk-toggleable__content {max-height: 200px;max-width: 100%;overflow: auto;}#sk-container-id-11 input.sk-toggleable__control:checked~label.sk-toggleable__label-arrow:before {content: \"▾\";}#sk-container-id-11 div.sk-estimator input.sk-toggleable__control:checked~label.sk-toggleable__label {background-color: #d4ebff;}#sk-container-id-11 div.sk-label input.sk-toggleable__control:checked~label.sk-toggleable__label {background-color: #d4ebff;}#sk-container-id-11 input.sk-hidden--visually {border: 0;clip: rect(1px 1px 1px 1px);clip: rect(1px, 1px, 1px, 1px);height: 1px;margin: -1px;overflow: hidden;padding: 0;position: absolute;width: 1px;}#sk-container-id-11 div.sk-estimator {font-family: monospace;background-color: #f0f8ff;border: 1px dotted black;border-radius: 0.25em;box-sizing: border-box;margin-bottom: 0.5em;}#sk-container-id-11 div.sk-estimator:hover {background-color: #d4ebff;}#sk-container-id-11 div.sk-parallel-item::after {content: \"\";width: 100%;border-bottom: 1px solid gray;flex-grow: 1;}#sk-container-id-11 div.sk-label:hover label.sk-toggleable__label {background-color: #d4ebff;}#sk-container-id-11 div.sk-serial::before {content: \"\";position: absolute;border-left: 1px solid gray;box-sizing: border-box;top: 0;bottom: 0;left: 50%;z-index: 0;}#sk-container-id-11 div.sk-serial {display: flex;flex-direction: column;align-items: center;background-color: white;padding-right: 0.2em;padding-left: 0.2em;position: relative;}#sk-container-id-11 div.sk-item {position: relative;z-index: 1;}#sk-container-id-11 div.sk-parallel {display: flex;align-items: stretch;justify-content: center;background-color: white;position: relative;}#sk-container-id-11 div.sk-item::before, #sk-container-id-11 div.sk-parallel-item::before {content: \"\";position: absolute;border-left: 1px solid gray;box-sizing: border-box;top: 0;bottom: 0;left: 50%;z-index: -1;}#sk-container-id-11 div.sk-parallel-item {display: flex;flex-direction: column;z-index: 1;position: relative;background-color: white;}#sk-container-id-11 div.sk-parallel-item:first-child::after {align-self: flex-end;width: 50%;}#sk-container-id-11 div.sk-parallel-item:last-child::after {align-self: flex-start;width: 50%;}#sk-container-id-11 div.sk-parallel-item:only-child::after {width: 0;}#sk-container-id-11 div.sk-dashed-wrapped {border: 1px dashed gray;margin: 0 0.4em 0.5em 0.4em;box-sizing: border-box;padding-bottom: 0.4em;background-color: white;}#sk-container-id-11 div.sk-label label {font-family: monospace;font-weight: bold;display: inline-block;line-height: 1.2em;}#sk-container-id-11 div.sk-label-container {text-align: center;}#sk-container-id-11 div.sk-container {/* jupyter's `normalize.less` sets `[hidden] { display: none; }` but bootstrap.min.css set `[hidden] { display: none !important; }` so we also need the `!important` here to be able to override the default hidden behavior on the sphinx rendered scikit-learn.org. See: https://github.com/scikit-learn/scikit-learn/issues/21755 */display: inline-block !important;position: relative;}#sk-container-id-11 div.sk-text-repr-fallback {display: none;}</style><div id=\"sk-container-id-11\" class=\"sk-top-container\"><div class=\"sk-text-repr-fallback\"><pre>LinearRegression()</pre><b>In a Jupyter environment, please rerun this cell to show the HTML representation or trust the notebook. <br />On GitHub, the HTML representation is unable to render, please try loading this page with nbviewer.org.</b></div><div class=\"sk-container\" hidden><div class=\"sk-item\"><div class=\"sk-estimator sk-toggleable\"><input class=\"sk-toggleable__control sk-hidden--visually\" id=\"sk-estimator-id-11\" type=\"checkbox\" checked><label for=\"sk-estimator-id-11\" class=\"sk-toggleable__label sk-toggleable__label-arrow\">LinearRegression</label><div class=\"sk-toggleable__content\"><pre>LinearRegression()</pre></div></div></div></div></div>"
            ]
          },
          "metadata": {},
          "execution_count": 136
        }
      ]
    },
    {
      "cell_type": "code",
      "source": [
        "#Verificamos los coeficientes obtenidos para el modelo ajustado\n",
        "model.__dict__"
      ],
      "metadata": {
        "colab": {
          "base_uri": "https://localhost:8080/"
        },
        "id": "NWs2H3cmVUKU",
        "outputId": "3315bf71-26cb-41a5-c81f-61efeaf3fc9b"
      },
      "execution_count": null,
      "outputs": [
        {
          "output_type": "execute_result",
          "data": {
            "text/plain": [
              "{'fit_intercept': True,\n",
              " 'copy_X': True,\n",
              " 'n_jobs': None,\n",
              " 'positive': False,\n",
              " 'feature_names_in_': array(['number_of_reviews'], dtype=object),\n",
              " 'n_features_in_': 1,\n",
              " 'coef_': array([-0.35915992]),\n",
              " 'rank_': 1,\n",
              " 'singular_': array([447.19940417]),\n",
              " 'intercept_': 254.19984142300686}"
            ]
          },
          "metadata": {},
          "execution_count": 137
        }
      ]
    },
    {
      "cell_type": "markdown",
      "source": [
        "Modelo matemático y= -0.35915992x + 254.19984142300686"
      ],
      "metadata": {
        "id": "OxsXxVrCV3jI"
      }
    },
    {
      "cell_type": "code",
      "source": [
        "#Evaluamos la eficiencia del modelo obtenido por medio del coeficiente R Determinación\n",
        "model.score(Vars_Indep,Var_Dep)"
      ],
      "metadata": {
        "colab": {
          "base_uri": "https://localhost:8080/"
        },
        "id": "_qEDtzMaVUEh",
        "outputId": "88e35b93-a524-4ce3-eb14-4a45c43b69c1"
      },
      "execution_count": null,
      "outputs": [
        {
          "output_type": "execute_result",
          "data": {
            "text/plain": [
              "0.014844412000572182"
            ]
          },
          "metadata": {},
          "execution_count": 138
        }
      ]
    },
    {
      "cell_type": "code",
      "source": [
        "#Predecimos los valores de total de accidentes a partir de la variable \"number_of_reviews\"\n",
        "y_pred= model.predict(X=filtro1[['number_of_reviews']])\n",
        "y_pred"
      ],
      "metadata": {
        "colab": {
          "base_uri": "https://localhost:8080/"
        },
        "id": "tdeSmeK8VT9_",
        "outputId": "f14fca81-cf47-4822-e6b8-0973797b58ad"
      },
      "execution_count": null,
      "outputs": [
        {
          "output_type": "execute_result",
          "data": {
            "text/plain": [
              "array([245.93916327, 243.06588391, 236.60100535, 246.29832318,\n",
              "       251.68572198, 253.8406815 , 245.22084343, 238.39680495,\n",
              "       252.76320174, 251.68572198, 240.91092439, 254.19984142,\n",
              "       253.48152158, 251.32656206, 253.12236166, 253.8406815 ,\n",
              "       239.11512479, 216.84720975, 245.93916327, 244.14336367,\n",
              "       254.19984142, 250.2490823 , 205.35409231, 253.8406815 ,\n",
              "       222.23460855, 250.96740214, 249.53076246, 249.88992238,\n",
              "       248.4532827 , 249.17160254, 253.8406815 , 249.53076246,\n",
              "       193.14265504, 161.53658209, 238.39680495, 238.39680495,\n",
              "       252.76320174, 254.19984142, 254.19984142, 250.60824222,\n",
              "       250.60824222, 203.55829272, 201.76249312, 241.27008431,\n",
              "       252.40404182, 253.8406815 , 251.32656206, 252.0448819 ,\n",
              "       251.68572198, 252.76320174, 253.12236166, 250.60824222,\n",
              "       253.8406815 , 253.48152158, 253.12236166, 248.81244262,\n",
              "       200.68501336, 253.12236166, 253.8406815 , 251.68572198,\n",
              "       245.22084343, 251.68572198, 230.13612679, 241.62924423,\n",
              "       246.29832318, 229.41780695, 231.57276647, 237.67848511,\n",
              "       253.48152158, 218.28384943, 254.19984142, 253.8406815 ,\n",
              "       252.40404182, 254.19984142, 249.17160254, 253.8406815 ,\n",
              "       254.19984142, 252.0448819 , 247.01664302, 247.37580294,\n",
              "       239.83344463, 253.48152158, 243.42504383, 254.19984142,\n",
              "       239.83344463, 252.76320174, 254.19984142, 254.19984142,\n",
              "       254.19984142, 254.19984142, 254.19984142, 254.19984142,\n",
              "       247.01664302, 252.76320174, 253.12236166, 253.8406815 ,\n",
              "       254.19984142, 253.8406815 , 253.8406815 , 250.60824222,\n",
              "       253.48152158, 254.19984142, 253.48152158, 254.19984142,\n",
              "       254.19984142, 254.19984142, 253.8406815 , 253.8406815 ,\n",
              "       233.72772599, 253.8406815 , 253.8406815 , 253.8406815 ,\n",
              "       253.8406815 , 253.8406815 , 254.19984142, 227.98116727,\n",
              "       239.11512479, 254.19984142, 252.76320174, 253.12236166,\n",
              "       253.48152158, 246.6574831 , 253.12236166, 254.19984142,\n",
              "       254.19984142, 254.19984142, 254.19984142])"
            ]
          },
          "metadata": {},
          "execution_count": 139
        }
      ]
    },
    {
      "cell_type": "code",
      "source": [
        "#Corroboramos cual es el coeficiente de Determinación de nuestro modelo\n",
        "coef_Deter=model.score(X=Vars_Indep, y=Var_Dep)\n",
        "coef_Deter"
      ],
      "metadata": {
        "colab": {
          "base_uri": "https://localhost:8080/"
        },
        "id": "GhBX-l_WVxMB",
        "outputId": "555b933e-b187-4a5d-e24b-42ed294902c6"
      },
      "execution_count": null,
      "outputs": [
        {
          "output_type": "execute_result",
          "data": {
            "text/plain": [
              "0.014844412000572182"
            ]
          },
          "metadata": {},
          "execution_count": 140
        }
      ]
    },
    {
      "cell_type": "code",
      "source": [
        "#Corroboramos cual es el coeficiente de Correlación de nuestro modelo\n",
        "coef_Correl=np.sqrt(coef_Deter)\n",
        "coef_Correl"
      ],
      "metadata": {
        "colab": {
          "base_uri": "https://localhost:8080/"
        },
        "id": "6I7eWS06VT4C",
        "outputId": "d3144748-c2b1-40e2-c3e5-a12aeb04cd5d"
      },
      "execution_count": null,
      "outputs": [
        {
          "output_type": "execute_result",
          "data": {
            "text/plain": [
              "0.12183764607284639"
            ]
          },
          "metadata": {},
          "execution_count": 141
        }
      ]
    },
    {
      "cell_type": "markdown",
      "source": [
        "Entire home/apt"
      ],
      "metadata": {
        "id": "wO3J1-KHV41T"
      }
    },
    {
      "cell_type": "code",
      "source": [
        "#Imprimimos el scatter plot entre la variable dependiente (availability_365) e independiente (number_of_reviews) \n",
        "#para observar el comportamiento en su dispersión \n",
        "from turtle import color\n",
        "\n",
        "\n",
        "sns.scatterplot(x='number_of_reviews', y='availability_365', color=\"blue\", data=filtro2)"
      ],
      "metadata": {
        "colab": {
          "base_uri": "https://localhost:8080/",
          "height": 464
        },
        "id": "YumJ_rWsVTv3",
        "outputId": "170c86d0-fcbd-43d7-c0db-c4d806b4ec0a"
      },
      "execution_count": null,
      "outputs": [
        {
          "output_type": "execute_result",
          "data": {
            "text/plain": [
              "<Axes: xlabel='number_of_reviews', ylabel='availability_365'>"
            ]
          },
          "metadata": {},
          "execution_count": 142
        },
        {
          "output_type": "display_data",
          "data": {
            "text/plain": [
              "<Figure size 640x480 with 1 Axes>"
            ],
            "image/png": "[encoded data removed]"
          },
          "metadata": {}
        }
      ]
    },
    {
      "cell_type": "code",
      "source": [
        "Vars_Indep= filtro2[['number_of_reviews']]\n",
        "Var_Dep= filtro2['availability_365']"
      ],
      "metadata": {
        "id": "_h5wtx-0XoYD"
      },
      "execution_count": null,
      "outputs": []
    },
    {
      "cell_type": "code",
      "source": [
        "#Se define model como la función de regresión lineal\n",
        "from sklearn.linear_model import LinearRegression\n",
        "model= LinearRegression()"
      ],
      "metadata": {
        "id": "HerwLtS3Xp3Z"
      },
      "execution_count": null,
      "outputs": []
    },
    {
      "cell_type": "code",
      "source": [
        "#Verificamos la función relacionada al modelo\n",
        "type(model)"
      ],
      "metadata": {
        "colab": {
          "base_uri": "https://localhost:8080/"
        },
        "id": "gEMlOqMqXpxM",
        "outputId": "66608d16-70a4-42f1-d153-c1e102ab601b"
      },
      "execution_count": null,
      "outputs": [
        {
          "output_type": "execute_result",
          "data": {
            "text/plain": [
              "sklearn.linear_model._base.LinearRegression"
            ]
          },
          "metadata": {},
          "execution_count": 145
        }
      ]
    },
    {
      "cell_type": "code",
      "source": [
        "#Ajustamos el modelo con las variables antes declaradas\n",
        "model.fit(X=Vars_Indep, y=Var_Dep)"
      ],
      "metadata": {
        "colab": {
          "base_uri": "https://localhost:8080/",
          "height": 64
        },
        "id": "jR8i2LmbXpq9",
        "outputId": "8e7887c8-2674-40ef-b2df-ae3614f1d3fb"
      },
      "execution_count": null,
      "outputs": [
        {
          "output_type": "execute_result",
          "data": {
            "text/plain": [
              "LinearRegression()"
            ],
            "text/html": [
              "<style>#sk-container-id-12 {color: black;background-color: white;}#sk-container-id-12 pre{padding: 0;}#sk-container-id-12 div.sk-toggleable {background-color: white;}#sk-container-id-12 label.sk-toggleable__label {cursor: pointer;display: block;width: 100%;margin-bottom: 0;padding: 0.3em;box-sizing: border-box;text-align: center;}#sk-container-id-12 label.sk-toggleable__label-arrow:before {content: \"▸\";float: left;margin-right: 0.25em;color: #696969;}#sk-container-id-12 label.sk-toggleable__label-arrow:hover:before {color: black;}#sk-container-id-12 div.sk-estimator:hover label.sk-toggleable__label-arrow:before {color: black;}#sk-container-id-12 div.sk-toggleable__content {max-height: 0;max-width: 0;overflow: hidden;text-align: left;background-color: #f0f8ff;}#sk-container-id-12 div.sk-toggleable__content pre {margin: 0.2em;color: black;border-radius: 0.25em;background-color: #f0f8ff;}#sk-container-id-12 input.sk-toggleable__control:checked~div.sk-toggleable__content {max-height: 200px;max-width: 100%;overflow: auto;}#sk-container-id-12 input.sk-toggleable__control:checked~label.sk-toggleable__label-arrow:before {content: \"▾\";}#sk-container-id-12 div.sk-estimator input.sk-toggleable__control:checked~label.sk-toggleable__label {background-color: #d4ebff;}#sk-container-id-12 div.sk-label input.sk-toggleable__control:checked~label.sk-toggleable__label {background-color: #d4ebff;}#sk-container-id-12 input.sk-hidden--visually {border: 0;clip: rect(1px 1px 1px 1px);clip: rect(1px, 1px, 1px, 1px);height: 1px;margin: -1px;overflow: hidden;padding: 0;position: absolute;width: 1px;}#sk-container-id-12 div.sk-estimator {font-family: monospace;background-color: #f0f8ff;border: 1px dotted black;border-radius: 0.25em;box-sizing: border-box;margin-bottom: 0.5em;}#sk-container-id-12 div.sk-estimator:hover {background-color: #d4ebff;}#sk-container-id-12 div.sk-parallel-item::after {content: \"\";width: 100%;border-bottom: 1px solid gray;flex-grow: 1;}#sk-container-id-12 div.sk-label:hover label.sk-toggleable__label {background-color: #d4ebff;}#sk-container-id-12 div.sk-serial::before {content: \"\";position: absolute;border-left: 1px solid gray;box-sizing: border-box;top: 0;bottom: 0;left: 50%;z-index: 0;}#sk-container-id-12 div.sk-serial {display: flex;flex-direction: column;align-items: center;background-color: white;padding-right: 0.2em;padding-left: 0.2em;position: relative;}#sk-container-id-12 div.sk-item {position: relative;z-index: 1;}#sk-container-id-12 div.sk-parallel {display: flex;align-items: stretch;justify-content: center;background-color: white;position: relative;}#sk-container-id-12 div.sk-item::before, #sk-container-id-12 div.sk-parallel-item::before {content: \"\";position: absolute;border-left: 1px solid gray;box-sizing: border-box;top: 0;bottom: 0;left: 50%;z-index: -1;}#sk-container-id-12 div.sk-parallel-item {display: flex;flex-direction: column;z-index: 1;position: relative;background-color: white;}#sk-container-id-12 div.sk-parallel-item:first-child::after {align-self: flex-end;width: 50%;}#sk-container-id-12 div.sk-parallel-item:last-child::after {align-self: flex-start;width: 50%;}#sk-container-id-12 div.sk-parallel-item:only-child::after {width: 0;}#sk-container-id-12 div.sk-dashed-wrapped {border: 1px dashed gray;margin: 0 0.4em 0.5em 0.4em;box-sizing: border-box;padding-bottom: 0.4em;background-color: white;}#sk-container-id-12 div.sk-label label {font-family: monospace;font-weight: bold;display: inline-block;line-height: 1.2em;}#sk-container-id-12 div.sk-label-container {text-align: center;}#sk-container-id-12 div.sk-container {/* jupyter's `normalize.less` sets `[hidden] { display: none; }` but bootstrap.min.css set `[hidden] { display: none !important; }` so we also need the `!important` here to be able to override the default hidden behavior on the sphinx rendered scikit-learn.org. See: https://github.com/scikit-learn/scikit-learn/issues/21755 */display: inline-block !important;position: relative;}#sk-container-id-12 div.sk-text-repr-fallback {display: none;}</style><div id=\"sk-container-id-12\" class=\"sk-top-container\"><div class=\"sk-text-repr-fallback\"><pre>LinearRegression()</pre><b>In a Jupyter environment, please rerun this cell to show the HTML representation or trust the notebook. <br />On GitHub, the HTML representation is unable to render, please try loading this page with nbviewer.org.</b></div><div class=\"sk-container\" hidden><div class=\"sk-item\"><div class=\"sk-estimator sk-toggleable\"><input class=\"sk-toggleable__control sk-hidden--visually\" id=\"sk-estimator-id-12\" type=\"checkbox\" checked><label for=\"sk-estimator-id-12\" class=\"sk-toggleable__label sk-toggleable__label-arrow\">LinearRegression</label><div class=\"sk-toggleable__content\"><pre>LinearRegression()</pre></div></div></div></div></div>"
            ]
          },
          "metadata": {},
          "execution_count": 146
        }
      ]
    },
    {
      "cell_type": "code",
      "source": [
        "#Verificamos los coeficientes obtenidos para el modelo ajustado\n",
        "model.__dict__"
      ],
      "metadata": {
        "colab": {
          "base_uri": "https://localhost:8080/"
        },
        "id": "v6wbQx_eXpk5",
        "outputId": "1efa1047-f4a2-4a0e-b36a-23a1927a156d"
      },
      "execution_count": null,
      "outputs": [
        {
          "output_type": "execute_result",
          "data": {
            "text/plain": [
              "{'fit_intercept': True,\n",
              " 'copy_X': True,\n",
              " 'n_jobs': None,\n",
              " 'positive': False,\n",
              " 'feature_names_in_': array(['number_of_reviews'], dtype=object),\n",
              " 'n_features_in_': 1,\n",
              " 'coef_': array([-0.05945972]),\n",
              " 'rank_': 1,\n",
              " 'singular_': array([8215.01838162]),\n",
              " 'intercept_': 243.2786788430396}"
            ]
          },
          "metadata": {},
          "execution_count": 147
        }
      ]
    },
    {
      "cell_type": "markdown",
      "source": [
        "Modelo matemático y= -0.05945972x + 243.2786788430396"
      ],
      "metadata": {
        "id": "xfNz2R_VX09M"
      }
    },
    {
      "cell_type": "code",
      "source": [
        "#Evaluamos la eficiencia del modelo obtenido por medio del coeficiente R Determinación\n",
        "model.score(Vars_Indep,Var_Dep)"
      ],
      "metadata": {
        "colab": {
          "base_uri": "https://localhost:8080/"
        },
        "id": "1iEPSZDxXpfs",
        "outputId": "adfd9b15-783d-4e91-d6a9-7ec31585b9af"
      },
      "execution_count": null,
      "outputs": [
        {
          "output_type": "execute_result",
          "data": {
            "text/plain": [
              "0.0010078697650548474"
            ]
          },
          "metadata": {},
          "execution_count": 148
        }
      ]
    },
    {
      "cell_type": "code",
      "source": [
        "#Predecimos los valores de total de accidentes a partir de la variable \"number_of_reviews\"\n",
        "y_pred= model.predict(X=filtro2[['number_of_reviews']])\n",
        "y_pred"
      ],
      "metadata": {
        "colab": {
          "base_uri": "https://localhost:8080/"
        },
        "id": "lJwaaWTJXpaA",
        "outputId": "9f4deb0a-9464-4493-e2ea-ae0883cbc7c7"
      },
      "execution_count": null,
      "outputs": [
        {
          "output_type": "execute_result",
          "data": {
            "text/plain": [
              "array([242.03002464, 239.65163569, 240.95974962, ..., 243.27867884,\n",
              "       243.27867884, 243.27867884])"
            ]
          },
          "metadata": {},
          "execution_count": 150
        }
      ]
    },
    {
      "cell_type": "code",
      "source": [
        "#Corroboramos cual es el coeficiente de Determinación de nuestro modelo\n",
        "coef_Deter=model.score(X=Vars_Indep, y=Var_Dep)\n",
        "coef_Deter"
      ],
      "metadata": {
        "colab": {
          "base_uri": "https://localhost:8080/"
        },
        "id": "BvIprVZ7XpUB",
        "outputId": "5ab253a0-1c5f-4527-a8f5-36eb88d10cac"
      },
      "execution_count": null,
      "outputs": [
        {
          "output_type": "execute_result",
          "data": {
            "text/plain": [
              "0.0010078697650548474"
            ]
          },
          "metadata": {},
          "execution_count": 151
        }
      ]
    },
    {
      "cell_type": "code",
      "source": [
        "#Corroboramos cual es el coeficiente de Correlación de nuestro modelo\n",
        "coef_Correl=np.sqrt(coef_Deter)\n",
        "coef_Correl"
      ],
      "metadata": {
        "colab": {
          "base_uri": "https://localhost:8080/"
        },
        "id": "km3W43f-X8vj",
        "outputId": "1acc5179-f996-45c2-a1fc-9e8ecc54f189"
      },
      "execution_count": null,
      "outputs": [
        {
          "output_type": "execute_result",
          "data": {
            "text/plain": [
              "0.03174696465892208"
            ]
          },
          "metadata": {},
          "execution_count": 152
        }
      ]
    },
    {
      "cell_type": "markdown",
      "source": [
        "# **reviews_per_month vs review_scores_communication**"
      ],
      "metadata": {
        "id": "Mm1vgflBX_zw"
      }
    },
    {
      "cell_type": "markdown",
      "source": [
        "hotel room"
      ],
      "metadata": {
        "id": "zLctOnDKYELM"
      }
    },
    {
      "cell_type": "code",
      "source": [
        "#Imprimimos el scatter plot entre la variable dependiente (reviews_per_month) e independiente (review_scores_communication) \n",
        "#para observar el comportamiento en su dispersión \n",
        "from turtle import color\n",
        "\n",
        "\n",
        "sns.scatterplot(x='review_scores_cleanliness', y='reviews_per_month', color=\"blue\", data=filtro1)"
      ],
      "metadata": {
        "colab": {
          "base_uri": "https://localhost:8080/",
          "height": 464
        },
        "id": "AwgoIsTQYDqh",
        "outputId": "4ba501c2-159c-41a5-d8f9-692f7aff0c3b"
      },
      "execution_count": null,
      "outputs": [
        {
          "output_type": "execute_result",
          "data": {
            "text/plain": [
              "<Axes: xlabel='review_scores_cleanliness', ylabel='reviews_per_month'>"
            ]
          },
          "metadata": {},
          "execution_count": 153
        },
        {
          "output_type": "display_data",
          "data": {
            "text/plain": [
              "<Figure size 640x480 with 1 Axes>"
            ],
            "image/png": "[encoded data removed]"
          },
          "metadata": {}
        }
      ]
    },
    {
      "cell_type": "code",
      "source": [
        "Vars_Indep= filtro2[['review_scores_communication']]\n",
        "Var_Dep= filtro2['reviews_per_month']"
      ],
      "metadata": {
        "id": "V5KgGGowYF-M"
      },
      "execution_count": null,
      "outputs": []
    },
    {
      "cell_type": "code",
      "source": [
        "#Se define model como la función de regresión lineal\n",
        "from sklearn.linear_model import LinearRegression\n",
        "model= LinearRegression()"
      ],
      "metadata": {
        "id": "QJKR3_geYFzJ"
      },
      "execution_count": null,
      "outputs": []
    },
    {
      "cell_type": "code",
      "source": [
        "#Verificamos la función relacionada al modelo\n",
        "type(model)"
      ],
      "metadata": {
        "colab": {
          "base_uri": "https://localhost:8080/"
        },
        "id": "r6dRkgZ2YFoc",
        "outputId": "e33c211c-1ceb-4a3d-fe65-d27732386a7e"
      },
      "execution_count": null,
      "outputs": [
        {
          "output_type": "execute_result",
          "data": {
            "text/plain": [
              "sklearn.linear_model._base.LinearRegression"
            ]
          },
          "metadata": {},
          "execution_count": 156
        }
      ]
    },
    {
      "cell_type": "code",
      "source": [
        "#Ajustamos el modelo con las variables antes declaradas\n",
        "model.fit(X=Vars_Indep, y=Var_Dep)"
      ],
      "metadata": {
        "colab": {
          "base_uri": "https://localhost:8080/",
          "height": 64
        },
        "id": "E0tRiE1SYFc7",
        "outputId": "e5f08ce0-0923-4b66-81a2-2a1f0d187105"
      },
      "execution_count": null,
      "outputs": [
        {
          "output_type": "execute_result",
          "data": {
            "text/plain": [
              "LinearRegression()"
            ],
            "text/html": [
              "<style>#sk-container-id-13 {color: black;background-color: white;}#sk-container-id-13 pre{padding: 0;}#sk-container-id-13 div.sk-toggleable {background-color: white;}#sk-container-id-13 label.sk-toggleable__label {cursor: pointer;display: block;width: 100%;margin-bottom: 0;padding: 0.3em;box-sizing: border-box;text-align: center;}#sk-container-id-13 label.sk-toggleable__label-arrow:before {content: \"▸\";float: left;margin-right: 0.25em;color: #696969;}#sk-container-id-13 label.sk-toggleable__label-arrow:hover:before {color: black;}#sk-container-id-13 div.sk-estimator:hover label.sk-toggleable__label-arrow:before {color: black;}#sk-container-id-13 div.sk-toggleable__content {max-height: 0;max-width: 0;overflow: hidden;text-align: left;background-color: #f0f8ff;}#sk-container-id-13 div.sk-toggleable__content pre {margin: 0.2em;color: black;border-radius: 0.25em;background-color: #f0f8ff;}#sk-container-id-13 input.sk-toggleable__control:checked~div.sk-toggleable__content {max-height: 200px;max-width: 100%;overflow: auto;}#sk-container-id-13 input.sk-toggleable__control:checked~label.sk-toggleable__label-arrow:before {content: \"▾\";}#sk-container-id-13 div.sk-estimator input.sk-toggleable__control:checked~label.sk-toggleable__label {background-color: #d4ebff;}#sk-container-id-13 div.sk-label input.sk-toggleable__control:checked~label.sk-toggleable__label {background-color: #d4ebff;}#sk-container-id-13 input.sk-hidden--visually {border: 0;clip: rect(1px 1px 1px 1px);clip: rect(1px, 1px, 1px, 1px);height: 1px;margin: -1px;overflow: hidden;padding: 0;position: absolute;width: 1px;}#sk-container-id-13 div.sk-estimator {font-family: monospace;background-color: #f0f8ff;border: 1px dotted black;border-radius: 0.25em;box-sizing: border-box;margin-bottom: 0.5em;}#sk-container-id-13 div.sk-estimator:hover {background-color: #d4ebff;}#sk-container-id-13 div.sk-parallel-item::after {content: \"\";width: 100%;border-bottom: 1px solid gray;flex-grow: 1;}#sk-container-id-13 div.sk-label:hover label.sk-toggleable__label {background-color: #d4ebff;}#sk-container-id-13 div.sk-serial::before {content: \"\";position: absolute;border-left: 1px solid gray;box-sizing: border-box;top: 0;bottom: 0;left: 50%;z-index: 0;}#sk-container-id-13 div.sk-serial {display: flex;flex-direction: column;align-items: center;background-color: white;padding-right: 0.2em;padding-left: 0.2em;position: relative;}#sk-container-id-13 div.sk-item {position: relative;z-index: 1;}#sk-container-id-13 div.sk-parallel {display: flex;align-items: stretch;justify-content: center;background-color: white;position: relative;}#sk-container-id-13 div.sk-item::before, #sk-container-id-13 div.sk-parallel-item::before {content: \"\";position: absolute;border-left: 1px solid gray;box-sizing: border-box;top: 0;bottom: 0;left: 50%;z-index: -1;}#sk-container-id-13 div.sk-parallel-item {display: flex;flex-direction: column;z-index: 1;position: relative;background-color: white;}#sk-container-id-13 div.sk-parallel-item:first-child::after {align-self: flex-end;width: 50%;}#sk-container-id-13 div.sk-parallel-item:last-child::after {align-self: flex-start;width: 50%;}#sk-container-id-13 div.sk-parallel-item:only-child::after {width: 0;}#sk-container-id-13 div.sk-dashed-wrapped {border: 1px dashed gray;margin: 0 0.4em 0.5em 0.4em;box-sizing: border-box;padding-bottom: 0.4em;background-color: white;}#sk-container-id-13 div.sk-label label {font-family: monospace;font-weight: bold;display: inline-block;line-height: 1.2em;}#sk-container-id-13 div.sk-label-container {text-align: center;}#sk-container-id-13 div.sk-container {/* jupyter's `normalize.less` sets `[hidden] { display: none; }` but bootstrap.min.css set `[hidden] { display: none !important; }` so we also need the `!important` here to be able to override the default hidden behavior on the sphinx rendered scikit-learn.org. See: https://github.com/scikit-learn/scikit-learn/issues/21755 */display: inline-block !important;position: relative;}#sk-container-id-13 div.sk-text-repr-fallback {display: none;}</style><div id=\"sk-container-id-13\" class=\"sk-top-container\"><div class=\"sk-text-repr-fallback\"><pre>LinearRegression()</pre><b>In a Jupyter environment, please rerun this cell to show the HTML representation or trust the notebook. <br />On GitHub, the HTML representation is unable to render, please try loading this page with nbviewer.org.</b></div><div class=\"sk-container\" hidden><div class=\"sk-item\"><div class=\"sk-estimator sk-toggleable\"><input class=\"sk-toggleable__control sk-hidden--visually\" id=\"sk-estimator-id-13\" type=\"checkbox\" checked><label for=\"sk-estimator-id-13\" class=\"sk-toggleable__label sk-toggleable__label-arrow\">LinearRegression</label><div class=\"sk-toggleable__content\"><pre>LinearRegression()</pre></div></div></div></div></div>"
            ]
          },
          "metadata": {},
          "execution_count": 157
        }
      ]
    },
    {
      "cell_type": "code",
      "source": [
        "#Verificamos los coeficientes obtenidos para el modelo ajustado\n",
        "model.__dict__"
      ],
      "metadata": {
        "colab": {
          "base_uri": "https://localhost:8080/"
        },
        "id": "dWaUwFUCYFWr",
        "outputId": "edfeac3b-c042-40cf-c296-d62c27bab5a3"
      },
      "execution_count": null,
      "outputs": [
        {
          "output_type": "execute_result",
          "data": {
            "text/plain": [
              "{'fit_intercept': True,\n",
              " 'copy_X': True,\n",
              " 'n_jobs': None,\n",
              " 'positive': False,\n",
              " 'feature_names_in_': array(['review_scores_communication'], dtype=object),\n",
              " 'n_features_in_': 1,\n",
              " 'coef_': array([0.37722635]),\n",
              " 'rank_': 1,\n",
              " 'singular_': array([40.72568475]),\n",
              " 'intercept_': 0.05123634291469825}"
            ]
          },
          "metadata": {},
          "execution_count": 158
        }
      ]
    },
    {
      "cell_type": "markdown",
      "source": [
        "Modelo matemático y= 0.37722635x + 0.05123634291469825"
      ],
      "metadata": {
        "id": "5gcyHpC5YikM"
      }
    },
    {
      "cell_type": "code",
      "source": [
        "#Evaluamos la eficiencia del modelo obtenido por medio del coeficiente R Determinación\n",
        "model.score(Vars_Indep,Var_Dep)"
      ],
      "metadata": {
        "colab": {
          "base_uri": "https://localhost:8080/"
        },
        "id": "XZ3wOCkrYFQu",
        "outputId": "95b25914-ae38-4f36-bf7c-3e88301c5d1a"
      },
      "execution_count": null,
      "outputs": [
        {
          "output_type": "execute_result",
          "data": {
            "text/plain": [
              "0.005434706864894556"
            ]
          },
          "metadata": {},
          "execution_count": 159
        }
      ]
    },
    {
      "cell_type": "code",
      "source": [
        "#Predecimos los valores de total de accidentes a partir de la variable \"review_scores_communication\"\n",
        "y_pred= model.predict(X=filtro1[['review_scores_communication']])\n",
        "y_pred"
      ],
      "metadata": {
        "colab": {
          "base_uri": "https://localhost:8080/"
        },
        "id": "X5O_IgZcYFKB",
        "outputId": "e73d77df-d20c-4816-d0af-fdf217e9333a"
      },
      "execution_count": null,
      "outputs": [
        {
          "output_type": "execute_result",
          "data": {
            "text/plain": [
              "array([1.93736807, 1.93736807, 1.93736807, 1.93736807, 1.93736807,\n",
              "       1.18291538, 1.92227902, 1.9034177 , 1.93736807, 1.50733004,\n",
              "       1.85437828, 1.8619228 , 1.93736807, 1.89210091, 1.93736807,\n",
              "       1.93736807, 1.89210091, 1.91096223, 1.82420017, 1.82797243,\n",
              "       1.8619228 , 1.93736807, 1.88078412, 1.93736807, 1.83174469,\n",
              "       1.77138848, 1.93736807, 1.68462642, 1.91473449, 1.82797243,\n",
              "       0.80568903, 1.79402206, 1.87701186, 1.88832865, 1.87701186,\n",
              "       1.9034177 , 0.99430221, 1.8619228 , 1.8619228 , 1.93736807,\n",
              "       1.78647753, 1.9034177 , 1.89587317, 1.77138848, 1.63558699,\n",
              "       1.93736807, 1.65444831, 1.6242702 , 1.93736807, 1.56014173,\n",
              "       1.30740007, 1.78647753, 1.93736807, 1.18291538, 1.93736807,\n",
              "       1.83551696, 1.85060601, 1.93736807, 1.93736807, 1.93736807,\n",
              "       1.93736807, 1.88455638, 1.89964544, 1.82797243, 1.78270527,\n",
              "       1.7902498 , 1.79402206, 1.9034177 , 1.93736807, 1.85437828,\n",
              "       1.8619228 , 1.93736807, 1.8619228 , 1.8619228 , 1.82797243,\n",
              "       1.8619228 , 1.8619228 , 1.87323959, 1.93736807, 1.87701186,\n",
              "       1.91096223, 1.93736807, 1.92605128, 1.8619228 , 1.91850675,\n",
              "       1.93736807, 1.8619228 , 1.8619228 , 1.8619228 , 1.8619228 ,\n",
              "       1.8619228 , 1.8619228 , 1.84306148, 1.7487549 , 1.93736807,\n",
              "       1.93736807, 1.8619228 , 1.93736807, 1.93736807, 1.93736807,\n",
              "       1.93736807, 1.8619228 , 1.56014173, 1.8619228 , 1.8619228 ,\n",
              "       1.8619228 , 1.93736807, 1.93736807, 1.9034177 , 1.93736807,\n",
              "       1.93736807, 1.93736807, 1.93736807, 1.93736807, 1.8619228 ,\n",
              "       1.85060601, 1.87323959, 1.8619228 , 1.65444831, 1.93736807,\n",
              "       1.93736807, 1.93736807, 1.93736807, 1.8619228 , 1.8619228 ,\n",
              "       1.8619228 , 1.8619228 ])"
            ]
          },
          "metadata": {},
          "execution_count": 160
        }
      ]
    },
    {
      "cell_type": "code",
      "source": [
        "#Corroboramos cual es el coeficiente de Determinación de nuestro modelo\n",
        "coef_Deter=model.score(X=Vars_Indep, y=Var_Dep)\n",
        "coef_Deter"
      ],
      "metadata": {
        "colab": {
          "base_uri": "https://localhost:8080/"
        },
        "id": "9kJeYA54YFCm",
        "outputId": "c7544fbe-fed7-497d-e415-abc2bdedec3c"
      },
      "execution_count": null,
      "outputs": [
        {
          "output_type": "execute_result",
          "data": {
            "text/plain": [
              "0.005434706864894556"
            ]
          },
          "metadata": {},
          "execution_count": 161
        }
      ]
    },
    {
      "cell_type": "code",
      "source": [
        "#Corroboramos cual es el coeficiente de Correlación de nuestro modelo\n",
        "coef_Correl=np.sqrt(coef_Deter)\n",
        "coef_Correl"
      ],
      "metadata": {
        "colab": {
          "base_uri": "https://localhost:8080/"
        },
        "id": "zd_l8vwuYE5C",
        "outputId": "6ae55cd5-bdde-4295-a3ca-6d6995ade3fa"
      },
      "execution_count": null,
      "outputs": [
        {
          "output_type": "execute_result",
          "data": {
            "text/plain": [
              "0.07372046435620544"
            ]
          },
          "metadata": {},
          "execution_count": 162
        }
      ]
    },
    {
      "cell_type": "markdown",
      "source": [
        "Entire home/apt"
      ],
      "metadata": {
        "id": "Mr__jwtiYKtk"
      }
    },
    {
      "cell_type": "code",
      "source": [
        "#Imprimimos el scatter plot entre la variable dependiente (reviews_per_month) e independiente (review_scores_communication) \n",
        "#para observar el comportamiento en su dispersión \n",
        "from turtle import color\n",
        "\n",
        "\n",
        "sns.scatterplot(x='review_scores_cleanliness', y='reviews_per_month', color=\"blue\", data=filtro2)"
      ],
      "metadata": {
        "colab": {
          "base_uri": "https://localhost:8080/",
          "height": 464
        },
        "id": "a8cVdGUGYyJ3",
        "outputId": "8b85e8f7-426a-4dd1-d7aa-d9ca81cb6c97"
      },
      "execution_count": null,
      "outputs": [
        {
          "output_type": "execute_result",
          "data": {
            "text/plain": [
              "<Axes: xlabel='review_scores_cleanliness', ylabel='reviews_per_month'>"
            ]
          },
          "metadata": {},
          "execution_count": 163
        },
        {
          "output_type": "display_data",
          "data": {
            "text/plain": [
              "<Figure size 640x480 with 1 Axes>"
            ],
            "image/png": "[encoded data removed]"
          },
          "metadata": {}
        }
      ]
    },
    {
      "cell_type": "code",
      "source": [
        "Vars_Indep= filtro2[['review_scores_communication']]\n",
        "Var_Dep= filtro2['reviews_per_month']"
      ],
      "metadata": {
        "id": "vW3IQsaVYx-x"
      },
      "execution_count": null,
      "outputs": []
    },
    {
      "cell_type": "code",
      "source": [
        "#Se define model como la función de regresión lineal\n",
        "from sklearn.linear_model import LinearRegression\n",
        "model= LinearRegression()"
      ],
      "metadata": {
        "id": "WGvbwOuRYxzu"
      },
      "execution_count": null,
      "outputs": []
    },
    {
      "cell_type": "code",
      "source": [
        "#Verificamos la función relacionada al modelo\n",
        "type(model)"
      ],
      "metadata": {
        "colab": {
          "base_uri": "https://localhost:8080/"
        },
        "id": "s0yvfvHjYxny",
        "outputId": "3ccfeae0-49ec-4f42-d6c4-f53a4bdbf1f0"
      },
      "execution_count": null,
      "outputs": [
        {
          "output_type": "execute_result",
          "data": {
            "text/plain": [
              "sklearn.linear_model._base.LinearRegression"
            ]
          },
          "metadata": {},
          "execution_count": 166
        }
      ]
    },
    {
      "cell_type": "code",
      "source": [
        "#Ajustamos el modelo con las variables antes declaradas\n",
        "model.fit(X=Vars_Indep, y=Var_Dep)"
      ],
      "metadata": {
        "colab": {
          "base_uri": "https://localhost:8080/",
          "height": 64
        },
        "id": "JVYvmLzcYxcq",
        "outputId": "96923b41-cba8-4950-c75e-86062455fcb6"
      },
      "execution_count": null,
      "outputs": [
        {
          "output_type": "execute_result",
          "data": {
            "text/plain": [
              "LinearRegression()"
            ],
            "text/html": [
              "<style>#sk-container-id-14 {color: black;background-color: white;}#sk-container-id-14 pre{padding: 0;}#sk-container-id-14 div.sk-toggleable {background-color: white;}#sk-container-id-14 label.sk-toggleable__label {cursor: pointer;display: block;width: 100%;margin-bottom: 0;padding: 0.3em;box-sizing: border-box;text-align: center;}#sk-container-id-14 label.sk-toggleable__label-arrow:before {content: \"▸\";float: left;margin-right: 0.25em;color: #696969;}#sk-container-id-14 label.sk-toggleable__label-arrow:hover:before {color: black;}#sk-container-id-14 div.sk-estimator:hover label.sk-toggleable__label-arrow:before {color: black;}#sk-container-id-14 div.sk-toggleable__content {max-height: 0;max-width: 0;overflow: hidden;text-align: left;background-color: #f0f8ff;}#sk-container-id-14 div.sk-toggleable__content pre {margin: 0.2em;color: black;border-radius: 0.25em;background-color: #f0f8ff;}#sk-container-id-14 input.sk-toggleable__control:checked~div.sk-toggleable__content {max-height: 200px;max-width: 100%;overflow: auto;}#sk-container-id-14 input.sk-toggleable__control:checked~label.sk-toggleable__label-arrow:before {content: \"▾\";}#sk-container-id-14 div.sk-estimator input.sk-toggleable__control:checked~label.sk-toggleable__label {background-color: #d4ebff;}#sk-container-id-14 div.sk-label input.sk-toggleable__control:checked~label.sk-toggleable__label {background-color: #d4ebff;}#sk-container-id-14 input.sk-hidden--visually {border: 0;clip: rect(1px 1px 1px 1px);clip: rect(1px, 1px, 1px, 1px);height: 1px;margin: -1px;overflow: hidden;padding: 0;position: absolute;width: 1px;}#sk-container-id-14 div.sk-estimator {font-family: monospace;background-color: #f0f8ff;border: 1px dotted black;border-radius: 0.25em;box-sizing: border-box;margin-bottom: 0.5em;}#sk-container-id-14 div.sk-estimator:hover {background-color: #d4ebff;}#sk-container-id-14 div.sk-parallel-item::after {content: \"\";width: 100%;border-bottom: 1px solid gray;flex-grow: 1;}#sk-container-id-14 div.sk-label:hover label.sk-toggleable__label {background-color: #d4ebff;}#sk-container-id-14 div.sk-serial::before {content: \"\";position: absolute;border-left: 1px solid gray;box-sizing: border-box;top: 0;bottom: 0;left: 50%;z-index: 0;}#sk-container-id-14 div.sk-serial {display: flex;flex-direction: column;align-items: center;background-color: white;padding-right: 0.2em;padding-left: 0.2em;position: relative;}#sk-container-id-14 div.sk-item {position: relative;z-index: 1;}#sk-container-id-14 div.sk-parallel {display: flex;align-items: stretch;justify-content: center;background-color: white;position: relative;}#sk-container-id-14 div.sk-item::before, #sk-container-id-14 div.sk-parallel-item::before {content: \"\";position: absolute;border-left: 1px solid gray;box-sizing: border-box;top: 0;bottom: 0;left: 50%;z-index: -1;}#sk-container-id-14 div.sk-parallel-item {display: flex;flex-direction: column;z-index: 1;position: relative;background-color: white;}#sk-container-id-14 div.sk-parallel-item:first-child::after {align-self: flex-end;width: 50%;}#sk-container-id-14 div.sk-parallel-item:last-child::after {align-self: flex-start;width: 50%;}#sk-container-id-14 div.sk-parallel-item:only-child::after {width: 0;}#sk-container-id-14 div.sk-dashed-wrapped {border: 1px dashed gray;margin: 0 0.4em 0.5em 0.4em;box-sizing: border-box;padding-bottom: 0.4em;background-color: white;}#sk-container-id-14 div.sk-label label {font-family: monospace;font-weight: bold;display: inline-block;line-height: 1.2em;}#sk-container-id-14 div.sk-label-container {text-align: center;}#sk-container-id-14 div.sk-container {/* jupyter's `normalize.less` sets `[hidden] { display: none; }` but bootstrap.min.css set `[hidden] { display: none !important; }` so we also need the `!important` here to be able to override the default hidden behavior on the sphinx rendered scikit-learn.org. See: https://github.com/scikit-learn/scikit-learn/issues/21755 */display: inline-block !important;position: relative;}#sk-container-id-14 div.sk-text-repr-fallback {display: none;}</style><div id=\"sk-container-id-14\" class=\"sk-top-container\"><div class=\"sk-text-repr-fallback\"><pre>LinearRegression()</pre><b>In a Jupyter environment, please rerun this cell to show the HTML representation or trust the notebook. <br />On GitHub, the HTML representation is unable to render, please try loading this page with nbviewer.org.</b></div><div class=\"sk-container\" hidden><div class=\"sk-item\"><div class=\"sk-estimator sk-toggleable\"><input class=\"sk-toggleable__control sk-hidden--visually\" id=\"sk-estimator-id-14\" type=\"checkbox\" checked><label for=\"sk-estimator-id-14\" class=\"sk-toggleable__label sk-toggleable__label-arrow\">LinearRegression</label><div class=\"sk-toggleable__content\"><pre>LinearRegression()</pre></div></div></div></div></div>"
            ]
          },
          "metadata": {},
          "execution_count": 167
        }
      ]
    },
    {
      "cell_type": "code",
      "source": [
        "#Verificamos los coeficientes obtenidos para el modelo ajustado\n",
        "model.__dict__"
      ],
      "metadata": {
        "colab": {
          "base_uri": "https://localhost:8080/"
        },
        "id": "TGCHOzdAYxRk",
        "outputId": "700d2b94-492b-42c9-f999-9d26506c5976"
      },
      "execution_count": null,
      "outputs": [
        {
          "output_type": "execute_result",
          "data": {
            "text/plain": [
              "{'fit_intercept': True,\n",
              " 'copy_X': True,\n",
              " 'n_jobs': None,\n",
              " 'positive': False,\n",
              " 'feature_names_in_': array(['review_scores_communication'], dtype=object),\n",
              " 'n_features_in_': 1,\n",
              " 'coef_': array([0.37722635]),\n",
              " 'rank_': 1,\n",
              " 'singular_': array([40.72568475]),\n",
              " 'intercept_': 0.05123634291469825}"
            ]
          },
          "metadata": {},
          "execution_count": 168
        }
      ]
    },
    {
      "cell_type": "markdown",
      "source": [
        "Modelo matemático y= 0.37722635x + 0.05123634291469825"
      ],
      "metadata": {
        "id": "3TeBznGcb933"
      }
    },
    {
      "cell_type": "code",
      "source": [
        "#Evaluamos la eficiencia del modelo obtenido por medio del coeficiente R Determinación\n",
        "model.score(Vars_Indep,Var_Dep)"
      ],
      "metadata": {
        "colab": {
          "base_uri": "https://localhost:8080/"
        },
        "id": "sUuLe5xAYxGZ",
        "outputId": "e49583a5-68bd-4490-d067-f5321412fe18"
      },
      "execution_count": null,
      "outputs": [
        {
          "output_type": "execute_result",
          "data": {
            "text/plain": [
              "0.005434706864894556"
            ]
          },
          "metadata": {},
          "execution_count": 169
        }
      ]
    },
    {
      "cell_type": "code",
      "source": [
        "#Predecimos los valores de total de accidentes a partir de la variable \"review_scores_communication\"\n",
        "y_pred= model.predict(X=filtro1[['review_scores_communication']])\n",
        "y_pred"
      ],
      "metadata": {
        "colab": {
          "base_uri": "https://localhost:8080/"
        },
        "id": "A_B6b0tnYw6z",
        "outputId": "bebddcf6-f9fc-4da3-f3e3-dff9a0bb809f"
      },
      "execution_count": null,
      "outputs": [
        {
          "output_type": "execute_result",
          "data": {
            "text/plain": [
              "array([1.93736807, 1.93736807, 1.93736807, 1.93736807, 1.93736807,\n",
              "       1.18291538, 1.92227902, 1.9034177 , 1.93736807, 1.50733004,\n",
              "       1.85437828, 1.8619228 , 1.93736807, 1.89210091, 1.93736807,\n",
              "       1.93736807, 1.89210091, 1.91096223, 1.82420017, 1.82797243,\n",
              "       1.8619228 , 1.93736807, 1.88078412, 1.93736807, 1.83174469,\n",
              "       1.77138848, 1.93736807, 1.68462642, 1.91473449, 1.82797243,\n",
              "       0.80568903, 1.79402206, 1.87701186, 1.88832865, 1.87701186,\n",
              "       1.9034177 , 0.99430221, 1.8619228 , 1.8619228 , 1.93736807,\n",
              "       1.78647753, 1.9034177 , 1.89587317, 1.77138848, 1.63558699,\n",
              "       1.93736807, 1.65444831, 1.6242702 , 1.93736807, 1.56014173,\n",
              "       1.30740007, 1.78647753, 1.93736807, 1.18291538, 1.93736807,\n",
              "       1.83551696, 1.85060601, 1.93736807, 1.93736807, 1.93736807,\n",
              "       1.93736807, 1.88455638, 1.89964544, 1.82797243, 1.78270527,\n",
              "       1.7902498 , 1.79402206, 1.9034177 , 1.93736807, 1.85437828,\n",
              "       1.8619228 , 1.93736807, 1.8619228 , 1.8619228 , 1.82797243,\n",
              "       1.8619228 , 1.8619228 , 1.87323959, 1.93736807, 1.87701186,\n",
              "       1.91096223, 1.93736807, 1.92605128, 1.8619228 , 1.91850675,\n",
              "       1.93736807, 1.8619228 , 1.8619228 , 1.8619228 , 1.8619228 ,\n",
              "       1.8619228 , 1.8619228 , 1.84306148, 1.7487549 , 1.93736807,\n",
              "       1.93736807, 1.8619228 , 1.93736807, 1.93736807, 1.93736807,\n",
              "       1.93736807, 1.8619228 , 1.56014173, 1.8619228 , 1.8619228 ,\n",
              "       1.8619228 , 1.93736807, 1.93736807, 1.9034177 , 1.93736807,\n",
              "       1.93736807, 1.93736807, 1.93736807, 1.93736807, 1.8619228 ,\n",
              "       1.85060601, 1.87323959, 1.8619228 , 1.65444831, 1.93736807,\n",
              "       1.93736807, 1.93736807, 1.93736807, 1.8619228 , 1.8619228 ,\n",
              "       1.8619228 , 1.8619228 ])"
            ]
          },
          "metadata": {},
          "execution_count": 170
        }
      ]
    },
    {
      "cell_type": "code",
      "source": [
        "#Corroboramos cual es el coeficiente de Determinación de nuestro modelo\n",
        "coef_Deter=model.score(X=Vars_Indep, y=Var_Dep)\n",
        "coef_Deter"
      ],
      "metadata": {
        "colab": {
          "base_uri": "https://localhost:8080/"
        },
        "id": "l_Exi7s7Ywz5",
        "outputId": "7031d39e-f3a9-41fa-f3a4-a4715769ffb7"
      },
      "execution_count": null,
      "outputs": [
        {
          "output_type": "execute_result",
          "data": {
            "text/plain": [
              "0.005434706864894556"
            ]
          },
          "metadata": {},
          "execution_count": 171
        }
      ]
    },
    {
      "cell_type": "code",
      "source": [
        "#Corroboramos cual es el coeficiente de Correlación de nuestro modelo\n",
        "coef_Correl=np.sqrt(coef_Deter)\n",
        "coef_Correl"
      ],
      "metadata": {
        "colab": {
          "base_uri": "https://localhost:8080/"
        },
        "id": "Ees0Det_Ywtw",
        "outputId": "065ca41d-ac01-4eb4-da63-1b44d2f108a3"
      },
      "execution_count": null,
      "outputs": [
        {
          "output_type": "execute_result",
          "data": {
            "text/plain": [
              "0.07372046435620544"
            ]
          },
          "metadata": {},
          "execution_count": 172
        }
      ]
    }
  ]
}